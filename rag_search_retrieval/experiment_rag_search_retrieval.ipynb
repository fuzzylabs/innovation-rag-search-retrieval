{
 "cells": [
  {
   "cell_type": "markdown",
   "metadata": {},
   "source": [
    "# RAG Search Retrieval Experiment\n",
    "\n",
    "In this experiment, we will experiment and compare different retrieval options for a RAG application.\n",
    "\n",
    "We use [Milvus](https://milvus.io/) vector store as our database. Milvus is chosen as it is optimized for storing both dense and sparse vectors. Don't worry if you don't know what these terms mean, we will introduce those shortly.\n",
    "\n",
    "> It is recommended to run this notebook on a GPU depending on the size of the PDF file.\n",
    "\n",
    "<a target=\"_blank\" href=\"https://colab.research.google.com/github/fuzzylabs/innovation-rag-search-retrieval\">\n",
    "  <img src=\"https://colab.research.google.com/assets/colab-badge.svg\" alt=\"Open In Colab\"/>\n",
    "</a>\n",
    "\n",
    "## Getting Started\n",
    "\n",
    "For first pass, click `Run -> Run All Cells` from the drop-down.\n",
    "\n",
    "Head down to the `Comparison` cell at the bottom of the notebook and select various approaches to compare the outputs of retrieved documents from these approaches."
   ]
  },
  {
   "cell_type": "markdown",
   "metadata": {},
   "source": [
    "# Parameters\n",
    "\n",
    "The following parameters are used in the experiment.\n",
    "\n",
    "```txt\n",
    "QUERY = \"Who manufactured STM32F429ZIT6U microcontroller?\"\n",
    "```\n",
    "\n",
    "We choose this particular question so that we can look if specific content is present in the context.\n",
    "\n",
    "Specifically, we are looking for following content in the retrieved documents.\n",
    "\n",
    "```txt\n",
    "This microcontroller is manufactured by STMicroelectronics [13] using a Cortex-M4 processor designed by Arm Ltd. [14].\n",
    "```"
   ]
  },
  {
   "cell_type": "code",
   "execution_count": 1,
   "metadata": {},
   "outputs": [],
   "source": [
    "######## Parameters #########\n",
    "\n",
    "# Data\n",
    "FILE_PATH = \"data/a_beginners_guide_to_designing_embedded_system_applications_on_arm_cortex-m_microcontrollers.pdf\"\n",
    "CHUNK_SIZE = 1000\n",
    "CHUNK_OVERLAP = 50\n",
    "COLLECTION_NAME = 'experiment_search'\n",
    "BATCH_SIZE = 32\n",
    "\n",
    "# Dense\n",
    "DENSE_MODEL_NAME = \"all-MiniLM-L6-v2\"\n",
    "DENSE_MODEL_DIM = 384\n",
    "DENSE_METRIC = 'COSINE'  # options: ['cosine', 'ip', 'l2']\n",
    "\n",
    "# Sparse\n",
    "SPARSE_MODEL_NAME = 'bgm3'  # options: ['bgm3', 'splade']\n",
    "SPARSE_METRIC = 'IP'\n",
    "\n",
    "# Full text\n",
    "FULL_TEXT_MODEL = 'bm25'\n",
    "\n",
    "# Re-ranker\n",
    "RERANKER_MODEL = 'bgm3' # options: [bgm3, crossencoder]\n",
    "\n",
    "# Query\n",
    "TOP_K = 5\n",
    "QUERY = \"Who manufactured STM32F429ZIT6U microcontroller?\""
   ]
  },
  {
   "cell_type": "code",
   "execution_count": 2,
   "metadata": {},
   "outputs": [
    {
     "name": "stdout",
     "output_type": "stream",
     "text": [
      "Using device=cuda:0\n"
     ]
    }
   ],
   "source": [
    "# Load all imports required by the experiment\n",
    "import torch\n",
    "import pandas as pd\n",
    "from IPython.display import display\n",
    "from data_pipeline import prepare_data\n",
    "from langchain_text_splitters import RecursiveCharacterTextSplitter\n",
    "from milvus import CustomMilvusClient, sparse_to_dict\n",
    "from result_collector import rrf\n",
    "from sentence_transformers import SentenceTransformer\n",
    "from milvus_model.hybrid import BGEM3EmbeddingFunction\n",
    "from milvus_model.sparse import SpladeEmbeddingFunction, BM25EmbeddingFunction\n",
    "from pymilvus.model.reranker import BGERerankFunction, CrossEncoderRerankFunction\n",
    "\n",
    "pd.set_option('max_colwidth', 800)\n",
    "DEVICE = 'cuda:0' if torch.cuda.is_available() else 'cpu'\n",
    "print(f\"Using device={DEVICE}\")"
   ]
  },
  {
   "cell_type": "markdown",
   "metadata": {},
   "source": [
    "## Data Preprocessing\n",
    "\n",
    "> ⚠️ Make sure the pdf data is present in [data](./data) folder.\n",
    "\n",
    "In this step, we preprocess the PDF data defined by `FILE_PATH` parameter. This pre-processed data will be added in the vector store.\n",
    "\n",
    "- We use [PyPDFLoader](https://python.langchain.com/v0.1/docs/modules/data_connection/document_loaders/pdf/#using-pypdf) from langchain to read the PDF.\n",
    "- We use [RecursiveCharacterTextSplitter](https://python.langchain.com/v0.1/docs/modules/data_connection/document_transformers/recursive_text_splitter/) from langchain to split the text in small chunks. The parameters `CHUNK_SIZE` and `CHUNK_OVERLAP` configure the chunk size and chunk overlap.\n",
    "\n",
    "> ⚠️ This step takes about 3 mins for 600 page PDF document."
   ]
  },
  {
   "cell_type": "code",
   "execution_count": 3,
   "metadata": {},
   "outputs": [
    {
     "name": "stdout",
     "output_type": "stream",
     "text": [
      "CPU times: user 2min 42s, sys: 1.3 s, total: 2min 43s\n",
      "Wall time: 2min 43s\n"
     ]
    }
   ],
   "source": [
    "%%time\n",
    "text_splitter = RecursiveCharacterTextSplitter(\n",
    "    chunk_size=CHUNK_SIZE,\n",
    "    chunk_overlap=CHUNK_OVERLAP,\n",
    "    length_function=len,\n",
    "    is_separator_regex=False,\n",
    ")\n",
    "docs = prepare_data(FILE_PATH, text_splitter)"
   ]
  },
  {
   "cell_type": "code",
   "execution_count": null,
   "metadata": {
    "scrolled": true
   },
   "outputs": [],
   "source": [
    "docs"
   ]
  },
  {
   "cell_type": "markdown",
   "metadata": {},
   "source": [
    "## Data Ingestion\n",
    "\n",
    "In this step, we store the chunked texts in Milvus vector store.\n",
    "\n",
    "Here's how it works\n",
    "\n",
    "- We load a dense model defined by `DENSE_MODEL_NAME` parameter on a GPU\n",
    "- We load a sparse model defined by `SPARSE_MODEL_NAME` parameter on a GPU\n",
    "- We load BM25 model used for full text search approach\n"
   ]
  },
  {
   "cell_type": "code",
   "execution_count": 5,
   "metadata": {},
   "outputs": [],
   "source": [
    "# dense embedding model\n",
    "dense_model = SentenceTransformer(DENSE_MODEL_NAME, device=DEVICE)"
   ]
  },
  {
   "cell_type": "code",
   "execution_count": null,
   "metadata": {},
   "outputs": [],
   "source": [
    "# sparse embedding model\n",
    "sparse_model = None\n",
    "if SPARSE_MODEL_NAME == 'bgm3':\n",
    "    sparse_model = BGEM3EmbeddingFunction(model_name=\"BAAI/bge-m3\", device=DEVICE, batch_size=BATCH_SIZE, return_dense=False)\n",
    "elif SPARSE_MODEL_NAME == 'splade':\n",
    "    sparse_model = SpladeEmbeddingFunction(model_name=\"naver/splade-cocondenser-ensembledistil\", device=DEVICE, batch_size=BATCH_SIZE)"
   ]
  },
  {
   "cell_type": "code",
   "execution_count": 7,
   "metadata": {},
   "outputs": [],
   "source": [
    "# BM25 model for full text search\n",
    "texts = []\n",
    "for doc in docs:\n",
    "    texts.append(doc.page_content)\n",
    "bm25_model = BM25EmbeddingFunction(corpus=texts)"
   ]
  },
  {
   "cell_type": "markdown",
   "metadata": {},
   "source": [
    "Next, we wrote a code that simplifies connecting to Milvus store. It also does all of the heavy lifting for us by providing us useful function to store and retrieve stuff from the vector store.\n",
    "\n",
    "> The custom code is located in [milvus.py](./milvus.py)."
   ]
  },
  {
   "cell_type": "code",
   "execution_count": 8,
   "metadata": {},
   "outputs": [],
   "source": [
    "# Create a milvus store using Milvus Lite as a database\n",
    "# To keep setup simple, we use a standalone database\n",
    "# This is not recommended for production\n",
    "milvus_client = CustomMilvusClient()"
   ]
  },
  {
   "cell_type": "code",
   "execution_count": 9,
   "metadata": {},
   "outputs": [],
   "source": [
    "# Create a collection in Milvus vector store\n",
    "milvus_client.create_collection(\n",
    "    collection_name=COLLECTION_NAME,\n",
    "    dense_dim=DENSE_MODEL_DIM,\n",
    "    dense_distance_metric=DENSE_METRIC\n",
    ")"
   ]
  },
  {
   "cell_type": "markdown",
   "metadata": {},
   "source": [
    "> ⚠️ This step is resource intensive about 2 mins on Nvidia GPU.\n",
    "\n",
    "> It might take around 10-15 mins if running on CPU.\n",
    "\n",
    "> It calculates the embeddings (both dense and sparse) for entire dataset."
   ]
  },
  {
   "cell_type": "code",
   "execution_count": 10,
   "metadata": {},
   "outputs": [
    {
     "name": "stderr",
     "output_type": "stream",
     "text": [
      "Inference Embeddings: 100%|██████████████████████████████████████████████████████████████████████████████████████████████████████████████████████████████████████████████████| 52/52 [01:33<00:00,  1.79s/it]\n"
     ]
    },
    {
     "name": "stdout",
     "output_type": "stream",
     "text": [
      "CPU times: user 23.4 s, sys: 1min 19s, total: 1min 42s\n",
      "Wall time: 1min 40s\n"
     ]
    }
   ],
   "source": [
    "%%time\n",
    "\n",
    "# Get embeddings for all documents using BM25 model\n",
    "docs_embeddings = bm25_model.encode_documents(texts)\n",
    "\n",
    "# Store the chunks and metadata\n",
    "# Also calculate the dense and sparse embedding for the chunks while inserting\n",
    "# These embeddings are also stored along with chunk and metadata\n",
    "milvus_client.store(\n",
    "    docs=docs,\n",
    "    collection_name=COLLECTION_NAME,\n",
    "    dense_model=dense_model,\n",
    "    sparse_model=sparse_model,\n",
    "    full_text_search_document_embeddings=docs_embeddings,\n",
    "    batch_size=BATCH_SIZE\n",
    ")"
   ]
  },
  {
   "cell_type": "markdown",
   "metadata": {},
   "source": [
    "# Dense\n",
    "\n",
    "This is the most popular approach for retrieving *semantically similar* documents to the query with dense vector. The dense vector captures the semantic meaning of the text using the embedding model.\n",
    "\n",
    "![dense](assets/dense_retrieval_vector_store.png)\n",
    "\n",
    "*Embedding model* creates dense vector for the search query. This vector is matched against all the entries in the database to find closest neighbors to the search query using a *distance metric*."
   ]
  },
  {
   "cell_type": "code",
   "execution_count": 11,
   "metadata": {},
   "outputs": [
    {
     "name": "stdout",
     "output_type": "stream",
     "text": [
      "CPU times: user 12.3 ms, sys: 2.36 ms, total: 14.6 ms\n",
      "Wall time: 14.6 ms\n"
     ]
    }
   ],
   "source": [
    "%%time\n",
    "\n",
    "# Get the embedding vector for the query\n",
    "query_embed = dense_model.encode([QUERY])\n",
    "# Define the search parameters (distance metric used to compare two vectors)\n",
    "dense_search_params = {\"metric_type\": DENSE_METRIC, \"params\": {}}\n",
    "\n",
    "# Get the TOP_K closest documents to the query\n",
    "result_docs = milvus_client.dense_search(\n",
    "    collection_name=COLLECTION_NAME,\n",
    "    query_dense_embedding=query_embed,\n",
    "    top_k=TOP_K,\n",
    "    dense_search_params=dense_search_params,\n",
    ")"
   ]
  },
  {
   "cell_type": "code",
   "execution_count": 12,
   "metadata": {},
   "outputs": [
    {
     "data": {
      "text/plain": [
       "{'id': '451570467754475722',\n",
       " 'distance': 0.5443625450134277,\n",
       " 'entity': {'text': 'Chapter 1 | Introduction to Embedded Systems \\n37The STM32F429ZIT6U microcontroller includes a Cortex-M4 processor , as shown in Figure\\xa01.22. It \\ncan be appreciated that, beyond the processor, the microcontroller includes other peripherals such as \\ncommunication cores (ethernet, USB, UART, etc.), memory, timers, and GPIO (General Purpose Input Output) ports. \\nNUCLEO\\n-F429ZI32F429ZIT6U\\nARM7B776 VQ\\nPHL 7B 7213e412000K620 Y12000\\nK620 Y\\n120 00K620 YDGKYD\\nKMS-1 102NL1706C\\nSTM32F103CBT6\\ne393701GH218CHN\\nST890C\\nGK717\\n11\\n22\\n33\\n44\\n55\\n66\\n77\\n88\\n9\\n10\\n11\\n12\\n13\\n14\\n15PH_0\\nPD_0\\nPD_1\\nPG_0PH_1PF_2PA_7PF_10PF_5PF_3PC_3PC_030\\n29\\n28\\n27\\n2616\\n2515\\n2414\\n2313\\n2212\\n2111\\n2010\\n199\\n18\\n17\\n165V\\nVIN3.3VIOREF\\nGND\\nGNDGND\\nNCNC\\nUART2_RX\\nCAN1_TDCAN1_ DRADC1/7ADC1/3\\nADC1/10\\nADC1/13\\nADC3/9\\nADC3/15\\nADC3/8\\nADC3/5NRSTPC_8\\nPC_9\\nPC_10\\nPC_11\\nPC_12\\nPD_2\\nPG_2\\nPG_3\\nGNDPD_7\\nPD_6\\nPD_5\\nPD_4\\nPD_3\\nPE_2\\nPE_4\\nPE_3\\nPF_7\\nPG_1UART2_RX\\nUART2_ XT\\nUART_X7TUART2_RTS\\nUART2_CTSUART3_TX\\nUART3_RX\\nUART5_TX\\nUART5_RX\\nPA_3\\nSPI1_MOSISPI3_SCK\\nSPI2_SCK'}}"
      ]
     },
     "execution_count": 12,
     "metadata": {},
     "output_type": "execute_result"
    }
   ],
   "source": [
    "result_docs[0]"
   ]
  },
  {
   "cell_type": "code",
   "execution_count": 13,
   "metadata": {},
   "outputs": [],
   "source": [
    "dense_docs = [(res['entity']['text'], res['distance']) for res in result_docs]"
   ]
  },
  {
   "cell_type": "code",
   "execution_count": 14,
   "metadata": {},
   "outputs": [
    {
     "data": {
      "text/plain": [
       "[('Chapter 1 | Introduction to Embedded Systems \\n37The STM32F429ZIT6U microcontroller includes a Cortex-M4 processor , as shown in Figure\\xa01.22. It \\ncan be appreciated that, beyond the processor, the microcontroller includes other peripherals such as \\ncommunication cores (ethernet, USB, UART, etc.), memory, timers, and GPIO (General Purpose Input Output) ports. \\nNUCLEO\\n-F429ZI32F429ZIT6U\\nARM7B776 VQ\\nPHL 7B 7213e412000K620 Y12000\\nK620 Y\\n120 00K620 YDGKYD\\nKMS-1 102NL1706C\\nSTM32F103CBT6\\ne393701GH218CHN\\nST890C\\nGK717\\n11\\n22\\n33\\n44\\n55\\n66\\n77\\n88\\n9\\n10\\n11\\n12\\n13\\n14\\n15PH_0\\nPD_0\\nPD_1\\nPG_0PH_1PF_2PA_7PF_10PF_5PF_3PC_3PC_030\\n29\\n28\\n27\\n2616\\n2515\\n2414\\n2313\\n2212\\n2111\\n2010\\n199\\n18\\n17\\n165V\\nVIN3.3VIOREF\\nGND\\nGNDGND\\nNCNC\\nUART2_RX\\nCAN1_TDCAN1_ DRADC1/7ADC1/3\\nADC1/10\\nADC1/13\\nADC3/9\\nADC3/15\\nADC3/8\\nADC3/5NRSTPC_8\\nPC_9\\nPC_10\\nPC_11\\nPC_12\\nPD_2\\nPG_2\\nPG_3\\nGNDPD_7\\nPD_6\\nPD_5\\nPD_4\\nPD_3\\nPE_2\\nPE_4\\nPE_3\\nPF_7\\nPG_1UART2_RX\\nUART2_ XT\\nUART_X7TUART2_RTS\\nUART2_CTSUART3_TX\\nUART3_RX\\nUART5_TX\\nUART5_RX\\nPA_3\\nSPI1_MOSISPI3_SCK\\nSPI2_SCK',\n",
       "  0.5443625450134277),\n",
       " ('38\\nA Beginner’s Guide to Designing Embedded System ApplicationsFigure\\xa01.23 shows how different elements of the STM32F429ZIT6U microcontroller  are mapped \\nto the Zio and Arduino-compatible headers of the NUCLEO-F429ZI board. Some other elements \\nare mapped to the CN11 and CN12 headers of the NUCLEO-F429ZI board, as will be discussed in upcoming chapters. Further information on these headers is available from [17].\\nIn this chapter, buttons were connected to the NUCLEO board using pins D2 to D7. From Figure\\xa01.23, \\nit can be seen that those digital inputs can also be referred to as PF_15, PE_13, P_14, PE_11, PE_9, and PF_13, respectively. Throughout this book, many pins of the ST Zio connectors will be used, and they will be referred to in the code using the names shown in Figure\\xa01.23.',\n",
       "  0.475778192281723),\n",
       " ('Chapter 4 | Finite-State Machines and the Real-Time Clock\\n171 References\\n[1] “4x4 Keypad Module Pinout, Configuration, Features, Circuit & Datasheet” . Accessed July 9, \\n2021. \\n[2] “Breadboard Power Supply Module” . Accessed July 9, 2021. https://components101.com/modules/5v-mb102-breadboard-power-supply-module \\n[3] “UM1974 User manual - STM32 Nucleo-144 boards (MB1137)” . Accessed July 9, 2021. https://www.st.com/resource/en/user_manual/dm00244518-stm32-nucleo144-boards-mb1137-stmicroelectronics.pdf \\n[4] “GitHub - armBookCodeExamples/Directory” . Accessed July 9, 2021. https://github.com/armBookCodeExamples/Directory/ \\n[5] “Time - API references and tutorials | Mbed OS 6 Documentation ” . Accessed July 9, 2021. \\nhttps://os.mbed.com/docs/mbed-os/v6.12/apis/time.html \\n[6] “<cstring> (string.h) - C++ Reference” . Accessed July 9, 2021. https://www.cplusplus.com/reference/cstring/',\n",
       "  0.47393766045570374),\n",
       " ('M_14, STM_PIN_DATA_EXT(STM_MODE_AF_PP, GPIO_NOPULL, GPIO_AF9_TIM14,  1, 0)}, \\n    {NC, NC, 0}\\n}; \\nCode\\xa08.3 Notes on the PinNames.h file of the NUCLEO-F429ZI  board.',\n",
       "  0.4717637598514557),\n",
       " ('[3] “Arm Keil | Cloud-based Development T ools for IoT, ML and Embedded” . Accessed July 9, 2021. https://www.keil.arm.com/ \\n[4] “Log In | Mbed” . Accessed July 9, 2021. https://os.mbed.com/account/login/  \\n[5] “Keil Studio” . Accessed July 9, 2021. https://studio.keil.arm.com/  \\n[6] “Documentation - Arm Developer” . Accessed July 9, 2021. https://developer.arm.com/documentation \\n[7] “Arm Mbed Studio” . Accessed July 9, 2021. https://os.mbed.com/studio/ \\n[8] “STM32CudeIDE - Integrated Development Environment” . Accessed July 9, 2021. https://www.st.com/en/development-tools/stm32cubeide.html \\n[9] “STM32F429ZI - High-performance advanced line, Arm Cortex-M4” . Accessed July 9, 2021.  https://www.st.com/en/microcontrollers-microprocessors/stm32f429zi.html',\n",
       "  0.44600552320480347)]"
      ]
     },
     "execution_count": 14,
     "metadata": {},
     "output_type": "execute_result"
    }
   ],
   "source": [
    "dense_docs"
   ]
  },
  {
   "cell_type": "code",
   "execution_count": 15,
   "metadata": {},
   "outputs": [
    {
     "data": {
      "text/html": [
       "<div>\n",
       "<style scoped>\n",
       "    .dataframe tbody tr th:only-of-type {\n",
       "        vertical-align: middle;\n",
       "    }\n",
       "\n",
       "    .dataframe tbody tr th {\n",
       "        vertical-align: top;\n",
       "    }\n",
       "\n",
       "    .dataframe thead th {\n",
       "        text-align: right;\n",
       "    }\n",
       "</style>\n",
       "<table border=\"1\" class=\"dataframe\">\n",
       "  <thead>\n",
       "    <tr style=\"text-align: right;\">\n",
       "      <th></th>\n",
       "      <th>Retrieved text</th>\n",
       "      <th>score</th>\n",
       "    </tr>\n",
       "  </thead>\n",
       "  <tbody>\n",
       "    <tr>\n",
       "      <th>0</th>\n",
       "      <td>Chapter 1 | Introduction to Embedded Systems \\n37The STM32F429ZIT6U microcontroller includes a Cortex-M4 processor , as shown in Figure 1.22. It \\ncan be appreciated that, beyond the processor, the microcontroller includes other peripherals such as \\ncommunication cores (ethernet, USB, UART, etc.), memory, timers, and GPIO (General Purpose Input Output) ports. \\nNUCLEO\\n-F429ZI32F429ZIT6U\\nARM7B776 VQ\\nPHL 7B 7213e412000K620 Y12000\\nK620 Y\\n120 00K620 YDGKYD\\nKMS-1 102NL1706C\\nSTM32F103CBT6\\ne393701GH218CHN\\nST890C\\nGK717\\n11\\n22\\n33\\n44\\n55\\n66\\n77\\n88\\n9\\n10\\n11\\n12\\n13\\n14\\n15PH_0\\nPD_0\\nPD_1\\nPG_0PH_1PF_2PA_7PF_10PF_5PF_3PC_3PC_030\\n29\\n28\\n27\\n2616\\n2515\\n2414\\n2313\\n2212\\n2111\\n2010\\n199\\n18\\n17\\n165V\\nVIN3.3VIOREF\\nGND\\nGNDGND\\nNCNC\\nUART2_RX\\nCAN1_TDCAN1_ DRADC1/7ADC1/3\\nADC1/1...</td>\n",
       "      <td>0.544363</td>\n",
       "    </tr>\n",
       "    <tr>\n",
       "      <th>1</th>\n",
       "      <td>38\\nA Beginner’s Guide to Designing Embedded System ApplicationsFigure 1.23 shows how different elements of the STM32F429ZIT6U microcontroller  are mapped \\nto the Zio and Arduino-compatible headers of the NUCLEO-F429ZI board. Some other elements \\nare mapped to the CN11 and CN12 headers of the NUCLEO-F429ZI board, as will be discussed in upcoming chapters. Further information on these headers is available from [17].\\nIn this chapter, buttons were connected to the NUCLEO board using pins D2 to D7. From Figure 1.23, \\nit can be seen that those digital inputs can also be referred to as PF_15, PE_13, P_14, PE_11, PE_9, and PF_13, respectively. Throughout this book, many pins of the ST Zio connectors will be used, and they will be referred to in the code using the names shown in Figure 1.23.</td>\n",
       "      <td>0.475778</td>\n",
       "    </tr>\n",
       "    <tr>\n",
       "      <th>2</th>\n",
       "      <td>Chapter 4 | Finite-State Machines and the Real-Time Clock\\n171 References\\n[1] “4x4 Keypad Module Pinout, Configuration, Features, Circuit &amp; Datasheet” . Accessed July 9, \\n2021. \\n[2] “Breadboard Power Supply Module” . Accessed July 9, 2021. https://components101.com/modules/5v-mb102-breadboard-power-supply-module \\n[3] “UM1974 User manual - STM32 Nucleo-144 boards (MB1137)” . Accessed July 9, 2021. https://www.st.com/resource/en/user_manual/dm00244518-stm32-nucleo144-boards-mb1137-stmicroelectronics.pdf \\n[4] “GitHub - armBookCodeExamples/Directory” . Accessed July 9, 2021. https://github.com/armBookCodeExamples/Directory/ \\n[5] “Time - API references and tutorials | Mbed OS 6 Documentation ” . Accessed July 9, 2021. \\nhttps://os.mbed.com/docs/mbed-os/v6.12/apis/time.html \\n[6] “&lt;cst...</td>\n",
       "      <td>0.473938</td>\n",
       "    </tr>\n",
       "    <tr>\n",
       "      <th>3</th>\n",
       "      <td>M_14, STM_PIN_DATA_EXT(STM_MODE_AF_PP, GPIO_NOPULL, GPIO_AF9_TIM14,  1, 0)}, \\n    {NC, NC, 0}\\n}; \\nCode 8.3 Notes on the PinNames.h file of the NUCLEO-F429ZI  board.</td>\n",
       "      <td>0.471764</td>\n",
       "    </tr>\n",
       "    <tr>\n",
       "      <th>4</th>\n",
       "      <td>[3] “Arm Keil | Cloud-based Development T ools for IoT, ML and Embedded” . Accessed July 9, 2021. https://www.keil.arm.com/ \\n[4] “Log In | Mbed” . Accessed July 9, 2021. https://os.mbed.com/account/login/  \\n[5] “Keil Studio” . Accessed July 9, 2021. https://studio.keil.arm.com/  \\n[6] “Documentation - Arm Developer” . Accessed July 9, 2021. https://developer.arm.com/documentation \\n[7] “Arm Mbed Studio” . Accessed July 9, 2021. https://os.mbed.com/studio/ \\n[8] “STM32CudeIDE - Integrated Development Environment” . Accessed July 9, 2021. https://www.st.com/en/development-tools/stm32cubeide.html \\n[9] “STM32F429ZI - High-performance advanced line, Arm Cortex-M4” . Accessed July 9, 2021.  https://www.st.com/en/microcontrollers-microprocessors/stm32f429zi.html</td>\n",
       "      <td>0.446006</td>\n",
       "    </tr>\n",
       "  </tbody>\n",
       "</table>\n",
       "</div>"
      ],
      "text/plain": [
       "                                                                                                                                                                                                                                                                                                                                                                                                                                                                                                                                                                                                                                                                                                                                                                                                                    Retrieved text  \\\n",
       "0  Chapter 1 | Introduction to Embedded Systems \\n37The STM32F429ZIT6U microcontroller includes a Cortex-M4 processor , as shown in Figure 1.22. It \\ncan be appreciated that, beyond the processor, the microcontroller includes other peripherals such as \\ncommunication cores (ethernet, USB, UART, etc.), memory, timers, and GPIO (General Purpose Input Output) ports. \\nNUCLEO\\n-F429ZI32F429ZIT6U\\nARM7B776 VQ\\nPHL 7B 7213e412000K620 Y12000\\nK620 Y\\n120 00K620 YDGKYD\\nKMS-1 102NL1706C\\nSTM32F103CBT6\\ne393701GH218CHN\\nST890C\\nGK717\\n11\\n22\\n33\\n44\\n55\\n66\\n77\\n88\\n9\\n10\\n11\\n12\\n13\\n14\\n15PH_0\\nPD_0\\nPD_1\\nPG_0PH_1PF_2PA_7PF_10PF_5PF_3PC_3PC_030\\n29\\n28\\n27\\n2616\\n2515\\n2414\\n2313\\n2212\\n2111\\n2010\\n199\\n18\\n17\\n165V\\nVIN3.3VIOREF\\nGND\\nGNDGND\\nNCNC\\nUART2_RX\\nCAN1_TDCAN1_ DRADC1/7ADC1/3\\nADC1/1...   \n",
       "1   38\\nA Beginner’s Guide to Designing Embedded System ApplicationsFigure 1.23 shows how different elements of the STM32F429ZIT6U microcontroller  are mapped \\nto the Zio and Arduino-compatible headers of the NUCLEO-F429ZI board. Some other elements \\nare mapped to the CN11 and CN12 headers of the NUCLEO-F429ZI board, as will be discussed in upcoming chapters. Further information on these headers is available from [17].\\nIn this chapter, buttons were connected to the NUCLEO board using pins D2 to D7. From Figure 1.23, \\nit can be seen that those digital inputs can also be referred to as PF_15, PE_13, P_14, PE_11, PE_9, and PF_13, respectively. Throughout this book, many pins of the ST Zio connectors will be used, and they will be referred to in the code using the names shown in Figure 1.23.   \n",
       "2  Chapter 4 | Finite-State Machines and the Real-Time Clock\\n171 References\\n[1] “4x4 Keypad Module Pinout, Configuration, Features, Circuit & Datasheet” . Accessed July 9, \\n2021. \\n[2] “Breadboard Power Supply Module” . Accessed July 9, 2021. https://components101.com/modules/5v-mb102-breadboard-power-supply-module \\n[3] “UM1974 User manual - STM32 Nucleo-144 boards (MB1137)” . Accessed July 9, 2021. https://www.st.com/resource/en/user_manual/dm00244518-stm32-nucleo144-boards-mb1137-stmicroelectronics.pdf \\n[4] “GitHub - armBookCodeExamples/Directory” . Accessed July 9, 2021. https://github.com/armBookCodeExamples/Directory/ \\n[5] “Time - API references and tutorials | Mbed OS 6 Documentation ” . Accessed July 9, 2021. \\nhttps://os.mbed.com/docs/mbed-os/v6.12/apis/time.html \\n[6] “<cst...   \n",
       "3                                                                                                                                                                                                                                                                                                                                                                                                                                                                                                                                                                                                                                                          M_14, STM_PIN_DATA_EXT(STM_MODE_AF_PP, GPIO_NOPULL, GPIO_AF9_TIM14,  1, 0)}, \\n    {NC, NC, 0}\\n}; \\nCode 8.3 Notes on the PinNames.h file of the NUCLEO-F429ZI  board.   \n",
       "4                                 [3] “Arm Keil | Cloud-based Development T ools for IoT, ML and Embedded” . Accessed July 9, 2021. https://www.keil.arm.com/ \\n[4] “Log In | Mbed” . Accessed July 9, 2021. https://os.mbed.com/account/login/  \\n[5] “Keil Studio” . Accessed July 9, 2021. https://studio.keil.arm.com/  \\n[6] “Documentation - Arm Developer” . Accessed July 9, 2021. https://developer.arm.com/documentation \\n[7] “Arm Mbed Studio” . Accessed July 9, 2021. https://os.mbed.com/studio/ \\n[8] “STM32CudeIDE - Integrated Development Environment” . Accessed July 9, 2021. https://www.st.com/en/development-tools/stm32cubeide.html \\n[9] “STM32F429ZI - High-performance advanced line, Arm Cortex-M4” . Accessed July 9, 2021.  https://www.st.com/en/microcontrollers-microprocessors/stm32f429zi.html   \n",
       "\n",
       "      score  \n",
       "0  0.544363  \n",
       "1  0.475778  \n",
       "2  0.473938  \n",
       "3  0.471764  \n",
       "4  0.446006  "
      ]
     },
     "metadata": {},
     "output_type": "display_data"
    }
   ],
   "source": [
    "df = pd.DataFrame(dense_docs, columns=['Retrieved text', 'score'])\n",
    "display(df)"
   ]
  },
  {
   "cell_type": "markdown",
   "metadata": {},
   "source": [
    "# Sparse"
   ]
  },
  {
   "cell_type": "code",
   "execution_count": 16,
   "metadata": {},
   "outputs": [
    {
     "name": "stdout",
     "output_type": "stream",
     "text": [
      "CPU times: user 60.6 ms, sys: 0 ns, total: 60.6 ms\n",
      "Wall time: 60.3 ms\n"
     ]
    }
   ],
   "source": [
    "%%time\n",
    "\n",
    "query_embed = sparse_model.encode_queries([QUERY])\n",
    "sparse_query_embed = sparse_to_dict(query_embed['sparse'])\n",
    "sparse_search_params = {\"metric_type\": SPARSE_METRIC, \"params\": {}}\n",
    "\n",
    "result_docs = milvus_client.sparse_search(\n",
    "    collection_name=COLLECTION_NAME,\n",
    "    query_sparse_embedding=sparse_query_embed,\n",
    "    top_k=TOP_K,\n",
    "    sparse_search_params=sparse_search_params,\n",
    ")"
   ]
  },
  {
   "cell_type": "code",
   "execution_count": 17,
   "metadata": {},
   "outputs": [],
   "source": [
    "sparse_docs = [(res['entity']['text'], res['distance']) for res in result_docs]"
   ]
  },
  {
   "cell_type": "code",
   "execution_count": 18,
   "metadata": {},
   "outputs": [
    {
     "data": {
      "text/plain": [
       "[('Chapter 1 | Introduction to Embedded Systems \\n37The STM32F429ZIT6U microcontroller includes a Cortex-M4 processor , as shown in Figure\\xa01.22. It \\ncan be appreciated that, beyond the processor, the microcontroller includes other peripherals such as \\ncommunication cores (ethernet, USB, UART, etc.), memory, timers, and GPIO (General Purpose Input Output) ports. \\nNUCLEO\\n-F429ZI32F429ZIT6U\\nARM7B776 VQ\\nPHL 7B 7213e412000K620 Y12000\\nK620 Y\\n120 00K620 YDGKYD\\nKMS-1 102NL1706C\\nSTM32F103CBT6\\ne393701GH218CHN\\nST890C\\nGK717\\n11\\n22\\n33\\n44\\n55\\n66\\n77\\n88\\n9\\n10\\n11\\n12\\n13\\n14\\n15PH_0\\nPD_0\\nPD_1\\nPG_0PH_1PF_2PA_7PF_10PF_5PF_3PC_3PC_030\\n29\\n28\\n27\\n2616\\n2515\\n2414\\n2313\\n2212\\n2111\\n2010\\n199\\n18\\n17\\n165V\\nVIN3.3VIOREF\\nGND\\nGNDGND\\nNCNC\\nUART2_RX\\nCAN1_TDCAN1_ DRADC1/7ADC1/3\\nADC1/10\\nADC1/13\\nADC3/9\\nADC3/15\\nADC3/8\\nADC3/5NRSTPC_8\\nPC_9\\nPC_10\\nPC_11\\nPC_12\\nPD_2\\nPG_2\\nPG_3\\nGNDPD_7\\nPD_6\\nPD_5\\nPD_4\\nPD_3\\nPE_2\\nPE_4\\nPE_3\\nPF_7\\nPG_1UART2_RX\\nUART2_ XT\\nUART_X7TUART2_RTS\\nUART2_CTSUART3_TX\\nUART3_RX\\nUART5_TX\\nUART5_RX\\nPA_3\\nSPI1_MOSISPI3_SCK\\nSPI2_SCK',\n",
       "  0.4066288471221924),\n",
       " ('Chapter 1 | Introduction to Embedded Systems \\n33Proposed Exercise\\n1. How can the code be changed in such a way that the system is blocked after three incorrect codes \\nare entered?\\nAnswer to the Exercise\\n1. It can be achieved by means of the change in T able\\xa01.11.\\nT able\\xa01.11 Proposed modification in the code in order to achieve the new behavior.\\nLine in Code\\xa01.5 New code to be used\\n40 if ( numberOfIncorrectCodes < 5 ) 40 if ( numberOfIncorrectCodes < 3 )\\n1.3 Under the Hood\\n1.3.1 Brief Introduction to the Cortex-M Processor  Family and the NUCLEO Board\\nIn this chapter, many programs were developed using the NUCLEO board, provided with the \\nSTM32F429ZIT6U microcontroller . This microcontroller is manufactured by STMicroelectronics [13]',\n",
       "  0.3120812177658081),\n",
       " ('38\\nA Beginner’s Guide to Designing Embedded System ApplicationsFigure\\xa01.23 shows how different elements of the STM32F429ZIT6U microcontroller  are mapped \\nto the Zio and Arduino-compatible headers of the NUCLEO-F429ZI board. Some other elements \\nare mapped to the CN11 and CN12 headers of the NUCLEO-F429ZI board, as will be discussed in upcoming chapters. Further information on these headers is available from [17].\\nIn this chapter, buttons were connected to the NUCLEO board using pins D2 to D7. From Figure\\xa01.23, \\nit can be seen that those digital inputs can also be referred to as PF_15, PE_13, P_14, PE_11, PE_9, and PF_13, respectively. Throughout this book, many pins of the ST Zio connectors will be used, and they will be referred to in the code using the names shown in Figure\\xa01.23.',\n",
       "  0.30795398354530334),\n",
       " ('This section will begin the implementation of the smart home system, following the diagram shown in Figure\\xa01.3. This first implementation will detect fire using an over temperature detector and a gas detector and, if it detects fire, it will activate the alarm until a given code is entered.  For this purpose, the NUCLEO board [1] provided with the STM32F429ZIT6U microcontroller [9] (referred to as the STM32 microcontroller ) is used.',\n",
       "  0.2688245177268982),\n",
       " ('Index\\n567 STM 32F429 ZIT 6U microcontroller 5, 33, 37, 38 \\n stop bit 46, 64, 65, 80, 256 , 257 , 273 , 468  \\n ST Zio connectors xiv, 6, 9, 37, 38, 44, 346  \\n superloop 13, 519  \\n synchronous communication 255\\nT TCP server 456 , 457 , 459 , 460 –463 , 491  \\n temperature sensor 4, 5, 87, 106 , 123 , 182 , 220 , 233 , 334 , 486 , 550  \\n time management xvi, 86, 95, 99, 289 , 342 , 348 , 353  \\n timers xvi, xxvii, 37, 306 , 342 , 343 , 345 , 348 –350 , 353 , 354 , \\n 361 , 441 , 512 –517 , 533 , 535 , 537 , 538 , 539  \\n tm structure 153  \\n TO- 220  package 89\\nU UART xvi, xvii, 5, 44, 61, 63, 79, 82, 84, 86, 181 , 191 , 222 , 255 , 290 , 291 , \\n 306 , 350 , 420 , 423 , 447 , 455 , 461 , 465 , 468 , 544  \\n USB xiv, xxvii, 4, 9, 37, 44, 45, 63, 79, 82, 88, 132 , 449 , 506 , 507 , 508 , 544  \\n USB connection xiv, 44, 506  \\n use cases 497 , 501 –504 , 511 , 545 , 546 , 547 , 548\\nV validation 496 , 497 , 546 , 547  \\n verification 81, 92, 496 , 497 , 546  \\n vineyard frost prevention 123 , 124',\n",
       "  0.2452077716588974)]"
      ]
     },
     "execution_count": 18,
     "metadata": {},
     "output_type": "execute_result"
    }
   ],
   "source": [
    "sparse_docs"
   ]
  },
  {
   "cell_type": "code",
   "execution_count": 19,
   "metadata": {},
   "outputs": [
    {
     "data": {
      "text/html": [
       "<div>\n",
       "<style scoped>\n",
       "    .dataframe tbody tr th:only-of-type {\n",
       "        vertical-align: middle;\n",
       "    }\n",
       "\n",
       "    .dataframe tbody tr th {\n",
       "        vertical-align: top;\n",
       "    }\n",
       "\n",
       "    .dataframe thead th {\n",
       "        text-align: right;\n",
       "    }\n",
       "</style>\n",
       "<table border=\"1\" class=\"dataframe\">\n",
       "  <thead>\n",
       "    <tr style=\"text-align: right;\">\n",
       "      <th></th>\n",
       "      <th>Retrieved text</th>\n",
       "      <th>score</th>\n",
       "    </tr>\n",
       "  </thead>\n",
       "  <tbody>\n",
       "    <tr>\n",
       "      <th>0</th>\n",
       "      <td>Chapter 1 | Introduction to Embedded Systems \\n37The STM32F429ZIT6U microcontroller includes a Cortex-M4 processor , as shown in Figure 1.22. It \\ncan be appreciated that, beyond the processor, the microcontroller includes other peripherals such as \\ncommunication cores (ethernet, USB, UART, etc.), memory, timers, and GPIO (General Purpose Input Output) ports. \\nNUCLEO\\n-F429ZI32F429ZIT6U\\nARM7B776 VQ\\nPHL 7B 7213e412000K620 Y12000\\nK620 Y\\n120 00K620 YDGKYD\\nKMS-1 102NL1706C\\nSTM32F103CBT6\\ne393701GH218CHN\\nST890C\\nGK717\\n11\\n22\\n33\\n44\\n55\\n66\\n77\\n88\\n9\\n10\\n11\\n12\\n13\\n14\\n15PH_0\\nPD_0\\nPD_1\\nPG_0PH_1PF_2PA_7PF_10PF_5PF_3PC_3PC_030\\n29\\n28\\n27\\n2616\\n2515\\n2414\\n2313\\n2212\\n2111\\n2010\\n199\\n18\\n17\\n165V\\nVIN3.3VIOREF\\nGND\\nGNDGND\\nNCNC\\nUART2_RX\\nCAN1_TDCAN1_ DRADC1/7ADC1/3\\nADC1/1...</td>\n",
       "      <td>0.406629</td>\n",
       "    </tr>\n",
       "    <tr>\n",
       "      <th>1</th>\n",
       "      <td>Chapter 1 | Introduction to Embedded Systems \\n33Proposed Exercise\\n1. How can the code be changed in such a way that the system is blocked after three incorrect codes \\nare entered?\\nAnswer to the Exercise\\n1. It can be achieved by means of the change in T able 1.11.\\nT able 1.11 Proposed modification in the code in order to achieve the new behavior.\\nLine in Code 1.5 New code to be used\\n40 if ( numberOfIncorrectCodes &lt; 5 ) 40 if ( numberOfIncorrectCodes &lt; 3 )\\n1.3 Under the Hood\\n1.3.1 Brief Introduction to the Cortex-M Processor  Family and the NUCLEO Board\\nIn this chapter, many programs were developed using the NUCLEO board, provided with the \\nSTM32F429ZIT6U microcontroller . This microcontroller is manufactured by STMicroelectronics [13]</td>\n",
       "      <td>0.312081</td>\n",
       "    </tr>\n",
       "    <tr>\n",
       "      <th>2</th>\n",
       "      <td>38\\nA Beginner’s Guide to Designing Embedded System ApplicationsFigure 1.23 shows how different elements of the STM32F429ZIT6U microcontroller  are mapped \\nto the Zio and Arduino-compatible headers of the NUCLEO-F429ZI board. Some other elements \\nare mapped to the CN11 and CN12 headers of the NUCLEO-F429ZI board, as will be discussed in upcoming chapters. Further information on these headers is available from [17].\\nIn this chapter, buttons were connected to the NUCLEO board using pins D2 to D7. From Figure 1.23, \\nit can be seen that those digital inputs can also be referred to as PF_15, PE_13, P_14, PE_11, PE_9, and PF_13, respectively. Throughout this book, many pins of the ST Zio connectors will be used, and they will be referred to in the code using the names shown in Figure 1.23.</td>\n",
       "      <td>0.307954</td>\n",
       "    </tr>\n",
       "    <tr>\n",
       "      <th>3</th>\n",
       "      <td>This section will begin the implementation of the smart home system, following the diagram shown in Figure 1.3. This first implementation will detect fire using an over temperature detector and a gas detector and, if it detects fire, it will activate the alarm until a given code is entered.  For this purpose, the NUCLEO board [1] provided with the STM32F429ZIT6U microcontroller [9] (referred to as the STM32 microcontroller ) is used.</td>\n",
       "      <td>0.268825</td>\n",
       "    </tr>\n",
       "    <tr>\n",
       "      <th>4</th>\n",
       "      <td>Index\\n567 STM 32F429 ZIT 6U microcontroller 5, 33, 37, 38 \\n stop bit 46, 64, 65, 80, 256 , 257 , 273 , 468  \\n ST Zio connectors xiv, 6, 9, 37, 38, 44, 346  \\n superloop 13, 519  \\n synchronous communication 255\\nT TCP server 456 , 457 , 459 , 460 –463 , 491  \\n temperature sensor 4, 5, 87, 106 , 123 , 182 , 220 , 233 , 334 , 486 , 550  \\n time management xvi, 86, 95, 99, 289 , 342 , 348 , 353  \\n timers xvi, xxvii, 37, 306 , 342 , 343 , 345 , 348 –350 , 353 , 354 , \\n 361 , 441 , 512 –517 , 533 , 535 , 537 , 538 , 539  \\n tm structure 153  \\n TO- 220  package 89\\nU UART xvi, xvii, 5, 44, 61, 63, 79, 82, 84, 86, 181 , 191 , 222 , 255 , 290 , 291 , \\n 306 , 350 , 420 , 423 , 447 , 455 , 461 , 465 , 468 , 544  \\n USB xiv, xxvii, 4, 9, 37, 44, 45, 63, 79, 82, 88, 132 , 449 , 506 , 507 ,...</td>\n",
       "      <td>0.245208</td>\n",
       "    </tr>\n",
       "  </tbody>\n",
       "</table>\n",
       "</div>"
      ],
      "text/plain": [
       "                                                                                                                                                                                                                                                                                                                                                                                                                                                                                                                                                                                                                                                                                                                                                                                                                    Retrieved text  \\\n",
       "0  Chapter 1 | Introduction to Embedded Systems \\n37The STM32F429ZIT6U microcontroller includes a Cortex-M4 processor , as shown in Figure 1.22. It \\ncan be appreciated that, beyond the processor, the microcontroller includes other peripherals such as \\ncommunication cores (ethernet, USB, UART, etc.), memory, timers, and GPIO (General Purpose Input Output) ports. \\nNUCLEO\\n-F429ZI32F429ZIT6U\\nARM7B776 VQ\\nPHL 7B 7213e412000K620 Y12000\\nK620 Y\\n120 00K620 YDGKYD\\nKMS-1 102NL1706C\\nSTM32F103CBT6\\ne393701GH218CHN\\nST890C\\nGK717\\n11\\n22\\n33\\n44\\n55\\n66\\n77\\n88\\n9\\n10\\n11\\n12\\n13\\n14\\n15PH_0\\nPD_0\\nPD_1\\nPG_0PH_1PF_2PA_7PF_10PF_5PF_3PC_3PC_030\\n29\\n28\\n27\\n2616\\n2515\\n2414\\n2313\\n2212\\n2111\\n2010\\n199\\n18\\n17\\n165V\\nVIN3.3VIOREF\\nGND\\nGNDGND\\nNCNC\\nUART2_RX\\nCAN1_TDCAN1_ DRADC1/7ADC1/3\\nADC1/1...   \n",
       "1                                              Chapter 1 | Introduction to Embedded Systems \\n33Proposed Exercise\\n1. How can the code be changed in such a way that the system is blocked after three incorrect codes \\nare entered?\\nAnswer to the Exercise\\n1. It can be achieved by means of the change in T able 1.11.\\nT able 1.11 Proposed modification in the code in order to achieve the new behavior.\\nLine in Code 1.5 New code to be used\\n40 if ( numberOfIncorrectCodes < 5 ) 40 if ( numberOfIncorrectCodes < 3 )\\n1.3 Under the Hood\\n1.3.1 Brief Introduction to the Cortex-M Processor  Family and the NUCLEO Board\\nIn this chapter, many programs were developed using the NUCLEO board, provided with the \\nSTM32F429ZIT6U microcontroller . This microcontroller is manufactured by STMicroelectronics [13]   \n",
       "2   38\\nA Beginner’s Guide to Designing Embedded System ApplicationsFigure 1.23 shows how different elements of the STM32F429ZIT6U microcontroller  are mapped \\nto the Zio and Arduino-compatible headers of the NUCLEO-F429ZI board. Some other elements \\nare mapped to the CN11 and CN12 headers of the NUCLEO-F429ZI board, as will be discussed in upcoming chapters. Further information on these headers is available from [17].\\nIn this chapter, buttons were connected to the NUCLEO board using pins D2 to D7. From Figure 1.23, \\nit can be seen that those digital inputs can also be referred to as PF_15, PE_13, P_14, PE_11, PE_9, and PF_13, respectively. Throughout this book, many pins of the ST Zio connectors will be used, and they will be referred to in the code using the names shown in Figure 1.23.   \n",
       "3                                                                                                                                                                                                                                                                                                                                                                            This section will begin the implementation of the smart home system, following the diagram shown in Figure 1.3. This first implementation will detect fire using an over temperature detector and a gas detector and, if it detects fire, it will activate the alarm until a given code is entered.  For this purpose, the NUCLEO board [1] provided with the STM32F429ZIT6U microcontroller [9] (referred to as the STM32 microcontroller ) is used.   \n",
       "4  Index\\n567 STM 32F429 ZIT 6U microcontroller 5, 33, 37, 38 \\n stop bit 46, 64, 65, 80, 256 , 257 , 273 , 468  \\n ST Zio connectors xiv, 6, 9, 37, 38, 44, 346  \\n superloop 13, 519  \\n synchronous communication 255\\nT TCP server 456 , 457 , 459 , 460 –463 , 491  \\n temperature sensor 4, 5, 87, 106 , 123 , 182 , 220 , 233 , 334 , 486 , 550  \\n time management xvi, 86, 95, 99, 289 , 342 , 348 , 353  \\n timers xvi, xxvii, 37, 306 , 342 , 343 , 345 , 348 –350 , 353 , 354 , \\n 361 , 441 , 512 –517 , 533 , 535 , 537 , 538 , 539  \\n tm structure 153  \\n TO- 220  package 89\\nU UART xvi, xvii, 5, 44, 61, 63, 79, 82, 84, 86, 181 , 191 , 222 , 255 , 290 , 291 , \\n 306 , 350 , 420 , 423 , 447 , 455 , 461 , 465 , 468 , 544  \\n USB xiv, xxvii, 4, 9, 37, 44, 45, 63, 79, 82, 88, 132 , 449 , 506 , 507 ,...   \n",
       "\n",
       "      score  \n",
       "0  0.406629  \n",
       "1  0.312081  \n",
       "2  0.307954  \n",
       "3  0.268825  \n",
       "4  0.245208  "
      ]
     },
     "metadata": {},
     "output_type": "display_data"
    }
   ],
   "source": [
    "df = pd.DataFrame(sparse_docs, columns=['Retrieved text', 'score'])\n",
    "display(df)"
   ]
  },
  {
   "cell_type": "markdown",
   "metadata": {},
   "source": [
    "### Behind the scenes"
   ]
  },
  {
   "cell_type": "code",
   "execution_count": 20,
   "metadata": {},
   "outputs": [
    {
     "name": "stdout",
     "output_type": "stream",
     "text": [
      "Query: Who manufactured STM32F429ZIT6U microcontroller?\n",
      "Query tokens: {'Who': 0.12953617, 'manufacture': 0.16020282, 'd': 0.091110475, 'S': 0.06721472, 'TM': 0.17617896, '32': 0.22689886, 'F': 0.11322579, '4': 0.15599976, '29': 0.27151847, 'Z': 0.10745256, 'IT': 0.11309386, '6': 0.15854846, 'U': 0.16645822, 'micro': 0.11618528, 'control': 0.14702055, 'ler': 0.07770293, '?': 0.08084669}\n",
      "Length of query tokens: 17\n"
     ]
    }
   ],
   "source": [
    "query_embed = sparse_model.encode_queries([QUERY])\n",
    "sparse_query_embed = sparse_to_dict(query_embed['sparse'])\n",
    "query_tokens = sparse_model.model.convert_id_to_token(sparse_query_embed)\n",
    "print(f\"Query: {QUERY}\")\n",
    "print(f\"Query tokens: {query_tokens}\")\n",
    "print(f\"Length of query tokens: {len(query_tokens)}\")"
   ]
  },
  {
   "cell_type": "code",
   "execution_count": 21,
   "metadata": {},
   "outputs": [
    {
     "name": "stdout",
     "output_type": "stream",
     "text": [
      "Chapter 1 | Introduction to Embedded Systems \n",
      "37The STM32F429ZIT6U microcontroller includes a Cortex-M4 processor , as shown in Figure 1.22. It \n",
      "can be appreciated that, beyond the processor, the microcontroller includes other peripherals such as \n",
      "communication cores (ethernet, USB, UART, etc.), memory, timers, and GPIO (General Purpose Input Output) ports. \n",
      "NUCLEO\n",
      "-F429ZI32F429ZIT6U\n",
      "ARM7B776 VQ\n",
      "PHL 7B 7213e412000K620 Y12000\n",
      "K620 Y\n",
      "120 00K620 YDGKYD\n",
      "KMS-1 102NL1706C\n",
      "STM32F103CBT6\n",
      "e393701GH218CHN\n",
      "ST890C\n",
      "GK717\n",
      "11\n",
      "22\n",
      "33\n",
      "44\n",
      "55\n",
      "66\n",
      "77\n",
      "88\n",
      "9\n",
      "10\n",
      "11\n",
      "12\n",
      "13\n",
      "14\n",
      "15PH_0\n",
      "PD_0\n",
      "PD_1\n",
      "PG_0PH_1PF_2PA_7PF_10PF_5PF_3PC_3PC_030\n",
      "29\n",
      "28\n",
      "27\n",
      "2616\n",
      "2515\n",
      "2414\n",
      "2313\n",
      "2212\n",
      "2111\n",
      "2010\n",
      "199\n",
      "18\n",
      "17\n",
      "165V\n",
      "VIN3.3VIOREF\n",
      "GND\n",
      "GNDGND\n",
      "NCNC\n",
      "UART2_RX\n",
      "CAN1_TDCAN1_ DRADC1/7ADC1/3\n",
      "ADC1/10\n",
      "ADC1/13\n",
      "ADC3/9\n",
      "ADC3/15\n",
      "ADC3/8\n",
      "ADC3/5NRSTPC_8\n",
      "PC_9\n",
      "PC_10\n",
      "PC_11\n",
      "PC_12\n",
      "PD_2\n",
      "PG_2\n",
      "PG_3\n",
      "GNDPD_7\n",
      "PD_6\n",
      "PD_5\n",
      "PD_4\n",
      "PD_3\n",
      "PE_2\n",
      "PE_4\n",
      "PE_3\n",
      "PF_7\n",
      "PG_1UART2_RX\n",
      "UART2_ XT\n",
      "UART_X7TUART2_RTS\n",
      "UART2_CTSUART3_TX\n",
      "UART3_RX\n",
      "UART5_TX\n",
      "UART5_RX\n",
      "PA_3\n",
      "SPI1_MOSISPI3_SCK\n",
      "SPI2_SCK\n",
      "{'Chapter': 0.07680597, '1': 0.00089471415, 'Introdu': 0.109051645, 'ction': 0.03576511, 'to': 0.018097993, 'Em': 0.13371702, 'be': 0.0012598671, 'dded': 0.13822505, 'Systems': 0.16337934, '37': 0.18506524, 'The': 0.06976845, 'S': 0.0011371225, 'TM': 0.21954173, '32': 0.274454, 'F': 0.15634364, '4': 0.2674809, '29': 0.027585529, 'Z': 0.15114135, 'IT': 0.1637858, '6': 0.18572998, 'U': 0.04213378, 'micro': 0.1862751, 'control': 0.227621, 'ler': 0.15519759, 'includes': 0.18043286, 'a': 0.08227469, 'Corte': 0.19885135, 'x': 0.1808441, '-': 0.012574136, 'M': 0.18008578, 'processo': 0.2181743, 'r': 0.14627916, ',': 0.0010783374, 'as': 0.001959484, 'shown': 0.06794033, 'in': 0.0016013756, 'Figur': 0.15260175, 'e': 0.001063548, '1.': 0.033670865, '22': 0.0015238672, '.': 0.005163364, 'It': 0.011359066, 'can': 0.040210083, 'appreciate': 0.11755336, 'd': 0.0010472685, 'beyond': 0.10318867, 'the': 0.006711267, 'other': 0.04765133, 'per': 0.062530346, 'i': 0.023233317, 'pher': 0.16017939, 'als': 0.0011641942, 'such': 0.001180619, 'communication': 0.14062577, 'cores': 0.15057479, 'ther': 0.08599477, 'net': 0.0015278868, 'USB': 0.16495472, 'ART': 0.17392124, '),': 0.0009252541, 'memory': 0.12220018, 'timer': 0.23170367, 's': 0.0011210628, 'and': 0.028772742, 'GP': 0.11665037, 'IO': 0.16492467, 'General': 0.09013349, 'Pur': 0.12797856, 'pose': 0.0009918697, 'Out': 0.103107855, ')': 0.0009951256, 'port': 0.18778479, 'NU': 0.124419816, 'CLE': 0.17599475, 'O': 0.18364216, 'ZI': 0.12783706, 'ARM': 0.12909164, '7': 0.03840968, 'B': 0.04406865, '776': 0.17954394, 'V': 0.11839734, 'Q': 0.108396135, 'HL': 0.12898856, '72': 0.031643555, '13': 0.0011577718, '2000': 0.11222192, '20': 0.08164406, 'Y': 0.057641722, '120': 0.024372507, 'DG': 0.014168475, 'KY': 0.08699896, 'D': 0.0009842776, 'MS': 0.13970411, '-1': 0.03566902, '102': 0.07290925, '17': 0.023650795, '06': 0.1261448, '103': 0.15023686, 'C': 0.0008562058, 'BT': 0.050220907, '393': 0.00096892565, 'GH': 0.006554749, '2': 0.011261299, 'N': 0.0010305718, 'ST': 0.0010645278, '890': 0.15720928, 'GK': 0.08373655, '11': 0.0011866875, '33': 0.0013880767, '44': 0.0014527515, '55': 0.0012110472, '66': 0.0012071244, '77': 0.001353763, '88': 0.0013170801, '9': 0.0011125058, '10': 0.0011791624, '12': 0.0011582002, '14': 0.0010037832, '15': 0.0007282458, 'PH': 0.0893451, '_': 0.0017517582, '0': 0.00095599145, 'PD': 0.0012744442, 'PG': 0.084373936, 'PF': 0.09365811, 'PA': 0.01846125, '5': 0.0012610033, '3': 0.0013930276, 'PC': 0.07585004, '030': 0.034258723, '28': 0.020756055, '27': 0.012986943, '26': 0.001005251, '16': 0.000785131, '25': 0.010284025, '24': 0.006997507, '23': 0.016593467, '2010': 0.11549447, '199': 0.093230724, '18': 0.02716913, '165': 0.13727692, '': 0.0011285469, 'VIN': 0.18396673, '3.3': 0.057794154, 'VI': 0.015665762, 'ND': 0.059520252, 'G': 0.0006656498, 'NC': 0.058571175, 'CAN': 0.10933862, 'TD': 0.0006377958, 'DRA': 0.013467558, 'DC': 0.022606492, 'AD': 0.00079375133, '1/3': 0.040831544, 'A': 0.00083879754, '1/10': 0.0584604, '/13': 0.070799515, '/9': 0.00867793, '/15': 0.10670734, '/5': 0.027943261, '8': 0.0010359064, 'PE': 0.022279821, 'R': 0.0010972172, 'X': 0.063301876, 'XT': 0.0010746978, 'RT': 0.034791075, 'TX': 0.052963078, 'PI': 0.07889099, 'CK': 0.09396381}\n",
      "Common tokens: {'Z', 'd', 'micro', '4', 'F', 'ler', '6', 'control', 'IT', 'TM', 'S', 'U', '29', '32'}\n",
      "Number of matching tokens: 14\n",
      "================================================================================\n",
      "Chapter 1 | Introduction to Embedded Systems \n",
      "33Proposed Exercise\n",
      "1. How can the code be changed in such a way that the system is blocked after three incorrect codes \n",
      "are entered?\n",
      "Answer to the Exercise\n",
      "1. It can be achieved by means of the change in T able 1.11.\n",
      "T able 1.11 Proposed modification in the code in order to achieve the new behavior.\n",
      "Line in Code 1.5 New code to be used\n",
      "40 if ( numberOfIncorrectCodes < 5 ) 40 if ( numberOfIncorrectCodes < 3 )\n",
      "1.3 Under the Hood\n",
      "1.3.1 Brief Introduction to the Cortex-M Processor  Family and the NUCLEO Board\n",
      "In this chapter, many programs were developed using the NUCLEO board, provided with the \n",
      "STM32F429ZIT6U microcontroller . This microcontroller is manufactured by STMicroelectronics [13]\n",
      "{'Chapter': 0.112810045, '1': 0.10895714, '|': 0.010732558, 'Introdu': 0.119867325, 'ction': 0.07980891, 'to': 0.047756348, 'Em': 0.122828744, 'be': 0.014770271, 'dded': 0.14755875, 'Systems': 0.160599, '33': 0.16960251, 'Pro': 0.08277795, 'posed': 0.09773638, 'Exerci': 0.16613133, 'se': 0.06666812, '1.': 0.061914098, 'How': 0.08644375, 'can': 0.09213404, 'code': 0.23375295, 'changed': 0.24684511, 'such': 0.042432822, 'way': 0.028540999, 'that': 0.0013489611, 'system': 0.18533355, 'is': 0.06384458, 'block': 0.26944816, 'ed': 0.17794079, 'after': 0.12582313, 'three': 0.22813663, 'incorrect': 0.2628453, 'enter': 0.19006045, 'Answer': 0.10528424, 'achieve': 0.120020635, 'means': 0.020706762, 'the': 0.0061258078, 'change': 0.14353544, 'T': 0.12281296, 'able': 0.21465921, '.11.': 0.088607684, '11': 0.044587087, 'modification': 0.196397, 'new': 0.062766105, 'behavior': 0.14037722, 'Line': 0.09972707, 'Code': 0.1758107, '1.5': 0.10376327, 'New': 0.104960054, 'used': 0.10110858, '40': 0.15591958, 'if': 0.03910152, 'number': 0.055588037, 'In': 0.063526735, 'corre': 0.16436581, '5': 0.06433516, '<': 0.014849026, '3': 0.10138832, '1.3': 0.039615795, 'Under': 0.13513519, 'Hoo': 0.078535944, '3.1': 0.040311523, 'Brief': 0.06588334, 'Corte': 0.11194334, 'x': 0.088533476, '-': 0.02842588, 'M': 0.13868432, 'Processo': 0.120204456, 'r': 0.04501891, 'Family': 0.0876856, 'and': 0.027574144, 'NU': 0.09632007, 'CLE': 0.19089554, 'O': 0.18671644, 'Board': 0.15887982, 'this': 0.028620299, 'chapter': 0.117061846, 'many': 0.06709613, 'programs': 0.17792407, 'developed': 0.11907859, 'using': 0.10808178, 'board': 0.19134839, 'provided': 0.072018415, 'with': 0.04405668, 'S': 0.040793695, 'TM': 0.14019358, '32': 0.18994126, 'F': 0.060301665, '4': 0.12299929, '29': 0.22301352, 'Z': 0.09445706, 'IT': 0.119093075, '6': 0.13077918, 'U': 0.14706257, 'micro': 0.11881812, 'control': 0.20234944, 'ler': 0.1372025, 'This': 0.07072437, 'manufacture': 0.1992876, 'by': 0.061010607, 'ST': 0.12915118, 'Mi': 0.057436246, 'cro': 0.09839365, 'lec': 0.020748518, 'tronic': 0.122763306, '[13]': 0.040501665}\n",
      "Common tokens: {'Z', 'micro', '4', 'F', 'ler', '6', 'control', 'IT', 'TM', 'S', 'manufacture', 'U', '29', '32'}\n",
      "Number of matching tokens: 14\n",
      "================================================================================\n",
      "38\n",
      "A Beginner’s Guide to Designing Embedded System ApplicationsFigure 1.23 shows how different elements of the STM32F429ZIT6U microcontroller  are mapped \n",
      "to the Zio and Arduino-compatible headers of the NUCLEO-F429ZI board. Some other elements \n",
      "are mapped to the CN11 and CN12 headers of the NUCLEO-F429ZI board, as will be discussed in upcoming chapters. Further information on these headers is available from [17].\n",
      "In this chapter, buttons were connected to the NUCLEO board using pins D2 to D7. From Figure 1.23, \n",
      "it can be seen that those digital inputs can also be referred to as PF_15, PE_13, P_14, PE_11, PE_9, and PF_13, respectively. Throughout this book, many pins of the ST Zio connectors will be used, and they will be referred to in the code using the names shown in Figure 1.23.\n",
      "{'38': 0.1367226, 'Beginn': 0.090284474, 'er': 0.069649294, '’': 0.025668904, 'Guide': 0.16893795, 'Design': 0.13092437, 'Em': 0.07080503, 'be': 0.1984096, 'dded': 0.070216656, 'System': 0.079377815, 'Application': 0.13683897, 'Fi': 0.0069124624, 'gur': 0.15222019, '1.': 0.07977284, '23': 0.17816702, 'shows': 0.06193661, 'different': 0.13565493, 'elements': 0.15795232, 'S': 0.044700027, 'TM': 0.15523386, '32': 0.21998525, 'F': 0.085973084, '4': 0.13424917, '29': 0.26718843, 'Z': 0.097471185, 'IT': 0.09851897, '6': 0.13945073, 'U': 0.1669438, 'micro': 0.12512992, 'control': 0.189736, 'ler': 0.13531312, 'ma': 0.15472509, 'pped': 0.12984675, 'to': 0.106222555, 'Zi': 0.18845502, 'o': 0.20109391, 'and': 0.040872328, 'Arduino': 0.23569757, 'com': 0.09587405, 'pati': 0.14948367, 'head': 0.1581157, 'ers': 0.08715116, 'NU': 0.09960502, 'CLE': 0.17066206, 'O': 0.16420026, 'ZI': 0.18017249, 'board': 0.1998615, 'CN': 0.074187726, '11': 0.15748177, '12': 0.16161087, 'chapter': 0.08492921, 'information': 0.03830596, 'available': 0.008971587, 'this': 0.031615287, 'button': 0.23371908, 'were': 0.029695943, 'connected': 0.1701521, 'using': 0.04419253, 'pin': 0.18158233, 'D': 0.08644811, '2': 0.13539353, '7': 0.13109413, 'Figur': 0.15813492, 'seen': 0.009548515, 'digital': 0.14088482, 'input': 0.20824221, 'can': 0.058124013, 'refer': 0.10135478, 'as': 0.005793702, 'PF': 0.14783955, '15': 0.17211299, 'PE': 0.07369551, '13': 0.15942717, 'P': 0.0028657876, '14': 0.10932766, '9': 0.05321399, 'book': 0.11289728, 'many': 0.046224907, 'ST': 0.1494891, 'connect': 0.16004285, 'ors': 0.10248952, 'will': 7.072836e-05, 'used': 0.08824058, 'code': 0.11407425, 'names': 0.06295124}\n",
      "Common tokens: {'Z', 'micro', '4', 'F', 'ler', '6', 'control', 'IT', 'TM', 'S', 'U', '29', '32'}\n",
      "Number of matching tokens: 13\n",
      "================================================================================\n",
      "This section will begin the implementation of the smart home system, following the diagram shown in Figure 1.3. This first implementation will detect fire using an over temperature detector and a gas detector and, if it detects fire, it will activate the alarm until a given code is entered.  For this purpose, the NUCLEO board [1] provided with the STM32F429ZIT6U microcontroller [9] (referred to as the STM32 microcontroller ) is used.\n",
      "{'This': 0.108018585, 'section': 0.14758088, 'will': 0.083482705, 'begin': 0.15584457, 'the': 0.039447807, 'implementation': 0.26325807, 'of': 0.036798477, 'smart': 0.25676474, 'home': 0.22738996, 'system': 0.20200227, 'following': 0.10097283, 'diagram': 0.16715968, 'shown': 0.059073426, 'Figur': 0.14839546, '1.3': 0.1762616, 'first': 0.16139361, 'detect': 0.25746953, 'fire': 0.27829957, 'using': 0.10904779, 'over': 0.16003183, 'temperature': 0.20251521, 'or': 0.113288224, 'and': 0.056730926, 'gas': 0.17228875, ',': 0.006144963, 'if': 0.04068479, 's': 0.0061277896, 'it': 0.016691156, 'activa': 0.19344193, 'alarm': 0.301843, 'until': 0.103026986, 'a': 0.0057594404, 'given': 0.05460322, 'code': 0.18951437, 'enter': 0.14537936, 'ed': 0.0062426925, 'For': 0.014525086, 'this': 0.03053987, 'purpose': 0.11418767, 'NU': 0.12510082, 'CLE': 0.19021839, 'O': 0.18832557, 'board': 0.2124097, '[1]': 0.031189412, 'provided': 0.12065237, 'with': 0.042619728, 'S': 0.05518616, 'TM': 0.1831486, '32': 0.2585511, 'F': 0.04419763, '4': 0.096984446, '29': 0.2041888, 'Z': 0.05000607, 'IT': 0.074092716, '6': 0.0895682, 'U': 0.11598894, 'micro': 0.11053945, 'control': 0.19308342, 'ler': 0.13020314, '[9]': 0.063543364, 're': 0.005691737, 'fer': 0.0227862, 'red': 0.006542973, 'is': 0.060836285, 'used': 0.16099854}\n",
      "Common tokens: {'Z', 'micro', '4', 'F', 'ler', '6', 'control', 'IT', 'TM', 'S', 'U', '29', '32'}\n",
      "Number of matching tokens: 13\n",
      "================================================================================\n",
      "Index\n",
      "567 STM 32F429 ZIT 6U microcontroller 5, 33, 37, 38 \n",
      " stop bit 46, 64, 65, 80, 256 , 257 , 273 , 468  \n",
      " ST Zio connectors xiv, 6, 9, 37, 38, 44, 346  \n",
      " superloop 13, 519  \n",
      " synchronous communication 255\n",
      "T TCP server 456 , 457 , 459 , 460 –463 , 491  \n",
      " temperature sensor 4, 5, 87, 106 , 123 , 182 , 220 , 233 , 334 , 486 , 550  \n",
      " time management xvi, 86, 95, 99, 289 , 342 , 348 , 353  \n",
      " timers xvi, xxvii, 37, 306 , 342 , 343 , 345 , 348 –350 , 353 , 354 , \n",
      " 361 , 441 , 512 –517 , 533 , 535 , 537 , 538 , 539  \n",
      " tm structure 153  \n",
      " TO- 220  package 89\n",
      "U UART xvi, xvii, 5, 44, 61, 63, 79, 82, 84, 86, 181 , 191 , 222 , 255 , 290 , 291 , \n",
      " 306 , 350 , 420 , 423 , 447 , 455 , 461 , 465 , 468 , 544  \n",
      " USB xiv, xxvii, 4, 9, 37, 44, 45, 63, 79, 82, 88, 132 , 449 , 506 , 507 , 508 , 544  \n",
      " USB connection xiv, 44, 506  \n",
      " use cases 497 , 501 –504 , 511 , 545 , 546 , 547 , 548\n",
      "V validation 496 , 497 , 546 , 547  \n",
      " verification 81, 92, 496 , 497 , 546  \n",
      " vineyard frost prevention 123 , 124\n",
      "{'Index': 0.22943984, '': 0.017155938, '567': 0.28260174, 'S': 0.043166094, 'TM': 0.18525939, '32': 0.21044496, 'F': 0.120517135, '4': 0.05520886, '29': 0.025373377, 'Z': 0.13844699, 'IT': 0.17738101, '6': 0.021042496, 'U': 0.13238007, 'micro': 0.14931673, 'control': 0.19155769, 'ler': 0.110541396, '5': 0.008541077, ',': 0.047270633, '33': 0.059147768, '37': 0.089444324, '38': 0.10185534, 'stop': 0.17470834, 'bit': 0.13896224, '46': 0.12629512, '64': 0.10506255, '65': 0.12317866, '80': 0.092694975, '256': 0.13544963, '25': 0.0639572, '7': 0.03502737, '27': 0.048535556, '3': 0.088910826, '468': 0.15066975, 'ST': 0.15730776, 'Zi': 0.18262243, 'o': 0.17853205, 'connect': 0.16914956, 'ors': 0.09459591, 'iv': 0.14012095, '9': 0.071818635, '44': 0.083499596, 'super': 0.10637689, 'loop': 0.174808, '13,': 0.08562595, '19': 0.14692906, 'synchron': 0.20320933, 'ous': 0.029059287, 'communication': 0.16817747, '255': 0.21451995, 'T': 0.09837077, 'CP': 0.14894919, 'server': 0.19332172, '456': 0.15961014, '57': 0.08723662, '459': 0.12000791, '460': 0.10468761, '463': 0.096767515, '491': 0.16618092, 'temperature': 0.21395633, 'sensor': 0.22333421, '87': 0.057932742, '106': 0.055965617, '123': 0.087086484, '182': 0.050641075, '220': 0.16341162, '233': 0.07109902, '334': 0.07400055, '486': 0.08287992, '550': 0.12459031, 'time': 0.15128073, 'management': 0.16977601, 'vi': 0.15851156, '86': 0.026956826, '95': 0.008241743, '99': 0.021424472, '289': 0.0792777, '342': 0.091296256, '348': 0.030854575, '353': 0.1444929, 'timer': 0.28154102, 'vii': 0.13839072, '30': 0.02156113, '43': 0.019754514, '345': 0.069704175, '350': 0.025485925, '35': 0.022619143, '361': 0.096416295, '441': 0.03290814, '537': 0.07512984, '539': 0.06586128, 't': 0.037803672, 'm': 0.10594233, 'structure': 0.1901718, '153': 0.15354261, 'TO': 0.18453923, 'package': 0.1960558, '89': 0.1620543, 'ART': 0.16053067, 'x': 0.00058171153, '181': 0.015726417, '191': 0.0435199, '222': 0.0057921633, '290': 0.035713226, '420': 0.055505827, '461': 0.034068607, '544': 0.16232264, 'USB': 0.17345142, '45': 0.004226841, 'connection': 0.16489868, 'use': 0.09654781, 'cases': 0.09711878, '497': 0.12528437, 'V': 0.09456808, 'valida': 0.19094071, 'tion': 0.0060742944, '496': 0.08329515, '546': 0.14947721, '547': 0.108179435, 'ver': 0.13478668, 'ification': 0.024836935, '81': 0.061743245, 'vine': 0.1292437, 'yard': 0.095454834, 'frost': 0.12249562, 'pre': 0.0996587, 'vention': 0.051604755, '124': 0.07044076}\n",
      "Common tokens: {'Z', 'micro', '4', 'F', 'ler', '6', 'control', 'IT', 'TM', 'S', 'U', '29', '32'}\n",
      "Number of matching tokens: 13\n",
      "================================================================================\n"
     ]
    }
   ],
   "source": [
    "for i in range(len(sparse_docs)):\n",
    "    input_sentence = sparse_docs[i][0]\n",
    "    input_embed = sparse_model.encode_queries([input_sentence])\n",
    "    sparse_input_embed = sparse_to_dict(input_embed['sparse'])\n",
    "    input_tokens = sparse_model.model.convert_id_to_token(sparse_input_embed)\n",
    "    common = set(query_tokens.keys()).intersection(set(input_tokens.keys()))\n",
    "    print(input_sentence)\n",
    "    print(input_tokens)\n",
    "    print(f\"Common tokens: {common}\")\n",
    "    print(f\"Number of matching tokens: {len(common)}\")\n",
    "    print(\"=\"*80)"
   ]
  },
  {
   "cell_type": "markdown",
   "metadata": {},
   "source": [
    "# Full Text Search"
   ]
  },
  {
   "cell_type": "code",
   "execution_count": 22,
   "metadata": {},
   "outputs": [
    {
     "name": "stdout",
     "output_type": "stream",
     "text": [
      "CPU times: user 3.01 ms, sys: 0 ns, total: 3.01 ms\n",
      "Wall time: 2.53 ms\n"
     ]
    }
   ],
   "source": [
    "%%time\n",
    "\n",
    "query_embed = bm25_model.encode_queries([QUERY])\n",
    "full_text_query_embed = sparse_to_dict(query_embed)\n",
    "sparse_search_params = {\"metric_type\": SPARSE_METRIC, \"params\": {}}\n",
    "\n",
    "result_docs = milvus_client.full_text_search(\n",
    "    collection_name=COLLECTION_NAME,\n",
    "    query_full_text_embedding=full_text_query_embed,\n",
    "    top_k=TOP_K,\n",
    "    sparse_search_params=sparse_search_params,\n",
    ")"
   ]
  },
  {
   "cell_type": "code",
   "execution_count": 23,
   "metadata": {},
   "outputs": [],
   "source": [
    "full_text_docs = [(res['entity']['text'], res['distance']) for res in result_docs]"
   ]
  },
  {
   "cell_type": "code",
   "execution_count": 24,
   "metadata": {},
   "outputs": [
    {
     "data": {
      "text/plain": [
       "[('Chapter 1 | Introduction to Embedded Systems \\n33Proposed Exercise\\n1. How can the code be changed in such a way that the system is blocked after three incorrect codes \\nare entered?\\nAnswer to the Exercise\\n1. It can be achieved by means of the change in T able\\xa01.11.\\nT able\\xa01.11 Proposed modification in the code in order to achieve the new behavior.\\nLine in Code\\xa01.5 New code to be used\\n40 if ( numberOfIncorrectCodes < 5 ) 40 if ( numberOfIncorrectCodes < 3 )\\n1.3 Under the Hood\\n1.3.1 Brief Introduction to the Cortex-M Processor  Family and the NUCLEO Board\\nIn this chapter, many programs were developed using the NUCLEO board, provided with the \\nSTM32F429ZIT6U microcontroller . This microcontroller is manufactured by STMicroelectronics [13]',\n",
       "  16.359878540039062),\n",
       " ('This section will begin the implementation of the smart home system, following the diagram shown in Figure\\xa01.3. This first implementation will detect fire using an over temperature detector and a gas detector and, if it detects fire, it will activate the alarm until a given code is entered.  For this purpose, the NUCLEO board [1] provided with the STM32F429ZIT6U microcontroller [9] (referred to as the STM32 microcontroller ) is used.',\n",
       "  12.44285774230957),\n",
       " ('WaRNINg: Keil Studio Cloud translates the C/C++ language code into assembly code while considering the available resources of the target board. For this reason, the reader should be very careful to use only pin names that are shown in Figure\\xa01.23.\\nFrom the above discussion, it is possible to derive the hierarchy that is represented in Figure\\xa01.24. It should be noted that a given Arm processor can be used by different microcontroller manufacturers, and a given microcontroller can be used in different development boards or embedded systems. \\nFigure\\xa01.24 Hierarchy of different elements introduced in this chapter.\\nNOTE:  A microcontroller may have one or many processors, while a processor may have one or many cores. A microprocessor consists of the processor, named in this context as the Central Processing Unit (CPU), and uses an external bus to interface with memory and peripherals.\\nProposed Exercise',\n",
       "  10.573026657104492),\n",
       " ('38\\nA Beginner’s Guide to Designing Embedded System ApplicationsFigure\\xa01.23 shows how different elements of the STM32F429ZIT6U microcontroller  are mapped \\nto the Zio and Arduino-compatible headers of the NUCLEO-F429ZI board. Some other elements \\nare mapped to the CN11 and CN12 headers of the NUCLEO-F429ZI board, as will be discussed in upcoming chapters. Further information on these headers is available from [17].\\nIn this chapter, buttons were connected to the NUCLEO board using pins D2 to D7. From Figure\\xa01.23, \\nit can be seen that those digital inputs can also be referred to as PF_15, PE_13, P_14, PE_11, PE_9, and PF_13, respectively. Throughout this book, many pins of the ST Zio connectors will be used, and they will be referred to in the code using the names shown in Figure\\xa01.23.',\n",
       "  8.811583518981934),\n",
       " ('Preface\\nxix\\nTemperatur e: 10 °C\\nOver temperatur e detected: OFF\\nGas detected: OFF\\nMotion detected: OFF\\nAlarm: OFF\\nIncorr ect code : OFF LED\\nSystem blocked : OFF LEDSmart Home System\\nFigure\\xa07 User interface implemented using a Wi-Fi  connection and a web browser.\\nIn this process, the Mbed™ OS 6 platform core generic software components, plus the HAL (Hardware \\nAbstraction Layer) ports that allow Mbed to transparently run on microcontrollers from different manufacturers, are introduced.\\nIn the final chapter, the main ideas are summarized by means of an irrigation system, shown in \\nFigure\\xa08, that is developed from scratch. In this way, a guide to designing and implementing an embedded system project is provided for the reader.',\n",
       "  8.725212097167969)]"
      ]
     },
     "execution_count": 24,
     "metadata": {},
     "output_type": "execute_result"
    }
   ],
   "source": [
    "full_text_docs"
   ]
  },
  {
   "cell_type": "code",
   "execution_count": 25,
   "metadata": {},
   "outputs": [
    {
     "data": {
      "text/html": [
       "<div>\n",
       "<style scoped>\n",
       "    .dataframe tbody tr th:only-of-type {\n",
       "        vertical-align: middle;\n",
       "    }\n",
       "\n",
       "    .dataframe tbody tr th {\n",
       "        vertical-align: top;\n",
       "    }\n",
       "\n",
       "    .dataframe thead th {\n",
       "        text-align: right;\n",
       "    }\n",
       "</style>\n",
       "<table border=\"1\" class=\"dataframe\">\n",
       "  <thead>\n",
       "    <tr style=\"text-align: right;\">\n",
       "      <th></th>\n",
       "      <th>Retrieved text</th>\n",
       "      <th>score</th>\n",
       "    </tr>\n",
       "  </thead>\n",
       "  <tbody>\n",
       "    <tr>\n",
       "      <th>0</th>\n",
       "      <td>Chapter 1 | Introduction to Embedded Systems \\n33Proposed Exercise\\n1. How can the code be changed in such a way that the system is blocked after three incorrect codes \\nare entered?\\nAnswer to the Exercise\\n1. It can be achieved by means of the change in T able 1.11.\\nT able 1.11 Proposed modification in the code in order to achieve the new behavior.\\nLine in Code 1.5 New code to be used\\n40 if ( numberOfIncorrectCodes &lt; 5 ) 40 if ( numberOfIncorrectCodes &lt; 3 )\\n1.3 Under the Hood\\n1.3.1 Brief Introduction to the Cortex-M Processor  Family and the NUCLEO Board\\nIn this chapter, many programs were developed using the NUCLEO board, provided with the \\nSTM32F429ZIT6U microcontroller . This microcontroller is manufactured by STMicroelectronics [13]</td>\n",
       "      <td>16.359879</td>\n",
       "    </tr>\n",
       "    <tr>\n",
       "      <th>1</th>\n",
       "      <td>This section will begin the implementation of the smart home system, following the diagram shown in Figure 1.3. This first implementation will detect fire using an over temperature detector and a gas detector and, if it detects fire, it will activate the alarm until a given code is entered.  For this purpose, the NUCLEO board [1] provided with the STM32F429ZIT6U microcontroller [9] (referred to as the STM32 microcontroller ) is used.</td>\n",
       "      <td>12.442858</td>\n",
       "    </tr>\n",
       "    <tr>\n",
       "      <th>2</th>\n",
       "      <td>WaRNINg: Keil Studio Cloud translates the C/C++ language code into assembly code while considering the available resources of the target board. For this reason, the reader should be very careful to use only pin names that are shown in Figure 1.23.\\nFrom the above discussion, it is possible to derive the hierarchy that is represented in Figure 1.24. It should be noted that a given Arm processor can be used by different microcontroller manufacturers, and a given microcontroller can be used in different development boards or embedded systems. \\nFigure 1.24 Hierarchy of different elements introduced in this chapter.\\nNOTE:  A microcontroller may have one or many processors, while a processor may have one or many cores. A microprocessor consists of the processor, named in this context as th...</td>\n",
       "      <td>10.573027</td>\n",
       "    </tr>\n",
       "    <tr>\n",
       "      <th>3</th>\n",
       "      <td>38\\nA Beginner’s Guide to Designing Embedded System ApplicationsFigure 1.23 shows how different elements of the STM32F429ZIT6U microcontroller  are mapped \\nto the Zio and Arduino-compatible headers of the NUCLEO-F429ZI board. Some other elements \\nare mapped to the CN11 and CN12 headers of the NUCLEO-F429ZI board, as will be discussed in upcoming chapters. Further information on these headers is available from [17].\\nIn this chapter, buttons were connected to the NUCLEO board using pins D2 to D7. From Figure 1.23, \\nit can be seen that those digital inputs can also be referred to as PF_15, PE_13, P_14, PE_11, PE_9, and PF_13, respectively. Throughout this book, many pins of the ST Zio connectors will be used, and they will be referred to in the code using the names shown in Figure 1.23.</td>\n",
       "      <td>8.811584</td>\n",
       "    </tr>\n",
       "    <tr>\n",
       "      <th>4</th>\n",
       "      <td>Preface\\nxix\\nTemperatur e: 10 °C\\nOver temperatur e detected: OFF\\nGas detected: OFF\\nMotion detected: OFF\\nAlarm: OFF\\nIncorr ect code : OFF LED\\nSystem blocked : OFF LEDSmart Home System\\nFigure 7 User interface implemented using a Wi-Fi  connection and a web browser.\\nIn this process, the Mbed™ OS 6 platform core generic software components, plus the HAL (Hardware \\nAbstraction Layer) ports that allow Mbed to transparently run on microcontrollers from different manufacturers, are introduced.\\nIn the final chapter, the main ideas are summarized by means of an irrigation system, shown in \\nFigure 8, that is developed from scratch. In this way, a guide to designing and implementing an embedded system project is provided for the reader.</td>\n",
       "      <td>8.725212</td>\n",
       "    </tr>\n",
       "  </tbody>\n",
       "</table>\n",
       "</div>"
      ],
      "text/plain": [
       "                                                                                                                                                                                                                                                                                                                                                                                                                                                                                                                                                                                                                                                                                                                                                                                                                    Retrieved text  \\\n",
       "0                                              Chapter 1 | Introduction to Embedded Systems \\n33Proposed Exercise\\n1. How can the code be changed in such a way that the system is blocked after three incorrect codes \\nare entered?\\nAnswer to the Exercise\\n1. It can be achieved by means of the change in T able 1.11.\\nT able 1.11 Proposed modification in the code in order to achieve the new behavior.\\nLine in Code 1.5 New code to be used\\n40 if ( numberOfIncorrectCodes < 5 ) 40 if ( numberOfIncorrectCodes < 3 )\\n1.3 Under the Hood\\n1.3.1 Brief Introduction to the Cortex-M Processor  Family and the NUCLEO Board\\nIn this chapter, many programs were developed using the NUCLEO board, provided with the \\nSTM32F429ZIT6U microcontroller . This microcontroller is manufactured by STMicroelectronics [13]   \n",
       "1                                                                                                                                                                                                                                                                                                                                                                            This section will begin the implementation of the smart home system, following the diagram shown in Figure 1.3. This first implementation will detect fire using an over temperature detector and a gas detector and, if it detects fire, it will activate the alarm until a given code is entered.  For this purpose, the NUCLEO board [1] provided with the STM32F429ZIT6U microcontroller [9] (referred to as the STM32 microcontroller ) is used.   \n",
       "2  WaRNINg: Keil Studio Cloud translates the C/C++ language code into assembly code while considering the available resources of the target board. For this reason, the reader should be very careful to use only pin names that are shown in Figure 1.23.\\nFrom the above discussion, it is possible to derive the hierarchy that is represented in Figure 1.24. It should be noted that a given Arm processor can be used by different microcontroller manufacturers, and a given microcontroller can be used in different development boards or embedded systems. \\nFigure 1.24 Hierarchy of different elements introduced in this chapter.\\nNOTE:  A microcontroller may have one or many processors, while a processor may have one or many cores. A microprocessor consists of the processor, named in this context as th...   \n",
       "3   38\\nA Beginner’s Guide to Designing Embedded System ApplicationsFigure 1.23 shows how different elements of the STM32F429ZIT6U microcontroller  are mapped \\nto the Zio and Arduino-compatible headers of the NUCLEO-F429ZI board. Some other elements \\nare mapped to the CN11 and CN12 headers of the NUCLEO-F429ZI board, as will be discussed in upcoming chapters. Further information on these headers is available from [17].\\nIn this chapter, buttons were connected to the NUCLEO board using pins D2 to D7. From Figure 1.23, \\nit can be seen that those digital inputs can also be referred to as PF_15, PE_13, P_14, PE_11, PE_9, and PF_13, respectively. Throughout this book, many pins of the ST Zio connectors will be used, and they will be referred to in the code using the names shown in Figure 1.23.   \n",
       "4                                                       Preface\\nxix\\nTemperatur e: 10 °C\\nOver temperatur e detected: OFF\\nGas detected: OFF\\nMotion detected: OFF\\nAlarm: OFF\\nIncorr ect code : OFF LED\\nSystem blocked : OFF LEDSmart Home System\\nFigure 7 User interface implemented using a Wi-Fi  connection and a web browser.\\nIn this process, the Mbed™ OS 6 platform core generic software components, plus the HAL (Hardware \\nAbstraction Layer) ports that allow Mbed to transparently run on microcontrollers from different manufacturers, are introduced.\\nIn the final chapter, the main ideas are summarized by means of an irrigation system, shown in \\nFigure 8, that is developed from scratch. In this way, a guide to designing and implementing an embedded system project is provided for the reader.   \n",
       "\n",
       "       score  \n",
       "0  16.359879  \n",
       "1  12.442858  \n",
       "2  10.573027  \n",
       "3   8.811584  \n",
       "4   8.725212  "
      ]
     },
     "metadata": {},
     "output_type": "display_data"
    }
   ],
   "source": [
    "df = pd.DataFrame(full_text_docs, columns=['Retrieved text', 'score'])\n",
    "display(df)"
   ]
  },
  {
   "cell_type": "markdown",
   "metadata": {},
   "source": [
    "## Behind the scenes"
   ]
  },
  {
   "cell_type": "code",
   "execution_count": 28,
   "metadata": {},
   "outputs": [
    {
     "name": "stdout",
     "output_type": "stream",
     "text": [
      "Query: Who manufactured STM32F429ZIT6U microcontroller?\n",
      "Query tokens: ['manufactur', 'stm32f429zit6u', 'microcontrol']\n",
      "Length of query tokens: 3\n"
     ]
    }
   ],
   "source": [
    "query_tokens = bm25_model.analyzer(QUERY)\n",
    "print(f\"Query: {QUERY}\")\n",
    "print(f\"Query tokens: {query_tokens}\")\n",
    "print(f\"Length of query tokens: {len(query_tokens)}\")"
   ]
  },
  {
   "cell_type": "code",
   "execution_count": 29,
   "metadata": {},
   "outputs": [
    {
     "name": "stdout",
     "output_type": "stream",
     "text": [
      "Chapter 1 | Introduction to Embedded Systems \n",
      "33Proposed Exercise\n",
      "1. How can the code be changed in such a way that the system is blocked after three incorrect codes \n",
      "are entered?\n",
      "Answer to the Exercise\n",
      "1. It can be achieved by means of the change in T able 1.11.\n",
      "T able 1.11 Proposed modification in the code in order to achieve the new behavior.\n",
      "Line in Code 1.5 New code to be used\n",
      "40 if ( numberOfIncorrectCodes < 5 ) 40 if ( numberOfIncorrectCodes < 3 )\n",
      "1.3 Under the Hood\n",
      "1.3.1 Brief Introduction to the Cortex-M Processor  Family and the NUCLEO Board\n",
      "In this chapter, many programs were developed using the NUCLEO board, provided with the \n",
      "STM32F429ZIT6U microcontroller . This microcontroller is manufactured by STMicroelectronics [13]\n",
      "['chapter', '1', 'introduct', 'embed', 'system', '33propos', 'exercis', '1', 'code', 'chang', 'way', 'system', 'block', 'three', 'incorrect', 'code', 'enter', 'answer', 'exercis', '1', 'achiev', 'mean', 'chang', 'abl', '1.11', 'abl', '1.11', 'propos', 'modif', 'code', 'order', 'achiev', 'new', 'behavior', 'line', 'code', '1.5', 'new', 'code', 'use', '40', 'numberofincorrectcod', '5', '40', 'numberofincorrectcod', '3', '1.3', 'hood', '1.3.1', 'brief', 'introduct', 'cortex-m', 'processor', 'famili', 'nucleo', 'board', 'chapter', 'mani', 'program', 'develop', 'use', 'nucleo', 'board', 'provid', 'stm32f429zit6u', 'microcontrol', 'microcontrol', 'manufactur', 'stmicroelectron', '13']\n",
      "Common tokens: {'stm32f429zit6u', 'microcontrol', 'manufactur'}\n",
      "Number of matching tokens: 3\n",
      "================================================================================\n",
      "This section will begin the implementation of the smart home system, following the diagram shown in Figure 1.3. This first implementation will detect fire using an over temperature detector and a gas detector and, if it detects fire, it will activate the alarm until a given code is entered.  For this purpose, the NUCLEO board [1] provided with the STM32F429ZIT6U microcontroller [9] (referred to as the STM32 microcontroller ) is used.\n",
      "['section', 'begin', 'implement', 'smart', 'home', 'system', 'follow', 'diagram', 'shown', 'figur', '1.3', 'first', 'implement', 'detect', 'fire', 'use', 'temperatur', 'detector', 'gas', 'detector', 'detect', 'fire', 'activ', 'alarm', 'given', 'code', 'enter', 'purpos', 'nucleo', 'board', '1', 'provid', 'stm32f429zit6u', 'microcontrol', '9', 'refer', 'stm32', 'microcontrol', 'use']\n",
      "Common tokens: {'stm32f429zit6u', 'microcontrol'}\n",
      "Number of matching tokens: 2\n",
      "================================================================================\n",
      "WaRNINg: Keil Studio Cloud translates the C/C++ language code into assembly code while considering the available resources of the target board. For this reason, the reader should be very careful to use only pin names that are shown in Figure 1.23.\n",
      "From the above discussion, it is possible to derive the hierarchy that is represented in Figure 1.24. It should be noted that a given Arm processor can be used by different microcontroller manufacturers, and a given microcontroller can be used in different development boards or embedded systems. \n",
      "Figure 1.24 Hierarchy of different elements introduced in this chapter.\n",
      "NOTE:  A microcontroller may have one or many processors, while a processor may have one or many cores. A microprocessor consists of the processor, named in this context as the Central Processing Unit (CPU), and uses an external bus to interface with memory and peripherals.\n",
      "Proposed Exercise\n",
      "['warn', 'keil', 'studio', 'cloud', 'translat', 'c/c++', 'languag', 'code', 'assembl', 'code', 'consid', 'avail', 'resourc', 'target', 'board', 'reason', 'reader', 'care', 'use', 'pin', 'name', 'shown', 'figur', '1.23', 'discuss', 'possibl', 'deriv', 'hierarchi', 'repres', 'figur', '1.24', 'note', 'given', 'arm', 'processor', 'use', 'differ', 'microcontrol', 'manufactur', 'given', 'microcontrol', 'use', 'differ', 'develop', 'board', 'embed', 'system', 'figur', '1.24', 'hierarchi', 'differ', 'element', 'introduc', 'chapter', 'note', 'microcontrol', 'may', 'one', 'mani', 'processor', 'processor', 'may', 'one', 'mani', 'core', 'microprocessor', 'consist', 'processor', 'name', 'context', 'central', 'process', 'unit', 'cpu', 'use', 'extern', 'bus', 'interfac', 'memori', 'peripher', 'propos', 'exercis']\n",
      "Common tokens: {'microcontrol', 'manufactur'}\n",
      "Number of matching tokens: 2\n",
      "================================================================================\n",
      "38\n",
      "A Beginner’s Guide to Designing Embedded System ApplicationsFigure 1.23 shows how different elements of the STM32F429ZIT6U microcontroller  are mapped \n",
      "to the Zio and Arduino-compatible headers of the NUCLEO-F429ZI board. Some other elements \n",
      "are mapped to the CN11 and CN12 headers of the NUCLEO-F429ZI board, as will be discussed in upcoming chapters. Further information on these headers is available from [17].\n",
      "In this chapter, buttons were connected to the NUCLEO board using pins D2 to D7. From Figure 1.23, \n",
      "it can be seen that those digital inputs can also be referred to as PF_15, PE_13, P_14, PE_11, PE_9, and PF_13, respectively. Throughout this book, many pins of the ST Zio connectors will be used, and they will be referred to in the code using the names shown in Figure 1.23.\n",
      "['38', 'beginn', '’', 'guid', 'design', 'embed', 'system', 'applicationsfigur', '1.23', 'show', 'differ', 'element', 'stm32f429zit6u', 'microcontrol', 'map', 'zio', 'arduino-compat', 'header', 'nucleo-f429zi', 'board', 'element', 'map', 'cn11', 'cn12', 'header', 'nucleo-f429zi', 'board', 'discuss', 'upcom', 'chapter', 'inform', 'header', 'avail', '17', 'chapter', 'button', 'connect', 'nucleo', 'board', 'use', 'pin', 'd2', 'd7', 'figur', '1.23', 'seen', 'digit', 'input', 'also', 'refer', 'pf_15', 'pe_13', 'p_14', 'pe_11', 'pe_9', 'pf_13', 'respect', 'throughout', 'book', 'mani', 'pin', 'st', 'zio', 'connector', 'use', 'refer', 'code', 'use', 'name', 'shown', 'figur', '1.23']\n",
      "Common tokens: {'stm32f429zit6u', 'microcontrol'}\n",
      "Number of matching tokens: 2\n",
      "================================================================================\n",
      "Preface\n",
      "xix\n",
      "Temperatur e: 10 °C\n",
      "Over temperatur e detected: OFF\n",
      "Gas detected: OFF\n",
      "Motion detected: OFF\n",
      "Alarm: OFF\n",
      "Incorr ect code : OFF LED\n",
      "System blocked : OFF LEDSmart Home System\n",
      "Figure 7 User interface implemented using a Wi-Fi  connection and a web browser.\n",
      "In this process, the Mbed™ OS 6 platform core generic software components, plus the HAL (Hardware \n",
      "Abstraction Layer) ports that allow Mbed to transparently run on microcontrollers from different manufacturers, are introduced.\n",
      "In the final chapter, the main ideas are summarized by means of an irrigation system, shown in \n",
      "Figure 8, that is developed from scratch. In this way, a guide to designing and implementing an embedded system project is provided for the reader.\n",
      "['prefac', 'xix', 'temperatur', 'e', '10', '°c', 'temperatur', 'e', 'detect', 'gas', 'detect', 'motion', 'detect', 'alarm', 'incorr', 'ect', 'code', 'led', 'system', 'block', 'ledsmart', 'home', 'system', 'figur', '7', 'user', 'interfac', 'implement', 'use', 'wi-fi', 'connect', 'web', 'browser', 'process', 'mbed™', 'os', '6', 'platform', 'core', 'generic', 'softwar', 'compon', 'plus', 'hal', 'hardwar', 'abstract', 'layer', 'port', 'allow', 'mbed', 'transpar', 'run', 'microcontrol', 'differ', 'manufactur', 'introduc', 'final', 'chapter', 'main', 'idea', 'summar', 'mean', 'irrig', 'system', 'shown', 'figur', '8', 'develop', 'scratch', 'way', 'guid', 'design', 'implement', 'embed', 'system', 'project', 'provid', 'reader']\n",
      "Common tokens: {'microcontrol', 'manufactur'}\n",
      "Number of matching tokens: 2\n",
      "================================================================================\n"
     ]
    }
   ],
   "source": [
    "for i in range(len(full_text_docs)):\n",
    "    input_sentence = full_text_docs[i][0]\n",
    "    input_tokens = bm25_model.analyzer(input_sentence)\n",
    "    common = set(query_tokens).intersection(set(input_tokens))\n",
    "    print(input_sentence)\n",
    "    print(input_tokens)\n",
    "    print(f\"Common tokens: {common}\")\n",
    "    print(f\"Number of matching tokens: {len(common)}\")\n",
    "    print(\"=\"*80)"
   ]
  },
  {
   "cell_type": "markdown",
   "metadata": {
    "jp-MarkdownHeadingCollapsed": true
   },
   "source": [
    "# Dense + Sparse"
   ]
  },
  {
   "cell_type": "markdown",
   "metadata": {
    "jp-MarkdownHeadingCollapsed": true
   },
   "source": [
    "### Reciprocal Rank Fusion"
   ]
  },
  {
   "cell_type": "code",
   "execution_count": 30,
   "metadata": {},
   "outputs": [],
   "source": [
    "combined_docs = []\n",
    "combined_docs.append(dense_docs)\n",
    "combined_docs.append(sparse_docs)"
   ]
  },
  {
   "cell_type": "code",
   "execution_count": 31,
   "metadata": {},
   "outputs": [],
   "source": [
    "dense_sparse_rrf_docs = rrf(combined_docs)[:TOP_K]"
   ]
  },
  {
   "cell_type": "code",
   "execution_count": 32,
   "metadata": {},
   "outputs": [
    {
     "data": {
      "text/html": [
       "<div>\n",
       "<style scoped>\n",
       "    .dataframe tbody tr th:only-of-type {\n",
       "        vertical-align: middle;\n",
       "    }\n",
       "\n",
       "    .dataframe tbody tr th {\n",
       "        vertical-align: top;\n",
       "    }\n",
       "\n",
       "    .dataframe thead th {\n",
       "        text-align: right;\n",
       "    }\n",
       "</style>\n",
       "<table border=\"1\" class=\"dataframe\">\n",
       "  <thead>\n",
       "    <tr style=\"text-align: right;\">\n",
       "      <th></th>\n",
       "      <th>Retrieved text</th>\n",
       "      <th>score</th>\n",
       "    </tr>\n",
       "  </thead>\n",
       "  <tbody>\n",
       "    <tr>\n",
       "      <th>0</th>\n",
       "      <td>Chapter 1 | Introduction to Embedded Systems \\n37The STM32F429ZIT6U microcontroller includes a Cortex-M4 processor , as shown in Figure 1.22. It \\ncan be appreciated that, beyond the processor, the microcontroller includes other peripherals such as \\ncommunication cores (ethernet, USB, UART, etc.), memory, timers, and GPIO (General Purpose Input Output) ports. \\nNUCLEO\\n-F429ZI32F429ZIT6U\\nARM7B776 VQ\\nPHL 7B 7213e412000K620 Y12000\\nK620 Y\\n120 00K620 YDGKYD\\nKMS-1 102NL1706C\\nSTM32F103CBT6\\ne393701GH218CHN\\nST890C\\nGK717\\n11\\n22\\n33\\n44\\n55\\n66\\n77\\n88\\n9\\n10\\n11\\n12\\n13\\n14\\n15PH_0\\nPD_0\\nPD_1\\nPG_0PH_1PF_2PA_7PF_10PF_5PF_3PC_3PC_030\\n29\\n28\\n27\\n2616\\n2515\\n2414\\n2313\\n2212\\n2111\\n2010\\n199\\n18\\n17\\n165V\\nVIN3.3VIOREF\\nGND\\nGNDGND\\nNCNC\\nUART2_RX\\nCAN1_TDCAN1_ DRADC1/7ADC1/3\\nADC1/1...</td>\n",
       "      <td>0.033333</td>\n",
       "    </tr>\n",
       "    <tr>\n",
       "      <th>1</th>\n",
       "      <td>38\\nA Beginner’s Guide to Designing Embedded System ApplicationsFigure 1.23 shows how different elements of the STM32F429ZIT6U microcontroller  are mapped \\nto the Zio and Arduino-compatible headers of the NUCLEO-F429ZI board. Some other elements \\nare mapped to the CN11 and CN12 headers of the NUCLEO-F429ZI board, as will be discussed in upcoming chapters. Further information on these headers is available from [17].\\nIn this chapter, buttons were connected to the NUCLEO board using pins D2 to D7. From Figure 1.23, \\nit can be seen that those digital inputs can also be referred to as PF_15, PE_13, P_14, PE_11, PE_9, and PF_13, respectively. Throughout this book, many pins of the ST Zio connectors will be used, and they will be referred to in the code using the names shown in Figure 1.23.</td>\n",
       "      <td>0.032522</td>\n",
       "    </tr>\n",
       "    <tr>\n",
       "      <th>2</th>\n",
       "      <td>Chapter 1 | Introduction to Embedded Systems \\n33Proposed Exercise\\n1. How can the code be changed in such a way that the system is blocked after three incorrect codes \\nare entered?\\nAnswer to the Exercise\\n1. It can be achieved by means of the change in T able 1.11.\\nT able 1.11 Proposed modification in the code in order to achieve the new behavior.\\nLine in Code 1.5 New code to be used\\n40 if ( numberOfIncorrectCodes &lt; 5 ) 40 if ( numberOfIncorrectCodes &lt; 3 )\\n1.3 Under the Hood\\n1.3.1 Brief Introduction to the Cortex-M Processor  Family and the NUCLEO Board\\nIn this chapter, many programs were developed using the NUCLEO board, provided with the \\nSTM32F429ZIT6U microcontroller . This microcontroller is manufactured by STMicroelectronics [13]</td>\n",
       "      <td>0.016393</td>\n",
       "    </tr>\n",
       "    <tr>\n",
       "      <th>3</th>\n",
       "      <td>Chapter 4 | Finite-State Machines and the Real-Time Clock\\n171 References\\n[1] “4x4 Keypad Module Pinout, Configuration, Features, Circuit &amp; Datasheet” . Accessed July 9, \\n2021. \\n[2] “Breadboard Power Supply Module” . Accessed July 9, 2021. https://components101.com/modules/5v-mb102-breadboard-power-supply-module \\n[3] “UM1974 User manual - STM32 Nucleo-144 boards (MB1137)” . Accessed July 9, 2021. https://www.st.com/resource/en/user_manual/dm00244518-stm32-nucleo144-boards-mb1137-stmicroelectronics.pdf \\n[4] “GitHub - armBookCodeExamples/Directory” . Accessed July 9, 2021. https://github.com/armBookCodeExamples/Directory/ \\n[5] “Time - API references and tutorials | Mbed OS 6 Documentation ” . Accessed July 9, 2021. \\nhttps://os.mbed.com/docs/mbed-os/v6.12/apis/time.html \\n[6] “&lt;cst...</td>\n",
       "      <td>0.016129</td>\n",
       "    </tr>\n",
       "    <tr>\n",
       "      <th>4</th>\n",
       "      <td>M_14, STM_PIN_DATA_EXT(STM_MODE_AF_PP, GPIO_NOPULL, GPIO_AF9_TIM14,  1, 0)}, \\n    {NC, NC, 0}\\n}; \\nCode 8.3 Notes on the PinNames.h file of the NUCLEO-F429ZI  board.</td>\n",
       "      <td>0.015873</td>\n",
       "    </tr>\n",
       "  </tbody>\n",
       "</table>\n",
       "</div>"
      ],
      "text/plain": [
       "                                                                                                                                                                                                                                                                                                                                                                                                                                                                                                                                                                                                                                                                                                                                                                                                                    Retrieved text  \\\n",
       "0  Chapter 1 | Introduction to Embedded Systems \\n37The STM32F429ZIT6U microcontroller includes a Cortex-M4 processor , as shown in Figure 1.22. It \\ncan be appreciated that, beyond the processor, the microcontroller includes other peripherals such as \\ncommunication cores (ethernet, USB, UART, etc.), memory, timers, and GPIO (General Purpose Input Output) ports. \\nNUCLEO\\n-F429ZI32F429ZIT6U\\nARM7B776 VQ\\nPHL 7B 7213e412000K620 Y12000\\nK620 Y\\n120 00K620 YDGKYD\\nKMS-1 102NL1706C\\nSTM32F103CBT6\\ne393701GH218CHN\\nST890C\\nGK717\\n11\\n22\\n33\\n44\\n55\\n66\\n77\\n88\\n9\\n10\\n11\\n12\\n13\\n14\\n15PH_0\\nPD_0\\nPD_1\\nPG_0PH_1PF_2PA_7PF_10PF_5PF_3PC_3PC_030\\n29\\n28\\n27\\n2616\\n2515\\n2414\\n2313\\n2212\\n2111\\n2010\\n199\\n18\\n17\\n165V\\nVIN3.3VIOREF\\nGND\\nGNDGND\\nNCNC\\nUART2_RX\\nCAN1_TDCAN1_ DRADC1/7ADC1/3\\nADC1/1...   \n",
       "1   38\\nA Beginner’s Guide to Designing Embedded System ApplicationsFigure 1.23 shows how different elements of the STM32F429ZIT6U microcontroller  are mapped \\nto the Zio and Arduino-compatible headers of the NUCLEO-F429ZI board. Some other elements \\nare mapped to the CN11 and CN12 headers of the NUCLEO-F429ZI board, as will be discussed in upcoming chapters. Further information on these headers is available from [17].\\nIn this chapter, buttons were connected to the NUCLEO board using pins D2 to D7. From Figure 1.23, \\nit can be seen that those digital inputs can also be referred to as PF_15, PE_13, P_14, PE_11, PE_9, and PF_13, respectively. Throughout this book, many pins of the ST Zio connectors will be used, and they will be referred to in the code using the names shown in Figure 1.23.   \n",
       "2                                              Chapter 1 | Introduction to Embedded Systems \\n33Proposed Exercise\\n1. How can the code be changed in such a way that the system is blocked after three incorrect codes \\nare entered?\\nAnswer to the Exercise\\n1. It can be achieved by means of the change in T able 1.11.\\nT able 1.11 Proposed modification in the code in order to achieve the new behavior.\\nLine in Code 1.5 New code to be used\\n40 if ( numberOfIncorrectCodes < 5 ) 40 if ( numberOfIncorrectCodes < 3 )\\n1.3 Under the Hood\\n1.3.1 Brief Introduction to the Cortex-M Processor  Family and the NUCLEO Board\\nIn this chapter, many programs were developed using the NUCLEO board, provided with the \\nSTM32F429ZIT6U microcontroller . This microcontroller is manufactured by STMicroelectronics [13]   \n",
       "3  Chapter 4 | Finite-State Machines and the Real-Time Clock\\n171 References\\n[1] “4x4 Keypad Module Pinout, Configuration, Features, Circuit & Datasheet” . Accessed July 9, \\n2021. \\n[2] “Breadboard Power Supply Module” . Accessed July 9, 2021. https://components101.com/modules/5v-mb102-breadboard-power-supply-module \\n[3] “UM1974 User manual - STM32 Nucleo-144 boards (MB1137)” . Accessed July 9, 2021. https://www.st.com/resource/en/user_manual/dm00244518-stm32-nucleo144-boards-mb1137-stmicroelectronics.pdf \\n[4] “GitHub - armBookCodeExamples/Directory” . Accessed July 9, 2021. https://github.com/armBookCodeExamples/Directory/ \\n[5] “Time - API references and tutorials | Mbed OS 6 Documentation ” . Accessed July 9, 2021. \\nhttps://os.mbed.com/docs/mbed-os/v6.12/apis/time.html \\n[6] “<cst...   \n",
       "4                                                                                                                                                                                                                                                                                                                                                                                                                                                                                                                                                                                                                                                          M_14, STM_PIN_DATA_EXT(STM_MODE_AF_PP, GPIO_NOPULL, GPIO_AF9_TIM14,  1, 0)}, \\n    {NC, NC, 0}\\n}; \\nCode 8.3 Notes on the PinNames.h file of the NUCLEO-F429ZI  board.   \n",
       "\n",
       "      score  \n",
       "0  0.033333  \n",
       "1  0.032522  \n",
       "2  0.016393  \n",
       "3  0.016129  \n",
       "4  0.015873  "
      ]
     },
     "metadata": {},
     "output_type": "display_data"
    }
   ],
   "source": [
    "df = pd.DataFrame(dense_sparse_rrf_docs, columns=['Retrieved text', 'score'])\n",
    "display(df)"
   ]
  },
  {
   "cell_type": "markdown",
   "metadata": {
    "jp-MarkdownHeadingCollapsed": true
   },
   "source": [
    "### Re-Ranker"
   ]
  },
  {
   "cell_type": "code",
   "execution_count": 33,
   "metadata": {},
   "outputs": [],
   "source": [
    "ranker_model = None\n",
    "# Define the rerank function\n",
    "if RERANKER_MODEL == \"bgm3\":\n",
    "    ranker_model = BGERerankFunction(\n",
    "        model_name=\"BAAI/bge-reranker-v2-m3\",\n",
    "        device=DEVICE,\n",
    "        batch_size=BATCH_SIZE,\n",
    "    )\n",
    "elif RERANKER_MODEL == \"crossencoder\":\n",
    "    ranker_model = CrossEncoderRerankFunction(\n",
    "        model_name=\"cross-encoder/ms-marco-MiniLM-L-6-v2\",\n",
    "        device=DEVICE,\n",
    "        batch_size=BATCH_SIZE,\n",
    "    )"
   ]
  },
  {
   "cell_type": "code",
   "execution_count": 34,
   "metadata": {},
   "outputs": [],
   "source": [
    "combined_docs = [dense_doc[0] for dense_doc in dense_docs]\n",
    "combined_docs.extend([sparse_doc[0] for sparse_doc in sparse_docs])\n",
    "# Remove duplicates if any\n",
    "combined_docs = list(set(combined_docs))"
   ]
  },
  {
   "cell_type": "code",
   "execution_count": 35,
   "metadata": {},
   "outputs": [
    {
     "name": "stdout",
     "output_type": "stream",
     "text": [
      "CPU times: user 95.8 ms, sys: 143 ms, total: 239 ms\n",
      "Wall time: 234 ms\n"
     ]
    }
   ],
   "source": [
    "%%time\n",
    "result_docs = ranker_model(query=QUERY, documents=combined_docs, top_k=TOP_K)"
   ]
  },
  {
   "cell_type": "code",
   "execution_count": 36,
   "metadata": {},
   "outputs": [],
   "source": [
    "dense_sparse_reranker_docs = [(res.text, res.score) for res in result_docs]"
   ]
  },
  {
   "cell_type": "code",
   "execution_count": 37,
   "metadata": {},
   "outputs": [
    {
     "data": {
      "text/html": [
       "<div>\n",
       "<style scoped>\n",
       "    .dataframe tbody tr th:only-of-type {\n",
       "        vertical-align: middle;\n",
       "    }\n",
       "\n",
       "    .dataframe tbody tr th {\n",
       "        vertical-align: top;\n",
       "    }\n",
       "\n",
       "    .dataframe thead th {\n",
       "        text-align: right;\n",
       "    }\n",
       "</style>\n",
       "<table border=\"1\" class=\"dataframe\">\n",
       "  <thead>\n",
       "    <tr style=\"text-align: right;\">\n",
       "      <th></th>\n",
       "      <th>Retrieved text</th>\n",
       "      <th>score</th>\n",
       "    </tr>\n",
       "  </thead>\n",
       "  <tbody>\n",
       "    <tr>\n",
       "      <th>0</th>\n",
       "      <td>Chapter 1 | Introduction to Embedded Systems \\n33Proposed Exercise\\n1. How can the code be changed in such a way that the system is blocked after three incorrect codes \\nare entered?\\nAnswer to the Exercise\\n1. It can be achieved by means of the change in T able 1.11.\\nT able 1.11 Proposed modification in the code in order to achieve the new behavior.\\nLine in Code 1.5 New code to be used\\n40 if ( numberOfIncorrectCodes &lt; 5 ) 40 if ( numberOfIncorrectCodes &lt; 3 )\\n1.3 Under the Hood\\n1.3.1 Brief Introduction to the Cortex-M Processor  Family and the NUCLEO Board\\nIn this chapter, many programs were developed using the NUCLEO board, provided with the \\nSTM32F429ZIT6U microcontroller . This microcontroller is manufactured by STMicroelectronics [13]</td>\n",
       "      <td>0.986980</td>\n",
       "    </tr>\n",
       "    <tr>\n",
       "      <th>1</th>\n",
       "      <td>38\\nA Beginner’s Guide to Designing Embedded System ApplicationsFigure 1.23 shows how different elements of the STM32F429ZIT6U microcontroller  are mapped \\nto the Zio and Arduino-compatible headers of the NUCLEO-F429ZI board. Some other elements \\nare mapped to the CN11 and CN12 headers of the NUCLEO-F429ZI board, as will be discussed in upcoming chapters. Further information on these headers is available from [17].\\nIn this chapter, buttons were connected to the NUCLEO board using pins D2 to D7. From Figure 1.23, \\nit can be seen that those digital inputs can also be referred to as PF_15, PE_13, P_14, PE_11, PE_9, and PF_13, respectively. Throughout this book, many pins of the ST Zio connectors will be used, and they will be referred to in the code using the names shown in Figure 1.23.</td>\n",
       "      <td>0.719778</td>\n",
       "    </tr>\n",
       "    <tr>\n",
       "      <th>2</th>\n",
       "      <td>This section will begin the implementation of the smart home system, following the diagram shown in Figure 1.3. This first implementation will detect fire using an over temperature detector and a gas detector and, if it detects fire, it will activate the alarm until a given code is entered.  For this purpose, the NUCLEO board [1] provided with the STM32F429ZIT6U microcontroller [9] (referred to as the STM32 microcontroller ) is used.</td>\n",
       "      <td>0.545891</td>\n",
       "    </tr>\n",
       "    <tr>\n",
       "      <th>3</th>\n",
       "      <td>Chapter 1 | Introduction to Embedded Systems \\n37The STM32F429ZIT6U microcontroller includes a Cortex-M4 processor , as shown in Figure 1.22. It \\ncan be appreciated that, beyond the processor, the microcontroller includes other peripherals such as \\ncommunication cores (ethernet, USB, UART, etc.), memory, timers, and GPIO (General Purpose Input Output) ports. \\nNUCLEO\\n-F429ZI32F429ZIT6U\\nARM7B776 VQ\\nPHL 7B 7213e412000K620 Y12000\\nK620 Y\\n120 00K620 YDGKYD\\nKMS-1 102NL1706C\\nSTM32F103CBT6\\ne393701GH218CHN\\nST890C\\nGK717\\n11\\n22\\n33\\n44\\n55\\n66\\n77\\n88\\n9\\n10\\n11\\n12\\n13\\n14\\n15PH_0\\nPD_0\\nPD_1\\nPG_0PH_1PF_2PA_7PF_10PF_5PF_3PC_3PC_030\\n29\\n28\\n27\\n2616\\n2515\\n2414\\n2313\\n2212\\n2111\\n2010\\n199\\n18\\n17\\n165V\\nVIN3.3VIOREF\\nGND\\nGNDGND\\nNCNC\\nUART2_RX\\nCAN1_TDCAN1_ DRADC1/7ADC1/3\\nADC1/1...</td>\n",
       "      <td>0.536616</td>\n",
       "    </tr>\n",
       "    <tr>\n",
       "      <th>4</th>\n",
       "      <td>[3] “Arm Keil | Cloud-based Development T ools for IoT, ML and Embedded” . Accessed July 9, 2021. https://www.keil.arm.com/ \\n[4] “Log In | Mbed” . Accessed July 9, 2021. https://os.mbed.com/account/login/  \\n[5] “Keil Studio” . Accessed July 9, 2021. https://studio.keil.arm.com/  \\n[6] “Documentation - Arm Developer” . Accessed July 9, 2021. https://developer.arm.com/documentation \\n[7] “Arm Mbed Studio” . Accessed July 9, 2021. https://os.mbed.com/studio/ \\n[8] “STM32CudeIDE - Integrated Development Environment” . Accessed July 9, 2021. https://www.st.com/en/development-tools/stm32cubeide.html \\n[9] “STM32F429ZI - High-performance advanced line, Arm Cortex-M4” . Accessed July 9, 2021.  https://www.st.com/en/microcontrollers-microprocessors/stm32f429zi.html</td>\n",
       "      <td>0.373647</td>\n",
       "    </tr>\n",
       "  </tbody>\n",
       "</table>\n",
       "</div>"
      ],
      "text/plain": [
       "                                                                                                                                                                                                                                                                                                                                                                                                                                                                                                                                                                                                                                                                                                                                                                                                                    Retrieved text  \\\n",
       "0                                              Chapter 1 | Introduction to Embedded Systems \\n33Proposed Exercise\\n1. How can the code be changed in such a way that the system is blocked after three incorrect codes \\nare entered?\\nAnswer to the Exercise\\n1. It can be achieved by means of the change in T able 1.11.\\nT able 1.11 Proposed modification in the code in order to achieve the new behavior.\\nLine in Code 1.5 New code to be used\\n40 if ( numberOfIncorrectCodes < 5 ) 40 if ( numberOfIncorrectCodes < 3 )\\n1.3 Under the Hood\\n1.3.1 Brief Introduction to the Cortex-M Processor  Family and the NUCLEO Board\\nIn this chapter, many programs were developed using the NUCLEO board, provided with the \\nSTM32F429ZIT6U microcontroller . This microcontroller is manufactured by STMicroelectronics [13]   \n",
       "1   38\\nA Beginner’s Guide to Designing Embedded System ApplicationsFigure 1.23 shows how different elements of the STM32F429ZIT6U microcontroller  are mapped \\nto the Zio and Arduino-compatible headers of the NUCLEO-F429ZI board. Some other elements \\nare mapped to the CN11 and CN12 headers of the NUCLEO-F429ZI board, as will be discussed in upcoming chapters. Further information on these headers is available from [17].\\nIn this chapter, buttons were connected to the NUCLEO board using pins D2 to D7. From Figure 1.23, \\nit can be seen that those digital inputs can also be referred to as PF_15, PE_13, P_14, PE_11, PE_9, and PF_13, respectively. Throughout this book, many pins of the ST Zio connectors will be used, and they will be referred to in the code using the names shown in Figure 1.23.   \n",
       "2                                                                                                                                                                                                                                                                                                                                                                            This section will begin the implementation of the smart home system, following the diagram shown in Figure 1.3. This first implementation will detect fire using an over temperature detector and a gas detector and, if it detects fire, it will activate the alarm until a given code is entered.  For this purpose, the NUCLEO board [1] provided with the STM32F429ZIT6U microcontroller [9] (referred to as the STM32 microcontroller ) is used.   \n",
       "3  Chapter 1 | Introduction to Embedded Systems \\n37The STM32F429ZIT6U microcontroller includes a Cortex-M4 processor , as shown in Figure 1.22. It \\ncan be appreciated that, beyond the processor, the microcontroller includes other peripherals such as \\ncommunication cores (ethernet, USB, UART, etc.), memory, timers, and GPIO (General Purpose Input Output) ports. \\nNUCLEO\\n-F429ZI32F429ZIT6U\\nARM7B776 VQ\\nPHL 7B 7213e412000K620 Y12000\\nK620 Y\\n120 00K620 YDGKYD\\nKMS-1 102NL1706C\\nSTM32F103CBT6\\ne393701GH218CHN\\nST890C\\nGK717\\n11\\n22\\n33\\n44\\n55\\n66\\n77\\n88\\n9\\n10\\n11\\n12\\n13\\n14\\n15PH_0\\nPD_0\\nPD_1\\nPG_0PH_1PF_2PA_7PF_10PF_5PF_3PC_3PC_030\\n29\\n28\\n27\\n2616\\n2515\\n2414\\n2313\\n2212\\n2111\\n2010\\n199\\n18\\n17\\n165V\\nVIN3.3VIOREF\\nGND\\nGNDGND\\nNCNC\\nUART2_RX\\nCAN1_TDCAN1_ DRADC1/7ADC1/3\\nADC1/1...   \n",
       "4                                 [3] “Arm Keil | Cloud-based Development T ools for IoT, ML and Embedded” . Accessed July 9, 2021. https://www.keil.arm.com/ \\n[4] “Log In | Mbed” . Accessed July 9, 2021. https://os.mbed.com/account/login/  \\n[5] “Keil Studio” . Accessed July 9, 2021. https://studio.keil.arm.com/  \\n[6] “Documentation - Arm Developer” . Accessed July 9, 2021. https://developer.arm.com/documentation \\n[7] “Arm Mbed Studio” . Accessed July 9, 2021. https://os.mbed.com/studio/ \\n[8] “STM32CudeIDE - Integrated Development Environment” . Accessed July 9, 2021. https://www.st.com/en/development-tools/stm32cubeide.html \\n[9] “STM32F429ZI - High-performance advanced line, Arm Cortex-M4” . Accessed July 9, 2021.  https://www.st.com/en/microcontrollers-microprocessors/stm32f429zi.html   \n",
       "\n",
       "      score  \n",
       "0  0.986980  \n",
       "1  0.719778  \n",
       "2  0.545891  \n",
       "3  0.536616  \n",
       "4  0.373647  "
      ]
     },
     "metadata": {},
     "output_type": "display_data"
    }
   ],
   "source": [
    "df = pd.DataFrame(dense_sparse_reranker_docs, columns=['Retrieved text', 'score'])\n",
    "display(df)"
   ]
  },
  {
   "cell_type": "markdown",
   "metadata": {},
   "source": [
    "# Dense + Full Text Search"
   ]
  },
  {
   "cell_type": "markdown",
   "metadata": {
    "jp-MarkdownHeadingCollapsed": true
   },
   "source": [
    "### Reciprocal Rank Fusion"
   ]
  },
  {
   "cell_type": "code",
   "execution_count": 38,
   "metadata": {},
   "outputs": [],
   "source": [
    "combined_docs = []\n",
    "combined_docs.append(dense_docs)\n",
    "combined_docs.append(full_text_docs)"
   ]
  },
  {
   "cell_type": "code",
   "execution_count": 39,
   "metadata": {},
   "outputs": [],
   "source": [
    "dense_full_text_rrf_docs = rrf(combined_docs)[:TOP_K]"
   ]
  },
  {
   "cell_type": "code",
   "execution_count": 40,
   "metadata": {},
   "outputs": [
    {
     "data": {
      "text/html": [
       "<div>\n",
       "<style scoped>\n",
       "    .dataframe tbody tr th:only-of-type {\n",
       "        vertical-align: middle;\n",
       "    }\n",
       "\n",
       "    .dataframe tbody tr th {\n",
       "        vertical-align: top;\n",
       "    }\n",
       "\n",
       "    .dataframe thead th {\n",
       "        text-align: right;\n",
       "    }\n",
       "</style>\n",
       "<table border=\"1\" class=\"dataframe\">\n",
       "  <thead>\n",
       "    <tr style=\"text-align: right;\">\n",
       "      <th></th>\n",
       "      <th>Retrieved text</th>\n",
       "      <th>score</th>\n",
       "    </tr>\n",
       "  </thead>\n",
       "  <tbody>\n",
       "    <tr>\n",
       "      <th>0</th>\n",
       "      <td>38\\nA Beginner’s Guide to Designing Embedded System ApplicationsFigure 1.23 shows how different elements of the STM32F429ZIT6U microcontroller  are mapped \\nto the Zio and Arduino-compatible headers of the NUCLEO-F429ZI board. Some other elements \\nare mapped to the CN11 and CN12 headers of the NUCLEO-F429ZI board, as will be discussed in upcoming chapters. Further information on these headers is available from [17].\\nIn this chapter, buttons were connected to the NUCLEO board using pins D2 to D7. From Figure 1.23, \\nit can be seen that those digital inputs can also be referred to as PF_15, PE_13, P_14, PE_11, PE_9, and PF_13, respectively. Throughout this book, many pins of the ST Zio connectors will be used, and they will be referred to in the code using the names shown in Figure 1.23.</td>\n",
       "      <td>0.032266</td>\n",
       "    </tr>\n",
       "    <tr>\n",
       "      <th>1</th>\n",
       "      <td>Chapter 1 | Introduction to Embedded Systems \\n37The STM32F429ZIT6U microcontroller includes a Cortex-M4 processor , as shown in Figure 1.22. It \\ncan be appreciated that, beyond the processor, the microcontroller includes other peripherals such as \\ncommunication cores (ethernet, USB, UART, etc.), memory, timers, and GPIO (General Purpose Input Output) ports. \\nNUCLEO\\n-F429ZI32F429ZIT6U\\nARM7B776 VQ\\nPHL 7B 7213e412000K620 Y12000\\nK620 Y\\n120 00K620 YDGKYD\\nKMS-1 102NL1706C\\nSTM32F103CBT6\\ne393701GH218CHN\\nST890C\\nGK717\\n11\\n22\\n33\\n44\\n55\\n66\\n77\\n88\\n9\\n10\\n11\\n12\\n13\\n14\\n15PH_0\\nPD_0\\nPD_1\\nPG_0PH_1PF_2PA_7PF_10PF_5PF_3PC_3PC_030\\n29\\n28\\n27\\n2616\\n2515\\n2414\\n2313\\n2212\\n2111\\n2010\\n199\\n18\\n17\\n165V\\nVIN3.3VIOREF\\nGND\\nGNDGND\\nNCNC\\nUART2_RX\\nCAN1_TDCAN1_ DRADC1/7ADC1/3\\nADC1/1...</td>\n",
       "      <td>0.016667</td>\n",
       "    </tr>\n",
       "    <tr>\n",
       "      <th>2</th>\n",
       "      <td>Chapter 1 | Introduction to Embedded Systems \\n33Proposed Exercise\\n1. How can the code be changed in such a way that the system is blocked after three incorrect codes \\nare entered?\\nAnswer to the Exercise\\n1. It can be achieved by means of the change in T able 1.11.\\nT able 1.11 Proposed modification in the code in order to achieve the new behavior.\\nLine in Code 1.5 New code to be used\\n40 if ( numberOfIncorrectCodes &lt; 5 ) 40 if ( numberOfIncorrectCodes &lt; 3 )\\n1.3 Under the Hood\\n1.3.1 Brief Introduction to the Cortex-M Processor  Family and the NUCLEO Board\\nIn this chapter, many programs were developed using the NUCLEO board, provided with the \\nSTM32F429ZIT6U microcontroller . This microcontroller is manufactured by STMicroelectronics [13]</td>\n",
       "      <td>0.016667</td>\n",
       "    </tr>\n",
       "    <tr>\n",
       "      <th>3</th>\n",
       "      <td>This section will begin the implementation of the smart home system, following the diagram shown in Figure 1.3. This first implementation will detect fire using an over temperature detector and a gas detector and, if it detects fire, it will activate the alarm until a given code is entered.  For this purpose, the NUCLEO board [1] provided with the STM32F429ZIT6U microcontroller [9] (referred to as the STM32 microcontroller ) is used.</td>\n",
       "      <td>0.016393</td>\n",
       "    </tr>\n",
       "    <tr>\n",
       "      <th>4</th>\n",
       "      <td>Chapter 4 | Finite-State Machines and the Real-Time Clock\\n171 References\\n[1] “4x4 Keypad Module Pinout, Configuration, Features, Circuit &amp; Datasheet” . Accessed July 9, \\n2021. \\n[2] “Breadboard Power Supply Module” . Accessed July 9, 2021. https://components101.com/modules/5v-mb102-breadboard-power-supply-module \\n[3] “UM1974 User manual - STM32 Nucleo-144 boards (MB1137)” . Accessed July 9, 2021. https://www.st.com/resource/en/user_manual/dm00244518-stm32-nucleo144-boards-mb1137-stmicroelectronics.pdf \\n[4] “GitHub - armBookCodeExamples/Directory” . Accessed July 9, 2021. https://github.com/armBookCodeExamples/Directory/ \\n[5] “Time - API references and tutorials | Mbed OS 6 Documentation ” . Accessed July 9, 2021. \\nhttps://os.mbed.com/docs/mbed-os/v6.12/apis/time.html \\n[6] “&lt;cst...</td>\n",
       "      <td>0.016129</td>\n",
       "    </tr>\n",
       "  </tbody>\n",
       "</table>\n",
       "</div>"
      ],
      "text/plain": [
       "                                                                                                                                                                                                                                                                                                                                                                                                                                                                                                                                                                                                                                                                                                                                                                                                                    Retrieved text  \\\n",
       "0   38\\nA Beginner’s Guide to Designing Embedded System ApplicationsFigure 1.23 shows how different elements of the STM32F429ZIT6U microcontroller  are mapped \\nto the Zio and Arduino-compatible headers of the NUCLEO-F429ZI board. Some other elements \\nare mapped to the CN11 and CN12 headers of the NUCLEO-F429ZI board, as will be discussed in upcoming chapters. Further information on these headers is available from [17].\\nIn this chapter, buttons were connected to the NUCLEO board using pins D2 to D7. From Figure 1.23, \\nit can be seen that those digital inputs can also be referred to as PF_15, PE_13, P_14, PE_11, PE_9, and PF_13, respectively. Throughout this book, many pins of the ST Zio connectors will be used, and they will be referred to in the code using the names shown in Figure 1.23.   \n",
       "1  Chapter 1 | Introduction to Embedded Systems \\n37The STM32F429ZIT6U microcontroller includes a Cortex-M4 processor , as shown in Figure 1.22. It \\ncan be appreciated that, beyond the processor, the microcontroller includes other peripherals such as \\ncommunication cores (ethernet, USB, UART, etc.), memory, timers, and GPIO (General Purpose Input Output) ports. \\nNUCLEO\\n-F429ZI32F429ZIT6U\\nARM7B776 VQ\\nPHL 7B 7213e412000K620 Y12000\\nK620 Y\\n120 00K620 YDGKYD\\nKMS-1 102NL1706C\\nSTM32F103CBT6\\ne393701GH218CHN\\nST890C\\nGK717\\n11\\n22\\n33\\n44\\n55\\n66\\n77\\n88\\n9\\n10\\n11\\n12\\n13\\n14\\n15PH_0\\nPD_0\\nPD_1\\nPG_0PH_1PF_2PA_7PF_10PF_5PF_3PC_3PC_030\\n29\\n28\\n27\\n2616\\n2515\\n2414\\n2313\\n2212\\n2111\\n2010\\n199\\n18\\n17\\n165V\\nVIN3.3VIOREF\\nGND\\nGNDGND\\nNCNC\\nUART2_RX\\nCAN1_TDCAN1_ DRADC1/7ADC1/3\\nADC1/1...   \n",
       "2                                              Chapter 1 | Introduction to Embedded Systems \\n33Proposed Exercise\\n1. How can the code be changed in such a way that the system is blocked after three incorrect codes \\nare entered?\\nAnswer to the Exercise\\n1. It can be achieved by means of the change in T able 1.11.\\nT able 1.11 Proposed modification in the code in order to achieve the new behavior.\\nLine in Code 1.5 New code to be used\\n40 if ( numberOfIncorrectCodes < 5 ) 40 if ( numberOfIncorrectCodes < 3 )\\n1.3 Under the Hood\\n1.3.1 Brief Introduction to the Cortex-M Processor  Family and the NUCLEO Board\\nIn this chapter, many programs were developed using the NUCLEO board, provided with the \\nSTM32F429ZIT6U microcontroller . This microcontroller is manufactured by STMicroelectronics [13]   \n",
       "3                                                                                                                                                                                                                                                                                                                                                                            This section will begin the implementation of the smart home system, following the diagram shown in Figure 1.3. This first implementation will detect fire using an over temperature detector and a gas detector and, if it detects fire, it will activate the alarm until a given code is entered.  For this purpose, the NUCLEO board [1] provided with the STM32F429ZIT6U microcontroller [9] (referred to as the STM32 microcontroller ) is used.   \n",
       "4  Chapter 4 | Finite-State Machines and the Real-Time Clock\\n171 References\\n[1] “4x4 Keypad Module Pinout, Configuration, Features, Circuit & Datasheet” . Accessed July 9, \\n2021. \\n[2] “Breadboard Power Supply Module” . Accessed July 9, 2021. https://components101.com/modules/5v-mb102-breadboard-power-supply-module \\n[3] “UM1974 User manual - STM32 Nucleo-144 boards (MB1137)” . Accessed July 9, 2021. https://www.st.com/resource/en/user_manual/dm00244518-stm32-nucleo144-boards-mb1137-stmicroelectronics.pdf \\n[4] “GitHub - armBookCodeExamples/Directory” . Accessed July 9, 2021. https://github.com/armBookCodeExamples/Directory/ \\n[5] “Time - API references and tutorials | Mbed OS 6 Documentation ” . Accessed July 9, 2021. \\nhttps://os.mbed.com/docs/mbed-os/v6.12/apis/time.html \\n[6] “<cst...   \n",
       "\n",
       "      score  \n",
       "0  0.032266  \n",
       "1  0.016667  \n",
       "2  0.016667  \n",
       "3  0.016393  \n",
       "4  0.016129  "
      ]
     },
     "metadata": {},
     "output_type": "display_data"
    }
   ],
   "source": [
    "df = pd.DataFrame(dense_full_text_rrf_docs, columns=['Retrieved text', 'score'])\n",
    "display(df)"
   ]
  },
  {
   "cell_type": "markdown",
   "metadata": {
    "jp-MarkdownHeadingCollapsed": true
   },
   "source": [
    "### Re-Ranker"
   ]
  },
  {
   "cell_type": "code",
   "execution_count": 41,
   "metadata": {},
   "outputs": [],
   "source": [
    "ranker_model = None\n",
    "# Define the rerank function\n",
    "if RERANKER_MODEL == \"bgm3\":\n",
    "    ranker_model = BGERerankFunction(\n",
    "        model_name=\"BAAI/bge-reranker-v2-m3\",\n",
    "        device=DEVICE,\n",
    "        batch_size=BATCH_SIZE,\n",
    "    )\n",
    "elif RERANKER_MODEL == \"crossencoder\":\n",
    "    ranker_model = CrossEncoderRerankFunction(\n",
    "        model_name=\"cross-encoder/ms-marco-MiniLM-L-6-v2\",\n",
    "        device=DEVICE,\n",
    "        batch_size=BATCH_SIZE,\n",
    "    )"
   ]
  },
  {
   "cell_type": "code",
   "execution_count": 42,
   "metadata": {},
   "outputs": [],
   "source": [
    "combined_docs = [dense_doc[0] for dense_doc in dense_docs]\n",
    "combined_docs.extend([full_text_doc[0] for full_text_doc in full_text_docs])\n",
    "# Remove duplicates if any\n",
    "combined_docs = list(set(combined_docs))"
   ]
  },
  {
   "cell_type": "code",
   "execution_count": 43,
   "metadata": {},
   "outputs": [
    {
     "name": "stdout",
     "output_type": "stream",
     "text": [
      "CPU times: user 63.8 ms, sys: 144 ms, total: 207 ms\n",
      "Wall time: 195 ms\n"
     ]
    }
   ],
   "source": [
    "%%time\n",
    "result_docs = ranker_model(query=QUERY, documents=combined_docs, top_k=TOP_K)"
   ]
  },
  {
   "cell_type": "code",
   "execution_count": 44,
   "metadata": {},
   "outputs": [],
   "source": [
    "dense_full_text_reranker_docs = [(res.text, res.score) for res in result_docs]"
   ]
  },
  {
   "cell_type": "code",
   "execution_count": 45,
   "metadata": {},
   "outputs": [
    {
     "data": {
      "text/html": [
       "<div>\n",
       "<style scoped>\n",
       "    .dataframe tbody tr th:only-of-type {\n",
       "        vertical-align: middle;\n",
       "    }\n",
       "\n",
       "    .dataframe tbody tr th {\n",
       "        vertical-align: top;\n",
       "    }\n",
       "\n",
       "    .dataframe thead th {\n",
       "        text-align: right;\n",
       "    }\n",
       "</style>\n",
       "<table border=\"1\" class=\"dataframe\">\n",
       "  <thead>\n",
       "    <tr style=\"text-align: right;\">\n",
       "      <th></th>\n",
       "      <th>Retrieved text</th>\n",
       "      <th>score</th>\n",
       "    </tr>\n",
       "  </thead>\n",
       "  <tbody>\n",
       "    <tr>\n",
       "      <th>0</th>\n",
       "      <td>Chapter 1 | Introduction to Embedded Systems \\n33Proposed Exercise\\n1. How can the code be changed in such a way that the system is blocked after three incorrect codes \\nare entered?\\nAnswer to the Exercise\\n1. It can be achieved by means of the change in T able 1.11.\\nT able 1.11 Proposed modification in the code in order to achieve the new behavior.\\nLine in Code 1.5 New code to be used\\n40 if ( numberOfIncorrectCodes &lt; 5 ) 40 if ( numberOfIncorrectCodes &lt; 3 )\\n1.3 Under the Hood\\n1.3.1 Brief Introduction to the Cortex-M Processor  Family and the NUCLEO Board\\nIn this chapter, many programs were developed using the NUCLEO board, provided with the \\nSTM32F429ZIT6U microcontroller . This microcontroller is manufactured by STMicroelectronics [13]</td>\n",
       "      <td>0.986980</td>\n",
       "    </tr>\n",
       "    <tr>\n",
       "      <th>1</th>\n",
       "      <td>38\\nA Beginner’s Guide to Designing Embedded System ApplicationsFigure 1.23 shows how different elements of the STM32F429ZIT6U microcontroller  are mapped \\nto the Zio and Arduino-compatible headers of the NUCLEO-F429ZI board. Some other elements \\nare mapped to the CN11 and CN12 headers of the NUCLEO-F429ZI board, as will be discussed in upcoming chapters. Further information on these headers is available from [17].\\nIn this chapter, buttons were connected to the NUCLEO board using pins D2 to D7. From Figure 1.23, \\nit can be seen that those digital inputs can also be referred to as PF_15, PE_13, P_14, PE_11, PE_9, and PF_13, respectively. Throughout this book, many pins of the ST Zio connectors will be used, and they will be referred to in the code using the names shown in Figure 1.23.</td>\n",
       "      <td>0.719581</td>\n",
       "    </tr>\n",
       "    <tr>\n",
       "      <th>2</th>\n",
       "      <td>This section will begin the implementation of the smart home system, following the diagram shown in Figure 1.3. This first implementation will detect fire using an over temperature detector and a gas detector and, if it detects fire, it will activate the alarm until a given code is entered.  For this purpose, the NUCLEO board [1] provided with the STM32F429ZIT6U microcontroller [9] (referred to as the STM32 microcontroller ) is used.</td>\n",
       "      <td>0.547192</td>\n",
       "    </tr>\n",
       "    <tr>\n",
       "      <th>3</th>\n",
       "      <td>Chapter 1 | Introduction to Embedded Systems \\n37The STM32F429ZIT6U microcontroller includes a Cortex-M4 processor , as shown in Figure 1.22. It \\ncan be appreciated that, beyond the processor, the microcontroller includes other peripherals such as \\ncommunication cores (ethernet, USB, UART, etc.), memory, timers, and GPIO (General Purpose Input Output) ports. \\nNUCLEO\\n-F429ZI32F429ZIT6U\\nARM7B776 VQ\\nPHL 7B 7213e412000K620 Y12000\\nK620 Y\\n120 00K620 YDGKYD\\nKMS-1 102NL1706C\\nSTM32F103CBT6\\ne393701GH218CHN\\nST890C\\nGK717\\n11\\n22\\n33\\n44\\n55\\n66\\n77\\n88\\n9\\n10\\n11\\n12\\n13\\n14\\n15PH_0\\nPD_0\\nPD_1\\nPG_0PH_1PF_2PA_7PF_10PF_5PF_3PC_3PC_030\\n29\\n28\\n27\\n2616\\n2515\\n2414\\n2313\\n2212\\n2111\\n2010\\n199\\n18\\n17\\n165V\\nVIN3.3VIOREF\\nGND\\nGNDGND\\nNCNC\\nUART2_RX\\nCAN1_TDCAN1_ DRADC1/7ADC1/3\\nADC1/1...</td>\n",
       "      <td>0.534764</td>\n",
       "    </tr>\n",
       "    <tr>\n",
       "      <th>4</th>\n",
       "      <td>[3] “Arm Keil | Cloud-based Development T ools for IoT, ML and Embedded” . Accessed July 9, 2021. https://www.keil.arm.com/ \\n[4] “Log In | Mbed” . Accessed July 9, 2021. https://os.mbed.com/account/login/  \\n[5] “Keil Studio” . Accessed July 9, 2021. https://studio.keil.arm.com/  \\n[6] “Documentation - Arm Developer” . Accessed July 9, 2021. https://developer.arm.com/documentation \\n[7] “Arm Mbed Studio” . Accessed July 9, 2021. https://os.mbed.com/studio/ \\n[8] “STM32CudeIDE - Integrated Development Environment” . Accessed July 9, 2021. https://www.st.com/en/development-tools/stm32cubeide.html \\n[9] “STM32F429ZI - High-performance advanced line, Arm Cortex-M4” . Accessed July 9, 2021.  https://www.st.com/en/microcontrollers-microprocessors/stm32f429zi.html</td>\n",
       "      <td>0.373190</td>\n",
       "    </tr>\n",
       "  </tbody>\n",
       "</table>\n",
       "</div>"
      ],
      "text/plain": [
       "                                                                                                                                                                                                                                                                                                                                                                                                                                                                                                                                                                                                                                                                                                                                                                                                                    Retrieved text  \\\n",
       "0                                              Chapter 1 | Introduction to Embedded Systems \\n33Proposed Exercise\\n1. How can the code be changed in such a way that the system is blocked after three incorrect codes \\nare entered?\\nAnswer to the Exercise\\n1. It can be achieved by means of the change in T able 1.11.\\nT able 1.11 Proposed modification in the code in order to achieve the new behavior.\\nLine in Code 1.5 New code to be used\\n40 if ( numberOfIncorrectCodes < 5 ) 40 if ( numberOfIncorrectCodes < 3 )\\n1.3 Under the Hood\\n1.3.1 Brief Introduction to the Cortex-M Processor  Family and the NUCLEO Board\\nIn this chapter, many programs were developed using the NUCLEO board, provided with the \\nSTM32F429ZIT6U microcontroller . This microcontroller is manufactured by STMicroelectronics [13]   \n",
       "1   38\\nA Beginner’s Guide to Designing Embedded System ApplicationsFigure 1.23 shows how different elements of the STM32F429ZIT6U microcontroller  are mapped \\nto the Zio and Arduino-compatible headers of the NUCLEO-F429ZI board. Some other elements \\nare mapped to the CN11 and CN12 headers of the NUCLEO-F429ZI board, as will be discussed in upcoming chapters. Further information on these headers is available from [17].\\nIn this chapter, buttons were connected to the NUCLEO board using pins D2 to D7. From Figure 1.23, \\nit can be seen that those digital inputs can also be referred to as PF_15, PE_13, P_14, PE_11, PE_9, and PF_13, respectively. Throughout this book, many pins of the ST Zio connectors will be used, and they will be referred to in the code using the names shown in Figure 1.23.   \n",
       "2                                                                                                                                                                                                                                                                                                                                                                            This section will begin the implementation of the smart home system, following the diagram shown in Figure 1.3. This first implementation will detect fire using an over temperature detector and a gas detector and, if it detects fire, it will activate the alarm until a given code is entered.  For this purpose, the NUCLEO board [1] provided with the STM32F429ZIT6U microcontroller [9] (referred to as the STM32 microcontroller ) is used.   \n",
       "3  Chapter 1 | Introduction to Embedded Systems \\n37The STM32F429ZIT6U microcontroller includes a Cortex-M4 processor , as shown in Figure 1.22. It \\ncan be appreciated that, beyond the processor, the microcontroller includes other peripherals such as \\ncommunication cores (ethernet, USB, UART, etc.), memory, timers, and GPIO (General Purpose Input Output) ports. \\nNUCLEO\\n-F429ZI32F429ZIT6U\\nARM7B776 VQ\\nPHL 7B 7213e412000K620 Y12000\\nK620 Y\\n120 00K620 YDGKYD\\nKMS-1 102NL1706C\\nSTM32F103CBT6\\ne393701GH218CHN\\nST890C\\nGK717\\n11\\n22\\n33\\n44\\n55\\n66\\n77\\n88\\n9\\n10\\n11\\n12\\n13\\n14\\n15PH_0\\nPD_0\\nPD_1\\nPG_0PH_1PF_2PA_7PF_10PF_5PF_3PC_3PC_030\\n29\\n28\\n27\\n2616\\n2515\\n2414\\n2313\\n2212\\n2111\\n2010\\n199\\n18\\n17\\n165V\\nVIN3.3VIOREF\\nGND\\nGNDGND\\nNCNC\\nUART2_RX\\nCAN1_TDCAN1_ DRADC1/7ADC1/3\\nADC1/1...   \n",
       "4                                 [3] “Arm Keil | Cloud-based Development T ools for IoT, ML and Embedded” . Accessed July 9, 2021. https://www.keil.arm.com/ \\n[4] “Log In | Mbed” . Accessed July 9, 2021. https://os.mbed.com/account/login/  \\n[5] “Keil Studio” . Accessed July 9, 2021. https://studio.keil.arm.com/  \\n[6] “Documentation - Arm Developer” . Accessed July 9, 2021. https://developer.arm.com/documentation \\n[7] “Arm Mbed Studio” . Accessed July 9, 2021. https://os.mbed.com/studio/ \\n[8] “STM32CudeIDE - Integrated Development Environment” . Accessed July 9, 2021. https://www.st.com/en/development-tools/stm32cubeide.html \\n[9] “STM32F429ZI - High-performance advanced line, Arm Cortex-M4” . Accessed July 9, 2021.  https://www.st.com/en/microcontrollers-microprocessors/stm32f429zi.html   \n",
       "\n",
       "      score  \n",
       "0  0.986980  \n",
       "1  0.719581  \n",
       "2  0.547192  \n",
       "3  0.534764  \n",
       "4  0.373190  "
      ]
     },
     "metadata": {},
     "output_type": "display_data"
    }
   ],
   "source": [
    "df = pd.DataFrame(dense_full_text_reranker_docs, columns=['Retrieved text', 'score'])\n",
    "display(df)"
   ]
  },
  {
   "cell_type": "markdown",
   "metadata": {},
   "source": [
    "# Dense + Sparse + Full Text Search"
   ]
  },
  {
   "cell_type": "markdown",
   "metadata": {
    "jp-MarkdownHeadingCollapsed": true
   },
   "source": [
    "### Reciprocal Rank Fusion"
   ]
  },
  {
   "cell_type": "code",
   "execution_count": 46,
   "metadata": {},
   "outputs": [],
   "source": [
    "combined_docs = []\n",
    "combined_docs.append(dense_docs)\n",
    "combined_docs.append(sparse_docs)\n",
    "combined_docs.append(full_text_docs)"
   ]
  },
  {
   "cell_type": "code",
   "execution_count": 47,
   "metadata": {},
   "outputs": [],
   "source": [
    "dense_sparse_full_text_rrf_docs = rrf(combined_docs)[:TOP_K]"
   ]
  },
  {
   "cell_type": "code",
   "execution_count": 48,
   "metadata": {},
   "outputs": [
    {
     "data": {
      "text/html": [
       "<div>\n",
       "<style scoped>\n",
       "    .dataframe tbody tr th:only-of-type {\n",
       "        vertical-align: middle;\n",
       "    }\n",
       "\n",
       "    .dataframe tbody tr th {\n",
       "        vertical-align: top;\n",
       "    }\n",
       "\n",
       "    .dataframe thead th {\n",
       "        text-align: right;\n",
       "    }\n",
       "</style>\n",
       "<table border=\"1\" class=\"dataframe\">\n",
       "  <thead>\n",
       "    <tr style=\"text-align: right;\">\n",
       "      <th></th>\n",
       "      <th>Retrieved text</th>\n",
       "      <th>score</th>\n",
       "    </tr>\n",
       "  </thead>\n",
       "  <tbody>\n",
       "    <tr>\n",
       "      <th>0</th>\n",
       "      <td>38\\nA Beginner’s Guide to Designing Embedded System ApplicationsFigure 1.23 shows how different elements of the STM32F429ZIT6U microcontroller  are mapped \\nto the Zio and Arduino-compatible headers of the NUCLEO-F429ZI board. Some other elements \\nare mapped to the CN11 and CN12 headers of the NUCLEO-F429ZI board, as will be discussed in upcoming chapters. Further information on these headers is available from [17].\\nIn this chapter, buttons were connected to the NUCLEO board using pins D2 to D7. From Figure 1.23, \\nit can be seen that those digital inputs can also be referred to as PF_15, PE_13, P_14, PE_11, PE_9, and PF_13, respectively. Throughout this book, many pins of the ST Zio connectors will be used, and they will be referred to in the code using the names shown in Figure 1.23.</td>\n",
       "      <td>0.048395</td>\n",
       "    </tr>\n",
       "    <tr>\n",
       "      <th>1</th>\n",
       "      <td>Chapter 1 | Introduction to Embedded Systems \\n37The STM32F429ZIT6U microcontroller includes a Cortex-M4 processor , as shown in Figure 1.22. It \\ncan be appreciated that, beyond the processor, the microcontroller includes other peripherals such as \\ncommunication cores (ethernet, USB, UART, etc.), memory, timers, and GPIO (General Purpose Input Output) ports. \\nNUCLEO\\n-F429ZI32F429ZIT6U\\nARM7B776 VQ\\nPHL 7B 7213e412000K620 Y12000\\nK620 Y\\n120 00K620 YDGKYD\\nKMS-1 102NL1706C\\nSTM32F103CBT6\\ne393701GH218CHN\\nST890C\\nGK717\\n11\\n22\\n33\\n44\\n55\\n66\\n77\\n88\\n9\\n10\\n11\\n12\\n13\\n14\\n15PH_0\\nPD_0\\nPD_1\\nPG_0PH_1PF_2PA_7PF_10PF_5PF_3PC_3PC_030\\n29\\n28\\n27\\n2616\\n2515\\n2414\\n2313\\n2212\\n2111\\n2010\\n199\\n18\\n17\\n165V\\nVIN3.3VIOREF\\nGND\\nGNDGND\\nNCNC\\nUART2_RX\\nCAN1_TDCAN1_ DRADC1/7ADC1/3\\nADC1/1...</td>\n",
       "      <td>0.033333</td>\n",
       "    </tr>\n",
       "    <tr>\n",
       "      <th>2</th>\n",
       "      <td>Chapter 1 | Introduction to Embedded Systems \\n33Proposed Exercise\\n1. How can the code be changed in such a way that the system is blocked after three incorrect codes \\nare entered?\\nAnswer to the Exercise\\n1. It can be achieved by means of the change in T able 1.11.\\nT able 1.11 Proposed modification in the code in order to achieve the new behavior.\\nLine in Code 1.5 New code to be used\\n40 if ( numberOfIncorrectCodes &lt; 5 ) 40 if ( numberOfIncorrectCodes &lt; 3 )\\n1.3 Under the Hood\\n1.3.1 Brief Introduction to the Cortex-M Processor  Family and the NUCLEO Board\\nIn this chapter, many programs were developed using the NUCLEO board, provided with the \\nSTM32F429ZIT6U microcontroller . This microcontroller is manufactured by STMicroelectronics [13]</td>\n",
       "      <td>0.033060</td>\n",
       "    </tr>\n",
       "    <tr>\n",
       "      <th>3</th>\n",
       "      <td>This section will begin the implementation of the smart home system, following the diagram shown in Figure 1.3. This first implementation will detect fire using an over temperature detector and a gas detector and, if it detects fire, it will activate the alarm until a given code is entered.  For this purpose, the NUCLEO board [1] provided with the STM32F429ZIT6U microcontroller [9] (referred to as the STM32 microcontroller ) is used.</td>\n",
       "      <td>0.032266</td>\n",
       "    </tr>\n",
       "    <tr>\n",
       "      <th>4</th>\n",
       "      <td>Chapter 4 | Finite-State Machines and the Real-Time Clock\\n171 References\\n[1] “4x4 Keypad Module Pinout, Configuration, Features, Circuit &amp; Datasheet” . Accessed July 9, \\n2021. \\n[2] “Breadboard Power Supply Module” . Accessed July 9, 2021. https://components101.com/modules/5v-mb102-breadboard-power-supply-module \\n[3] “UM1974 User manual - STM32 Nucleo-144 boards (MB1137)” . Accessed July 9, 2021. https://www.st.com/resource/en/user_manual/dm00244518-stm32-nucleo144-boards-mb1137-stmicroelectronics.pdf \\n[4] “GitHub - armBookCodeExamples/Directory” . Accessed July 9, 2021. https://github.com/armBookCodeExamples/Directory/ \\n[5] “Time - API references and tutorials | Mbed OS 6 Documentation ” . Accessed July 9, 2021. \\nhttps://os.mbed.com/docs/mbed-os/v6.12/apis/time.html \\n[6] “&lt;cst...</td>\n",
       "      <td>0.016129</td>\n",
       "    </tr>\n",
       "  </tbody>\n",
       "</table>\n",
       "</div>"
      ],
      "text/plain": [
       "                                                                                                                                                                                                                                                                                                                                                                                                                                                                                                                                                                                                                                                                                                                                                                                                                    Retrieved text  \\\n",
       "0   38\\nA Beginner’s Guide to Designing Embedded System ApplicationsFigure 1.23 shows how different elements of the STM32F429ZIT6U microcontroller  are mapped \\nto the Zio and Arduino-compatible headers of the NUCLEO-F429ZI board. Some other elements \\nare mapped to the CN11 and CN12 headers of the NUCLEO-F429ZI board, as will be discussed in upcoming chapters. Further information on these headers is available from [17].\\nIn this chapter, buttons were connected to the NUCLEO board using pins D2 to D7. From Figure 1.23, \\nit can be seen that those digital inputs can also be referred to as PF_15, PE_13, P_14, PE_11, PE_9, and PF_13, respectively. Throughout this book, many pins of the ST Zio connectors will be used, and they will be referred to in the code using the names shown in Figure 1.23.   \n",
       "1  Chapter 1 | Introduction to Embedded Systems \\n37The STM32F429ZIT6U microcontroller includes a Cortex-M4 processor , as shown in Figure 1.22. It \\ncan be appreciated that, beyond the processor, the microcontroller includes other peripherals such as \\ncommunication cores (ethernet, USB, UART, etc.), memory, timers, and GPIO (General Purpose Input Output) ports. \\nNUCLEO\\n-F429ZI32F429ZIT6U\\nARM7B776 VQ\\nPHL 7B 7213e412000K620 Y12000\\nK620 Y\\n120 00K620 YDGKYD\\nKMS-1 102NL1706C\\nSTM32F103CBT6\\ne393701GH218CHN\\nST890C\\nGK717\\n11\\n22\\n33\\n44\\n55\\n66\\n77\\n88\\n9\\n10\\n11\\n12\\n13\\n14\\n15PH_0\\nPD_0\\nPD_1\\nPG_0PH_1PF_2PA_7PF_10PF_5PF_3PC_3PC_030\\n29\\n28\\n27\\n2616\\n2515\\n2414\\n2313\\n2212\\n2111\\n2010\\n199\\n18\\n17\\n165V\\nVIN3.3VIOREF\\nGND\\nGNDGND\\nNCNC\\nUART2_RX\\nCAN1_TDCAN1_ DRADC1/7ADC1/3\\nADC1/1...   \n",
       "2                                              Chapter 1 | Introduction to Embedded Systems \\n33Proposed Exercise\\n1. How can the code be changed in such a way that the system is blocked after three incorrect codes \\nare entered?\\nAnswer to the Exercise\\n1. It can be achieved by means of the change in T able 1.11.\\nT able 1.11 Proposed modification in the code in order to achieve the new behavior.\\nLine in Code 1.5 New code to be used\\n40 if ( numberOfIncorrectCodes < 5 ) 40 if ( numberOfIncorrectCodes < 3 )\\n1.3 Under the Hood\\n1.3.1 Brief Introduction to the Cortex-M Processor  Family and the NUCLEO Board\\nIn this chapter, many programs were developed using the NUCLEO board, provided with the \\nSTM32F429ZIT6U microcontroller . This microcontroller is manufactured by STMicroelectronics [13]   \n",
       "3                                                                                                                                                                                                                                                                                                                                                                            This section will begin the implementation of the smart home system, following the diagram shown in Figure 1.3. This first implementation will detect fire using an over temperature detector and a gas detector and, if it detects fire, it will activate the alarm until a given code is entered.  For this purpose, the NUCLEO board [1] provided with the STM32F429ZIT6U microcontroller [9] (referred to as the STM32 microcontroller ) is used.   \n",
       "4  Chapter 4 | Finite-State Machines and the Real-Time Clock\\n171 References\\n[1] “4x4 Keypad Module Pinout, Configuration, Features, Circuit & Datasheet” . Accessed July 9, \\n2021. \\n[2] “Breadboard Power Supply Module” . Accessed July 9, 2021. https://components101.com/modules/5v-mb102-breadboard-power-supply-module \\n[3] “UM1974 User manual - STM32 Nucleo-144 boards (MB1137)” . Accessed July 9, 2021. https://www.st.com/resource/en/user_manual/dm00244518-stm32-nucleo144-boards-mb1137-stmicroelectronics.pdf \\n[4] “GitHub - armBookCodeExamples/Directory” . Accessed July 9, 2021. https://github.com/armBookCodeExamples/Directory/ \\n[5] “Time - API references and tutorials | Mbed OS 6 Documentation ” . Accessed July 9, 2021. \\nhttps://os.mbed.com/docs/mbed-os/v6.12/apis/time.html \\n[6] “<cst...   \n",
       "\n",
       "      score  \n",
       "0  0.048395  \n",
       "1  0.033333  \n",
       "2  0.033060  \n",
       "3  0.032266  \n",
       "4  0.016129  "
      ]
     },
     "metadata": {},
     "output_type": "display_data"
    }
   ],
   "source": [
    "df = pd.DataFrame(dense_sparse_full_text_rrf_docs, columns=['Retrieved text', 'score'])\n",
    "display(df)"
   ]
  },
  {
   "cell_type": "markdown",
   "metadata": {
    "jp-MarkdownHeadingCollapsed": true
   },
   "source": [
    "### Re-Ranker"
   ]
  },
  {
   "cell_type": "code",
   "execution_count": 49,
   "metadata": {},
   "outputs": [],
   "source": [
    "ranker_model = None\n",
    "# Define the rerank function\n",
    "if RERANKER_MODEL == \"bgm3\":\n",
    "    ranker_model = BGERerankFunction(\n",
    "        model_name=\"BAAI/bge-reranker-v2-m3\",\n",
    "        device=DEVICE,\n",
    "        batch_size=BATCH_SIZE,\n",
    "    )\n",
    "elif RERANKER_MODEL == \"crossencoder\":\n",
    "    ranker_model = CrossEncoderRerankFunction(\n",
    "        model_name=\"cross-encoder/ms-marco-MiniLM-L-6-v2\",\n",
    "        device=DEVICE,\n",
    "        batch_size=BATCH_SIZE,\n",
    "    )"
   ]
  },
  {
   "cell_type": "code",
   "execution_count": 50,
   "metadata": {},
   "outputs": [],
   "source": [
    "combined_docs = [dense_doc[0] for dense_doc in dense_docs]\n",
    "combined_docs.extend([sparse_doc[0] for sparse_doc in sparse_docs])\n",
    "combined_docs.extend([full_text_doc[0] for full_text_doc in full_text_docs])\n",
    "# Remove duplicates if any\n",
    "combined_docs = list(set(combined_docs))"
   ]
  },
  {
   "cell_type": "code",
   "execution_count": 51,
   "metadata": {},
   "outputs": [
    {
     "name": "stdout",
     "output_type": "stream",
     "text": [
      "CPU times: user 51.7 ms, sys: 178 ms, total: 229 ms\n",
      "Wall time: 215 ms\n"
     ]
    }
   ],
   "source": [
    "%%time\n",
    "result_docs = ranker_model(query=QUERY, documents=combined_docs, top_k=TOP_K)"
   ]
  },
  {
   "cell_type": "code",
   "execution_count": 52,
   "metadata": {},
   "outputs": [],
   "source": [
    "dense_sparse_full_text_reranker_docs = [(res.text, res.score) for res in result_docs]"
   ]
  },
  {
   "cell_type": "code",
   "execution_count": 53,
   "metadata": {},
   "outputs": [
    {
     "data": {
      "text/html": [
       "<div>\n",
       "<style scoped>\n",
       "    .dataframe tbody tr th:only-of-type {\n",
       "        vertical-align: middle;\n",
       "    }\n",
       "\n",
       "    .dataframe tbody tr th {\n",
       "        vertical-align: top;\n",
       "    }\n",
       "\n",
       "    .dataframe thead th {\n",
       "        text-align: right;\n",
       "    }\n",
       "</style>\n",
       "<table border=\"1\" class=\"dataframe\">\n",
       "  <thead>\n",
       "    <tr style=\"text-align: right;\">\n",
       "      <th></th>\n",
       "      <th>Retrieved text</th>\n",
       "      <th>score</th>\n",
       "    </tr>\n",
       "  </thead>\n",
       "  <tbody>\n",
       "    <tr>\n",
       "      <th>0</th>\n",
       "      <td>Chapter 1 | Introduction to Embedded Systems \\n33Proposed Exercise\\n1. How can the code be changed in such a way that the system is blocked after three incorrect codes \\nare entered?\\nAnswer to the Exercise\\n1. It can be achieved by means of the change in T able 1.11.\\nT able 1.11 Proposed modification in the code in order to achieve the new behavior.\\nLine in Code 1.5 New code to be used\\n40 if ( numberOfIncorrectCodes &lt; 5 ) 40 if ( numberOfIncorrectCodes &lt; 3 )\\n1.3 Under the Hood\\n1.3.1 Brief Introduction to the Cortex-M Processor  Family and the NUCLEO Board\\nIn this chapter, many programs were developed using the NUCLEO board, provided with the \\nSTM32F429ZIT6U microcontroller . This microcontroller is manufactured by STMicroelectronics [13]</td>\n",
       "      <td>0.986980</td>\n",
       "    </tr>\n",
       "    <tr>\n",
       "      <th>1</th>\n",
       "      <td>38\\nA Beginner’s Guide to Designing Embedded System ApplicationsFigure 1.23 shows how different elements of the STM32F429ZIT6U microcontroller  are mapped \\nto the Zio and Arduino-compatible headers of the NUCLEO-F429ZI board. Some other elements \\nare mapped to the CN11 and CN12 headers of the NUCLEO-F429ZI board, as will be discussed in upcoming chapters. Further information on these headers is available from [17].\\nIn this chapter, buttons were connected to the NUCLEO board using pins D2 to D7. From Figure 1.23, \\nit can be seen that those digital inputs can also be referred to as PF_15, PE_13, P_14, PE_11, PE_9, and PF_13, respectively. Throughout this book, many pins of the ST Zio connectors will be used, and they will be referred to in the code using the names shown in Figure 1.23.</td>\n",
       "      <td>0.719778</td>\n",
       "    </tr>\n",
       "    <tr>\n",
       "      <th>2</th>\n",
       "      <td>This section will begin the implementation of the smart home system, following the diagram shown in Figure 1.3. This first implementation will detect fire using an over temperature detector and a gas detector and, if it detects fire, it will activate the alarm until a given code is entered.  For this purpose, the NUCLEO board [1] provided with the STM32F429ZIT6U microcontroller [9] (referred to as the STM32 microcontroller ) is used.</td>\n",
       "      <td>0.545891</td>\n",
       "    </tr>\n",
       "    <tr>\n",
       "      <th>3</th>\n",
       "      <td>Chapter 1 | Introduction to Embedded Systems \\n37The STM32F429ZIT6U microcontroller includes a Cortex-M4 processor , as shown in Figure 1.22. It \\ncan be appreciated that, beyond the processor, the microcontroller includes other peripherals such as \\ncommunication cores (ethernet, USB, UART, etc.), memory, timers, and GPIO (General Purpose Input Output) ports. \\nNUCLEO\\n-F429ZI32F429ZIT6U\\nARM7B776 VQ\\nPHL 7B 7213e412000K620 Y12000\\nK620 Y\\n120 00K620 YDGKYD\\nKMS-1 102NL1706C\\nSTM32F103CBT6\\ne393701GH218CHN\\nST890C\\nGK717\\n11\\n22\\n33\\n44\\n55\\n66\\n77\\n88\\n9\\n10\\n11\\n12\\n13\\n14\\n15PH_0\\nPD_0\\nPD_1\\nPG_0PH_1PF_2PA_7PF_10PF_5PF_3PC_3PC_030\\n29\\n28\\n27\\n2616\\n2515\\n2414\\n2313\\n2212\\n2111\\n2010\\n199\\n18\\n17\\n165V\\nVIN3.3VIOREF\\nGND\\nGNDGND\\nNCNC\\nUART2_RX\\nCAN1_TDCAN1_ DRADC1/7ADC1/3\\nADC1/1...</td>\n",
       "      <td>0.536616</td>\n",
       "    </tr>\n",
       "    <tr>\n",
       "      <th>4</th>\n",
       "      <td>[3] “Arm Keil | Cloud-based Development T ools for IoT, ML and Embedded” . Accessed July 9, 2021. https://www.keil.arm.com/ \\n[4] “Log In | Mbed” . Accessed July 9, 2021. https://os.mbed.com/account/login/  \\n[5] “Keil Studio” . Accessed July 9, 2021. https://studio.keil.arm.com/  \\n[6] “Documentation - Arm Developer” . Accessed July 9, 2021. https://developer.arm.com/documentation \\n[7] “Arm Mbed Studio” . Accessed July 9, 2021. https://os.mbed.com/studio/ \\n[8] “STM32CudeIDE - Integrated Development Environment” . Accessed July 9, 2021. https://www.st.com/en/development-tools/stm32cubeide.html \\n[9] “STM32F429ZI - High-performance advanced line, Arm Cortex-M4” . Accessed July 9, 2021.  https://www.st.com/en/microcontrollers-microprocessors/stm32f429zi.html</td>\n",
       "      <td>0.373647</td>\n",
       "    </tr>\n",
       "  </tbody>\n",
       "</table>\n",
       "</div>"
      ],
      "text/plain": [
       "                                                                                                                                                                                                                                                                                                                                                                                                                                                                                                                                                                                                                                                                                                                                                                                                                    Retrieved text  \\\n",
       "0                                              Chapter 1 | Introduction to Embedded Systems \\n33Proposed Exercise\\n1. How can the code be changed in such a way that the system is blocked after three incorrect codes \\nare entered?\\nAnswer to the Exercise\\n1. It can be achieved by means of the change in T able 1.11.\\nT able 1.11 Proposed modification in the code in order to achieve the new behavior.\\nLine in Code 1.5 New code to be used\\n40 if ( numberOfIncorrectCodes < 5 ) 40 if ( numberOfIncorrectCodes < 3 )\\n1.3 Under the Hood\\n1.3.1 Brief Introduction to the Cortex-M Processor  Family and the NUCLEO Board\\nIn this chapter, many programs were developed using the NUCLEO board, provided with the \\nSTM32F429ZIT6U microcontroller . This microcontroller is manufactured by STMicroelectronics [13]   \n",
       "1   38\\nA Beginner’s Guide to Designing Embedded System ApplicationsFigure 1.23 shows how different elements of the STM32F429ZIT6U microcontroller  are mapped \\nto the Zio and Arduino-compatible headers of the NUCLEO-F429ZI board. Some other elements \\nare mapped to the CN11 and CN12 headers of the NUCLEO-F429ZI board, as will be discussed in upcoming chapters. Further information on these headers is available from [17].\\nIn this chapter, buttons were connected to the NUCLEO board using pins D2 to D7. From Figure 1.23, \\nit can be seen that those digital inputs can also be referred to as PF_15, PE_13, P_14, PE_11, PE_9, and PF_13, respectively. Throughout this book, many pins of the ST Zio connectors will be used, and they will be referred to in the code using the names shown in Figure 1.23.   \n",
       "2                                                                                                                                                                                                                                                                                                                                                                            This section will begin the implementation of the smart home system, following the diagram shown in Figure 1.3. This first implementation will detect fire using an over temperature detector and a gas detector and, if it detects fire, it will activate the alarm until a given code is entered.  For this purpose, the NUCLEO board [1] provided with the STM32F429ZIT6U microcontroller [9] (referred to as the STM32 microcontroller ) is used.   \n",
       "3  Chapter 1 | Introduction to Embedded Systems \\n37The STM32F429ZIT6U microcontroller includes a Cortex-M4 processor , as shown in Figure 1.22. It \\ncan be appreciated that, beyond the processor, the microcontroller includes other peripherals such as \\ncommunication cores (ethernet, USB, UART, etc.), memory, timers, and GPIO (General Purpose Input Output) ports. \\nNUCLEO\\n-F429ZI32F429ZIT6U\\nARM7B776 VQ\\nPHL 7B 7213e412000K620 Y12000\\nK620 Y\\n120 00K620 YDGKYD\\nKMS-1 102NL1706C\\nSTM32F103CBT6\\ne393701GH218CHN\\nST890C\\nGK717\\n11\\n22\\n33\\n44\\n55\\n66\\n77\\n88\\n9\\n10\\n11\\n12\\n13\\n14\\n15PH_0\\nPD_0\\nPD_1\\nPG_0PH_1PF_2PA_7PF_10PF_5PF_3PC_3PC_030\\n29\\n28\\n27\\n2616\\n2515\\n2414\\n2313\\n2212\\n2111\\n2010\\n199\\n18\\n17\\n165V\\nVIN3.3VIOREF\\nGND\\nGNDGND\\nNCNC\\nUART2_RX\\nCAN1_TDCAN1_ DRADC1/7ADC1/3\\nADC1/1...   \n",
       "4                                 [3] “Arm Keil | Cloud-based Development T ools for IoT, ML and Embedded” . Accessed July 9, 2021. https://www.keil.arm.com/ \\n[4] “Log In | Mbed” . Accessed July 9, 2021. https://os.mbed.com/account/login/  \\n[5] “Keil Studio” . Accessed July 9, 2021. https://studio.keil.arm.com/  \\n[6] “Documentation - Arm Developer” . Accessed July 9, 2021. https://developer.arm.com/documentation \\n[7] “Arm Mbed Studio” . Accessed July 9, 2021. https://os.mbed.com/studio/ \\n[8] “STM32CudeIDE - Integrated Development Environment” . Accessed July 9, 2021. https://www.st.com/en/development-tools/stm32cubeide.html \\n[9] “STM32F429ZI - High-performance advanced line, Arm Cortex-M4” . Accessed July 9, 2021.  https://www.st.com/en/microcontrollers-microprocessors/stm32f429zi.html   \n",
       "\n",
       "      score  \n",
       "0  0.986980  \n",
       "1  0.719778  \n",
       "2  0.545891  \n",
       "3  0.536616  \n",
       "4  0.373647  "
      ]
     },
     "metadata": {},
     "output_type": "display_data"
    }
   ],
   "source": [
    "df = pd.DataFrame(dense_sparse_full_text_reranker_docs, columns=['Retrieved text', 'score'])\n",
    "display(df)"
   ]
  },
  {
   "cell_type": "markdown",
   "metadata": {},
   "source": [
    "# Comparison"
   ]
  },
  {
   "cell_type": "code",
   "execution_count": 54,
   "metadata": {},
   "outputs": [],
   "source": [
    "from ipywidgets import interact, Dropdown\n",
    "import pandas as pd"
   ]
  },
  {
   "cell_type": "code",
   "execution_count": 55,
   "metadata": {},
   "outputs": [],
   "source": [
    "def create_dataframe(approach: str):\n",
    "    if approach == \"Dense\":\n",
    "        return pd.DataFrame(dense_docs, columns=['Retrieved_Text', 'Score'])\n",
    "    elif approach == \"Sparse\":\n",
    "        return pd.DataFrame(sparse_docs, columns=['Retrieved_Text', 'Score'])\n",
    "    elif approach == \"Full Text\":\n",
    "        return pd.DataFrame(full_text_docs, columns=['Retrieved_Text', 'Score'])\n",
    "    elif approach == \"Dense + Sparse + RRF\":\n",
    "        return pd.DataFrame(dense_sparse_rrf_docs, columns=['Retrieved_Text', 'Score'])\n",
    "    elif approach == \"Dense + Sparse + Reranker\":\n",
    "        return pd.DataFrame(dense_sparse_reranker_docs, columns=['Retrieved_Text', 'Score'])\n",
    "    elif approach == \"Dense + Full Text + RRF\":\n",
    "        return pd.DataFrame(dense_full_text_rrf_docs, columns=['Retrieved_Text', 'Score'])\n",
    "    elif approach == \"Dense + Full Text + Reranker\":\n",
    "        return pd.DataFrame(dense_full_text_reranker_docs, columns=['Retrieved_Text', 'Score'])\n",
    "    elif approach == \"Dense + Sparse + Full Text + RRF\":\n",
    "        return pd.DataFrame(dense_sparse_full_text_rrf_docs, columns=['Retrieved_Text', 'Score'])\n",
    "    elif approach == \"Dense + Sparse + Full Text + Reranker\":\n",
    "        return pd.DataFrame(dense_sparse_full_text_reranker_docs, columns=['Retrieved_Text', 'Score'])"
   ]
  },
  {
   "cell_type": "code",
   "execution_count": 56,
   "metadata": {},
   "outputs": [
    {
     "data": {
      "application/vnd.jupyter.widget-view+json": {
       "model_id": "2640b2bc8b86427286509733b76e70f6",
       "version_major": 2,
       "version_minor": 0
      },
      "text/plain": [
       "interactive(children=(Dropdown(description='Approach 1:', options=('Dense', 'Sparse', 'Full Text', 'Dense + Sp…"
      ]
     },
     "metadata": {},
     "output_type": "display_data"
    }
   ],
   "source": [
    "options = [\n",
    "    \"Dense\",\n",
    "    \"Sparse\",\n",
    "    \"Full Text\",\n",
    "    \"Dense + Sparse + RRF\",\n",
    "    \"Dense + Sparse + Reranker\",\n",
    "    \"Dense + Full Text + RRF\",\n",
    "    \"Dense + Full Text + Reranker\",\n",
    "    \"Dense + Sparse + Full Text + RRF\",\n",
    "    \"Dense + Sparse + Full Text + Reranker\",\n",
    "]\n",
    "approach1 = Dropdown(options = options, description=\"Approach 1:\", value=\"Dense\")\n",
    "approach2 = Dropdown(options = options, description=\"Approach 2:\", value=\"Sparse\")\n",
    "\n",
    "@interact(approach1 = approach1, approach2 = approach2)\n",
    "def show_dataframes(approach1, approach2):\n",
    "    df1 = create_dataframe(approach1)\n",
    "    df2 = create_dataframe(approach2)\n",
    "    for _ in range(1):\n",
    "        print('\\x1b[1;31m'+ str(approach1) +'\\x1b[0m')\n",
    "        display(df1)\n",
    "        print('\\x1b[1;34m'+ str(approach2) +'\\x1b[0m')\n",
    "        display(df2)"
   ]
  },
  {
   "cell_type": "code",
   "execution_count": null,
   "metadata": {},
   "outputs": [],
   "source": []
  },
  {
   "cell_type": "code",
   "execution_count": null,
   "metadata": {},
   "outputs": [],
   "source": []
  }
 ],
 "metadata": {
  "kernelspec": {
   "display_name": "Python 3 (ipykernel)",
   "language": "python",
   "name": "python3"
  },
  "language_info": {
   "codemirror_mode": {
    "name": "ipython",
    "version": 3
   },
   "file_extension": ".py",
   "mimetype": "text/x-python",
   "name": "python",
   "nbconvert_exporter": "python",
   "pygments_lexer": "ipython3",
   "version": "3.10.14"
  },
  "widgets": {
   "application/vnd.jupyter.widget-state+json": {
    "state": {},
    "version_major": 2,
    "version_minor": 0
   }
  }
 },
 "nbformat": 4,
 "nbformat_minor": 4
}
