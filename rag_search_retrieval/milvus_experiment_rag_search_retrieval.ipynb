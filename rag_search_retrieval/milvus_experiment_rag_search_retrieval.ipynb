{
 "cells": [
  {
   "cell_type": "markdown",
   "metadata": {
    "id": "YCnR07YohSnR"
   },
   "source": [
    "# RAG Search Retrieval Experiment\n",
    "\n",
    "Vector Store : [Milvus](https://milvus.io/)\n",
    "\n",
    "In this experiment, we will experiment and compare different retrieval options for a RAG application.\n",
    "\n",
    "We use [Milvus](https://milvus.io/) vector store as our database. Milvus is chosen as it is optimized for storing both dense and sparse vectors. Don't worry if you don't know what these terms mean, we will introduce those shortly.\n",
    "\n",
    "> It is recommended to run this notebook on a GPU depending on the size of the PDF file.\n",
    "\n",
    "<a target=\"_blank\" href=\"https://colab.research.google.com/github/fuzzylabs/innovation-rag-search-retrieval\">\n",
    "  <img src=\"https://colab.research.google.com/assets/colab-badge.svg\" alt=\"Open In Colab\"/>\n",
    "</a>\n",
    "\n",
    "## Getting Started\n",
    "\n",
    "For first pass, click `Run -> Run All Cells` from the drop-down.\n",
    "\n",
    "Head down to the `Comparison` cell at the bottom of the notebook and select various approaches to compare the outputs of retrieved documents from these approaches.\n",
    "\n",
    "> If using [Google Colab](https://colab.research.google.com/), you need to upload the files : `data_pipeline.py`, `result_collector.py`, `milvus.py` and `data` folder  manually."
   ]
  },
  {
   "cell_type": "code",
   "execution_count": 1,
   "metadata": {
    "id": "jLWQB0TihzWl"
   },
   "outputs": [],
   "source": [
    "# Required for Google Colab\n",
    "# !pip install langchain-community langchain-text-splitters pypdf \"pymilvus[model]\" flagembedding -qq"
   ]
  },
  {
   "cell_type": "markdown",
   "metadata": {
    "id": "8N1TmqoNhSnT",
    "jp-MarkdownHeadingCollapsed": true
   },
   "source": [
    "## Parameters\n",
    "\n",
    "The following parameters are used in the experiment.\n",
    "\n",
    "```\n",
    "QUERY = \"Who manufactured STM32F429ZIT6U microcontroller?\"\n",
    "```\n",
    "\n",
    "We choose this particular question so that we can look if specific content is present in the context.\n",
    "\n",
    "Specifically, we are looking for following content in the retrieved documents.\n",
    "\n",
    "```\n",
    "In this chapter, many programs were developed using the NUCLEO board, provided with the STM32F429ZIT6U microcontroller. This microcontroller is manufactured by STMicroelectronics [13] using a Cortex-M4 processor designed by Arm Ltd. [14].\n",
    "```\n"
   ]
  },
  {
   "cell_type": "code",
   "execution_count": 2,
   "metadata": {
    "id": "6qrsOcgEhSnT"
   },
   "outputs": [],
   "source": [
    "######## Parameters #########\n",
    "\n",
    "# Data\n",
    "FILE_PATH = \"data/a_beginners_guide_to_designing_embedded_system_applications_on_arm_cortex-m_microcontrollers.pdf\"\n",
    "CHUNK_SIZE = 1000\n",
    "CHUNK_OVERLAP = 50\n",
    "COLLECTION_NAME = 'milvus_experiment_search'\n",
    "BATCH_SIZE = 32\n",
    "\n",
    "# Dense\n",
    "DENSE_MODEL_NAME = \"all-MiniLM-L6-v2\"\n",
    "DENSE_MODEL_DIM = 384\n",
    "DENSE_METRIC = 'COSINE'  # options: ['cosine', 'ip', 'l2']\n",
    "\n",
    "# Sparse\n",
    "SPARSE_MODEL_NAME = 'bgm3'  # options: ['bgm3', 'splade']\n",
    "SPARSE_METRIC = 'IP'\n",
    "\n",
    "# Full text\n",
    "FULL_TEXT_MODEL = 'bm25'\n",
    "\n",
    "# Re-ranker\n",
    "RERANKER_MODEL = 'bgm3' # options: [bgm3, crossencoder]\n",
    "\n",
    "# Query\n",
    "TOP_K = 5\n",
    "QUERY = \"Who manufactured STM32F429ZIT6U microcontroller?\""
   ]
  },
  {
   "cell_type": "code",
   "execution_count": 3,
   "metadata": {
    "colab": {
     "base_uri": "https://localhost:8080/"
    },
    "id": "-u3HM6bmhSnU",
    "outputId": "637ce648-ecba-4966-d43c-be8afbc3d2ae"
   },
   "outputs": [
    {
     "name": "stdout",
     "output_type": "stream",
     "text": [
      "Using device=cuda:0\n"
     ]
    }
   ],
   "source": [
    "# Load all imports required by the experiment\n",
    "import torch\n",
    "import pandas as pd\n",
    "from IPython.display import display\n",
    "from data_pipeline import prepare_data\n",
    "from langchain_text_splitters import RecursiveCharacterTextSplitter\n",
    "from milvus import CustomMilvusClient, sparse_to_dict\n",
    "from result_collector import rrf\n",
    "from sentence_transformers import SentenceTransformer\n",
    "from milvus_model.hybrid import BGEM3EmbeddingFunction\n",
    "from milvus_model.sparse import SpladeEmbeddingFunction, BM25EmbeddingFunction\n",
    "from pymilvus.model.reranker import BGERerankFunction, CrossEncoderRerankFunction\n",
    "\n",
    "pd.set_option('max_colwidth', 800)\n",
    "DEVICE = 'cuda:0' if torch.cuda.is_available() else 'cpu'\n",
    "\n",
    "print(f\"Using device={DEVICE}\")"
   ]
  },
  {
   "cell_type": "markdown",
   "metadata": {
    "id": "IUrD4oZShSnU",
    "jp-MarkdownHeadingCollapsed": true
   },
   "source": [
    "## Data Preprocessing\n",
    "\n",
    "> ⚠️ Make sure the pdf data is present in [data](./data) folder.\n",
    "\n",
    "In this step, we preprocess the PDF data defined by `FILE_PATH` parameter. This pre-processed data will be added in the vector store.\n",
    "\n",
    "- We use [PyPDFLoader](https://python.langchain.com/v0.1/docs/modules/data_connection/document_loaders/pdf/#using-pypdf) from langchain to read the PDF.\n",
    "- We use [RecursiveCharacterTextSplitter](https://python.langchain.com/v0.1/docs/modules/data_connection/document_transformers/recursive_text_splitter/) from langchain to split the text in small chunks. The parameters `CHUNK_SIZE` and `CHUNK_OVERLAP` configure the chunk size and chunk overlap.\n",
    "\n",
    "> ⚠️ This step takes about 3 mins for 600 page PDF document."
   ]
  },
  {
   "cell_type": "code",
   "execution_count": 4,
   "metadata": {
    "colab": {
     "base_uri": "https://localhost:8080/"
    },
    "id": "Of_MLpgqhSnV",
    "outputId": "3bfe0cf0-baaa-4171-f14d-b9c581121a9b"
   },
   "outputs": [
    {
     "name": "stdout",
     "output_type": "stream",
     "text": [
      "CPU times: user 2min 32s, sys: 1.2 s, total: 2min 34s\n",
      "Wall time: 2min 34s\n"
     ]
    }
   ],
   "source": [
    "%%time\n",
    "text_splitter = RecursiveCharacterTextSplitter(\n",
    "    chunk_size=CHUNK_SIZE,\n",
    "    chunk_overlap=CHUNK_OVERLAP,\n",
    "    length_function=len,\n",
    "    is_separator_regex=False,\n",
    ")\n",
    "docs = prepare_data(FILE_PATH, text_splitter)"
   ]
  },
  {
   "cell_type": "code",
   "execution_count": 5,
   "metadata": {
    "colab": {
     "base_uri": "https://localhost:8080/"
    },
    "id": "PQbvUE_AhSnV",
    "outputId": "2b09ecf2-1bbf-41a5-ab62-2a13c6cb1419"
   },
   "outputs": [
    {
     "data": {
      "text/plain": [
       "Document(metadata={'source': 'data/a_beginners_guide_to_designing_embedded_system_applications_on_arm_cortex-m_microcontrollers.pdf', 'page': 0}, page_content='A Beginner’s Guide to Designing \\nEmbedded System Applications on \\nArm Cortex-M Microcontrollers\\nAriel Lutenberg, Pablo Gomez, Eric PerniaTEXTBOOK\\nEmbedded Systems Design')"
      ]
     },
     "execution_count": 5,
     "metadata": {},
     "output_type": "execute_result"
    }
   ],
   "source": [
    "docs[0]"
   ]
  },
  {
   "cell_type": "markdown",
   "metadata": {
    "id": "9M2SgybLhSnW"
   },
   "source": [
    "## Data Ingestion\n",
    "\n",
    "In this step, we store the chunked texts in Milvus vector store.\n",
    "\n",
    "Here's how it works\n",
    "\n",
    "- We load a dense model defined by `DENSE_MODEL_NAME` parameter on a GPU\n",
    "- We load a sparse model defined by `SPARSE_MODEL_NAME` parameter on a GPU\n",
    "- We load BM25 model used for full text search approach\n"
   ]
  },
  {
   "cell_type": "code",
   "execution_count": null,
   "metadata": {
    "id": "EC47VPRqhSnW"
   },
   "outputs": [],
   "source": [
    "# dense embedding model\n",
    "dense_model = SentenceTransformer(DENSE_MODEL_NAME, device=DEVICE)"
   ]
  },
  {
   "cell_type": "code",
   "execution_count": null,
   "metadata": {
    "id": "YvcM2w1ahSnW"
   },
   "outputs": [],
   "source": [
    "# sparse embedding model\n",
    "sparse_model = None\n",
    "if SPARSE_MODEL_NAME == 'bgm3':\n",
    "    sparse_model = BGEM3EmbeddingFunction(model_name=\"BAAI/bge-m3\", device=DEVICE, batch_size=BATCH_SIZE, return_dense=False)\n",
    "elif SPARSE_MODEL_NAME == 'splade':\n",
    "    sparse_model = SpladeEmbeddingFunction(model_name=\"naver/splade-cocondenser-ensembledistil\", device=DEVICE, batch_size=BATCH_SIZE)"
   ]
  },
  {
   "cell_type": "code",
   "execution_count": 8,
   "metadata": {
    "id": "52S7q-T_hSnX"
   },
   "outputs": [],
   "source": [
    "# BM25 model for full text search\n",
    "texts = []\n",
    "for doc in docs:\n",
    "    texts.append(doc.page_content)\n",
    "bm25_model = BM25EmbeddingFunction(corpus=texts)"
   ]
  },
  {
   "cell_type": "markdown",
   "metadata": {
    "id": "XTcTs-BehSnX"
   },
   "source": [
    "Next, we wrote a code that simplifies connecting to Milvus store. It also does all of the heavy lifting for us by providing us useful function to store and retrieve stuff from the vector store.\n",
    "\n",
    "> The custom code is located in [milvus.py](./milvus.py)."
   ]
  },
  {
   "cell_type": "code",
   "execution_count": 9,
   "metadata": {
    "id": "6rkpl8QThSnY"
   },
   "outputs": [],
   "source": [
    "# Create a milvus store using Milvus Lite as a database\n",
    "# To keep setup simple, we use a standalone database\n",
    "# This is not recommended for production\n",
    "milvus_client = CustomMilvusClient()"
   ]
  },
  {
   "cell_type": "code",
   "execution_count": 10,
   "metadata": {
    "id": "N3M3eTLFhSnY"
   },
   "outputs": [],
   "source": [
    "# Create a collection in Milvus vector store\n",
    "milvus_client.create_collection(\n",
    "    collection_name=COLLECTION_NAME,\n",
    "    dense_dim=DENSE_MODEL_DIM,\n",
    "    dense_distance_metric=DENSE_METRIC\n",
    ")"
   ]
  },
  {
   "cell_type": "markdown",
   "metadata": {
    "id": "4lI4eZHLhSnY"
   },
   "source": [
    "> ⚠️ This step is resource intensive about 2 mins on Nvidia GPU.\n",
    "\n",
    "> It might take around 10-15 mins if running on CPU.\n",
    "\n",
    "> It calculates the embeddings (both dense and sparse) for entire dataset."
   ]
  },
  {
   "cell_type": "code",
   "execution_count": 11,
   "metadata": {
    "colab": {
     "base_uri": "https://localhost:8080/"
    },
    "id": "_eyrSk3mhSnY",
    "outputId": "7badb872-b952-4e4b-b321-1ceb208eaf3c"
   },
   "outputs": [
    {
     "name": "stderr",
     "output_type": "stream",
     "text": [
      "Inference Embeddings: 100%|██████████████████████████████████████████████████████████████████████████████████████████████████████████████████████████████████████████████████| 52/52 [01:34<00:00,  1.82s/it]\n"
     ]
    },
    {
     "name": "stdout",
     "output_type": "stream",
     "text": [
      "CPU times: user 1min 44s, sys: 458 ms, total: 1min 44s\n",
      "Wall time: 1min 42s\n"
     ]
    }
   ],
   "source": [
    "%%time\n",
    "\n",
    "# Get embeddings for all documents using BM25 model\n",
    "docs_embeddings = bm25_model.encode_documents(texts)\n",
    "\n",
    "# Store the chunks and metadata\n",
    "# Also calculate the dense and sparse embedding for the chunks while inserting\n",
    "# These embeddings are also stored along with chunk and metadata\n",
    "milvus_client.store(\n",
    "    docs=docs,\n",
    "    collection_name=COLLECTION_NAME,\n",
    "    dense_model=dense_model,\n",
    "    sparse_model=sparse_model,\n",
    "    full_text_search_document_embeddings=docs_embeddings,\n",
    "    batch_size=BATCH_SIZE\n",
    ")"
   ]
  },
  {
   "cell_type": "markdown",
   "metadata": {
    "id": "AOyniz_MhSnY",
    "jp-MarkdownHeadingCollapsed": true
   },
   "source": [
    "# Dense\n",
    "\n",
    "This is the most popular approach for retrieving *semantically similar* documents to the query with dense vector. The dense vector captures the semantic meaning of the text using the embedding model.\n",
    "\n",
    "![dense](./assets/dense_retrieval_vector_store.png)\n",
    "\n",
    "A *dense embedding model* creates dense vector for the search query. This vector is matched against all the entries in the database to find closest neighbors to the search query using a *distance metric*."
   ]
  },
  {
   "cell_type": "code",
   "execution_count": 12,
   "metadata": {
    "colab": {
     "base_uri": "https://localhost:8080/"
    },
    "id": "FMdDqCarhSnZ",
    "outputId": "4f98f958-4f17-4627-eaaa-e0d1b0da6362"
   },
   "outputs": [
    {
     "name": "stdout",
     "output_type": "stream",
     "text": [
      "CPU times: user 12.3 ms, sys: 962 μs, total: 13.2 ms\n",
      "Wall time: 13.4 ms\n"
     ]
    }
   ],
   "source": [
    "%%time\n",
    "\n",
    "# Get the dense embedding vector for the query\n",
    "query_embed = dense_model.encode([QUERY])\n",
    "\n",
    "# Define the search parameters (distance metric used to compare two vectors)\n",
    "dense_search_params = {\"metric_type\": DENSE_METRIC, \"params\": {}}\n",
    "\n",
    "# Get the TOP_K closest documents to the query\n",
    "result_docs = milvus_client.dense_search(\n",
    "    collection_name=COLLECTION_NAME,\n",
    "    query_dense_embedding=query_embed,\n",
    "    top_k=TOP_K,\n",
    "    dense_search_params=dense_search_params,\n",
    ")"
   ]
  },
  {
   "cell_type": "code",
   "execution_count": 13,
   "metadata": {
    "colab": {
     "base_uri": "https://localhost:8080/"
    },
    "id": "Jpl9A2cShSnZ",
    "outputId": "49c9a67b-e9ea-400f-a4fe-b264f0875669"
   },
   "outputs": [
    {
     "data": {
      "text/plain": [
       "{'id': '452605966721745098',\n",
       " 'distance': 0.5443625450134277,\n",
       " 'entity': {'text': 'Chapter 1 | Introduction to Embedded Systems \\n37The STM32F429ZIT6U microcontroller includes a Cortex-M4 processor , as shown in Figure\\xa01.22. It \\ncan be appreciated that, beyond the processor, the microcontroller includes other peripherals such as \\ncommunication cores (ethernet, USB, UART, etc.), memory, timers, and GPIO (General Purpose Input Output) ports. \\nNUCLEO\\n-F429ZI32F429ZIT6U\\nARM7B776 VQ\\nPHL 7B 7213e412000K620 Y12000\\nK620 Y\\n120 00K620 YDGKYD\\nKMS-1 102NL1706C\\nSTM32F103CBT6\\ne393701GH218CHN\\nST890C\\nGK717\\n11\\n22\\n33\\n44\\n55\\n66\\n77\\n88\\n9\\n10\\n11\\n12\\n13\\n14\\n15PH_0\\nPD_0\\nPD_1\\nPG_0PH_1PF_2PA_7PF_10PF_5PF_3PC_3PC_030\\n29\\n28\\n27\\n2616\\n2515\\n2414\\n2313\\n2212\\n2111\\n2010\\n199\\n18\\n17\\n165V\\nVIN3.3VIOREF\\nGND\\nGNDGND\\nNCNC\\nUART2_RX\\nCAN1_TDCAN1_ DRADC1/7ADC1/3\\nADC1/10\\nADC1/13\\nADC3/9\\nADC3/15\\nADC3/8\\nADC3/5NRSTPC_8\\nPC_9\\nPC_10\\nPC_11\\nPC_12\\nPD_2\\nPG_2\\nPG_3\\nGNDPD_7\\nPD_6\\nPD_5\\nPD_4\\nPD_3\\nPE_2\\nPE_4\\nPE_3\\nPF_7\\nPG_1UART2_RX\\nUART2_ XT\\nUART_X7TUART2_RTS\\nUART2_CTSUART3_TX\\nUART3_RX\\nUART5_TX\\nUART5_RX\\nPA_3\\nSPI1_MOSISPI3_SCK\\nSPI2_SCK'}}"
      ]
     },
     "execution_count": 13,
     "metadata": {},
     "output_type": "execute_result"
    }
   ],
   "source": [
    "result_docs[0]"
   ]
  },
  {
   "cell_type": "code",
   "execution_count": 14,
   "metadata": {
    "id": "iweZugrQhSnZ"
   },
   "outputs": [],
   "source": [
    "dense_docs = [(res['entity']['text'], res['distance']) for res in result_docs]"
   ]
  },
  {
   "cell_type": "markdown",
   "metadata": {
    "id": "wS5aJYN7hSnZ",
    "jp-MarkdownHeadingCollapsed": true
   },
   "source": [
    "### Result\n",
    "\n",
    "The goal here is to verify if following context is present in any of the retrieved documents.\n",
    "\n",
    "```\n",
    "In this chapter, many programs were developed using the NUCLEO board, provided with the STM32F429ZIT6U microcontroller. This microcontroller is manufactured by STMicroelectronics [13] using a Cortex-M4 processor designed by Arm Ltd. [14].\n",
    "```\n",
    "\n",
    "If it is present then our retrieval approach was able to find the correct document from the vector store.\n",
    "\n",
    "> **It is not present in the any of retrieved documents.**"
   ]
  },
  {
   "cell_type": "code",
   "execution_count": 15,
   "metadata": {
    "colab": {
     "base_uri": "https://localhost:8080/",
     "height": 382
    },
    "id": "rBDtR1pOhSnZ",
    "outputId": "40182792-aa8a-4719-bc8c-8252314c681a"
   },
   "outputs": [
    {
     "data": {
      "text/html": [
       "<div>\n",
       "<style scoped>\n",
       "    .dataframe tbody tr th:only-of-type {\n",
       "        vertical-align: middle;\n",
       "    }\n",
       "\n",
       "    .dataframe tbody tr th {\n",
       "        vertical-align: top;\n",
       "    }\n",
       "\n",
       "    .dataframe thead th {\n",
       "        text-align: right;\n",
       "    }\n",
       "</style>\n",
       "<table border=\"1\" class=\"dataframe\">\n",
       "  <thead>\n",
       "    <tr style=\"text-align: right;\">\n",
       "      <th></th>\n",
       "      <th>Retrieved text</th>\n",
       "      <th>score</th>\n",
       "    </tr>\n",
       "  </thead>\n",
       "  <tbody>\n",
       "    <tr>\n",
       "      <th>0</th>\n",
       "      <td>Chapter 1 | Introduction to Embedded Systems \\n37The STM32F429ZIT6U microcontroller includes a Cortex-M4 processor , as shown in Figure 1.22. It \\ncan be appreciated that, beyond the processor, the microcontroller includes other peripherals such as \\ncommunication cores (ethernet, USB, UART, etc.), memory, timers, and GPIO (General Purpose Input Output) ports. \\nNUCLEO\\n-F429ZI32F429ZIT6U\\nARM7B776 VQ\\nPHL 7B 7213e412000K620 Y12000\\nK620 Y\\n120 00K620 YDGKYD\\nKMS-1 102NL1706C\\nSTM32F103CBT6\\ne393701GH218CHN\\nST890C\\nGK717\\n11\\n22\\n33\\n44\\n55\\n66\\n77\\n88\\n9\\n10\\n11\\n12\\n13\\n14\\n15PH_0\\nPD_0\\nPD_1\\nPG_0PH_1PF_2PA_7PF_10PF_5PF_3PC_3PC_030\\n29\\n28\\n27\\n2616\\n2515\\n2414\\n2313\\n2212\\n2111\\n2010\\n199\\n18\\n17\\n165V\\nVIN3.3VIOREF\\nGND\\nGNDGND\\nNCNC\\nUART2_RX\\nCAN1_TDCAN1_ DRADC1/7ADC1/3\\nADC1/1...</td>\n",
       "      <td>0.544363</td>\n",
       "    </tr>\n",
       "    <tr>\n",
       "      <th>1</th>\n",
       "      <td>38\\nA Beginner’s Guide to Designing Embedded System ApplicationsFigure 1.23 shows how different elements of the STM32F429ZIT6U microcontroller  are mapped \\nto the Zio and Arduino-compatible headers of the NUCLEO-F429ZI board. Some other elements \\nare mapped to the CN11 and CN12 headers of the NUCLEO-F429ZI board, as will be discussed in upcoming chapters. Further information on these headers is available from [17].\\nIn this chapter, buttons were connected to the NUCLEO board using pins D2 to D7. From Figure 1.23, \\nit can be seen that those digital inputs can also be referred to as PF_15, PE_13, P_14, PE_11, PE_9, and PF_13, respectively. Throughout this book, many pins of the ST Zio connectors will be used, and they will be referred to in the code using the names shown in Figure 1.23.</td>\n",
       "      <td>0.475778</td>\n",
       "    </tr>\n",
       "    <tr>\n",
       "      <th>2</th>\n",
       "      <td>Chapter 4 | Finite-State Machines and the Real-Time Clock\\n171 References\\n[1] “4x4 Keypad Module Pinout, Configuration, Features, Circuit &amp; Datasheet” . Accessed July 9, \\n2021. \\n[2] “Breadboard Power Supply Module” . Accessed July 9, 2021. https://components101.com/modules/5v-mb102-breadboard-power-supply-module \\n[3] “UM1974 User manual - STM32 Nucleo-144 boards (MB1137)” . Accessed July 9, 2021. https://www.st.com/resource/en/user_manual/dm00244518-stm32-nucleo144-boards-mb1137-stmicroelectronics.pdf \\n[4] “GitHub - armBookCodeExamples/Directory” . Accessed July 9, 2021. https://github.com/armBookCodeExamples/Directory/ \\n[5] “Time - API references and tutorials | Mbed OS 6 Documentation ” . Accessed July 9, 2021. \\nhttps://os.mbed.com/docs/mbed-os/v6.12/apis/time.html \\n[6] “&lt;cst...</td>\n",
       "      <td>0.473938</td>\n",
       "    </tr>\n",
       "    <tr>\n",
       "      <th>3</th>\n",
       "      <td>M_14, STM_PIN_DATA_EXT(STM_MODE_AF_PP, GPIO_NOPULL, GPIO_AF9_TIM14,  1, 0)}, \\n    {NC, NC, 0}\\n}; \\nCode 8.3 Notes on the PinNames.h file of the NUCLEO-F429ZI  board.</td>\n",
       "      <td>0.471764</td>\n",
       "    </tr>\n",
       "    <tr>\n",
       "      <th>4</th>\n",
       "      <td>[3] “Arm Keil | Cloud-based Development T ools for IoT, ML and Embedded” . Accessed July 9, 2021. https://www.keil.arm.com/ \\n[4] “Log In | Mbed” . Accessed July 9, 2021. https://os.mbed.com/account/login/  \\n[5] “Keil Studio” . Accessed July 9, 2021. https://studio.keil.arm.com/  \\n[6] “Documentation - Arm Developer” . Accessed July 9, 2021. https://developer.arm.com/documentation \\n[7] “Arm Mbed Studio” . Accessed July 9, 2021. https://os.mbed.com/studio/ \\n[8] “STM32CudeIDE - Integrated Development Environment” . Accessed July 9, 2021. https://www.st.com/en/development-tools/stm32cubeide.html \\n[9] “STM32F429ZI - High-performance advanced line, Arm Cortex-M4” . Accessed July 9, 2021.  https://www.st.com/en/microcontrollers-microprocessors/stm32f429zi.html</td>\n",
       "      <td>0.446006</td>\n",
       "    </tr>\n",
       "  </tbody>\n",
       "</table>\n",
       "</div>"
      ],
      "text/plain": [
       "                                                                                                                                                                                                                                                                                                                                                                                                                                                                                                                                                                                                                                                                                                                                                                                                                    Retrieved text  \\\n",
       "0  Chapter 1 | Introduction to Embedded Systems \\n37The STM32F429ZIT6U microcontroller includes a Cortex-M4 processor , as shown in Figure 1.22. It \\ncan be appreciated that, beyond the processor, the microcontroller includes other peripherals such as \\ncommunication cores (ethernet, USB, UART, etc.), memory, timers, and GPIO (General Purpose Input Output) ports. \\nNUCLEO\\n-F429ZI32F429ZIT6U\\nARM7B776 VQ\\nPHL 7B 7213e412000K620 Y12000\\nK620 Y\\n120 00K620 YDGKYD\\nKMS-1 102NL1706C\\nSTM32F103CBT6\\ne393701GH218CHN\\nST890C\\nGK717\\n11\\n22\\n33\\n44\\n55\\n66\\n77\\n88\\n9\\n10\\n11\\n12\\n13\\n14\\n15PH_0\\nPD_0\\nPD_1\\nPG_0PH_1PF_2PA_7PF_10PF_5PF_3PC_3PC_030\\n29\\n28\\n27\\n2616\\n2515\\n2414\\n2313\\n2212\\n2111\\n2010\\n199\\n18\\n17\\n165V\\nVIN3.3VIOREF\\nGND\\nGNDGND\\nNCNC\\nUART2_RX\\nCAN1_TDCAN1_ DRADC1/7ADC1/3\\nADC1/1...   \n",
       "1   38\\nA Beginner’s Guide to Designing Embedded System ApplicationsFigure 1.23 shows how different elements of the STM32F429ZIT6U microcontroller  are mapped \\nto the Zio and Arduino-compatible headers of the NUCLEO-F429ZI board. Some other elements \\nare mapped to the CN11 and CN12 headers of the NUCLEO-F429ZI board, as will be discussed in upcoming chapters. Further information on these headers is available from [17].\\nIn this chapter, buttons were connected to the NUCLEO board using pins D2 to D7. From Figure 1.23, \\nit can be seen that those digital inputs can also be referred to as PF_15, PE_13, P_14, PE_11, PE_9, and PF_13, respectively. Throughout this book, many pins of the ST Zio connectors will be used, and they will be referred to in the code using the names shown in Figure 1.23.   \n",
       "2  Chapter 4 | Finite-State Machines and the Real-Time Clock\\n171 References\\n[1] “4x4 Keypad Module Pinout, Configuration, Features, Circuit & Datasheet” . Accessed July 9, \\n2021. \\n[2] “Breadboard Power Supply Module” . Accessed July 9, 2021. https://components101.com/modules/5v-mb102-breadboard-power-supply-module \\n[3] “UM1974 User manual - STM32 Nucleo-144 boards (MB1137)” . Accessed July 9, 2021. https://www.st.com/resource/en/user_manual/dm00244518-stm32-nucleo144-boards-mb1137-stmicroelectronics.pdf \\n[4] “GitHub - armBookCodeExamples/Directory” . Accessed July 9, 2021. https://github.com/armBookCodeExamples/Directory/ \\n[5] “Time - API references and tutorials | Mbed OS 6 Documentation ” . Accessed July 9, 2021. \\nhttps://os.mbed.com/docs/mbed-os/v6.12/apis/time.html \\n[6] “<cst...   \n",
       "3                                                                                                                                                                                                                                                                                                                                                                                                                                                                                                                                                                                                                                                          M_14, STM_PIN_DATA_EXT(STM_MODE_AF_PP, GPIO_NOPULL, GPIO_AF9_TIM14,  1, 0)}, \\n    {NC, NC, 0}\\n}; \\nCode 8.3 Notes on the PinNames.h file of the NUCLEO-F429ZI  board.   \n",
       "4                                 [3] “Arm Keil | Cloud-based Development T ools for IoT, ML and Embedded” . Accessed July 9, 2021. https://www.keil.arm.com/ \\n[4] “Log In | Mbed” . Accessed July 9, 2021. https://os.mbed.com/account/login/  \\n[5] “Keil Studio” . Accessed July 9, 2021. https://studio.keil.arm.com/  \\n[6] “Documentation - Arm Developer” . Accessed July 9, 2021. https://developer.arm.com/documentation \\n[7] “Arm Mbed Studio” . Accessed July 9, 2021. https://os.mbed.com/studio/ \\n[8] “STM32CudeIDE - Integrated Development Environment” . Accessed July 9, 2021. https://www.st.com/en/development-tools/stm32cubeide.html \\n[9] “STM32F429ZI - High-performance advanced line, Arm Cortex-M4” . Accessed July 9, 2021.  https://www.st.com/en/microcontrollers-microprocessors/stm32f429zi.html   \n",
       "\n",
       "      score  \n",
       "0  0.544363  \n",
       "1  0.475778  \n",
       "2  0.473938  \n",
       "3  0.471764  \n",
       "4  0.446006  "
      ]
     },
     "metadata": {},
     "output_type": "display_data"
    }
   ],
   "source": [
    "df = pd.DataFrame(dense_docs, columns=['Retrieved text', 'score'])\n",
    "display(df)"
   ]
  },
  {
   "cell_type": "markdown",
   "metadata": {
    "id": "2uWzTBF2hSna",
    "jp-MarkdownHeadingCollapsed": true
   },
   "source": [
    "# Sparse\n",
    "\n",
    "Unlike dense vector that capture semantic meaning of the text, sparse vectors aim at pruning and expanding keywords. This allows a document to be represented by sparse vectors composed of pruned keywords.\n",
    "\n",
    "The removal of redundant terms here resembles the “stopword removal” process seen in traditional search engines, where commonly occurring but non-informative words like “the” and “a” are removed during index building.\n",
    "\n",
    "![sparse](./assets/sparse_retrieval_vector_store.png)\n",
    "\n",
    "Similar to dense approach above, a *sparse embedding model* creates a sparse vector for the search query. This vector is matched against all the entries in the database to find closest neighbors to the search query using a *distance metric*."
   ]
  },
  {
   "cell_type": "markdown",
   "metadata": {
    "id": "LF4TDQlphSna"
   },
   "source": [
    "We use SPLADE embedding models as sparse models.\n",
    "\n",
    "> A significant advantage of SPLADE's embedding technique is its inherent capacity for term expansion. It identifies and includes relevant terms not present in the original text. For instance, in the example provided, tokens such as \"exploration\" and \"created\" emerge in the sparse vector despite their absence from the initial sentence. ([Link](https://zilliz.com/learn/bge-m3-and-splade-two-machine-learning-models-for-generating-sparse-embeddings))"
   ]
  },
  {
   "cell_type": "code",
   "execution_count": 16,
   "metadata": {
    "id": "Ryb9amW5hSna"
   },
   "outputs": [],
   "source": [
    "# Get the sparse embedding vector for the query\n",
    "query_embed = sparse_model.encode_queries([QUERY])\n",
    "# Convert sparse array to list\n",
    "if SPARSE_MODEL_NAME == 'bgm3':\n",
    "    sparse_query_embed = sparse_to_dict(query_embed['sparse'])\n",
    "if SPARSE_MODEL_NAME == 'splade':\n",
    "    sparse_query_embed = sparse_to_dict(query_embed)"
   ]
  },
  {
   "cell_type": "code",
   "execution_count": 17,
   "metadata": {
    "colab": {
     "base_uri": "https://localhost:8080/"
    },
    "id": "p8sq6-t2hSna",
    "outputId": "29b0f94f-346d-4851-f9b5-a01b1eac8aba"
   },
   "outputs": [
    {
     "name": "stdout",
     "output_type": "stream",
     "text": [
      "CPU times: user 73.6 ms, sys: 2.99 ms, total: 76.6 ms\n",
      "Wall time: 76.1 ms\n"
     ]
    }
   ],
   "source": [
    "%%time\n",
    "\n",
    "# Get the sparse embedding vector for the query\n",
    "query_embed = sparse_model.encode_queries([QUERY])\n",
    "# Convert sparse array to list\n",
    "if SPARSE_MODEL_NAME == 'bgm3':\n",
    "    sparse_query_embed = sparse_to_dict(query_embed['sparse'])\n",
    "if SPARSE_MODEL_NAME == 'splade':\n",
    "    sparse_query_embed = sparse_to_dict(query_embed)\n",
    "\n",
    "# Define the search parameters (distance metric used to compare two vectors)\n",
    "sparse_search_params = {\"metric_type\": SPARSE_METRIC, \"params\": {}}\n",
    "\n",
    "# Get the TOP_K closest documents to the query\n",
    "result_docs = milvus_client.sparse_search(\n",
    "    collection_name=COLLECTION_NAME,\n",
    "    query_sparse_embedding=sparse_query_embed,\n",
    "    top_k=TOP_K,\n",
    "    sparse_search_params=sparse_search_params,\n",
    ")"
   ]
  },
  {
   "cell_type": "code",
   "execution_count": 18,
   "metadata": {
    "id": "KprYYo1UhSna"
   },
   "outputs": [],
   "source": [
    "sparse_docs = [(res['entity']['text'], res['distance']) for res in result_docs]"
   ]
  },
  {
   "cell_type": "markdown",
   "metadata": {
    "id": "yn1gK5xuhSna"
   },
   "source": [
    "### Result\n",
    "\n",
    "The goal here is to verify if following context is present in any of the retrieved documents.\n",
    "\n",
    "```txt\n",
    "In this chapter, many programs were developed using the NUCLEO board, provided with the STM32F429ZIT6U microcontroller. This microcontroller is manufactured by STMicroelectronics [13] using a Cortex-M4 processor designed by Arm Ltd. [14].\n",
    "```\n",
    "\n",
    "If it is present then our retrieval approach was able to find the correct document from the vector store.\n",
    "\n",
    "> **It is present in the second row of Retrieved text.**"
   ]
  },
  {
   "cell_type": "code",
   "execution_count": 19,
   "metadata": {
    "colab": {
     "base_uri": "https://localhost:8080/",
     "height": 400
    },
    "id": "h5hmXsV1hSnb",
    "outputId": "3c106ef4-a38e-47a3-da44-92a0fb2790b3"
   },
   "outputs": [
    {
     "data": {
      "text/html": [
       "<div>\n",
       "<style scoped>\n",
       "    .dataframe tbody tr th:only-of-type {\n",
       "        vertical-align: middle;\n",
       "    }\n",
       "\n",
       "    .dataframe tbody tr th {\n",
       "        vertical-align: top;\n",
       "    }\n",
       "\n",
       "    .dataframe thead th {\n",
       "        text-align: right;\n",
       "    }\n",
       "</style>\n",
       "<table border=\"1\" class=\"dataframe\">\n",
       "  <thead>\n",
       "    <tr style=\"text-align: right;\">\n",
       "      <th></th>\n",
       "      <th>Retrieved text</th>\n",
       "      <th>score</th>\n",
       "    </tr>\n",
       "  </thead>\n",
       "  <tbody>\n",
       "    <tr>\n",
       "      <th>0</th>\n",
       "      <td>Chapter 1 | Introduction to Embedded Systems \\n37The STM32F429ZIT6U microcontroller includes a Cortex-M4 processor , as shown in Figure 1.22. It \\ncan be appreciated that, beyond the processor, the microcontroller includes other peripherals such as \\ncommunication cores (ethernet, USB, UART, etc.), memory, timers, and GPIO (General Purpose Input Output) ports. \\nNUCLEO\\n-F429ZI32F429ZIT6U\\nARM7B776 VQ\\nPHL 7B 7213e412000K620 Y12000\\nK620 Y\\n120 00K620 YDGKYD\\nKMS-1 102NL1706C\\nSTM32F103CBT6\\ne393701GH218CHN\\nST890C\\nGK717\\n11\\n22\\n33\\n44\\n55\\n66\\n77\\n88\\n9\\n10\\n11\\n12\\n13\\n14\\n15PH_0\\nPD_0\\nPD_1\\nPG_0PH_1PF_2PA_7PF_10PF_5PF_3PC_3PC_030\\n29\\n28\\n27\\n2616\\n2515\\n2414\\n2313\\n2212\\n2111\\n2010\\n199\\n18\\n17\\n165V\\nVIN3.3VIOREF\\nGND\\nGNDGND\\nNCNC\\nUART2_RX\\nCAN1_TDCAN1_ DRADC1/7ADC1/3\\nADC1/1...</td>\n",
       "      <td>0.406629</td>\n",
       "    </tr>\n",
       "    <tr>\n",
       "      <th>1</th>\n",
       "      <td>Chapter 1 | Introduction to Embedded Systems \\n33Proposed Exercise\\n1. How can the code be changed in such a way that the system is blocked after three incorrect codes \\nare entered?\\nAnswer to the Exercise\\n1. It can be achieved by means of the change in T able 1.11.\\nT able 1.11 Proposed modification in the code in order to achieve the new behavior.\\nLine in Code 1.5 New code to be used\\n40 if ( numberOfIncorrectCodes &lt; 5 ) 40 if ( numberOfIncorrectCodes &lt; 3 )\\n1.3 Under the Hood\\n1.3.1 Brief Introduction to the Cortex-M Processor  Family and the NUCLEO Board\\nIn this chapter, many programs were developed using the NUCLEO board, provided with the \\nSTM32F429ZIT6U microcontroller . This microcontroller is manufactured by STMicroelectronics [13]</td>\n",
       "      <td>0.312081</td>\n",
       "    </tr>\n",
       "    <tr>\n",
       "      <th>2</th>\n",
       "      <td>38\\nA Beginner’s Guide to Designing Embedded System ApplicationsFigure 1.23 shows how different elements of the STM32F429ZIT6U microcontroller  are mapped \\nto the Zio and Arduino-compatible headers of the NUCLEO-F429ZI board. Some other elements \\nare mapped to the CN11 and CN12 headers of the NUCLEO-F429ZI board, as will be discussed in upcoming chapters. Further information on these headers is available from [17].\\nIn this chapter, buttons were connected to the NUCLEO board using pins D2 to D7. From Figure 1.23, \\nit can be seen that those digital inputs can also be referred to as PF_15, PE_13, P_14, PE_11, PE_9, and PF_13, respectively. Throughout this book, many pins of the ST Zio connectors will be used, and they will be referred to in the code using the names shown in Figure 1.23.</td>\n",
       "      <td>0.307954</td>\n",
       "    </tr>\n",
       "    <tr>\n",
       "      <th>3</th>\n",
       "      <td>This section will begin the implementation of the smart home system, following the diagram shown in Figure 1.3. This first implementation will detect fire using an over temperature detector and a gas detector and, if it detects fire, it will activate the alarm until a given code is entered.  For this purpose, the NUCLEO board [1] provided with the STM32F429ZIT6U microcontroller [9] (referred to as the STM32 microcontroller ) is used.</td>\n",
       "      <td>0.268825</td>\n",
       "    </tr>\n",
       "    <tr>\n",
       "      <th>4</th>\n",
       "      <td>Index\\n567 STM 32F429 ZIT 6U microcontroller 5, 33, 37, 38 \\n stop bit 46, 64, 65, 80, 256 , 257 , 273 , 468  \\n ST Zio connectors xiv, 6, 9, 37, 38, 44, 346  \\n superloop 13, 519  \\n synchronous communication 255\\nT TCP server 456 , 457 , 459 , 460 –463 , 491  \\n temperature sensor 4, 5, 87, 106 , 123 , 182 , 220 , 233 , 334 , 486 , 550  \\n time management xvi, 86, 95, 99, 289 , 342 , 348 , 353  \\n timers xvi, xxvii, 37, 306 , 342 , 343 , 345 , 348 –350 , 353 , 354 , \\n 361 , 441 , 512 –517 , 533 , 535 , 537 , 538 , 539  \\n tm structure 153  \\n TO- 220  package 89\\nU UART xvi, xvii, 5, 44, 61, 63, 79, 82, 84, 86, 181 , 191 , 222 , 255 , 290 , 291 , \\n 306 , 350 , 420 , 423 , 447 , 455 , 461 , 465 , 468 , 544  \\n USB xiv, xxvii, 4, 9, 37, 44, 45, 63, 79, 82, 88, 132 , 449 , 506 , 507 ,...</td>\n",
       "      <td>0.245208</td>\n",
       "    </tr>\n",
       "  </tbody>\n",
       "</table>\n",
       "</div>"
      ],
      "text/plain": [
       "                                                                                                                                                                                                                                                                                                                                                                                                                                                                                                                                                                                                                                                                                                                                                                                                                    Retrieved text  \\\n",
       "0  Chapter 1 | Introduction to Embedded Systems \\n37The STM32F429ZIT6U microcontroller includes a Cortex-M4 processor , as shown in Figure 1.22. It \\ncan be appreciated that, beyond the processor, the microcontroller includes other peripherals such as \\ncommunication cores (ethernet, USB, UART, etc.), memory, timers, and GPIO (General Purpose Input Output) ports. \\nNUCLEO\\n-F429ZI32F429ZIT6U\\nARM7B776 VQ\\nPHL 7B 7213e412000K620 Y12000\\nK620 Y\\n120 00K620 YDGKYD\\nKMS-1 102NL1706C\\nSTM32F103CBT6\\ne393701GH218CHN\\nST890C\\nGK717\\n11\\n22\\n33\\n44\\n55\\n66\\n77\\n88\\n9\\n10\\n11\\n12\\n13\\n14\\n15PH_0\\nPD_0\\nPD_1\\nPG_0PH_1PF_2PA_7PF_10PF_5PF_3PC_3PC_030\\n29\\n28\\n27\\n2616\\n2515\\n2414\\n2313\\n2212\\n2111\\n2010\\n199\\n18\\n17\\n165V\\nVIN3.3VIOREF\\nGND\\nGNDGND\\nNCNC\\nUART2_RX\\nCAN1_TDCAN1_ DRADC1/7ADC1/3\\nADC1/1...   \n",
       "1                                              Chapter 1 | Introduction to Embedded Systems \\n33Proposed Exercise\\n1. How can the code be changed in such a way that the system is blocked after three incorrect codes \\nare entered?\\nAnswer to the Exercise\\n1. It can be achieved by means of the change in T able 1.11.\\nT able 1.11 Proposed modification in the code in order to achieve the new behavior.\\nLine in Code 1.5 New code to be used\\n40 if ( numberOfIncorrectCodes < 5 ) 40 if ( numberOfIncorrectCodes < 3 )\\n1.3 Under the Hood\\n1.3.1 Brief Introduction to the Cortex-M Processor  Family and the NUCLEO Board\\nIn this chapter, many programs were developed using the NUCLEO board, provided with the \\nSTM32F429ZIT6U microcontroller . This microcontroller is manufactured by STMicroelectronics [13]   \n",
       "2   38\\nA Beginner’s Guide to Designing Embedded System ApplicationsFigure 1.23 shows how different elements of the STM32F429ZIT6U microcontroller  are mapped \\nto the Zio and Arduino-compatible headers of the NUCLEO-F429ZI board. Some other elements \\nare mapped to the CN11 and CN12 headers of the NUCLEO-F429ZI board, as will be discussed in upcoming chapters. Further information on these headers is available from [17].\\nIn this chapter, buttons were connected to the NUCLEO board using pins D2 to D7. From Figure 1.23, \\nit can be seen that those digital inputs can also be referred to as PF_15, PE_13, P_14, PE_11, PE_9, and PF_13, respectively. Throughout this book, many pins of the ST Zio connectors will be used, and they will be referred to in the code using the names shown in Figure 1.23.   \n",
       "3                                                                                                                                                                                                                                                                                                                                                                            This section will begin the implementation of the smart home system, following the diagram shown in Figure 1.3. This first implementation will detect fire using an over temperature detector and a gas detector and, if it detects fire, it will activate the alarm until a given code is entered.  For this purpose, the NUCLEO board [1] provided with the STM32F429ZIT6U microcontroller [9] (referred to as the STM32 microcontroller ) is used.   \n",
       "4  Index\\n567 STM 32F429 ZIT 6U microcontroller 5, 33, 37, 38 \\n stop bit 46, 64, 65, 80, 256 , 257 , 273 , 468  \\n ST Zio connectors xiv, 6, 9, 37, 38, 44, 346  \\n superloop 13, 519  \\n synchronous communication 255\\nT TCP server 456 , 457 , 459 , 460 –463 , 491  \\n temperature sensor 4, 5, 87, 106 , 123 , 182 , 220 , 233 , 334 , 486 , 550  \\n time management xvi, 86, 95, 99, 289 , 342 , 348 , 353  \\n timers xvi, xxvii, 37, 306 , 342 , 343 , 345 , 348 –350 , 353 , 354 , \\n 361 , 441 , 512 –517 , 533 , 535 , 537 , 538 , 539  \\n tm structure 153  \\n TO- 220  package 89\\nU UART xvi, xvii, 5, 44, 61, 63, 79, 82, 84, 86, 181 , 191 , 222 , 255 , 290 , 291 , \\n 306 , 350 , 420 , 423 , 447 , 455 , 461 , 465 , 468 , 544  \\n USB xiv, xxvii, 4, 9, 37, 44, 45, 63, 79, 82, 88, 132 , 449 , 506 , 507 ,...   \n",
       "\n",
       "      score  \n",
       "0  0.406629  \n",
       "1  0.312081  \n",
       "2  0.307954  \n",
       "3  0.268825  \n",
       "4  0.245208  "
      ]
     },
     "metadata": {},
     "output_type": "display_data"
    }
   ],
   "source": [
    "df = pd.DataFrame(sparse_docs, columns=['Retrieved text', 'score'])\n",
    "display(df)"
   ]
  },
  {
   "cell_type": "markdown",
   "metadata": {
    "id": "nTO_0VachSnb"
   },
   "source": [
    "### Behind the scenes\n",
    "\n",
    "Let us look at what is happening underneath.\n",
    "\n",
    "#### BG-M3 Model\n",
    "\n",
    "Converting the input `QUERY` to sparse vector, it splits the query into 17 tokens.\n",
    "\n",
    "```\n",
    "Who manufactured STM32F429ZIT6U microcontroller?\n",
    "```\n",
    "\n",
    "```\n",
    "{'Who': 0.12953617, 'manufacture': 0.16020282, 'd': 0.091110475, 'S': 0.06721472, 'TM': 0.17617896, '32': 0.22689886, 'F': 0.11322579, '4': 0.15599976, '29': 0.27151847, 'Z': 0.10745256, 'IT': 0.11309386, '6': 0.15854846, 'U': 0.16645822, 'micro': 0.11618528, 'control': 0.14702055, 'ler': 0.07770293, '?': 0.08084669}\n",
    "```\n",
    "\n",
    "#### SPLADE model\n",
    "\n",
    "\n",
    "\n",
    "Converting the input `QUERY` to sparse vector, it splits the query into 17 tokens.\n",
    "\n",
    "```\n",
    "Who manufactured STM32F429ZIT6U microcontroller?\n",
    "```\n",
    "\n",
    "```\n",
    "{'6': 0.2784199, 'was': 0.4095666, 'made': 0.18630832, '##t': 0.20043771, 'number': 0.24357973, 'company': 0.79065925, 'released': 0.18154573, '##m': 0.75104594, '##u': 0.71026725, 'built': 0.38410273, 'st': 1.078275, '##2': 0.5791122, 'version': 0.3670524, '##f': 0.54221535, 'produced': 0.048699185, '##6': 1.2283478, 'created': 0.20546432, '##7': 0.08966859, 'board': 0.065491915, '##8': 0.24234615, '##5': 0.0783504, '##9': 0.6524073, '##0': 0.16463445, 'japan': 0.0812762, 'model': 0.90034723, 'size': 0.03901115, 'bit': 0.04844096, 'phone': 0.42570505, 'artist': 0.3453439, 'engine': 0.029259194, 'computer': 0.26653406, '32': 0.5703893, 'machine': 0.2988682, 'founder': 0.5941807, 'equipment': 0.0976584, 'engineer': 0.1435498, 'card': 0.025972351, 'software': 0.31002012, 'product': 0.31025743, '42': 0.28687698, 'factory': 0.30368042, 'device': 0.44790846, '##zi': 1.1410882, 'bomb': 0.037998106, 'blade': 0.114703305, 'button': 0.121717736, 'manufactured': 1.4118975, 'manufacturer': 1.167563, '##ware': 0.25496414, '##con': 0.73543376, 'invented': 0.9074509, 'robot': 0.3348378, 'chip': 0.34066197, 'laser': 0.06289803, 'wireless': 0.21815224, 'ibm': 0.36131352, '##ller': 1.2883583, 'module': 0.2488344, 'controller': 0.35615563, 'micro': 1.142149, 'processor': 0.18267526, '##tro': 0.18034604, 'sensor': 0.42968535, 'printer': 0.07718009, 'comet': 0.38895768, '##60': 0.10095172, '##32': 1.471559, '##100': 0.2261489, 'semiconductor': 0.03776036, '##86': 0.017961161, '##42': 1.0425926, '##31': 0.68478733, '##38': 0.040672757, '##41': 0.10752951, '##26': 0.015482707}\n",
    "```\n",
    "\n",
    "The resulting weights refer to the relevance of each vocabulary word to the input tokens.\n",
    "\n"
   ]
  },
  {
   "cell_type": "code",
   "execution_count": 20,
   "metadata": {
    "colab": {
     "base_uri": "https://localhost:8080/"
    },
    "id": "oE0jyYWyhSnb",
    "outputId": "4055f7cd-1746-4844-acdc-559feacab590"
   },
   "outputs": [
    {
     "name": "stdout",
     "output_type": "stream",
     "text": [
      "Query: Who manufactured STM32F429ZIT6U microcontroller?\n",
      "Query tokens: {'Who': 0.12953617, 'manufacture': 0.16020282, 'd': 0.091110475, 'S': 0.06721472, 'TM': 0.17617896, '32': 0.22689886, 'F': 0.11322579, '4': 0.15599976, '29': 0.27151847, 'Z': 0.10745256, 'IT': 0.11309386, '6': 0.15854846, 'U': 0.16645822, 'micro': 0.11618528, 'control': 0.14702055, 'ler': 0.07770293, '?': 0.08084669}\n",
      "Length of query tokens: 17\n"
     ]
    }
   ],
   "source": [
    "if SPARSE_MODEL_NAME == 'bgm3':\n",
    "    # Get the token mapping from query\n",
    "    query_embed = sparse_model.encode_queries([QUERY])\n",
    "    sparse_query_embed = sparse_to_dict(query_embed['sparse'])\n",
    "    query_tokens = sparse_model.model.convert_id_to_token(sparse_query_embed)\n",
    "    print(f\"Query: {QUERY}\")\n",
    "    print(f\"Query tokens: {query_tokens}\")\n",
    "    print(f\"Length of query tokens: {len(query_tokens)}\")\n",
    "\n",
    "if SPARSE_MODEL_NAME == 'splade':\n",
    "    # Get the token mapping from query\n",
    "    query_embed = sparse_model.encode_queries([QUERY])\n",
    "    sparse_query_embed = sparse_to_dict(query_embed)\n",
    "    reverse_voc = {v: k for k, v in sparse_model.model.tokenizer.vocab.items()}\n",
    "    query_tokens = {reverse_voc[k]:v for k,v in sparse_query_embed.items()}\n",
    "    print(f\"Query: {QUERY}\")\n",
    "    print(f\"Query tokens: {query_tokens}\")\n",
    "    print(f\"Length of query tokens: {len(query_tokens)}\")"
   ]
  },
  {
   "cell_type": "markdown",
   "metadata": {
    "id": "WBXpeL9ZhSnb"
   },
   "source": [
    "Similarly, we calculate the tokens for the retrieved documents. The first retrieved text contains 14 matching tokens."
   ]
  },
  {
   "cell_type": "code",
   "execution_count": 21,
   "metadata": {
    "colab": {
     "base_uri": "https://localhost:8080/"
    },
    "id": "p7So5R8hhSnb",
    "outputId": "61761ae3-ff21-4eb3-a234-07e3167acffe"
   },
   "outputs": [
    {
     "name": "stdout",
     "output_type": "stream",
     "text": [
      "Chapter 1 | Introduction to Embedded Systems \n",
      "37The STM32F429ZIT6U microcontroller includes a Cortex-M4 processor , as shown in Figure 1.22. It \n",
      "can be appreciated that, beyond the processor, the microcontroller includes other peripherals such as \n",
      "communication cores (ethernet, USB, UART, etc.), memory, timers, and GPIO (General Purpose Input Output) ports. \n",
      "NUCLEO\n",
      "-F429ZI32F429ZIT6U\n",
      "ARM7B776 VQ\n",
      "PHL 7B 7213e412000K620 Y12000\n",
      "K620 Y\n",
      "120 00K620 YDGKYD\n",
      "KMS-1 102NL1706C\n",
      "STM32F103CBT6\n",
      "e393701GH218CHN\n",
      "ST890C\n",
      "GK717\n",
      "11\n",
      "22\n",
      "33\n",
      "44\n",
      "55\n",
      "66\n",
      "77\n",
      "88\n",
      "9\n",
      "10\n",
      "11\n",
      "12\n",
      "13\n",
      "14\n",
      "15PH_0\n",
      "PD_0\n",
      "PD_1\n",
      "PG_0PH_1PF_2PA_7PF_10PF_5PF_3PC_3PC_030\n",
      "29\n",
      "28\n",
      "27\n",
      "2616\n",
      "2515\n",
      "2414\n",
      "2313\n",
      "2212\n",
      "2111\n",
      "2010\n",
      "199\n",
      "18\n",
      "17\n",
      "165V\n",
      "VIN3.3VIOREF\n",
      "GND\n",
      "GNDGND\n",
      "NCNC\n",
      "UART2_RX\n",
      "CAN1_TDCAN1_ DRADC1/7ADC1/3\n",
      "ADC1/10\n",
      "ADC1/13\n",
      "ADC3/9\n",
      "ADC3/15\n",
      "ADC3/8\n",
      "ADC3/5NRSTPC_8\n",
      "PC_9\n",
      "PC_10\n",
      "PC_11\n",
      "PC_12\n",
      "PD_2\n",
      "PG_2\n",
      "PG_3\n",
      "GNDPD_7\n",
      "PD_6\n",
      "PD_5\n",
      "PD_4\n",
      "PD_3\n",
      "PE_2\n",
      "PE_4\n",
      "PE_3\n",
      "PF_7\n",
      "PG_1UART2_RX\n",
      "UART2_ XT\n",
      "UART_X7TUART2_RTS\n",
      "UART2_CTSUART3_TX\n",
      "UART3_RX\n",
      "UART5_TX\n",
      "UART5_RX\n",
      "PA_3\n",
      "SPI1_MOSISPI3_SCK\n",
      "SPI2_SCK\n",
      "{'Chapter': 0.07680597, '1': 0.00089471415, 'Introdu': 0.109051645, 'ction': 0.03576511, 'to': 0.018097993, 'Em': 0.13371702, 'be': 0.0012598671, 'dded': 0.13822505, 'Systems': 0.16337934, '37': 0.18506524, 'The': 0.06976845, 'S': 0.0011371225, 'TM': 0.21954173, '32': 0.274454, 'F': 0.15634364, '4': 0.2674809, '29': 0.027585529, 'Z': 0.15114135, 'IT': 0.1637858, '6': 0.18572998, 'U': 0.04213378, 'micro': 0.1862751, 'control': 0.227621, 'ler': 0.15519759, 'includes': 0.18043286, 'a': 0.08227469, 'Corte': 0.19885135, 'x': 0.1808441, '-': 0.012574136, 'M': 0.18008578, 'processo': 0.2181743, 'r': 0.14627916, ',': 0.0010783374, 'as': 0.001959484, 'shown': 0.06794033, 'in': 0.0016013756, 'Figur': 0.15260175, 'e': 0.001063548, '1.': 0.033670865, '22': 0.0015238672, '.': 0.005163364, 'It': 0.011359066, 'can': 0.040210083, 'appreciate': 0.11755336, 'd': 0.0010472685, 'beyond': 0.10318867, 'the': 0.006711267, 'other': 0.04765133, 'per': 0.062530346, 'i': 0.023233317, 'pher': 0.16017939, 'als': 0.0011641942, 'such': 0.001180619, 'communication': 0.14062577, 'cores': 0.15057479, 'ther': 0.08599477, 'net': 0.0015278868, 'USB': 0.16495472, 'ART': 0.17392124, '),': 0.0009252541, 'memory': 0.12220018, 'timer': 0.23170367, 's': 0.0011210628, 'and': 0.028772742, 'GP': 0.11665037, 'IO': 0.16492467, 'General': 0.09013349, 'Pur': 0.12797856, 'pose': 0.0009918697, 'Out': 0.103107855, ')': 0.0009951256, 'port': 0.18778479, 'NU': 0.124419816, 'CLE': 0.17599475, 'O': 0.18364216, 'ZI': 0.12783706, 'ARM': 0.12909164, '7': 0.03840968, 'B': 0.04406865, '776': 0.17954394, 'V': 0.11839734, 'Q': 0.108396135, 'HL': 0.12898856, '72': 0.031643555, '13': 0.0011577718, '2000': 0.11222192, '20': 0.08164406, 'Y': 0.057641722, '120': 0.024372507, 'DG': 0.014168475, 'KY': 0.08699896, 'D': 0.0009842776, 'MS': 0.13970411, '-1': 0.03566902, '102': 0.07290925, '17': 0.023650795, '06': 0.1261448, '103': 0.15023686, 'C': 0.0008562058, 'BT': 0.050220907, '393': 0.00096892565, 'GH': 0.006554749, '2': 0.011261299, 'N': 0.0010305718, 'ST': 0.0010645278, '890': 0.15720928, 'GK': 0.08373655, '11': 0.0011866875, '33': 0.0013880767, '44': 0.0014527515, '55': 0.0012110472, '66': 0.0012071244, '77': 0.001353763, '88': 0.0013170801, '9': 0.0011125058, '10': 0.0011791624, '12': 0.0011582002, '14': 0.0010037832, '15': 0.0007282458, 'PH': 0.0893451, '_': 0.0017517582, '0': 0.00095599145, 'PD': 0.0012744442, 'PG': 0.084373936, 'PF': 0.09365811, 'PA': 0.01846125, '5': 0.0012610033, '3': 0.0013930276, 'PC': 0.07585004, '030': 0.034258723, '28': 0.020756055, '27': 0.012986943, '26': 0.001005251, '16': 0.000785131, '25': 0.010284025, '24': 0.006997507, '23': 0.016593467, '2010': 0.11549447, '199': 0.093230724, '18': 0.02716913, '165': 0.13727692, '': 0.0011285469, 'VIN': 0.18396673, '3.3': 0.057794154, 'VI': 0.015665762, 'ND': 0.059520252, 'G': 0.0006656498, 'NC': 0.058571175, 'CAN': 0.10933862, 'TD': 0.0006377958, 'DRA': 0.013467558, 'DC': 0.022606492, 'AD': 0.00079375133, '1/3': 0.040831544, 'A': 0.00083879754, '1/10': 0.0584604, '/13': 0.070799515, '/9': 0.00867793, '/15': 0.10670734, '/5': 0.027943261, '8': 0.0010359064, 'PE': 0.022279821, 'R': 0.0010972172, 'X': 0.063301876, 'XT': 0.0010746978, 'RT': 0.034791075, 'TX': 0.052963078, 'PI': 0.07889099, 'CK': 0.09396381}\n",
      "Common tokens: {'6', '4', 'U', 'micro', '32', 'S', 'ler', 'd', '29', 'TM', 'Z', 'F', 'control', 'IT'}\n",
      "Number of matching tokens: 14\n",
      "================================================================================\n",
      "Chapter 1 | Introduction to Embedded Systems \n",
      "33Proposed Exercise\n",
      "1. How can the code be changed in such a way that the system is blocked after three incorrect codes \n",
      "are entered?\n",
      "Answer to the Exercise\n",
      "1. It can be achieved by means of the change in T able 1.11.\n",
      "T able 1.11 Proposed modification in the code in order to achieve the new behavior.\n",
      "Line in Code 1.5 New code to be used\n",
      "40 if ( numberOfIncorrectCodes < 5 ) 40 if ( numberOfIncorrectCodes < 3 )\n",
      "1.3 Under the Hood\n",
      "1.3.1 Brief Introduction to the Cortex-M Processor  Family and the NUCLEO Board\n",
      "In this chapter, many programs were developed using the NUCLEO board, provided with the \n",
      "STM32F429ZIT6U microcontroller . This microcontroller is manufactured by STMicroelectronics [13]\n",
      "{'Chapter': 0.112810045, '1': 0.10895714, '|': 0.010732558, 'Introdu': 0.119867325, 'ction': 0.07980891, 'to': 0.047756348, 'Em': 0.122828744, 'be': 0.014770271, 'dded': 0.14755875, 'Systems': 0.160599, '33': 0.16960251, 'Pro': 0.08277795, 'posed': 0.09773638, 'Exerci': 0.16613133, 'se': 0.06666812, '1.': 0.061914098, 'How': 0.08644375, 'can': 0.09213404, 'code': 0.23375295, 'changed': 0.24684511, 'such': 0.042432822, 'way': 0.028540999, 'that': 0.0013489611, 'system': 0.18533355, 'is': 0.06384458, 'block': 0.26944816, 'ed': 0.17794079, 'after': 0.12582313, 'three': 0.22813663, 'incorrect': 0.2628453, 'enter': 0.19006045, 'Answer': 0.10528424, 'achieve': 0.120020635, 'means': 0.020706762, 'the': 0.0061258078, 'change': 0.14353544, 'T': 0.12281296, 'able': 0.21465921, '.11.': 0.088607684, '11': 0.044587087, 'modification': 0.196397, 'new': 0.062766105, 'behavior': 0.14037722, 'Line': 0.09972707, 'Code': 0.1758107, '1.5': 0.10376327, 'New': 0.104960054, 'used': 0.10110858, '40': 0.15591958, 'if': 0.03910152, 'number': 0.055588037, 'In': 0.063526735, 'corre': 0.16436581, '5': 0.06433516, '<': 0.014849026, '3': 0.10138832, '1.3': 0.039615795, 'Under': 0.13513519, 'Hoo': 0.078535944, '3.1': 0.040311523, 'Brief': 0.06588334, 'Corte': 0.11194334, 'x': 0.088533476, '-': 0.02842588, 'M': 0.13868432, 'Processo': 0.120204456, 'r': 0.04501891, 'Family': 0.0876856, 'and': 0.027574144, 'NU': 0.09632007, 'CLE': 0.19089554, 'O': 0.18671644, 'Board': 0.15887982, 'this': 0.028620299, 'chapter': 0.117061846, 'many': 0.06709613, 'programs': 0.17792407, 'developed': 0.11907859, 'using': 0.10808178, 'board': 0.19134839, 'provided': 0.072018415, 'with': 0.04405668, 'S': 0.040793695, 'TM': 0.14019358, '32': 0.18994126, 'F': 0.060301665, '4': 0.12299929, '29': 0.22301352, 'Z': 0.09445706, 'IT': 0.119093075, '6': 0.13077918, 'U': 0.14706257, 'micro': 0.11881812, 'control': 0.20234944, 'ler': 0.1372025, 'This': 0.07072437, 'manufacture': 0.1992876, 'by': 0.061010607, 'ST': 0.12915118, 'Mi': 0.057436246, 'cro': 0.09839365, 'lec': 0.020748518, 'tronic': 0.122763306, '[13]': 0.040501665}\n",
      "Common tokens: {'6', '4', 'U', 'micro', '32', 'S', 'ler', '29', 'TM', 'Z', 'F', 'control', 'manufacture', 'IT'}\n",
      "Number of matching tokens: 14\n",
      "================================================================================\n",
      "38\n",
      "A Beginner’s Guide to Designing Embedded System ApplicationsFigure 1.23 shows how different elements of the STM32F429ZIT6U microcontroller  are mapped \n",
      "to the Zio and Arduino-compatible headers of the NUCLEO-F429ZI board. Some other elements \n",
      "are mapped to the CN11 and CN12 headers of the NUCLEO-F429ZI board, as will be discussed in upcoming chapters. Further information on these headers is available from [17].\n",
      "In this chapter, buttons were connected to the NUCLEO board using pins D2 to D7. From Figure 1.23, \n",
      "it can be seen that those digital inputs can also be referred to as PF_15, PE_13, P_14, PE_11, PE_9, and PF_13, respectively. Throughout this book, many pins of the ST Zio connectors will be used, and they will be referred to in the code using the names shown in Figure 1.23.\n",
      "{'38': 0.1367226, 'Beginn': 0.090284474, 'er': 0.069649294, '’': 0.025668904, 'Guide': 0.16893795, 'Design': 0.13092437, 'Em': 0.07080503, 'be': 0.1984096, 'dded': 0.070216656, 'System': 0.079377815, 'Application': 0.13683897, 'Fi': 0.0069124624, 'gur': 0.15222019, '1.': 0.07977284, '23': 0.17816702, 'shows': 0.06193661, 'different': 0.13565493, 'elements': 0.15795232, 'S': 0.044700027, 'TM': 0.15523386, '32': 0.21998525, 'F': 0.085973084, '4': 0.13424917, '29': 0.26718843, 'Z': 0.097471185, 'IT': 0.09851897, '6': 0.13945073, 'U': 0.1669438, 'micro': 0.12512992, 'control': 0.189736, 'ler': 0.13531312, 'ma': 0.15472509, 'pped': 0.12984675, 'to': 0.106222555, 'Zi': 0.18845502, 'o': 0.20109391, 'and': 0.040872328, 'Arduino': 0.23569757, 'com': 0.09587405, 'pati': 0.14948367, 'head': 0.1581157, 'ers': 0.08715116, 'NU': 0.09960502, 'CLE': 0.17066206, 'O': 0.16420026, 'ZI': 0.18017249, 'board': 0.1998615, 'CN': 0.074187726, '11': 0.15748177, '12': 0.16161087, 'chapter': 0.08492921, 'information': 0.03830596, 'available': 0.008971587, 'this': 0.031615287, 'button': 0.23371908, 'were': 0.029695943, 'connected': 0.1701521, 'using': 0.04419253, 'pin': 0.18158233, 'D': 0.08644811, '2': 0.13539353, '7': 0.13109413, 'Figur': 0.15813492, 'seen': 0.009548515, 'digital': 0.14088482, 'input': 0.20824221, 'can': 0.058124013, 'refer': 0.10135478, 'as': 0.005793702, 'PF': 0.14783955, '15': 0.17211299, 'PE': 0.07369551, '13': 0.15942717, 'P': 0.0028657876, '14': 0.10932766, '9': 0.05321399, 'book': 0.11289728, 'many': 0.046224907, 'ST': 0.1494891, 'connect': 0.16004285, 'ors': 0.10248952, 'will': 7.072836e-05, 'used': 0.08824058, 'code': 0.11407425, 'names': 0.06295124}\n",
      "Common tokens: {'6', '4', 'U', 'micro', '32', 'S', 'ler', '29', 'TM', 'Z', 'F', 'control', 'IT'}\n",
      "Number of matching tokens: 13\n",
      "================================================================================\n",
      "This section will begin the implementation of the smart home system, following the diagram shown in Figure 1.3. This first implementation will detect fire using an over temperature detector and a gas detector and, if it detects fire, it will activate the alarm until a given code is entered.  For this purpose, the NUCLEO board [1] provided with the STM32F429ZIT6U microcontroller [9] (referred to as the STM32 microcontroller ) is used.\n",
      "{'This': 0.108018585, 'section': 0.14758088, 'will': 0.083482705, 'begin': 0.15584457, 'the': 0.039447807, 'implementation': 0.26325807, 'of': 0.036798477, 'smart': 0.25676474, 'home': 0.22738996, 'system': 0.20200227, 'following': 0.10097283, 'diagram': 0.16715968, 'shown': 0.059073426, 'Figur': 0.14839546, '1.3': 0.1762616, 'first': 0.16139361, 'detect': 0.25746953, 'fire': 0.27829957, 'using': 0.10904779, 'over': 0.16003183, 'temperature': 0.20251521, 'or': 0.113288224, 'and': 0.056730926, 'gas': 0.17228875, ',': 0.006144963, 'if': 0.04068479, 's': 0.0061277896, 'it': 0.016691156, 'activa': 0.19344193, 'alarm': 0.301843, 'until': 0.103026986, 'a': 0.0057594404, 'given': 0.05460322, 'code': 0.18951437, 'enter': 0.14537936, 'ed': 0.0062426925, 'For': 0.014525086, 'this': 0.03053987, 'purpose': 0.11418767, 'NU': 0.12510082, 'CLE': 0.19021839, 'O': 0.18832557, 'board': 0.2124097, '[1]': 0.031189412, 'provided': 0.12065237, 'with': 0.042619728, 'S': 0.05518616, 'TM': 0.1831486, '32': 0.2585511, 'F': 0.04419763, '4': 0.096984446, '29': 0.2041888, 'Z': 0.05000607, 'IT': 0.074092716, '6': 0.0895682, 'U': 0.11598894, 'micro': 0.11053945, 'control': 0.19308342, 'ler': 0.13020314, '[9]': 0.063543364, 're': 0.005691737, 'fer': 0.0227862, 'red': 0.006542973, 'is': 0.060836285, 'used': 0.16099854}\n",
      "Common tokens: {'6', '4', 'U', 'micro', '32', 'S', 'ler', '29', 'TM', 'Z', 'F', 'control', 'IT'}\n",
      "Number of matching tokens: 13\n",
      "================================================================================\n",
      "Index\n",
      "567 STM 32F429 ZIT 6U microcontroller 5, 33, 37, 38 \n",
      " stop bit 46, 64, 65, 80, 256 , 257 , 273 , 468  \n",
      " ST Zio connectors xiv, 6, 9, 37, 38, 44, 346  \n",
      " superloop 13, 519  \n",
      " synchronous communication 255\n",
      "T TCP server 456 , 457 , 459 , 460 –463 , 491  \n",
      " temperature sensor 4, 5, 87, 106 , 123 , 182 , 220 , 233 , 334 , 486 , 550  \n",
      " time management xvi, 86, 95, 99, 289 , 342 , 348 , 353  \n",
      " timers xvi, xxvii, 37, 306 , 342 , 343 , 345 , 348 –350 , 353 , 354 , \n",
      " 361 , 441 , 512 –517 , 533 , 535 , 537 , 538 , 539  \n",
      " tm structure 153  \n",
      " TO- 220  package 89\n",
      "U UART xvi, xvii, 5, 44, 61, 63, 79, 82, 84, 86, 181 , 191 , 222 , 255 , 290 , 291 , \n",
      " 306 , 350 , 420 , 423 , 447 , 455 , 461 , 465 , 468 , 544  \n",
      " USB xiv, xxvii, 4, 9, 37, 44, 45, 63, 79, 82, 88, 132 , 449 , 506 , 507 , 508 , 544  \n",
      " USB connection xiv, 44, 506  \n",
      " use cases 497 , 501 –504 , 511 , 545 , 546 , 547 , 548\n",
      "V validation 496 , 497 , 546 , 547  \n",
      " verification 81, 92, 496 , 497 , 546  \n",
      " vineyard frost prevention 123 , 124\n",
      "{'Index': 0.22943984, '': 0.017155938, '567': 0.28260174, 'S': 0.043166094, 'TM': 0.18525939, '32': 0.21044496, 'F': 0.120517135, '4': 0.05520886, '29': 0.025373377, 'Z': 0.13844699, 'IT': 0.17738101, '6': 0.021042496, 'U': 0.13238007, 'micro': 0.14931673, 'control': 0.19155769, 'ler': 0.110541396, '5': 0.008541077, ',': 0.047270633, '33': 0.059147768, '37': 0.089444324, '38': 0.10185534, 'stop': 0.17470834, 'bit': 0.13896224, '46': 0.12629512, '64': 0.10506255, '65': 0.12317866, '80': 0.092694975, '256': 0.13544963, '25': 0.0639572, '7': 0.03502737, '27': 0.048535556, '3': 0.088910826, '468': 0.15066975, 'ST': 0.15730776, 'Zi': 0.18262243, 'o': 0.17853205, 'connect': 0.16914956, 'ors': 0.09459591, 'iv': 0.14012095, '9': 0.071818635, '44': 0.083499596, 'super': 0.10637689, 'loop': 0.174808, '13,': 0.08562595, '19': 0.14692906, 'synchron': 0.20320933, 'ous': 0.029059287, 'communication': 0.16817747, '255': 0.21451995, 'T': 0.09837077, 'CP': 0.14894919, 'server': 0.19332172, '456': 0.15961014, '57': 0.08723662, '459': 0.12000791, '460': 0.10468761, '463': 0.096767515, '491': 0.16618092, 'temperature': 0.21395633, 'sensor': 0.22333421, '87': 0.057932742, '106': 0.055965617, '123': 0.087086484, '182': 0.050641075, '220': 0.16341162, '233': 0.07109902, '334': 0.07400055, '486': 0.08287992, '550': 0.12459031, 'time': 0.15128073, 'management': 0.16977601, 'vi': 0.15851156, '86': 0.026956826, '95': 0.008241743, '99': 0.021424472, '289': 0.0792777, '342': 0.091296256, '348': 0.030854575, '353': 0.1444929, 'timer': 0.28154102, 'vii': 0.13839072, '30': 0.02156113, '43': 0.019754514, '345': 0.069704175, '350': 0.025485925, '35': 0.022619143, '361': 0.096416295, '441': 0.03290814, '537': 0.07512984, '539': 0.06586128, 't': 0.037803672, 'm': 0.10594233, 'structure': 0.1901718, '153': 0.15354261, 'TO': 0.18453923, 'package': 0.1960558, '89': 0.1620543, 'ART': 0.16053067, 'x': 0.00058171153, '181': 0.015726417, '191': 0.0435199, '222': 0.0057921633, '290': 0.035713226, '420': 0.055505827, '461': 0.034068607, '544': 0.16232264, 'USB': 0.17345142, '45': 0.004226841, 'connection': 0.16489868, 'use': 0.09654781, 'cases': 0.09711878, '497': 0.12528437, 'V': 0.09456808, 'valida': 0.19094071, 'tion': 0.0060742944, '496': 0.08329515, '546': 0.14947721, '547': 0.108179435, 'ver': 0.13478668, 'ification': 0.024836935, '81': 0.061743245, 'vine': 0.1292437, 'yard': 0.095454834, 'frost': 0.12249562, 'pre': 0.0996587, 'vention': 0.051604755, '124': 0.07044076}\n",
      "Common tokens: {'6', '4', 'U', 'micro', '32', 'S', 'ler', '29', 'TM', 'Z', 'F', 'control', 'IT'}\n",
      "Number of matching tokens: 13\n",
      "================================================================================\n"
     ]
    }
   ],
   "source": [
    "# Get token mapping for TOP_K retrieved text\n",
    "# Find common tokens between retrieved text and the query\n",
    "if SPARSE_MODEL_NAME == 'bgm3':\n",
    "    for i in range(len(sparse_docs)):\n",
    "        input_sentence = sparse_docs[i][0]\n",
    "        input_embed = sparse_model.encode_queries([input_sentence])\n",
    "        sparse_input_embed = sparse_to_dict(input_embed['sparse'])\n",
    "        input_tokens = sparse_model.model.convert_id_to_token(sparse_input_embed)\n",
    "        common = set(query_tokens.keys()).intersection(set(input_tokens.keys()))\n",
    "        print(input_sentence)\n",
    "        print(input_tokens)\n",
    "        print(f\"Common tokens: {common}\")\n",
    "        print(f\"Number of matching tokens: {len(common)}\")\n",
    "        print(\"=\"*80)\n",
    "\n",
    "if SPARSE_MODEL_NAME == 'splade':\n",
    "    for i in range(len(sparse_docs)):\n",
    "        input_sentence = sparse_docs[i][0]\n",
    "        input_embed = sparse_model.encode_queries([input_sentence])\n",
    "        sparse_input_embed = sparse_to_dict(input_embed)\n",
    "        input_tokens = {reverse_voc[k]:v for k,v in sparse_input_embed.items()}\n",
    "        common = set(query_tokens.keys()).intersection(set(input_tokens.keys()))\n",
    "        print(input_sentence)\n",
    "        print(input_tokens)\n",
    "        print(f\"Common tokens: {common}\")\n",
    "        print(f\"Number of matching tokens: {len(common)}\")\n",
    "        print(\"=\"*80)"
   ]
  },
  {
   "cell_type": "markdown",
   "metadata": {
    "id": "MhMrrUDyhSnb",
    "jp-MarkdownHeadingCollapsed": true
   },
   "source": [
    "# Full Text Search\n",
    "\n",
    "We use BM25 model to perform a full text search retrieval for us. It creates a list of token for given input identifying important terms in the input.\n",
    "\n",
    "> Best Matching 25 (BM25) is a text-matching algorithm that can be viewed as an enhancement of the Term Frequency-Inverse Document Frequency (TF-IDF) algorithm. TF-IDF is an information retrieval algorithm that measures the importance of a keyword within a document relative to a collection of documents. [Source](https://zilliz.com/learn/comparing-splade-sparse-vectors-with-bm25)\n",
    "\n"
   ]
  },
  {
   "cell_type": "code",
   "execution_count": 22,
   "metadata": {
    "colab": {
     "base_uri": "https://localhost:8080/"
    },
    "id": "bLJKBNrhhSnb",
    "outputId": "0f36cb69-0299-4ff5-a421-1bb7f32da316"
   },
   "outputs": [
    {
     "name": "stdout",
     "output_type": "stream",
     "text": [
      "CPU times: user 2.58 ms, sys: 992 μs, total: 3.57 ms\n",
      "Wall time: 2.75 ms\n"
     ]
    }
   ],
   "source": [
    "%%time\n",
    "\n",
    "# Get the tokens for the query as sparse array\n",
    "query_embed = bm25_model.encode_queries([QUERY])\n",
    "# Convert sparse array to list\n",
    "full_text_query_embed = sparse_to_dict(query_embed)\n",
    "\n",
    "# Define the search parameters (distance metric used to compare two vectors)\n",
    "sparse_search_params = {\"metric_type\": SPARSE_METRIC, \"params\": {}}\n",
    "\n",
    "# Get the TOP_K closest documents to the query\n",
    "result_docs = milvus_client.full_text_search(\n",
    "    collection_name=COLLECTION_NAME,\n",
    "    query_full_text_embedding=full_text_query_embed,\n",
    "    top_k=TOP_K,\n",
    "    sparse_search_params=sparse_search_params,\n",
    ")"
   ]
  },
  {
   "cell_type": "code",
   "execution_count": 23,
   "metadata": {
    "id": "Y4h5nEAlhSnc"
   },
   "outputs": [],
   "source": [
    "full_text_docs = [(res['entity']['text'], res['distance']) for res in result_docs]"
   ]
  },
  {
   "cell_type": "markdown",
   "metadata": {
    "id": "3rEUligghSnc",
    "jp-MarkdownHeadingCollapsed": true
   },
   "source": [
    "### Result\n",
    "\n",
    "The goal here is to verify if following context is present in any of the retrieved documents.\n",
    "\n",
    "```\n",
    "In this chapter, many programs were developed using the NUCLEO board, provided with the STM32F429ZIT6U microcontroller. This microcontroller is manufactured by STMicroelectronics [13] using a Cortex-M4 processor designed by Arm Ltd. [14].\n",
    "```\n",
    "\n",
    "If it is present then our retrieval approach was able to find the correct document from the vector store.\n",
    "\n",
    "> **It is present in the first row of Retrieved text.**"
   ]
  },
  {
   "cell_type": "code",
   "execution_count": 24,
   "metadata": {
    "colab": {
     "base_uri": "https://localhost:8080/",
     "height": 469
    },
    "id": "Otc1QM2phSnc",
    "outputId": "a09e99fb-3b56-43df-dc7c-8b879b29f2c7"
   },
   "outputs": [
    {
     "data": {
      "text/html": [
       "<div>\n",
       "<style scoped>\n",
       "    .dataframe tbody tr th:only-of-type {\n",
       "        vertical-align: middle;\n",
       "    }\n",
       "\n",
       "    .dataframe tbody tr th {\n",
       "        vertical-align: top;\n",
       "    }\n",
       "\n",
       "    .dataframe thead th {\n",
       "        text-align: right;\n",
       "    }\n",
       "</style>\n",
       "<table border=\"1\" class=\"dataframe\">\n",
       "  <thead>\n",
       "    <tr style=\"text-align: right;\">\n",
       "      <th></th>\n",
       "      <th>Retrieved text</th>\n",
       "      <th>score</th>\n",
       "    </tr>\n",
       "  </thead>\n",
       "  <tbody>\n",
       "    <tr>\n",
       "      <th>0</th>\n",
       "      <td>Chapter 1 | Introduction to Embedded Systems \\n33Proposed Exercise\\n1. How can the code be changed in such a way that the system is blocked after three incorrect codes \\nare entered?\\nAnswer to the Exercise\\n1. It can be achieved by means of the change in T able 1.11.\\nT able 1.11 Proposed modification in the code in order to achieve the new behavior.\\nLine in Code 1.5 New code to be used\\n40 if ( numberOfIncorrectCodes &lt; 5 ) 40 if ( numberOfIncorrectCodes &lt; 3 )\\n1.3 Under the Hood\\n1.3.1 Brief Introduction to the Cortex-M Processor  Family and the NUCLEO Board\\nIn this chapter, many programs were developed using the NUCLEO board, provided with the \\nSTM32F429ZIT6U microcontroller . This microcontroller is manufactured by STMicroelectronics [13]</td>\n",
       "      <td>16.359879</td>\n",
       "    </tr>\n",
       "    <tr>\n",
       "      <th>1</th>\n",
       "      <td>This section will begin the implementation of the smart home system, following the diagram shown in Figure 1.3. This first implementation will detect fire using an over temperature detector and a gas detector and, if it detects fire, it will activate the alarm until a given code is entered.  For this purpose, the NUCLEO board [1] provided with the STM32F429ZIT6U microcontroller [9] (referred to as the STM32 microcontroller ) is used.</td>\n",
       "      <td>12.442858</td>\n",
       "    </tr>\n",
       "    <tr>\n",
       "      <th>2</th>\n",
       "      <td>WaRNINg: Keil Studio Cloud translates the C/C++ language code into assembly code while considering the available resources of the target board. For this reason, the reader should be very careful to use only pin names that are shown in Figure 1.23.\\nFrom the above discussion, it is possible to derive the hierarchy that is represented in Figure 1.24. It should be noted that a given Arm processor can be used by different microcontroller manufacturers, and a given microcontroller can be used in different development boards or embedded systems. \\nFigure 1.24 Hierarchy of different elements introduced in this chapter.\\nNOTE:  A microcontroller may have one or many processors, while a processor may have one or many cores. A microprocessor consists of the processor, named in this context as th...</td>\n",
       "      <td>10.573027</td>\n",
       "    </tr>\n",
       "    <tr>\n",
       "      <th>3</th>\n",
       "      <td>38\\nA Beginner’s Guide to Designing Embedded System ApplicationsFigure 1.23 shows how different elements of the STM32F429ZIT6U microcontroller  are mapped \\nto the Zio and Arduino-compatible headers of the NUCLEO-F429ZI board. Some other elements \\nare mapped to the CN11 and CN12 headers of the NUCLEO-F429ZI board, as will be discussed in upcoming chapters. Further information on these headers is available from [17].\\nIn this chapter, buttons were connected to the NUCLEO board using pins D2 to D7. From Figure 1.23, \\nit can be seen that those digital inputs can also be referred to as PF_15, PE_13, P_14, PE_11, PE_9, and PF_13, respectively. Throughout this book, many pins of the ST Zio connectors will be used, and they will be referred to in the code using the names shown in Figure 1.23.</td>\n",
       "      <td>8.811584</td>\n",
       "    </tr>\n",
       "    <tr>\n",
       "      <th>4</th>\n",
       "      <td>Preface\\nxix\\nTemperatur e: 10 °C\\nOver temperatur e detected: OFF\\nGas detected: OFF\\nMotion detected: OFF\\nAlarm: OFF\\nIncorr ect code : OFF LED\\nSystem blocked : OFF LEDSmart Home System\\nFigure 7 User interface implemented using a Wi-Fi  connection and a web browser.\\nIn this process, the Mbed™ OS 6 platform core generic software components, plus the HAL (Hardware \\nAbstraction Layer) ports that allow Mbed to transparently run on microcontrollers from different manufacturers, are introduced.\\nIn the final chapter, the main ideas are summarized by means of an irrigation system, shown in \\nFigure 8, that is developed from scratch. In this way, a guide to designing and implementing an embedded system project is provided for the reader.</td>\n",
       "      <td>8.725212</td>\n",
       "    </tr>\n",
       "  </tbody>\n",
       "</table>\n",
       "</div>"
      ],
      "text/plain": [
       "                                                                                                                                                                                                                                                                                                                                                                                                                                                                                                                                                                                                                                                                                                                                                                                                                    Retrieved text  \\\n",
       "0                                              Chapter 1 | Introduction to Embedded Systems \\n33Proposed Exercise\\n1. How can the code be changed in such a way that the system is blocked after three incorrect codes \\nare entered?\\nAnswer to the Exercise\\n1. It can be achieved by means of the change in T able 1.11.\\nT able 1.11 Proposed modification in the code in order to achieve the new behavior.\\nLine in Code 1.5 New code to be used\\n40 if ( numberOfIncorrectCodes < 5 ) 40 if ( numberOfIncorrectCodes < 3 )\\n1.3 Under the Hood\\n1.3.1 Brief Introduction to the Cortex-M Processor  Family and the NUCLEO Board\\nIn this chapter, many programs were developed using the NUCLEO board, provided with the \\nSTM32F429ZIT6U microcontroller . This microcontroller is manufactured by STMicroelectronics [13]   \n",
       "1                                                                                                                                                                                                                                                                                                                                                                            This section will begin the implementation of the smart home system, following the diagram shown in Figure 1.3. This first implementation will detect fire using an over temperature detector and a gas detector and, if it detects fire, it will activate the alarm until a given code is entered.  For this purpose, the NUCLEO board [1] provided with the STM32F429ZIT6U microcontroller [9] (referred to as the STM32 microcontroller ) is used.   \n",
       "2  WaRNINg: Keil Studio Cloud translates the C/C++ language code into assembly code while considering the available resources of the target board. For this reason, the reader should be very careful to use only pin names that are shown in Figure 1.23.\\nFrom the above discussion, it is possible to derive the hierarchy that is represented in Figure 1.24. It should be noted that a given Arm processor can be used by different microcontroller manufacturers, and a given microcontroller can be used in different development boards or embedded systems. \\nFigure 1.24 Hierarchy of different elements introduced in this chapter.\\nNOTE:  A microcontroller may have one or many processors, while a processor may have one or many cores. A microprocessor consists of the processor, named in this context as th...   \n",
       "3   38\\nA Beginner’s Guide to Designing Embedded System ApplicationsFigure 1.23 shows how different elements of the STM32F429ZIT6U microcontroller  are mapped \\nto the Zio and Arduino-compatible headers of the NUCLEO-F429ZI board. Some other elements \\nare mapped to the CN11 and CN12 headers of the NUCLEO-F429ZI board, as will be discussed in upcoming chapters. Further information on these headers is available from [17].\\nIn this chapter, buttons were connected to the NUCLEO board using pins D2 to D7. From Figure 1.23, \\nit can be seen that those digital inputs can also be referred to as PF_15, PE_13, P_14, PE_11, PE_9, and PF_13, respectively. Throughout this book, many pins of the ST Zio connectors will be used, and they will be referred to in the code using the names shown in Figure 1.23.   \n",
       "4                                                       Preface\\nxix\\nTemperatur e: 10 °C\\nOver temperatur e detected: OFF\\nGas detected: OFF\\nMotion detected: OFF\\nAlarm: OFF\\nIncorr ect code : OFF LED\\nSystem blocked : OFF LEDSmart Home System\\nFigure 7 User interface implemented using a Wi-Fi  connection and a web browser.\\nIn this process, the Mbed™ OS 6 platform core generic software components, plus the HAL (Hardware \\nAbstraction Layer) ports that allow Mbed to transparently run on microcontrollers from different manufacturers, are introduced.\\nIn the final chapter, the main ideas are summarized by means of an irrigation system, shown in \\nFigure 8, that is developed from scratch. In this way, a guide to designing and implementing an embedded system project is provided for the reader.   \n",
       "\n",
       "       score  \n",
       "0  16.359879  \n",
       "1  12.442858  \n",
       "2  10.573027  \n",
       "3   8.811584  \n",
       "4   8.725212  "
      ]
     },
     "metadata": {},
     "output_type": "display_data"
    }
   ],
   "source": [
    "df = pd.DataFrame(full_text_docs, columns=['Retrieved text', 'score'])\n",
    "display(df)"
   ]
  },
  {
   "cell_type": "markdown",
   "metadata": {
    "id": "c0MGWmD1hSnc",
    "jp-MarkdownHeadingCollapsed": true
   },
   "source": [
    "### Behind the scenes\n",
    "\n",
    "Let us look at what is happening underneath.\n",
    "\n",
    "Converting the input `QUERY` into list of tokens, it splits the query into 3 tokens.\n",
    "\n",
    "```\n",
    "Who manufactured STM32F429ZIT6U microcontroller?\n",
    "```\n",
    "\n",
    "```\n",
    "['manufactur', 'stm32f429zit6u', 'microcontrol']\n",
    "```"
   ]
  },
  {
   "cell_type": "code",
   "execution_count": 25,
   "metadata": {
    "colab": {
     "base_uri": "https://localhost:8080/"
    },
    "id": "RGEmcQddhSnd",
    "outputId": "fad2cb78-85ee-4dab-8573-5dbb744212cc"
   },
   "outputs": [
    {
     "name": "stdout",
     "output_type": "stream",
     "text": [
      "Query: Who manufactured STM32F429ZIT6U microcontroller?\n",
      "Query tokens: ['manufactur', 'stm32f429zit6u', 'microcontrol']\n",
      "Length of query tokens: 3\n"
     ]
    }
   ],
   "source": [
    "# Get the list of tokens from query\n",
    "query_tokens = bm25_model.analyzer(QUERY)\n",
    "print(f\"Query: {QUERY}\")\n",
    "print(f\"Query tokens: {query_tokens}\")\n",
    "print(f\"Length of query tokens: {len(query_tokens)}\")"
   ]
  },
  {
   "cell_type": "code",
   "execution_count": 26,
   "metadata": {
    "colab": {
     "base_uri": "https://localhost:8080/"
    },
    "id": "TDoJdNlZhSnd",
    "outputId": "4c824ef2-47b2-44ab-f05b-6f0ab6f6eb0b"
   },
   "outputs": [
    {
     "name": "stdout",
     "output_type": "stream",
     "text": [
      "Chapter 1 | Introduction to Embedded Systems \n",
      "33Proposed Exercise\n",
      "1. How can the code be changed in such a way that the system is blocked after three incorrect codes \n",
      "are entered?\n",
      "Answer to the Exercise\n",
      "1. It can be achieved by means of the change in T able 1.11.\n",
      "T able 1.11 Proposed modification in the code in order to achieve the new behavior.\n",
      "Line in Code 1.5 New code to be used\n",
      "40 if ( numberOfIncorrectCodes < 5 ) 40 if ( numberOfIncorrectCodes < 3 )\n",
      "1.3 Under the Hood\n",
      "1.3.1 Brief Introduction to the Cortex-M Processor  Family and the NUCLEO Board\n",
      "In this chapter, many programs were developed using the NUCLEO board, provided with the \n",
      "STM32F429ZIT6U microcontroller . This microcontroller is manufactured by STMicroelectronics [13]\n",
      "['chapter', '1', 'introduct', 'embed', 'system', '33propos', 'exercis', '1', 'code', 'chang', 'way', 'system', 'block', 'three', 'incorrect', 'code', 'enter', 'answer', 'exercis', '1', 'achiev', 'mean', 'chang', 'abl', '1.11', 'abl', '1.11', 'propos', 'modif', 'code', 'order', 'achiev', 'new', 'behavior', 'line', 'code', '1.5', 'new', 'code', 'use', '40', 'numberofincorrectcod', '5', '40', 'numberofincorrectcod', '3', '1.3', 'hood', '1.3.1', 'brief', 'introduct', 'cortex-m', 'processor', 'famili', 'nucleo', 'board', 'chapter', 'mani', 'program', 'develop', 'use', 'nucleo', 'board', 'provid', 'stm32f429zit6u', 'microcontrol', 'microcontrol', 'manufactur', 'stmicroelectron', '13']\n",
      "Common tokens: {'microcontrol', 'stm32f429zit6u', 'manufactur'}\n",
      "Number of matching tokens: 3\n",
      "================================================================================\n",
      "This section will begin the implementation of the smart home system, following the diagram shown in Figure 1.3. This first implementation will detect fire using an over temperature detector and a gas detector and, if it detects fire, it will activate the alarm until a given code is entered.  For this purpose, the NUCLEO board [1] provided with the STM32F429ZIT6U microcontroller [9] (referred to as the STM32 microcontroller ) is used.\n",
      "['section', 'begin', 'implement', 'smart', 'home', 'system', 'follow', 'diagram', 'shown', 'figur', '1.3', 'first', 'implement', 'detect', 'fire', 'use', 'temperatur', 'detector', 'gas', 'detector', 'detect', 'fire', 'activ', 'alarm', 'given', 'code', 'enter', 'purpos', 'nucleo', 'board', '1', 'provid', 'stm32f429zit6u', 'microcontrol', '9', 'refer', 'stm32', 'microcontrol', 'use']\n",
      "Common tokens: {'microcontrol', 'stm32f429zit6u'}\n",
      "Number of matching tokens: 2\n",
      "================================================================================\n",
      "WaRNINg: Keil Studio Cloud translates the C/C++ language code into assembly code while considering the available resources of the target board. For this reason, the reader should be very careful to use only pin names that are shown in Figure 1.23.\n",
      "From the above discussion, it is possible to derive the hierarchy that is represented in Figure 1.24. It should be noted that a given Arm processor can be used by different microcontroller manufacturers, and a given microcontroller can be used in different development boards or embedded systems. \n",
      "Figure 1.24 Hierarchy of different elements introduced in this chapter.\n",
      "NOTE:  A microcontroller may have one or many processors, while a processor may have one or many cores. A microprocessor consists of the processor, named in this context as the Central Processing Unit (CPU), and uses an external bus to interface with memory and peripherals.\n",
      "Proposed Exercise\n",
      "['warn', 'keil', 'studio', 'cloud', 'translat', 'c/c++', 'languag', 'code', 'assembl', 'code', 'consid', 'avail', 'resourc', 'target', 'board', 'reason', 'reader', 'care', 'use', 'pin', 'name', 'shown', 'figur', '1.23', 'discuss', 'possibl', 'deriv', 'hierarchi', 'repres', 'figur', '1.24', 'note', 'given', 'arm', 'processor', 'use', 'differ', 'microcontrol', 'manufactur', 'given', 'microcontrol', 'use', 'differ', 'develop', 'board', 'embed', 'system', 'figur', '1.24', 'hierarchi', 'differ', 'element', 'introduc', 'chapter', 'note', 'microcontrol', 'may', 'one', 'mani', 'processor', 'processor', 'may', 'one', 'mani', 'core', 'microprocessor', 'consist', 'processor', 'name', 'context', 'central', 'process', 'unit', 'cpu', 'use', 'extern', 'bus', 'interfac', 'memori', 'peripher', 'propos', 'exercis']\n",
      "Common tokens: {'microcontrol', 'manufactur'}\n",
      "Number of matching tokens: 2\n",
      "================================================================================\n",
      "38\n",
      "A Beginner’s Guide to Designing Embedded System ApplicationsFigure 1.23 shows how different elements of the STM32F429ZIT6U microcontroller  are mapped \n",
      "to the Zio and Arduino-compatible headers of the NUCLEO-F429ZI board. Some other elements \n",
      "are mapped to the CN11 and CN12 headers of the NUCLEO-F429ZI board, as will be discussed in upcoming chapters. Further information on these headers is available from [17].\n",
      "In this chapter, buttons were connected to the NUCLEO board using pins D2 to D7. From Figure 1.23, \n",
      "it can be seen that those digital inputs can also be referred to as PF_15, PE_13, P_14, PE_11, PE_9, and PF_13, respectively. Throughout this book, many pins of the ST Zio connectors will be used, and they will be referred to in the code using the names shown in Figure 1.23.\n",
      "['38', 'beginn', '’', 'guid', 'design', 'embed', 'system', 'applicationsfigur', '1.23', 'show', 'differ', 'element', 'stm32f429zit6u', 'microcontrol', 'map', 'zio', 'arduino-compat', 'header', 'nucleo-f429zi', 'board', 'element', 'map', 'cn11', 'cn12', 'header', 'nucleo-f429zi', 'board', 'discuss', 'upcom', 'chapter', 'inform', 'header', 'avail', '17', 'chapter', 'button', 'connect', 'nucleo', 'board', 'use', 'pin', 'd2', 'd7', 'figur', '1.23', 'seen', 'digit', 'input', 'also', 'refer', 'pf_15', 'pe_13', 'p_14', 'pe_11', 'pe_9', 'pf_13', 'respect', 'throughout', 'book', 'mani', 'pin', 'st', 'zio', 'connector', 'use', 'refer', 'code', 'use', 'name', 'shown', 'figur', '1.23']\n",
      "Common tokens: {'microcontrol', 'stm32f429zit6u'}\n",
      "Number of matching tokens: 2\n",
      "================================================================================\n",
      "Preface\n",
      "xix\n",
      "Temperatur e: 10 °C\n",
      "Over temperatur e detected: OFF\n",
      "Gas detected: OFF\n",
      "Motion detected: OFF\n",
      "Alarm: OFF\n",
      "Incorr ect code : OFF LED\n",
      "System blocked : OFF LEDSmart Home System\n",
      "Figure 7 User interface implemented using a Wi-Fi  connection and a web browser.\n",
      "In this process, the Mbed™ OS 6 platform core generic software components, plus the HAL (Hardware \n",
      "Abstraction Layer) ports that allow Mbed to transparently run on microcontrollers from different manufacturers, are introduced.\n",
      "In the final chapter, the main ideas are summarized by means of an irrigation system, shown in \n",
      "Figure 8, that is developed from scratch. In this way, a guide to designing and implementing an embedded system project is provided for the reader.\n",
      "['prefac', 'xix', 'temperatur', 'e', '10', '°c', 'temperatur', 'e', 'detect', 'gas', 'detect', 'motion', 'detect', 'alarm', 'incorr', 'ect', 'code', 'led', 'system', 'block', 'ledsmart', 'home', 'system', 'figur', '7', 'user', 'interfac', 'implement', 'use', 'wi-fi', 'connect', 'web', 'browser', 'process', 'mbed™', 'os', '6', 'platform', 'core', 'generic', 'softwar', 'compon', 'plus', 'hal', 'hardwar', 'abstract', 'layer', 'port', 'allow', 'mbed', 'transpar', 'run', 'microcontrol', 'differ', 'manufactur', 'introduc', 'final', 'chapter', 'main', 'idea', 'summar', 'mean', 'irrig', 'system', 'shown', 'figur', '8', 'develop', 'scratch', 'way', 'guid', 'design', 'implement', 'embed', 'system', 'project', 'provid', 'reader']\n",
      "Common tokens: {'microcontrol', 'manufactur'}\n",
      "Number of matching tokens: 2\n",
      "================================================================================\n"
     ]
    }
   ],
   "source": [
    "# Get tokens for TOP_K retrieved text\n",
    "# Find common tokens between retrieved text and the query\n",
    "for i in range(len(full_text_docs)):\n",
    "    input_sentence = full_text_docs[i][0]\n",
    "    input_tokens = bm25_model.analyzer(input_sentence)\n",
    "    common = set(query_tokens).intersection(set(input_tokens))\n",
    "    print(input_sentence)\n",
    "    print(input_tokens)\n",
    "    print(f\"Common tokens: {common}\")\n",
    "    print(f\"Number of matching tokens: {len(common)}\")\n",
    "    print(\"=\"*80)"
   ]
  },
  {
   "cell_type": "markdown",
   "metadata": {
    "id": "5fAcHy0whSnd",
    "jp-MarkdownHeadingCollapsed": true
   },
   "source": [
    "# Dense + Sparse\n",
    "\n",
    "Here we will look into aggregating the results from both dense and sparse approaach.\n",
    "\n",
    "There are multiple ways to collate the results from different approaches, we will experiment with 2 approaches.\n",
    "\n",
    "- **Reciprocal Rank Fusion (RRF)** : Reciprocal Rank Fusion (RRF) is a method used to combine results from different retrieval systems by leveraging the positions/rank of the documents. It uses a formula to aggregate the ranks from all different sources and provide the final rank from all the sources.\n",
    "\n",
    "- **Re-ranker** : We use re-ranker models which are cross encoder models to rank and score the retrieved documents based on how relevant they are to the input query."
   ]
  },
  {
   "cell_type": "markdown",
   "metadata": {
    "id": "rI9fAmmRhSnd",
    "jp-MarkdownHeadingCollapsed": true
   },
   "source": [
    "### Reciprocal Rank Fusion"
   ]
  },
  {
   "cell_type": "code",
   "execution_count": 27,
   "metadata": {
    "id": "l9pyeoX7hSnd"
   },
   "outputs": [],
   "source": [
    "combined_docs = []\n",
    "combined_docs.append(dense_docs)\n",
    "combined_docs.append(sparse_docs)"
   ]
  },
  {
   "cell_type": "code",
   "execution_count": 28,
   "metadata": {
    "id": "stzivpTOhSne"
   },
   "outputs": [],
   "source": [
    "dense_sparse_rrf_docs = rrf(combined_docs)[:TOP_K]"
   ]
  },
  {
   "cell_type": "code",
   "execution_count": 29,
   "metadata": {
    "colab": {
     "base_uri": "https://localhost:8080/",
     "height": 365
    },
    "id": "7bJW2xLEhSne",
    "outputId": "083cae0f-3ea4-4b61-a936-a99bfd5a1d56"
   },
   "outputs": [
    {
     "data": {
      "text/html": [
       "<div>\n",
       "<style scoped>\n",
       "    .dataframe tbody tr th:only-of-type {\n",
       "        vertical-align: middle;\n",
       "    }\n",
       "\n",
       "    .dataframe tbody tr th {\n",
       "        vertical-align: top;\n",
       "    }\n",
       "\n",
       "    .dataframe thead th {\n",
       "        text-align: right;\n",
       "    }\n",
       "</style>\n",
       "<table border=\"1\" class=\"dataframe\">\n",
       "  <thead>\n",
       "    <tr style=\"text-align: right;\">\n",
       "      <th></th>\n",
       "      <th>Retrieved text</th>\n",
       "      <th>score</th>\n",
       "    </tr>\n",
       "  </thead>\n",
       "  <tbody>\n",
       "    <tr>\n",
       "      <th>0</th>\n",
       "      <td>Chapter 1 | Introduction to Embedded Systems \\n37The STM32F429ZIT6U microcontroller includes a Cortex-M4 processor , as shown in Figure 1.22. It \\ncan be appreciated that, beyond the processor, the microcontroller includes other peripherals such as \\ncommunication cores (ethernet, USB, UART, etc.), memory, timers, and GPIO (General Purpose Input Output) ports. \\nNUCLEO\\n-F429ZI32F429ZIT6U\\nARM7B776 VQ\\nPHL 7B 7213e412000K620 Y12000\\nK620 Y\\n120 00K620 YDGKYD\\nKMS-1 102NL1706C\\nSTM32F103CBT6\\ne393701GH218CHN\\nST890C\\nGK717\\n11\\n22\\n33\\n44\\n55\\n66\\n77\\n88\\n9\\n10\\n11\\n12\\n13\\n14\\n15PH_0\\nPD_0\\nPD_1\\nPG_0PH_1PF_2PA_7PF_10PF_5PF_3PC_3PC_030\\n29\\n28\\n27\\n2616\\n2515\\n2414\\n2313\\n2212\\n2111\\n2010\\n199\\n18\\n17\\n165V\\nVIN3.3VIOREF\\nGND\\nGNDGND\\nNCNC\\nUART2_RX\\nCAN1_TDCAN1_ DRADC1/7ADC1/3\\nADC1/1...</td>\n",
       "      <td>0.033333</td>\n",
       "    </tr>\n",
       "    <tr>\n",
       "      <th>1</th>\n",
       "      <td>38\\nA Beginner’s Guide to Designing Embedded System ApplicationsFigure 1.23 shows how different elements of the STM32F429ZIT6U microcontroller  are mapped \\nto the Zio and Arduino-compatible headers of the NUCLEO-F429ZI board. Some other elements \\nare mapped to the CN11 and CN12 headers of the NUCLEO-F429ZI board, as will be discussed in upcoming chapters. Further information on these headers is available from [17].\\nIn this chapter, buttons were connected to the NUCLEO board using pins D2 to D7. From Figure 1.23, \\nit can be seen that those digital inputs can also be referred to as PF_15, PE_13, P_14, PE_11, PE_9, and PF_13, respectively. Throughout this book, many pins of the ST Zio connectors will be used, and they will be referred to in the code using the names shown in Figure 1.23.</td>\n",
       "      <td>0.032522</td>\n",
       "    </tr>\n",
       "    <tr>\n",
       "      <th>2</th>\n",
       "      <td>Chapter 1 | Introduction to Embedded Systems \\n33Proposed Exercise\\n1. How can the code be changed in such a way that the system is blocked after three incorrect codes \\nare entered?\\nAnswer to the Exercise\\n1. It can be achieved by means of the change in T able 1.11.\\nT able 1.11 Proposed modification in the code in order to achieve the new behavior.\\nLine in Code 1.5 New code to be used\\n40 if ( numberOfIncorrectCodes &lt; 5 ) 40 if ( numberOfIncorrectCodes &lt; 3 )\\n1.3 Under the Hood\\n1.3.1 Brief Introduction to the Cortex-M Processor  Family and the NUCLEO Board\\nIn this chapter, many programs were developed using the NUCLEO board, provided with the \\nSTM32F429ZIT6U microcontroller . This microcontroller is manufactured by STMicroelectronics [13]</td>\n",
       "      <td>0.016393</td>\n",
       "    </tr>\n",
       "    <tr>\n",
       "      <th>3</th>\n",
       "      <td>Chapter 4 | Finite-State Machines and the Real-Time Clock\\n171 References\\n[1] “4x4 Keypad Module Pinout, Configuration, Features, Circuit &amp; Datasheet” . Accessed July 9, \\n2021. \\n[2] “Breadboard Power Supply Module” . Accessed July 9, 2021. https://components101.com/modules/5v-mb102-breadboard-power-supply-module \\n[3] “UM1974 User manual - STM32 Nucleo-144 boards (MB1137)” . Accessed July 9, 2021. https://www.st.com/resource/en/user_manual/dm00244518-stm32-nucleo144-boards-mb1137-stmicroelectronics.pdf \\n[4] “GitHub - armBookCodeExamples/Directory” . Accessed July 9, 2021. https://github.com/armBookCodeExamples/Directory/ \\n[5] “Time - API references and tutorials | Mbed OS 6 Documentation ” . Accessed July 9, 2021. \\nhttps://os.mbed.com/docs/mbed-os/v6.12/apis/time.html \\n[6] “&lt;cst...</td>\n",
       "      <td>0.016129</td>\n",
       "    </tr>\n",
       "    <tr>\n",
       "      <th>4</th>\n",
       "      <td>M_14, STM_PIN_DATA_EXT(STM_MODE_AF_PP, GPIO_NOPULL, GPIO_AF9_TIM14,  1, 0)}, \\n    {NC, NC, 0}\\n}; \\nCode 8.3 Notes on the PinNames.h file of the NUCLEO-F429ZI  board.</td>\n",
       "      <td>0.015873</td>\n",
       "    </tr>\n",
       "  </tbody>\n",
       "</table>\n",
       "</div>"
      ],
      "text/plain": [
       "                                                                                                                                                                                                                                                                                                                                                                                                                                                                                                                                                                                                                                                                                                                                                                                                                    Retrieved text  \\\n",
       "0  Chapter 1 | Introduction to Embedded Systems \\n37The STM32F429ZIT6U microcontroller includes a Cortex-M4 processor , as shown in Figure 1.22. It \\ncan be appreciated that, beyond the processor, the microcontroller includes other peripherals such as \\ncommunication cores (ethernet, USB, UART, etc.), memory, timers, and GPIO (General Purpose Input Output) ports. \\nNUCLEO\\n-F429ZI32F429ZIT6U\\nARM7B776 VQ\\nPHL 7B 7213e412000K620 Y12000\\nK620 Y\\n120 00K620 YDGKYD\\nKMS-1 102NL1706C\\nSTM32F103CBT6\\ne393701GH218CHN\\nST890C\\nGK717\\n11\\n22\\n33\\n44\\n55\\n66\\n77\\n88\\n9\\n10\\n11\\n12\\n13\\n14\\n15PH_0\\nPD_0\\nPD_1\\nPG_0PH_1PF_2PA_7PF_10PF_5PF_3PC_3PC_030\\n29\\n28\\n27\\n2616\\n2515\\n2414\\n2313\\n2212\\n2111\\n2010\\n199\\n18\\n17\\n165V\\nVIN3.3VIOREF\\nGND\\nGNDGND\\nNCNC\\nUART2_RX\\nCAN1_TDCAN1_ DRADC1/7ADC1/3\\nADC1/1...   \n",
       "1   38\\nA Beginner’s Guide to Designing Embedded System ApplicationsFigure 1.23 shows how different elements of the STM32F429ZIT6U microcontroller  are mapped \\nto the Zio and Arduino-compatible headers of the NUCLEO-F429ZI board. Some other elements \\nare mapped to the CN11 and CN12 headers of the NUCLEO-F429ZI board, as will be discussed in upcoming chapters. Further information on these headers is available from [17].\\nIn this chapter, buttons were connected to the NUCLEO board using pins D2 to D7. From Figure 1.23, \\nit can be seen that those digital inputs can also be referred to as PF_15, PE_13, P_14, PE_11, PE_9, and PF_13, respectively. Throughout this book, many pins of the ST Zio connectors will be used, and they will be referred to in the code using the names shown in Figure 1.23.   \n",
       "2                                              Chapter 1 | Introduction to Embedded Systems \\n33Proposed Exercise\\n1. How can the code be changed in such a way that the system is blocked after three incorrect codes \\nare entered?\\nAnswer to the Exercise\\n1. It can be achieved by means of the change in T able 1.11.\\nT able 1.11 Proposed modification in the code in order to achieve the new behavior.\\nLine in Code 1.5 New code to be used\\n40 if ( numberOfIncorrectCodes < 5 ) 40 if ( numberOfIncorrectCodes < 3 )\\n1.3 Under the Hood\\n1.3.1 Brief Introduction to the Cortex-M Processor  Family and the NUCLEO Board\\nIn this chapter, many programs were developed using the NUCLEO board, provided with the \\nSTM32F429ZIT6U microcontroller . This microcontroller is manufactured by STMicroelectronics [13]   \n",
       "3  Chapter 4 | Finite-State Machines and the Real-Time Clock\\n171 References\\n[1] “4x4 Keypad Module Pinout, Configuration, Features, Circuit & Datasheet” . Accessed July 9, \\n2021. \\n[2] “Breadboard Power Supply Module” . Accessed July 9, 2021. https://components101.com/modules/5v-mb102-breadboard-power-supply-module \\n[3] “UM1974 User manual - STM32 Nucleo-144 boards (MB1137)” . Accessed July 9, 2021. https://www.st.com/resource/en/user_manual/dm00244518-stm32-nucleo144-boards-mb1137-stmicroelectronics.pdf \\n[4] “GitHub - armBookCodeExamples/Directory” . Accessed July 9, 2021. https://github.com/armBookCodeExamples/Directory/ \\n[5] “Time - API references and tutorials | Mbed OS 6 Documentation ” . Accessed July 9, 2021. \\nhttps://os.mbed.com/docs/mbed-os/v6.12/apis/time.html \\n[6] “<cst...   \n",
       "4                                                                                                                                                                                                                                                                                                                                                                                                                                                                                                                                                                                                                                                          M_14, STM_PIN_DATA_EXT(STM_MODE_AF_PP, GPIO_NOPULL, GPIO_AF9_TIM14,  1, 0)}, \\n    {NC, NC, 0}\\n}; \\nCode 8.3 Notes on the PinNames.h file of the NUCLEO-F429ZI  board.   \n",
       "\n",
       "      score  \n",
       "0  0.033333  \n",
       "1  0.032522  \n",
       "2  0.016393  \n",
       "3  0.016129  \n",
       "4  0.015873  "
      ]
     },
     "metadata": {},
     "output_type": "display_data"
    }
   ],
   "source": [
    "df = pd.DataFrame(dense_sparse_rrf_docs, columns=['Retrieved text', 'score'])\n",
    "display(df)"
   ]
  },
  {
   "cell_type": "markdown",
   "metadata": {
    "id": "OpCMjXVehSne",
    "jp-MarkdownHeadingCollapsed": true
   },
   "source": [
    "### Re-Ranker"
   ]
  },
  {
   "cell_type": "code",
   "execution_count": 30,
   "metadata": {
    "colab": {
     "base_uri": "https://localhost:8080/",
     "height": 264,
     "referenced_widgets": [
      "6a1ef9b342284d9f98f3ee6b23b151a4",
      "321c0964d9a442b2aaea462f54762e63",
      "bb75ac08b7fd4105b80e3f26a1598c39",
      "7ea7abaa36e647bd9659a9bd5bfc89d2",
      "c642b06310f8450ca102ad7dd26878c8",
      "dfab30864ccb42bba1dfb6e05cf131fb",
      "55e831854a644ed6b8b3371342a55e6d",
      "254b1376a7e4487e8f3cbc0c30bb74bc",
      "5e9946d6b38d4eb99226b95fa14b9f90",
      "b24a9d5aebe244ddbdbd266fae404e8a",
      "c40f14d273024dbb99f77f1c719c9f65",
      "5b3e62a99aea4c32a2e08b7024ffd535",
      "48b6df7292654285ae5407571a52b325",
      "e89d74f928e549de882e02837cf5c26d",
      "f950f5a6b6634dac863fa6b1c3976377",
      "d0afa708b0be48d58d34b213b9c0a02c",
      "c37c5034bfc34a9b81d048ce2c122513",
      "7bbd4e1f791645debdf45cd6f0ce47f3",
      "ee6392eb239b4068a6c6af502e6e29f9",
      "0041ab30fe6340caac088e2f237156d0",
      "5b8ede843af34429ab85c131ea225984",
      "860067df878149a690bf5775d673253f",
      "e9496155b5ad4de0908993c1d4f6cd74",
      "9ab714102850485bbe017fd0bed4875b",
      "7097139f278444488c965696a57d1200",
      "cb7b865fc6894f4297a80c8608286207",
      "d4c1178720f840eda796ce1c1e51a26e",
      "77ddcdbefbd24525a6f519a7d04fc556",
      "e477afa434c04f4086da9aa9fa20cd1b",
      "d2877e573d9d40888930bb08d4d53908",
      "25ea68dd31464f4fbc7b6399905237b5",
      "46c893162e1a4619a43a90cb05be1a33",
      "882ebc5839994402ad652e3ac05ffe6d",
      "4874b7fd0b4d45358a1a7d428ae90b35",
      "33ae34484be448e3bfe17a60e84edcdd",
      "0eb60b5f974543b2839d8b6bbbfb614e",
      "568d8a5e65f4487db4225d8b2ac52c56",
      "47c51c66bac34b1b9fcc06c473c39827",
      "6c83728d15f940babf65a6171865d52d",
      "6e9068eeecbf4e2f9eaf695ec70999e1",
      "f251eb7fe2c748f488bfe246c2a3de9b",
      "b4fff6ffd239473eb5e6d8aa86b07af3",
      "c237e414ae404089b02749c5552795c9",
      "01b3c329667a46b2bb7d339d78e012a8",
      "ff6d3d9c6b8a47a5bac73ba08e107d71",
      "509e4375381948f4903de2f30a5249dd",
      "006af88ec8844edcbd33911ec8fbe9c5",
      "7038f03b725f48c8880cd8b6e5549f2b",
      "c52d37f9d5944ad3a20221e7b3531813",
      "2a59d4469e184a17a88f07899850fe67",
      "6c68a61c01584831af53047642b10e6b",
      "532ba5ca712d4e32b9ff768c4c6e36bc",
      "15914cd87c8a4efeb0ca6a32e70a9147",
      "e3cf91b2c9b54ea3b79b8395239ade20",
      "2f5f5570a6df4f939521e3a81fcc40d6",
      "87978df480de4fc1bf37e43338403d27",
      "0c8cdccd84e44ad6ab92195f0a06c1c8",
      "f98567c75f504d23ba1d0cd8cf712932",
      "dbab504e614d47e4b8c6c04a81e5029b",
      "908e0e8c6c5a4074a09282ee3a7cdf0d",
      "f692bb92af20487fadd04cecded01e09",
      "0207e8ee4f2744babec4e1c5a29e26eb",
      "4385866c3860468abe892bd970d1993e",
      "e0b559755e614304afe763257ec0c2f5",
      "cb35a972bf094a939c5bad64a83fdaa9",
      "c603ac7d997842348dcffd55e620b640"
     ]
    },
    "id": "0sUStW1KhSne",
    "outputId": "0acbad35-3540-4d59-a88b-3e7ab57fd2e8"
   },
   "outputs": [],
   "source": [
    "ranker_model = None\n",
    "# Define the rerank function\n",
    "if RERANKER_MODEL == \"bgm3\":\n",
    "    ranker_model = BGERerankFunction(\n",
    "        model_name=\"BAAI/bge-reranker-v2-m3\",\n",
    "        device=DEVICE,\n",
    "        batch_size=BATCH_SIZE,\n",
    "    )\n",
    "elif RERANKER_MODEL == \"crossencoder\":\n",
    "    ranker_model = CrossEncoderRerankFunction(\n",
    "        model_name=\"cross-encoder/ms-marco-MiniLM-L-6-v2\",\n",
    "        device=DEVICE,\n",
    "        batch_size=BATCH_SIZE,\n",
    "    )"
   ]
  },
  {
   "cell_type": "code",
   "execution_count": 31,
   "metadata": {
    "id": "IgCMSgoghSne"
   },
   "outputs": [],
   "source": [
    "combined_docs = [dense_doc[0] for dense_doc in dense_docs]\n",
    "combined_docs.extend([sparse_doc[0] for sparse_doc in sparse_docs])\n",
    "# Remove duplicates if any\n",
    "combined_docs = list(set(combined_docs))"
   ]
  },
  {
   "cell_type": "code",
   "execution_count": 32,
   "metadata": {
    "colab": {
     "base_uri": "https://localhost:8080/"
    },
    "id": "E49FV2mNhSnf",
    "outputId": "045afa56-2201-448d-fce1-e54ea28fdc5d"
   },
   "outputs": [
    {
     "name": "stdout",
     "output_type": "stream",
     "text": [
      "CPU times: user 211 ms, sys: 34 ms, total: 245 ms\n",
      "Wall time: 234 ms\n"
     ]
    }
   ],
   "source": [
    "%%time\n",
    "result_docs = ranker_model(query=QUERY, documents=combined_docs, top_k=TOP_K)"
   ]
  },
  {
   "cell_type": "code",
   "execution_count": 33,
   "metadata": {
    "id": "cbK6SyLzhSnf"
   },
   "outputs": [],
   "source": [
    "dense_sparse_reranker_docs = [(res.text, res.score) for res in result_docs]"
   ]
  },
  {
   "cell_type": "code",
   "execution_count": 34,
   "metadata": {
    "colab": {
     "base_uri": "https://localhost:8080/",
     "height": 400
    },
    "id": "InM-EL9ghSnf",
    "outputId": "d87daabc-fe86-42f0-f391-cb84d03e3175"
   },
   "outputs": [
    {
     "data": {
      "text/html": [
       "<div>\n",
       "<style scoped>\n",
       "    .dataframe tbody tr th:only-of-type {\n",
       "        vertical-align: middle;\n",
       "    }\n",
       "\n",
       "    .dataframe tbody tr th {\n",
       "        vertical-align: top;\n",
       "    }\n",
       "\n",
       "    .dataframe thead th {\n",
       "        text-align: right;\n",
       "    }\n",
       "</style>\n",
       "<table border=\"1\" class=\"dataframe\">\n",
       "  <thead>\n",
       "    <tr style=\"text-align: right;\">\n",
       "      <th></th>\n",
       "      <th>Retrieved text</th>\n",
       "      <th>score</th>\n",
       "    </tr>\n",
       "  </thead>\n",
       "  <tbody>\n",
       "    <tr>\n",
       "      <th>0</th>\n",
       "      <td>Chapter 1 | Introduction to Embedded Systems \\n33Proposed Exercise\\n1. How can the code be changed in such a way that the system is blocked after three incorrect codes \\nare entered?\\nAnswer to the Exercise\\n1. It can be achieved by means of the change in T able 1.11.\\nT able 1.11 Proposed modification in the code in order to achieve the new behavior.\\nLine in Code 1.5 New code to be used\\n40 if ( numberOfIncorrectCodes &lt; 5 ) 40 if ( numberOfIncorrectCodes &lt; 3 )\\n1.3 Under the Hood\\n1.3.1 Brief Introduction to the Cortex-M Processor  Family and the NUCLEO Board\\nIn this chapter, many programs were developed using the NUCLEO board, provided with the \\nSTM32F429ZIT6U microcontroller . This microcontroller is manufactured by STMicroelectronics [13]</td>\n",
       "      <td>0.986980</td>\n",
       "    </tr>\n",
       "    <tr>\n",
       "      <th>1</th>\n",
       "      <td>38\\nA Beginner’s Guide to Designing Embedded System ApplicationsFigure 1.23 shows how different elements of the STM32F429ZIT6U microcontroller  are mapped \\nto the Zio and Arduino-compatible headers of the NUCLEO-F429ZI board. Some other elements \\nare mapped to the CN11 and CN12 headers of the NUCLEO-F429ZI board, as will be discussed in upcoming chapters. Further information on these headers is available from [17].\\nIn this chapter, buttons were connected to the NUCLEO board using pins D2 to D7. From Figure 1.23, \\nit can be seen that those digital inputs can also be referred to as PF_15, PE_13, P_14, PE_11, PE_9, and PF_13, respectively. Throughout this book, many pins of the ST Zio connectors will be used, and they will be referred to in the code using the names shown in Figure 1.23.</td>\n",
       "      <td>0.719778</td>\n",
       "    </tr>\n",
       "    <tr>\n",
       "      <th>2</th>\n",
       "      <td>This section will begin the implementation of the smart home system, following the diagram shown in Figure 1.3. This first implementation will detect fire using an over temperature detector and a gas detector and, if it detects fire, it will activate the alarm until a given code is entered.  For this purpose, the NUCLEO board [1] provided with the STM32F429ZIT6U microcontroller [9] (referred to as the STM32 microcontroller ) is used.</td>\n",
       "      <td>0.545891</td>\n",
       "    </tr>\n",
       "    <tr>\n",
       "      <th>3</th>\n",
       "      <td>Chapter 1 | Introduction to Embedded Systems \\n37The STM32F429ZIT6U microcontroller includes a Cortex-M4 processor , as shown in Figure 1.22. It \\ncan be appreciated that, beyond the processor, the microcontroller includes other peripherals such as \\ncommunication cores (ethernet, USB, UART, etc.), memory, timers, and GPIO (General Purpose Input Output) ports. \\nNUCLEO\\n-F429ZI32F429ZIT6U\\nARM7B776 VQ\\nPHL 7B 7213e412000K620 Y12000\\nK620 Y\\n120 00K620 YDGKYD\\nKMS-1 102NL1706C\\nSTM32F103CBT6\\ne393701GH218CHN\\nST890C\\nGK717\\n11\\n22\\n33\\n44\\n55\\n66\\n77\\n88\\n9\\n10\\n11\\n12\\n13\\n14\\n15PH_0\\nPD_0\\nPD_1\\nPG_0PH_1PF_2PA_7PF_10PF_5PF_3PC_3PC_030\\n29\\n28\\n27\\n2616\\n2515\\n2414\\n2313\\n2212\\n2111\\n2010\\n199\\n18\\n17\\n165V\\nVIN3.3VIOREF\\nGND\\nGNDGND\\nNCNC\\nUART2_RX\\nCAN1_TDCAN1_ DRADC1/7ADC1/3\\nADC1/1...</td>\n",
       "      <td>0.536616</td>\n",
       "    </tr>\n",
       "    <tr>\n",
       "      <th>4</th>\n",
       "      <td>[3] “Arm Keil | Cloud-based Development T ools for IoT, ML and Embedded” . Accessed July 9, 2021. https://www.keil.arm.com/ \\n[4] “Log In | Mbed” . Accessed July 9, 2021. https://os.mbed.com/account/login/  \\n[5] “Keil Studio” . Accessed July 9, 2021. https://studio.keil.arm.com/  \\n[6] “Documentation - Arm Developer” . Accessed July 9, 2021. https://developer.arm.com/documentation \\n[7] “Arm Mbed Studio” . Accessed July 9, 2021. https://os.mbed.com/studio/ \\n[8] “STM32CudeIDE - Integrated Development Environment” . Accessed July 9, 2021. https://www.st.com/en/development-tools/stm32cubeide.html \\n[9] “STM32F429ZI - High-performance advanced line, Arm Cortex-M4” . Accessed July 9, 2021.  https://www.st.com/en/microcontrollers-microprocessors/stm32f429zi.html</td>\n",
       "      <td>0.373647</td>\n",
       "    </tr>\n",
       "  </tbody>\n",
       "</table>\n",
       "</div>"
      ],
      "text/plain": [
       "                                                                                                                                                                                                                                                                                                                                                                                                                                                                                                                                                                                                                                                                                                                                                                                                                    Retrieved text  \\\n",
       "0                                              Chapter 1 | Introduction to Embedded Systems \\n33Proposed Exercise\\n1. How can the code be changed in such a way that the system is blocked after three incorrect codes \\nare entered?\\nAnswer to the Exercise\\n1. It can be achieved by means of the change in T able 1.11.\\nT able 1.11 Proposed modification in the code in order to achieve the new behavior.\\nLine in Code 1.5 New code to be used\\n40 if ( numberOfIncorrectCodes < 5 ) 40 if ( numberOfIncorrectCodes < 3 )\\n1.3 Under the Hood\\n1.3.1 Brief Introduction to the Cortex-M Processor  Family and the NUCLEO Board\\nIn this chapter, many programs were developed using the NUCLEO board, provided with the \\nSTM32F429ZIT6U microcontroller . This microcontroller is manufactured by STMicroelectronics [13]   \n",
       "1   38\\nA Beginner’s Guide to Designing Embedded System ApplicationsFigure 1.23 shows how different elements of the STM32F429ZIT6U microcontroller  are mapped \\nto the Zio and Arduino-compatible headers of the NUCLEO-F429ZI board. Some other elements \\nare mapped to the CN11 and CN12 headers of the NUCLEO-F429ZI board, as will be discussed in upcoming chapters. Further information on these headers is available from [17].\\nIn this chapter, buttons were connected to the NUCLEO board using pins D2 to D7. From Figure 1.23, \\nit can be seen that those digital inputs can also be referred to as PF_15, PE_13, P_14, PE_11, PE_9, and PF_13, respectively. Throughout this book, many pins of the ST Zio connectors will be used, and they will be referred to in the code using the names shown in Figure 1.23.   \n",
       "2                                                                                                                                                                                                                                                                                                                                                                            This section will begin the implementation of the smart home system, following the diagram shown in Figure 1.3. This first implementation will detect fire using an over temperature detector and a gas detector and, if it detects fire, it will activate the alarm until a given code is entered.  For this purpose, the NUCLEO board [1] provided with the STM32F429ZIT6U microcontroller [9] (referred to as the STM32 microcontroller ) is used.   \n",
       "3  Chapter 1 | Introduction to Embedded Systems \\n37The STM32F429ZIT6U microcontroller includes a Cortex-M4 processor , as shown in Figure 1.22. It \\ncan be appreciated that, beyond the processor, the microcontroller includes other peripherals such as \\ncommunication cores (ethernet, USB, UART, etc.), memory, timers, and GPIO (General Purpose Input Output) ports. \\nNUCLEO\\n-F429ZI32F429ZIT6U\\nARM7B776 VQ\\nPHL 7B 7213e412000K620 Y12000\\nK620 Y\\n120 00K620 YDGKYD\\nKMS-1 102NL1706C\\nSTM32F103CBT6\\ne393701GH218CHN\\nST890C\\nGK717\\n11\\n22\\n33\\n44\\n55\\n66\\n77\\n88\\n9\\n10\\n11\\n12\\n13\\n14\\n15PH_0\\nPD_0\\nPD_1\\nPG_0PH_1PF_2PA_7PF_10PF_5PF_3PC_3PC_030\\n29\\n28\\n27\\n2616\\n2515\\n2414\\n2313\\n2212\\n2111\\n2010\\n199\\n18\\n17\\n165V\\nVIN3.3VIOREF\\nGND\\nGNDGND\\nNCNC\\nUART2_RX\\nCAN1_TDCAN1_ DRADC1/7ADC1/3\\nADC1/1...   \n",
       "4                                 [3] “Arm Keil | Cloud-based Development T ools for IoT, ML and Embedded” . Accessed July 9, 2021. https://www.keil.arm.com/ \\n[4] “Log In | Mbed” . Accessed July 9, 2021. https://os.mbed.com/account/login/  \\n[5] “Keil Studio” . Accessed July 9, 2021. https://studio.keil.arm.com/  \\n[6] “Documentation - Arm Developer” . Accessed July 9, 2021. https://developer.arm.com/documentation \\n[7] “Arm Mbed Studio” . Accessed July 9, 2021. https://os.mbed.com/studio/ \\n[8] “STM32CudeIDE - Integrated Development Environment” . Accessed July 9, 2021. https://www.st.com/en/development-tools/stm32cubeide.html \\n[9] “STM32F429ZI - High-performance advanced line, Arm Cortex-M4” . Accessed July 9, 2021.  https://www.st.com/en/microcontrollers-microprocessors/stm32f429zi.html   \n",
       "\n",
       "      score  \n",
       "0  0.986980  \n",
       "1  0.719778  \n",
       "2  0.545891  \n",
       "3  0.536616  \n",
       "4  0.373647  "
      ]
     },
     "metadata": {},
     "output_type": "display_data"
    }
   ],
   "source": [
    "df = pd.DataFrame(dense_sparse_reranker_docs, columns=['Retrieved text', 'score'])\n",
    "display(df)"
   ]
  },
  {
   "cell_type": "markdown",
   "metadata": {
    "id": "WKmPHaiKhSnf",
    "jp-MarkdownHeadingCollapsed": true
   },
   "source": [
    "# Dense + Full Text Search\n",
    "\n",
    "Here we will look into aggregating the results from both dense and full text approaach.\n",
    "\n",
    "There are multiple ways to collate the results from different approaches, we will experiment with 2 approaches.\n",
    "\n",
    "- **Reciprocal Rank Fusion (RRF)** : Reciprocal Rank Fusion (RRF) is a method used to combine results from different retrieval systems by leveraging the positions/rank of the documents. It uses a formula to aggregate the ranks from all different sources and provide the final rank from all the sources.\n",
    "\n",
    "- **Re-ranker** : We use re-ranker models which are cross encoder models to rank and score the retrieved documents based on how relevant they are to the input query."
   ]
  },
  {
   "cell_type": "markdown",
   "metadata": {
    "id": "QvLqSGhGhSnf",
    "jp-MarkdownHeadingCollapsed": true
   },
   "source": [
    "### Reciprocal Rank Fusion"
   ]
  },
  {
   "cell_type": "code",
   "execution_count": 35,
   "metadata": {
    "id": "ILPY6ZunhSng"
   },
   "outputs": [],
   "source": [
    "combined_docs = []\n",
    "combined_docs.append(dense_docs)\n",
    "combined_docs.append(full_text_docs)"
   ]
  },
  {
   "cell_type": "code",
   "execution_count": 36,
   "metadata": {
    "id": "X3m6ou7XhSng"
   },
   "outputs": [],
   "source": [
    "dense_full_text_rrf_docs = rrf(combined_docs)[:TOP_K]"
   ]
  },
  {
   "cell_type": "code",
   "execution_count": 37,
   "metadata": {
    "colab": {
     "base_uri": "https://localhost:8080/",
     "height": 400
    },
    "id": "g-U9C3FXhSng",
    "outputId": "bf4c80ba-6b43-4dd8-ad9c-e29df7347608"
   },
   "outputs": [
    {
     "data": {
      "text/html": [
       "<div>\n",
       "<style scoped>\n",
       "    .dataframe tbody tr th:only-of-type {\n",
       "        vertical-align: middle;\n",
       "    }\n",
       "\n",
       "    .dataframe tbody tr th {\n",
       "        vertical-align: top;\n",
       "    }\n",
       "\n",
       "    .dataframe thead th {\n",
       "        text-align: right;\n",
       "    }\n",
       "</style>\n",
       "<table border=\"1\" class=\"dataframe\">\n",
       "  <thead>\n",
       "    <tr style=\"text-align: right;\">\n",
       "      <th></th>\n",
       "      <th>Retrieved text</th>\n",
       "      <th>score</th>\n",
       "    </tr>\n",
       "  </thead>\n",
       "  <tbody>\n",
       "    <tr>\n",
       "      <th>0</th>\n",
       "      <td>38\\nA Beginner’s Guide to Designing Embedded System ApplicationsFigure 1.23 shows how different elements of the STM32F429ZIT6U microcontroller  are mapped \\nto the Zio and Arduino-compatible headers of the NUCLEO-F429ZI board. Some other elements \\nare mapped to the CN11 and CN12 headers of the NUCLEO-F429ZI board, as will be discussed in upcoming chapters. Further information on these headers is available from [17].\\nIn this chapter, buttons were connected to the NUCLEO board using pins D2 to D7. From Figure 1.23, \\nit can be seen that those digital inputs can also be referred to as PF_15, PE_13, P_14, PE_11, PE_9, and PF_13, respectively. Throughout this book, many pins of the ST Zio connectors will be used, and they will be referred to in the code using the names shown in Figure 1.23.</td>\n",
       "      <td>0.032266</td>\n",
       "    </tr>\n",
       "    <tr>\n",
       "      <th>1</th>\n",
       "      <td>Chapter 1 | Introduction to Embedded Systems \\n37The STM32F429ZIT6U microcontroller includes a Cortex-M4 processor , as shown in Figure 1.22. It \\ncan be appreciated that, beyond the processor, the microcontroller includes other peripherals such as \\ncommunication cores (ethernet, USB, UART, etc.), memory, timers, and GPIO (General Purpose Input Output) ports. \\nNUCLEO\\n-F429ZI32F429ZIT6U\\nARM7B776 VQ\\nPHL 7B 7213e412000K620 Y12000\\nK620 Y\\n120 00K620 YDGKYD\\nKMS-1 102NL1706C\\nSTM32F103CBT6\\ne393701GH218CHN\\nST890C\\nGK717\\n11\\n22\\n33\\n44\\n55\\n66\\n77\\n88\\n9\\n10\\n11\\n12\\n13\\n14\\n15PH_0\\nPD_0\\nPD_1\\nPG_0PH_1PF_2PA_7PF_10PF_5PF_3PC_3PC_030\\n29\\n28\\n27\\n2616\\n2515\\n2414\\n2313\\n2212\\n2111\\n2010\\n199\\n18\\n17\\n165V\\nVIN3.3VIOREF\\nGND\\nGNDGND\\nNCNC\\nUART2_RX\\nCAN1_TDCAN1_ DRADC1/7ADC1/3\\nADC1/1...</td>\n",
       "      <td>0.016667</td>\n",
       "    </tr>\n",
       "    <tr>\n",
       "      <th>2</th>\n",
       "      <td>Chapter 1 | Introduction to Embedded Systems \\n33Proposed Exercise\\n1. How can the code be changed in such a way that the system is blocked after three incorrect codes \\nare entered?\\nAnswer to the Exercise\\n1. It can be achieved by means of the change in T able 1.11.\\nT able 1.11 Proposed modification in the code in order to achieve the new behavior.\\nLine in Code 1.5 New code to be used\\n40 if ( numberOfIncorrectCodes &lt; 5 ) 40 if ( numberOfIncorrectCodes &lt; 3 )\\n1.3 Under the Hood\\n1.3.1 Brief Introduction to the Cortex-M Processor  Family and the NUCLEO Board\\nIn this chapter, many programs were developed using the NUCLEO board, provided with the \\nSTM32F429ZIT6U microcontroller . This microcontroller is manufactured by STMicroelectronics [13]</td>\n",
       "      <td>0.016667</td>\n",
       "    </tr>\n",
       "    <tr>\n",
       "      <th>3</th>\n",
       "      <td>This section will begin the implementation of the smart home system, following the diagram shown in Figure 1.3. This first implementation will detect fire using an over temperature detector and a gas detector and, if it detects fire, it will activate the alarm until a given code is entered.  For this purpose, the NUCLEO board [1] provided with the STM32F429ZIT6U microcontroller [9] (referred to as the STM32 microcontroller ) is used.</td>\n",
       "      <td>0.016393</td>\n",
       "    </tr>\n",
       "    <tr>\n",
       "      <th>4</th>\n",
       "      <td>Chapter 4 | Finite-State Machines and the Real-Time Clock\\n171 References\\n[1] “4x4 Keypad Module Pinout, Configuration, Features, Circuit &amp; Datasheet” . Accessed July 9, \\n2021. \\n[2] “Breadboard Power Supply Module” . Accessed July 9, 2021. https://components101.com/modules/5v-mb102-breadboard-power-supply-module \\n[3] “UM1974 User manual - STM32 Nucleo-144 boards (MB1137)” . Accessed July 9, 2021. https://www.st.com/resource/en/user_manual/dm00244518-stm32-nucleo144-boards-mb1137-stmicroelectronics.pdf \\n[4] “GitHub - armBookCodeExamples/Directory” . Accessed July 9, 2021. https://github.com/armBookCodeExamples/Directory/ \\n[5] “Time - API references and tutorials | Mbed OS 6 Documentation ” . Accessed July 9, 2021. \\nhttps://os.mbed.com/docs/mbed-os/v6.12/apis/time.html \\n[6] “&lt;cst...</td>\n",
       "      <td>0.016129</td>\n",
       "    </tr>\n",
       "  </tbody>\n",
       "</table>\n",
       "</div>"
      ],
      "text/plain": [
       "                                                                                                                                                                                                                                                                                                                                                                                                                                                                                                                                                                                                                                                                                                                                                                                                                    Retrieved text  \\\n",
       "0   38\\nA Beginner’s Guide to Designing Embedded System ApplicationsFigure 1.23 shows how different elements of the STM32F429ZIT6U microcontroller  are mapped \\nto the Zio and Arduino-compatible headers of the NUCLEO-F429ZI board. Some other elements \\nare mapped to the CN11 and CN12 headers of the NUCLEO-F429ZI board, as will be discussed in upcoming chapters. Further information on these headers is available from [17].\\nIn this chapter, buttons were connected to the NUCLEO board using pins D2 to D7. From Figure 1.23, \\nit can be seen that those digital inputs can also be referred to as PF_15, PE_13, P_14, PE_11, PE_9, and PF_13, respectively. Throughout this book, many pins of the ST Zio connectors will be used, and they will be referred to in the code using the names shown in Figure 1.23.   \n",
       "1  Chapter 1 | Introduction to Embedded Systems \\n37The STM32F429ZIT6U microcontroller includes a Cortex-M4 processor , as shown in Figure 1.22. It \\ncan be appreciated that, beyond the processor, the microcontroller includes other peripherals such as \\ncommunication cores (ethernet, USB, UART, etc.), memory, timers, and GPIO (General Purpose Input Output) ports. \\nNUCLEO\\n-F429ZI32F429ZIT6U\\nARM7B776 VQ\\nPHL 7B 7213e412000K620 Y12000\\nK620 Y\\n120 00K620 YDGKYD\\nKMS-1 102NL1706C\\nSTM32F103CBT6\\ne393701GH218CHN\\nST890C\\nGK717\\n11\\n22\\n33\\n44\\n55\\n66\\n77\\n88\\n9\\n10\\n11\\n12\\n13\\n14\\n15PH_0\\nPD_0\\nPD_1\\nPG_0PH_1PF_2PA_7PF_10PF_5PF_3PC_3PC_030\\n29\\n28\\n27\\n2616\\n2515\\n2414\\n2313\\n2212\\n2111\\n2010\\n199\\n18\\n17\\n165V\\nVIN3.3VIOREF\\nGND\\nGNDGND\\nNCNC\\nUART2_RX\\nCAN1_TDCAN1_ DRADC1/7ADC1/3\\nADC1/1...   \n",
       "2                                              Chapter 1 | Introduction to Embedded Systems \\n33Proposed Exercise\\n1. How can the code be changed in such a way that the system is blocked after three incorrect codes \\nare entered?\\nAnswer to the Exercise\\n1. It can be achieved by means of the change in T able 1.11.\\nT able 1.11 Proposed modification in the code in order to achieve the new behavior.\\nLine in Code 1.5 New code to be used\\n40 if ( numberOfIncorrectCodes < 5 ) 40 if ( numberOfIncorrectCodes < 3 )\\n1.3 Under the Hood\\n1.3.1 Brief Introduction to the Cortex-M Processor  Family and the NUCLEO Board\\nIn this chapter, many programs were developed using the NUCLEO board, provided with the \\nSTM32F429ZIT6U microcontroller . This microcontroller is manufactured by STMicroelectronics [13]   \n",
       "3                                                                                                                                                                                                                                                                                                                                                                            This section will begin the implementation of the smart home system, following the diagram shown in Figure 1.3. This first implementation will detect fire using an over temperature detector and a gas detector and, if it detects fire, it will activate the alarm until a given code is entered.  For this purpose, the NUCLEO board [1] provided with the STM32F429ZIT6U microcontroller [9] (referred to as the STM32 microcontroller ) is used.   \n",
       "4  Chapter 4 | Finite-State Machines and the Real-Time Clock\\n171 References\\n[1] “4x4 Keypad Module Pinout, Configuration, Features, Circuit & Datasheet” . Accessed July 9, \\n2021. \\n[2] “Breadboard Power Supply Module” . Accessed July 9, 2021. https://components101.com/modules/5v-mb102-breadboard-power-supply-module \\n[3] “UM1974 User manual - STM32 Nucleo-144 boards (MB1137)” . Accessed July 9, 2021. https://www.st.com/resource/en/user_manual/dm00244518-stm32-nucleo144-boards-mb1137-stmicroelectronics.pdf \\n[4] “GitHub - armBookCodeExamples/Directory” . Accessed July 9, 2021. https://github.com/armBookCodeExamples/Directory/ \\n[5] “Time - API references and tutorials | Mbed OS 6 Documentation ” . Accessed July 9, 2021. \\nhttps://os.mbed.com/docs/mbed-os/v6.12/apis/time.html \\n[6] “<cst...   \n",
       "\n",
       "      score  \n",
       "0  0.032266  \n",
       "1  0.016667  \n",
       "2  0.016667  \n",
       "3  0.016393  \n",
       "4  0.016129  "
      ]
     },
     "metadata": {},
     "output_type": "display_data"
    }
   ],
   "source": [
    "df = pd.DataFrame(dense_full_text_rrf_docs, columns=['Retrieved text', 'score'])\n",
    "display(df)"
   ]
  },
  {
   "cell_type": "markdown",
   "metadata": {
    "id": "1pT3wCA6hSng",
    "jp-MarkdownHeadingCollapsed": true
   },
   "source": [
    "### Re-Ranker"
   ]
  },
  {
   "cell_type": "code",
   "execution_count": 38,
   "metadata": {
    "id": "BsQQjC7UhSng"
   },
   "outputs": [],
   "source": [
    "ranker_model = None\n",
    "# Define the rerank function\n",
    "if RERANKER_MODEL == \"bgm3\":\n",
    "    ranker_model = BGERerankFunction(\n",
    "        model_name=\"BAAI/bge-reranker-v2-m3\",\n",
    "        device=DEVICE,\n",
    "        batch_size=BATCH_SIZE,\n",
    "    )\n",
    "elif RERANKER_MODEL == \"crossencoder\":\n",
    "    ranker_model = CrossEncoderRerankFunction(\n",
    "        model_name=\"cross-encoder/ms-marco-MiniLM-L-6-v2\",\n",
    "        device=DEVICE,\n",
    "        batch_size=BATCH_SIZE,\n",
    "    )"
   ]
  },
  {
   "cell_type": "code",
   "execution_count": 39,
   "metadata": {
    "id": "LFZCEbtdhSnh"
   },
   "outputs": [],
   "source": [
    "combined_docs = [dense_doc[0] for dense_doc in dense_docs]\n",
    "combined_docs.extend([full_text_doc[0] for full_text_doc in full_text_docs])\n",
    "# Remove duplicates if any\n",
    "combined_docs = list(set(combined_docs))"
   ]
  },
  {
   "cell_type": "code",
   "execution_count": 40,
   "metadata": {
    "colab": {
     "base_uri": "https://localhost:8080/"
    },
    "id": "fo5xxStdhSni",
    "outputId": "021ad239-5739-4d32-b8a2-577ca873bc03"
   },
   "outputs": [
    {
     "name": "stdout",
     "output_type": "stream",
     "text": [
      "CPU times: user 212 ms, sys: 5.91 ms, total: 218 ms\n",
      "Wall time: 205 ms\n"
     ]
    }
   ],
   "source": [
    "%%time\n",
    "result_docs = ranker_model(query=QUERY, documents=combined_docs, top_k=TOP_K)"
   ]
  },
  {
   "cell_type": "code",
   "execution_count": 41,
   "metadata": {
    "id": "XFd6ykvLhSni"
   },
   "outputs": [],
   "source": [
    "dense_full_text_reranker_docs = [(res.text, res.score) for res in result_docs]"
   ]
  },
  {
   "cell_type": "code",
   "execution_count": 42,
   "metadata": {
    "colab": {
     "base_uri": "https://localhost:8080/",
     "height": 400
    },
    "id": "JNhihTyOhSni",
    "outputId": "5c81466b-aa49-4066-c1df-bf8e06a04c47"
   },
   "outputs": [
    {
     "data": {
      "text/html": [
       "<div>\n",
       "<style scoped>\n",
       "    .dataframe tbody tr th:only-of-type {\n",
       "        vertical-align: middle;\n",
       "    }\n",
       "\n",
       "    .dataframe tbody tr th {\n",
       "        vertical-align: top;\n",
       "    }\n",
       "\n",
       "    .dataframe thead th {\n",
       "        text-align: right;\n",
       "    }\n",
       "</style>\n",
       "<table border=\"1\" class=\"dataframe\">\n",
       "  <thead>\n",
       "    <tr style=\"text-align: right;\">\n",
       "      <th></th>\n",
       "      <th>Retrieved text</th>\n",
       "      <th>score</th>\n",
       "    </tr>\n",
       "  </thead>\n",
       "  <tbody>\n",
       "    <tr>\n",
       "      <th>0</th>\n",
       "      <td>Chapter 1 | Introduction to Embedded Systems \\n33Proposed Exercise\\n1. How can the code be changed in such a way that the system is blocked after three incorrect codes \\nare entered?\\nAnswer to the Exercise\\n1. It can be achieved by means of the change in T able 1.11.\\nT able 1.11 Proposed modification in the code in order to achieve the new behavior.\\nLine in Code 1.5 New code to be used\\n40 if ( numberOfIncorrectCodes &lt; 5 ) 40 if ( numberOfIncorrectCodes &lt; 3 )\\n1.3 Under the Hood\\n1.3.1 Brief Introduction to the Cortex-M Processor  Family and the NUCLEO Board\\nIn this chapter, many programs were developed using the NUCLEO board, provided with the \\nSTM32F429ZIT6U microcontroller . This microcontroller is manufactured by STMicroelectronics [13]</td>\n",
       "      <td>0.986980</td>\n",
       "    </tr>\n",
       "    <tr>\n",
       "      <th>1</th>\n",
       "      <td>38\\nA Beginner’s Guide to Designing Embedded System ApplicationsFigure 1.23 shows how different elements of the STM32F429ZIT6U microcontroller  are mapped \\nto the Zio and Arduino-compatible headers of the NUCLEO-F429ZI board. Some other elements \\nare mapped to the CN11 and CN12 headers of the NUCLEO-F429ZI board, as will be discussed in upcoming chapters. Further information on these headers is available from [17].\\nIn this chapter, buttons were connected to the NUCLEO board using pins D2 to D7. From Figure 1.23, \\nit can be seen that those digital inputs can also be referred to as PF_15, PE_13, P_14, PE_11, PE_9, and PF_13, respectively. Throughout this book, many pins of the ST Zio connectors will be used, and they will be referred to in the code using the names shown in Figure 1.23.</td>\n",
       "      <td>0.719581</td>\n",
       "    </tr>\n",
       "    <tr>\n",
       "      <th>2</th>\n",
       "      <td>This section will begin the implementation of the smart home system, following the diagram shown in Figure 1.3. This first implementation will detect fire using an over temperature detector and a gas detector and, if it detects fire, it will activate the alarm until a given code is entered.  For this purpose, the NUCLEO board [1] provided with the STM32F429ZIT6U microcontroller [9] (referred to as the STM32 microcontroller ) is used.</td>\n",
       "      <td>0.547192</td>\n",
       "    </tr>\n",
       "    <tr>\n",
       "      <th>3</th>\n",
       "      <td>Chapter 1 | Introduction to Embedded Systems \\n37The STM32F429ZIT6U microcontroller includes a Cortex-M4 processor , as shown in Figure 1.22. It \\ncan be appreciated that, beyond the processor, the microcontroller includes other peripherals such as \\ncommunication cores (ethernet, USB, UART, etc.), memory, timers, and GPIO (General Purpose Input Output) ports. \\nNUCLEO\\n-F429ZI32F429ZIT6U\\nARM7B776 VQ\\nPHL 7B 7213e412000K620 Y12000\\nK620 Y\\n120 00K620 YDGKYD\\nKMS-1 102NL1706C\\nSTM32F103CBT6\\ne393701GH218CHN\\nST890C\\nGK717\\n11\\n22\\n33\\n44\\n55\\n66\\n77\\n88\\n9\\n10\\n11\\n12\\n13\\n14\\n15PH_0\\nPD_0\\nPD_1\\nPG_0PH_1PF_2PA_7PF_10PF_5PF_3PC_3PC_030\\n29\\n28\\n27\\n2616\\n2515\\n2414\\n2313\\n2212\\n2111\\n2010\\n199\\n18\\n17\\n165V\\nVIN3.3VIOREF\\nGND\\nGNDGND\\nNCNC\\nUART2_RX\\nCAN1_TDCAN1_ DRADC1/7ADC1/3\\nADC1/1...</td>\n",
       "      <td>0.534764</td>\n",
       "    </tr>\n",
       "    <tr>\n",
       "      <th>4</th>\n",
       "      <td>[3] “Arm Keil | Cloud-based Development T ools for IoT, ML and Embedded” . Accessed July 9, 2021. https://www.keil.arm.com/ \\n[4] “Log In | Mbed” . Accessed July 9, 2021. https://os.mbed.com/account/login/  \\n[5] “Keil Studio” . Accessed July 9, 2021. https://studio.keil.arm.com/  \\n[6] “Documentation - Arm Developer” . Accessed July 9, 2021. https://developer.arm.com/documentation \\n[7] “Arm Mbed Studio” . Accessed July 9, 2021. https://os.mbed.com/studio/ \\n[8] “STM32CudeIDE - Integrated Development Environment” . Accessed July 9, 2021. https://www.st.com/en/development-tools/stm32cubeide.html \\n[9] “STM32F429ZI - High-performance advanced line, Arm Cortex-M4” . Accessed July 9, 2021.  https://www.st.com/en/microcontrollers-microprocessors/stm32f429zi.html</td>\n",
       "      <td>0.373190</td>\n",
       "    </tr>\n",
       "  </tbody>\n",
       "</table>\n",
       "</div>"
      ],
      "text/plain": [
       "                                                                                                                                                                                                                                                                                                                                                                                                                                                                                                                                                                                                                                                                                                                                                                                                                    Retrieved text  \\\n",
       "0                                              Chapter 1 | Introduction to Embedded Systems \\n33Proposed Exercise\\n1. How can the code be changed in such a way that the system is blocked after three incorrect codes \\nare entered?\\nAnswer to the Exercise\\n1. It can be achieved by means of the change in T able 1.11.\\nT able 1.11 Proposed modification in the code in order to achieve the new behavior.\\nLine in Code 1.5 New code to be used\\n40 if ( numberOfIncorrectCodes < 5 ) 40 if ( numberOfIncorrectCodes < 3 )\\n1.3 Under the Hood\\n1.3.1 Brief Introduction to the Cortex-M Processor  Family and the NUCLEO Board\\nIn this chapter, many programs were developed using the NUCLEO board, provided with the \\nSTM32F429ZIT6U microcontroller . This microcontroller is manufactured by STMicroelectronics [13]   \n",
       "1   38\\nA Beginner’s Guide to Designing Embedded System ApplicationsFigure 1.23 shows how different elements of the STM32F429ZIT6U microcontroller  are mapped \\nto the Zio and Arduino-compatible headers of the NUCLEO-F429ZI board. Some other elements \\nare mapped to the CN11 and CN12 headers of the NUCLEO-F429ZI board, as will be discussed in upcoming chapters. Further information on these headers is available from [17].\\nIn this chapter, buttons were connected to the NUCLEO board using pins D2 to D7. From Figure 1.23, \\nit can be seen that those digital inputs can also be referred to as PF_15, PE_13, P_14, PE_11, PE_9, and PF_13, respectively. Throughout this book, many pins of the ST Zio connectors will be used, and they will be referred to in the code using the names shown in Figure 1.23.   \n",
       "2                                                                                                                                                                                                                                                                                                                                                                            This section will begin the implementation of the smart home system, following the diagram shown in Figure 1.3. This first implementation will detect fire using an over temperature detector and a gas detector and, if it detects fire, it will activate the alarm until a given code is entered.  For this purpose, the NUCLEO board [1] provided with the STM32F429ZIT6U microcontroller [9] (referred to as the STM32 microcontroller ) is used.   \n",
       "3  Chapter 1 | Introduction to Embedded Systems \\n37The STM32F429ZIT6U microcontroller includes a Cortex-M4 processor , as shown in Figure 1.22. It \\ncan be appreciated that, beyond the processor, the microcontroller includes other peripherals such as \\ncommunication cores (ethernet, USB, UART, etc.), memory, timers, and GPIO (General Purpose Input Output) ports. \\nNUCLEO\\n-F429ZI32F429ZIT6U\\nARM7B776 VQ\\nPHL 7B 7213e412000K620 Y12000\\nK620 Y\\n120 00K620 YDGKYD\\nKMS-1 102NL1706C\\nSTM32F103CBT6\\ne393701GH218CHN\\nST890C\\nGK717\\n11\\n22\\n33\\n44\\n55\\n66\\n77\\n88\\n9\\n10\\n11\\n12\\n13\\n14\\n15PH_0\\nPD_0\\nPD_1\\nPG_0PH_1PF_2PA_7PF_10PF_5PF_3PC_3PC_030\\n29\\n28\\n27\\n2616\\n2515\\n2414\\n2313\\n2212\\n2111\\n2010\\n199\\n18\\n17\\n165V\\nVIN3.3VIOREF\\nGND\\nGNDGND\\nNCNC\\nUART2_RX\\nCAN1_TDCAN1_ DRADC1/7ADC1/3\\nADC1/1...   \n",
       "4                                 [3] “Arm Keil | Cloud-based Development T ools for IoT, ML and Embedded” . Accessed July 9, 2021. https://www.keil.arm.com/ \\n[4] “Log In | Mbed” . Accessed July 9, 2021. https://os.mbed.com/account/login/  \\n[5] “Keil Studio” . Accessed July 9, 2021. https://studio.keil.arm.com/  \\n[6] “Documentation - Arm Developer” . Accessed July 9, 2021. https://developer.arm.com/documentation \\n[7] “Arm Mbed Studio” . Accessed July 9, 2021. https://os.mbed.com/studio/ \\n[8] “STM32CudeIDE - Integrated Development Environment” . Accessed July 9, 2021. https://www.st.com/en/development-tools/stm32cubeide.html \\n[9] “STM32F429ZI - High-performance advanced line, Arm Cortex-M4” . Accessed July 9, 2021.  https://www.st.com/en/microcontrollers-microprocessors/stm32f429zi.html   \n",
       "\n",
       "      score  \n",
       "0  0.986980  \n",
       "1  0.719581  \n",
       "2  0.547192  \n",
       "3  0.534764  \n",
       "4  0.373190  "
      ]
     },
     "metadata": {},
     "output_type": "display_data"
    }
   ],
   "source": [
    "df = pd.DataFrame(dense_full_text_reranker_docs, columns=['Retrieved text', 'score'])\n",
    "display(df)"
   ]
  },
  {
   "cell_type": "markdown",
   "metadata": {
    "id": "3himf40dhSni",
    "jp-MarkdownHeadingCollapsed": true
   },
   "source": [
    "# Dense + Sparse + Full Text Search\n",
    "\n",
    "Here we will look into aggregating the results from all the 3 dense, sparse and full-text retrieval approaches.\n",
    "\n",
    "There are multiple ways to collate the results from different approaches, we will experiment with 2 approaches.\n",
    "\n",
    "- **Reciprocal Rank Fusion (RRF)** : Reciprocal Rank Fusion (RRF) is a method used to combine results from different retrieval systems by leveraging the positions/rank of the documents. It uses a formula to aggregate the ranks from all different sources and provide the final rank from all the sources.\n",
    "\n",
    "- **Re-ranker** : We use re-ranker models which are cross encoder models to rank and score the retrieved documents based on how relevant they are to the input query."
   ]
  },
  {
   "cell_type": "markdown",
   "metadata": {
    "id": "9Y7CIm57hSni"
   },
   "source": [
    "### Reciprocal Rank Fusion"
   ]
  },
  {
   "cell_type": "code",
   "execution_count": 43,
   "metadata": {
    "id": "oFNGevyrhSni"
   },
   "outputs": [],
   "source": [
    "combined_docs = []\n",
    "combined_docs.append(dense_docs)\n",
    "combined_docs.append(sparse_docs)\n",
    "combined_docs.append(full_text_docs)"
   ]
  },
  {
   "cell_type": "code",
   "execution_count": 44,
   "metadata": {
    "id": "1h9uEPVFhSnj"
   },
   "outputs": [],
   "source": [
    "dense_sparse_full_text_rrf_docs = rrf(combined_docs)[:TOP_K]"
   ]
  },
  {
   "cell_type": "code",
   "execution_count": 45,
   "metadata": {
    "colab": {
     "base_uri": "https://localhost:8080/",
     "height": 400
    },
    "id": "C-MIvioHhSnj",
    "outputId": "d791e7cc-c9e4-4544-fb37-50969e75ebba"
   },
   "outputs": [
    {
     "data": {
      "text/html": [
       "<div>\n",
       "<style scoped>\n",
       "    .dataframe tbody tr th:only-of-type {\n",
       "        vertical-align: middle;\n",
       "    }\n",
       "\n",
       "    .dataframe tbody tr th {\n",
       "        vertical-align: top;\n",
       "    }\n",
       "\n",
       "    .dataframe thead th {\n",
       "        text-align: right;\n",
       "    }\n",
       "</style>\n",
       "<table border=\"1\" class=\"dataframe\">\n",
       "  <thead>\n",
       "    <tr style=\"text-align: right;\">\n",
       "      <th></th>\n",
       "      <th>Retrieved text</th>\n",
       "      <th>score</th>\n",
       "    </tr>\n",
       "  </thead>\n",
       "  <tbody>\n",
       "    <tr>\n",
       "      <th>0</th>\n",
       "      <td>38\\nA Beginner’s Guide to Designing Embedded System ApplicationsFigure 1.23 shows how different elements of the STM32F429ZIT6U microcontroller  are mapped \\nto the Zio and Arduino-compatible headers of the NUCLEO-F429ZI board. Some other elements \\nare mapped to the CN11 and CN12 headers of the NUCLEO-F429ZI board, as will be discussed in upcoming chapters. Further information on these headers is available from [17].\\nIn this chapter, buttons were connected to the NUCLEO board using pins D2 to D7. From Figure 1.23, \\nit can be seen that those digital inputs can also be referred to as PF_15, PE_13, P_14, PE_11, PE_9, and PF_13, respectively. Throughout this book, many pins of the ST Zio connectors will be used, and they will be referred to in the code using the names shown in Figure 1.23.</td>\n",
       "      <td>0.048395</td>\n",
       "    </tr>\n",
       "    <tr>\n",
       "      <th>1</th>\n",
       "      <td>Chapter 1 | Introduction to Embedded Systems \\n37The STM32F429ZIT6U microcontroller includes a Cortex-M4 processor , as shown in Figure 1.22. It \\ncan be appreciated that, beyond the processor, the microcontroller includes other peripherals such as \\ncommunication cores (ethernet, USB, UART, etc.), memory, timers, and GPIO (General Purpose Input Output) ports. \\nNUCLEO\\n-F429ZI32F429ZIT6U\\nARM7B776 VQ\\nPHL 7B 7213e412000K620 Y12000\\nK620 Y\\n120 00K620 YDGKYD\\nKMS-1 102NL1706C\\nSTM32F103CBT6\\ne393701GH218CHN\\nST890C\\nGK717\\n11\\n22\\n33\\n44\\n55\\n66\\n77\\n88\\n9\\n10\\n11\\n12\\n13\\n14\\n15PH_0\\nPD_0\\nPD_1\\nPG_0PH_1PF_2PA_7PF_10PF_5PF_3PC_3PC_030\\n29\\n28\\n27\\n2616\\n2515\\n2414\\n2313\\n2212\\n2111\\n2010\\n199\\n18\\n17\\n165V\\nVIN3.3VIOREF\\nGND\\nGNDGND\\nNCNC\\nUART2_RX\\nCAN1_TDCAN1_ DRADC1/7ADC1/3\\nADC1/1...</td>\n",
       "      <td>0.033333</td>\n",
       "    </tr>\n",
       "    <tr>\n",
       "      <th>2</th>\n",
       "      <td>Chapter 1 | Introduction to Embedded Systems \\n33Proposed Exercise\\n1. How can the code be changed in such a way that the system is blocked after three incorrect codes \\nare entered?\\nAnswer to the Exercise\\n1. It can be achieved by means of the change in T able 1.11.\\nT able 1.11 Proposed modification in the code in order to achieve the new behavior.\\nLine in Code 1.5 New code to be used\\n40 if ( numberOfIncorrectCodes &lt; 5 ) 40 if ( numberOfIncorrectCodes &lt; 3 )\\n1.3 Under the Hood\\n1.3.1 Brief Introduction to the Cortex-M Processor  Family and the NUCLEO Board\\nIn this chapter, many programs were developed using the NUCLEO board, provided with the \\nSTM32F429ZIT6U microcontroller . This microcontroller is manufactured by STMicroelectronics [13]</td>\n",
       "      <td>0.033060</td>\n",
       "    </tr>\n",
       "    <tr>\n",
       "      <th>3</th>\n",
       "      <td>This section will begin the implementation of the smart home system, following the diagram shown in Figure 1.3. This first implementation will detect fire using an over temperature detector and a gas detector and, if it detects fire, it will activate the alarm until a given code is entered.  For this purpose, the NUCLEO board [1] provided with the STM32F429ZIT6U microcontroller [9] (referred to as the STM32 microcontroller ) is used.</td>\n",
       "      <td>0.032266</td>\n",
       "    </tr>\n",
       "    <tr>\n",
       "      <th>4</th>\n",
       "      <td>Chapter 4 | Finite-State Machines and the Real-Time Clock\\n171 References\\n[1] “4x4 Keypad Module Pinout, Configuration, Features, Circuit &amp; Datasheet” . Accessed July 9, \\n2021. \\n[2] “Breadboard Power Supply Module” . Accessed July 9, 2021. https://components101.com/modules/5v-mb102-breadboard-power-supply-module \\n[3] “UM1974 User manual - STM32 Nucleo-144 boards (MB1137)” . Accessed July 9, 2021. https://www.st.com/resource/en/user_manual/dm00244518-stm32-nucleo144-boards-mb1137-stmicroelectronics.pdf \\n[4] “GitHub - armBookCodeExamples/Directory” . Accessed July 9, 2021. https://github.com/armBookCodeExamples/Directory/ \\n[5] “Time - API references and tutorials | Mbed OS 6 Documentation ” . Accessed July 9, 2021. \\nhttps://os.mbed.com/docs/mbed-os/v6.12/apis/time.html \\n[6] “&lt;cst...</td>\n",
       "      <td>0.016129</td>\n",
       "    </tr>\n",
       "  </tbody>\n",
       "</table>\n",
       "</div>"
      ],
      "text/plain": [
       "                                                                                                                                                                                                                                                                                                                                                                                                                                                                                                                                                                                                                                                                                                                                                                                                                    Retrieved text  \\\n",
       "0   38\\nA Beginner’s Guide to Designing Embedded System ApplicationsFigure 1.23 shows how different elements of the STM32F429ZIT6U microcontroller  are mapped \\nto the Zio and Arduino-compatible headers of the NUCLEO-F429ZI board. Some other elements \\nare mapped to the CN11 and CN12 headers of the NUCLEO-F429ZI board, as will be discussed in upcoming chapters. Further information on these headers is available from [17].\\nIn this chapter, buttons were connected to the NUCLEO board using pins D2 to D7. From Figure 1.23, \\nit can be seen that those digital inputs can also be referred to as PF_15, PE_13, P_14, PE_11, PE_9, and PF_13, respectively. Throughout this book, many pins of the ST Zio connectors will be used, and they will be referred to in the code using the names shown in Figure 1.23.   \n",
       "1  Chapter 1 | Introduction to Embedded Systems \\n37The STM32F429ZIT6U microcontroller includes a Cortex-M4 processor , as shown in Figure 1.22. It \\ncan be appreciated that, beyond the processor, the microcontroller includes other peripherals such as \\ncommunication cores (ethernet, USB, UART, etc.), memory, timers, and GPIO (General Purpose Input Output) ports. \\nNUCLEO\\n-F429ZI32F429ZIT6U\\nARM7B776 VQ\\nPHL 7B 7213e412000K620 Y12000\\nK620 Y\\n120 00K620 YDGKYD\\nKMS-1 102NL1706C\\nSTM32F103CBT6\\ne393701GH218CHN\\nST890C\\nGK717\\n11\\n22\\n33\\n44\\n55\\n66\\n77\\n88\\n9\\n10\\n11\\n12\\n13\\n14\\n15PH_0\\nPD_0\\nPD_1\\nPG_0PH_1PF_2PA_7PF_10PF_5PF_3PC_3PC_030\\n29\\n28\\n27\\n2616\\n2515\\n2414\\n2313\\n2212\\n2111\\n2010\\n199\\n18\\n17\\n165V\\nVIN3.3VIOREF\\nGND\\nGNDGND\\nNCNC\\nUART2_RX\\nCAN1_TDCAN1_ DRADC1/7ADC1/3\\nADC1/1...   \n",
       "2                                              Chapter 1 | Introduction to Embedded Systems \\n33Proposed Exercise\\n1. How can the code be changed in such a way that the system is blocked after three incorrect codes \\nare entered?\\nAnswer to the Exercise\\n1. It can be achieved by means of the change in T able 1.11.\\nT able 1.11 Proposed modification in the code in order to achieve the new behavior.\\nLine in Code 1.5 New code to be used\\n40 if ( numberOfIncorrectCodes < 5 ) 40 if ( numberOfIncorrectCodes < 3 )\\n1.3 Under the Hood\\n1.3.1 Brief Introduction to the Cortex-M Processor  Family and the NUCLEO Board\\nIn this chapter, many programs were developed using the NUCLEO board, provided with the \\nSTM32F429ZIT6U microcontroller . This microcontroller is manufactured by STMicroelectronics [13]   \n",
       "3                                                                                                                                                                                                                                                                                                                                                                            This section will begin the implementation of the smart home system, following the diagram shown in Figure 1.3. This first implementation will detect fire using an over temperature detector and a gas detector and, if it detects fire, it will activate the alarm until a given code is entered.  For this purpose, the NUCLEO board [1] provided with the STM32F429ZIT6U microcontroller [9] (referred to as the STM32 microcontroller ) is used.   \n",
       "4  Chapter 4 | Finite-State Machines and the Real-Time Clock\\n171 References\\n[1] “4x4 Keypad Module Pinout, Configuration, Features, Circuit & Datasheet” . Accessed July 9, \\n2021. \\n[2] “Breadboard Power Supply Module” . Accessed July 9, 2021. https://components101.com/modules/5v-mb102-breadboard-power-supply-module \\n[3] “UM1974 User manual - STM32 Nucleo-144 boards (MB1137)” . Accessed July 9, 2021. https://www.st.com/resource/en/user_manual/dm00244518-stm32-nucleo144-boards-mb1137-stmicroelectronics.pdf \\n[4] “GitHub - armBookCodeExamples/Directory” . Accessed July 9, 2021. https://github.com/armBookCodeExamples/Directory/ \\n[5] “Time - API references and tutorials | Mbed OS 6 Documentation ” . Accessed July 9, 2021. \\nhttps://os.mbed.com/docs/mbed-os/v6.12/apis/time.html \\n[6] “<cst...   \n",
       "\n",
       "      score  \n",
       "0  0.048395  \n",
       "1  0.033333  \n",
       "2  0.033060  \n",
       "3  0.032266  \n",
       "4  0.016129  "
      ]
     },
     "metadata": {},
     "output_type": "display_data"
    }
   ],
   "source": [
    "df = pd.DataFrame(dense_sparse_full_text_rrf_docs, columns=['Retrieved text', 'score'])\n",
    "display(df)"
   ]
  },
  {
   "cell_type": "markdown",
   "metadata": {
    "id": "QE41BNushSnj",
    "jp-MarkdownHeadingCollapsed": true
   },
   "source": [
    "### Re-Ranker"
   ]
  },
  {
   "cell_type": "code",
   "execution_count": 46,
   "metadata": {
    "id": "-lI4-cHthSnj"
   },
   "outputs": [],
   "source": [
    "ranker_model = None\n",
    "# Define the rerank function\n",
    "if RERANKER_MODEL == \"bgm3\":\n",
    "    ranker_model = BGERerankFunction(\n",
    "        model_name=\"BAAI/bge-reranker-v2-m3\",\n",
    "        device=DEVICE,\n",
    "        batch_size=BATCH_SIZE,\n",
    "    )\n",
    "elif RERANKER_MODEL == \"crossencoder\":\n",
    "    ranker_model = CrossEncoderRerankFunction(\n",
    "        model_name=\"cross-encoder/ms-marco-MiniLM-L-6-v2\",\n",
    "        device=DEVICE,\n",
    "        batch_size=BATCH_SIZE,\n",
    "    )"
   ]
  },
  {
   "cell_type": "code",
   "execution_count": 47,
   "metadata": {
    "id": "6Ym2Fr-nhSnj"
   },
   "outputs": [],
   "source": [
    "combined_docs = [dense_doc[0] for dense_doc in dense_docs]\n",
    "combined_docs.extend([sparse_doc[0] for sparse_doc in sparse_docs])\n",
    "combined_docs.extend([full_text_doc[0] for full_text_doc in full_text_docs])\n",
    "# Remove duplicates if any\n",
    "combined_docs = list(set(combined_docs))"
   ]
  },
  {
   "cell_type": "code",
   "execution_count": 48,
   "metadata": {
    "colab": {
     "base_uri": "https://localhost:8080/"
    },
    "id": "KpgLFwBJhSnj",
    "outputId": "b9b6b7ba-deb9-48f8-b877-91e209f57c31"
   },
   "outputs": [
    {
     "name": "stdout",
     "output_type": "stream",
     "text": [
      "CPU times: user 232 ms, sys: 6 ms, total: 238 ms\n",
      "Wall time: 222 ms\n"
     ]
    }
   ],
   "source": [
    "%%time\n",
    "result_docs = ranker_model(query=QUERY, documents=combined_docs, top_k=TOP_K)"
   ]
  },
  {
   "cell_type": "code",
   "execution_count": 49,
   "metadata": {
    "id": "Ue_wihW1hSnk"
   },
   "outputs": [],
   "source": [
    "dense_sparse_full_text_reranker_docs = [(res.text, res.score) for res in result_docs]"
   ]
  },
  {
   "cell_type": "code",
   "execution_count": 50,
   "metadata": {
    "colab": {
     "base_uri": "https://localhost:8080/",
     "height": 400
    },
    "id": "owD9qj6nhSnk",
    "outputId": "d055fe32-039b-49de-a138-dbc8e872a525"
   },
   "outputs": [
    {
     "data": {
      "text/html": [
       "<div>\n",
       "<style scoped>\n",
       "    .dataframe tbody tr th:only-of-type {\n",
       "        vertical-align: middle;\n",
       "    }\n",
       "\n",
       "    .dataframe tbody tr th {\n",
       "        vertical-align: top;\n",
       "    }\n",
       "\n",
       "    .dataframe thead th {\n",
       "        text-align: right;\n",
       "    }\n",
       "</style>\n",
       "<table border=\"1\" class=\"dataframe\">\n",
       "  <thead>\n",
       "    <tr style=\"text-align: right;\">\n",
       "      <th></th>\n",
       "      <th>Retrieved text</th>\n",
       "      <th>score</th>\n",
       "    </tr>\n",
       "  </thead>\n",
       "  <tbody>\n",
       "    <tr>\n",
       "      <th>0</th>\n",
       "      <td>Chapter 1 | Introduction to Embedded Systems \\n33Proposed Exercise\\n1. How can the code be changed in such a way that the system is blocked after three incorrect codes \\nare entered?\\nAnswer to the Exercise\\n1. It can be achieved by means of the change in T able 1.11.\\nT able 1.11 Proposed modification in the code in order to achieve the new behavior.\\nLine in Code 1.5 New code to be used\\n40 if ( numberOfIncorrectCodes &lt; 5 ) 40 if ( numberOfIncorrectCodes &lt; 3 )\\n1.3 Under the Hood\\n1.3.1 Brief Introduction to the Cortex-M Processor  Family and the NUCLEO Board\\nIn this chapter, many programs were developed using the NUCLEO board, provided with the \\nSTM32F429ZIT6U microcontroller . This microcontroller is manufactured by STMicroelectronics [13]</td>\n",
       "      <td>0.986980</td>\n",
       "    </tr>\n",
       "    <tr>\n",
       "      <th>1</th>\n",
       "      <td>38\\nA Beginner’s Guide to Designing Embedded System ApplicationsFigure 1.23 shows how different elements of the STM32F429ZIT6U microcontroller  are mapped \\nto the Zio and Arduino-compatible headers of the NUCLEO-F429ZI board. Some other elements \\nare mapped to the CN11 and CN12 headers of the NUCLEO-F429ZI board, as will be discussed in upcoming chapters. Further information on these headers is available from [17].\\nIn this chapter, buttons were connected to the NUCLEO board using pins D2 to D7. From Figure 1.23, \\nit can be seen that those digital inputs can also be referred to as PF_15, PE_13, P_14, PE_11, PE_9, and PF_13, respectively. Throughout this book, many pins of the ST Zio connectors will be used, and they will be referred to in the code using the names shown in Figure 1.23.</td>\n",
       "      <td>0.719778</td>\n",
       "    </tr>\n",
       "    <tr>\n",
       "      <th>2</th>\n",
       "      <td>This section will begin the implementation of the smart home system, following the diagram shown in Figure 1.3. This first implementation will detect fire using an over temperature detector and a gas detector and, if it detects fire, it will activate the alarm until a given code is entered.  For this purpose, the NUCLEO board [1] provided with the STM32F429ZIT6U microcontroller [9] (referred to as the STM32 microcontroller ) is used.</td>\n",
       "      <td>0.545891</td>\n",
       "    </tr>\n",
       "    <tr>\n",
       "      <th>3</th>\n",
       "      <td>Chapter 1 | Introduction to Embedded Systems \\n37The STM32F429ZIT6U microcontroller includes a Cortex-M4 processor , as shown in Figure 1.22. It \\ncan be appreciated that, beyond the processor, the microcontroller includes other peripherals such as \\ncommunication cores (ethernet, USB, UART, etc.), memory, timers, and GPIO (General Purpose Input Output) ports. \\nNUCLEO\\n-F429ZI32F429ZIT6U\\nARM7B776 VQ\\nPHL 7B 7213e412000K620 Y12000\\nK620 Y\\n120 00K620 YDGKYD\\nKMS-1 102NL1706C\\nSTM32F103CBT6\\ne393701GH218CHN\\nST890C\\nGK717\\n11\\n22\\n33\\n44\\n55\\n66\\n77\\n88\\n9\\n10\\n11\\n12\\n13\\n14\\n15PH_0\\nPD_0\\nPD_1\\nPG_0PH_1PF_2PA_7PF_10PF_5PF_3PC_3PC_030\\n29\\n28\\n27\\n2616\\n2515\\n2414\\n2313\\n2212\\n2111\\n2010\\n199\\n18\\n17\\n165V\\nVIN3.3VIOREF\\nGND\\nGNDGND\\nNCNC\\nUART2_RX\\nCAN1_TDCAN1_ DRADC1/7ADC1/3\\nADC1/1...</td>\n",
       "      <td>0.536616</td>\n",
       "    </tr>\n",
       "    <tr>\n",
       "      <th>4</th>\n",
       "      <td>[3] “Arm Keil | Cloud-based Development T ools for IoT, ML and Embedded” . Accessed July 9, 2021. https://www.keil.arm.com/ \\n[4] “Log In | Mbed” . Accessed July 9, 2021. https://os.mbed.com/account/login/  \\n[5] “Keil Studio” . Accessed July 9, 2021. https://studio.keil.arm.com/  \\n[6] “Documentation - Arm Developer” . Accessed July 9, 2021. https://developer.arm.com/documentation \\n[7] “Arm Mbed Studio” . Accessed July 9, 2021. https://os.mbed.com/studio/ \\n[8] “STM32CudeIDE - Integrated Development Environment” . Accessed July 9, 2021. https://www.st.com/en/development-tools/stm32cubeide.html \\n[9] “STM32F429ZI - High-performance advanced line, Arm Cortex-M4” . Accessed July 9, 2021.  https://www.st.com/en/microcontrollers-microprocessors/stm32f429zi.html</td>\n",
       "      <td>0.373647</td>\n",
       "    </tr>\n",
       "  </tbody>\n",
       "</table>\n",
       "</div>"
      ],
      "text/plain": [
       "                                                                                                                                                                                                                                                                                                                                                                                                                                                                                                                                                                                                                                                                                                                                                                                                                    Retrieved text  \\\n",
       "0                                              Chapter 1 | Introduction to Embedded Systems \\n33Proposed Exercise\\n1. How can the code be changed in such a way that the system is blocked after three incorrect codes \\nare entered?\\nAnswer to the Exercise\\n1. It can be achieved by means of the change in T able 1.11.\\nT able 1.11 Proposed modification in the code in order to achieve the new behavior.\\nLine in Code 1.5 New code to be used\\n40 if ( numberOfIncorrectCodes < 5 ) 40 if ( numberOfIncorrectCodes < 3 )\\n1.3 Under the Hood\\n1.3.1 Brief Introduction to the Cortex-M Processor  Family and the NUCLEO Board\\nIn this chapter, many programs were developed using the NUCLEO board, provided with the \\nSTM32F429ZIT6U microcontroller . This microcontroller is manufactured by STMicroelectronics [13]   \n",
       "1   38\\nA Beginner’s Guide to Designing Embedded System ApplicationsFigure 1.23 shows how different elements of the STM32F429ZIT6U microcontroller  are mapped \\nto the Zio and Arduino-compatible headers of the NUCLEO-F429ZI board. Some other elements \\nare mapped to the CN11 and CN12 headers of the NUCLEO-F429ZI board, as will be discussed in upcoming chapters. Further information on these headers is available from [17].\\nIn this chapter, buttons were connected to the NUCLEO board using pins D2 to D7. From Figure 1.23, \\nit can be seen that those digital inputs can also be referred to as PF_15, PE_13, P_14, PE_11, PE_9, and PF_13, respectively. Throughout this book, many pins of the ST Zio connectors will be used, and they will be referred to in the code using the names shown in Figure 1.23.   \n",
       "2                                                                                                                                                                                                                                                                                                                                                                            This section will begin the implementation of the smart home system, following the diagram shown in Figure 1.3. This first implementation will detect fire using an over temperature detector and a gas detector and, if it detects fire, it will activate the alarm until a given code is entered.  For this purpose, the NUCLEO board [1] provided with the STM32F429ZIT6U microcontroller [9] (referred to as the STM32 microcontroller ) is used.   \n",
       "3  Chapter 1 | Introduction to Embedded Systems \\n37The STM32F429ZIT6U microcontroller includes a Cortex-M4 processor , as shown in Figure 1.22. It \\ncan be appreciated that, beyond the processor, the microcontroller includes other peripherals such as \\ncommunication cores (ethernet, USB, UART, etc.), memory, timers, and GPIO (General Purpose Input Output) ports. \\nNUCLEO\\n-F429ZI32F429ZIT6U\\nARM7B776 VQ\\nPHL 7B 7213e412000K620 Y12000\\nK620 Y\\n120 00K620 YDGKYD\\nKMS-1 102NL1706C\\nSTM32F103CBT6\\ne393701GH218CHN\\nST890C\\nGK717\\n11\\n22\\n33\\n44\\n55\\n66\\n77\\n88\\n9\\n10\\n11\\n12\\n13\\n14\\n15PH_0\\nPD_0\\nPD_1\\nPG_0PH_1PF_2PA_7PF_10PF_5PF_3PC_3PC_030\\n29\\n28\\n27\\n2616\\n2515\\n2414\\n2313\\n2212\\n2111\\n2010\\n199\\n18\\n17\\n165V\\nVIN3.3VIOREF\\nGND\\nGNDGND\\nNCNC\\nUART2_RX\\nCAN1_TDCAN1_ DRADC1/7ADC1/3\\nADC1/1...   \n",
       "4                                 [3] “Arm Keil | Cloud-based Development T ools for IoT, ML and Embedded” . Accessed July 9, 2021. https://www.keil.arm.com/ \\n[4] “Log In | Mbed” . Accessed July 9, 2021. https://os.mbed.com/account/login/  \\n[5] “Keil Studio” . Accessed July 9, 2021. https://studio.keil.arm.com/  \\n[6] “Documentation - Arm Developer” . Accessed July 9, 2021. https://developer.arm.com/documentation \\n[7] “Arm Mbed Studio” . Accessed July 9, 2021. https://os.mbed.com/studio/ \\n[8] “STM32CudeIDE - Integrated Development Environment” . Accessed July 9, 2021. https://www.st.com/en/development-tools/stm32cubeide.html \\n[9] “STM32F429ZI - High-performance advanced line, Arm Cortex-M4” . Accessed July 9, 2021.  https://www.st.com/en/microcontrollers-microprocessors/stm32f429zi.html   \n",
       "\n",
       "      score  \n",
       "0  0.986980  \n",
       "1  0.719778  \n",
       "2  0.545891  \n",
       "3  0.536616  \n",
       "4  0.373647  "
      ]
     },
     "metadata": {},
     "output_type": "display_data"
    }
   ],
   "source": [
    "df = pd.DataFrame(dense_sparse_full_text_reranker_docs, columns=['Retrieved text', 'score'])\n",
    "display(df)"
   ]
  },
  {
   "cell_type": "markdown",
   "metadata": {
    "id": "FESKHwLvhSnk"
   },
   "source": [
    "# Comparison\n",
    "\n",
    "Here we will interactively compare the results from all approaches."
   ]
  },
  {
   "cell_type": "code",
   "execution_count": 51,
   "metadata": {
    "id": "uSjD-PVihSnk"
   },
   "outputs": [],
   "source": [
    "from ipywidgets import interact, Dropdown\n",
    "import pandas as pd"
   ]
  },
  {
   "cell_type": "code",
   "execution_count": 52,
   "metadata": {
    "id": "LIYMctoMhSnl"
   },
   "outputs": [],
   "source": [
    "def create_dataframe(approach: str):\n",
    "    if approach == \"Dense\":\n",
    "        return pd.DataFrame(dense_docs, columns=['Retrieved_Text', 'Score'])\n",
    "    elif approach == \"Sparse\":\n",
    "        return pd.DataFrame(sparse_docs, columns=['Retrieved_Text', 'Score'])\n",
    "    elif approach == \"Full Text\":\n",
    "        return pd.DataFrame(full_text_docs, columns=['Retrieved_Text', 'Score'])\n",
    "    elif approach == \"Dense + Sparse + RRF\":\n",
    "        return pd.DataFrame(dense_sparse_rrf_docs, columns=['Retrieved_Text', 'Score'])\n",
    "    elif approach == \"Dense + Sparse + Reranker\":\n",
    "        return pd.DataFrame(dense_sparse_reranker_docs, columns=['Retrieved_Text', 'Score'])\n",
    "    elif approach == \"Dense + Full Text + RRF\":\n",
    "        return pd.DataFrame(dense_full_text_rrf_docs, columns=['Retrieved_Text', 'Score'])\n",
    "    elif approach == \"Dense + Full Text + Reranker\":\n",
    "        return pd.DataFrame(dense_full_text_reranker_docs, columns=['Retrieved_Text', 'Score'])\n",
    "    elif approach == \"Dense + Sparse + Full Text + RRF\":\n",
    "        return pd.DataFrame(dense_sparse_full_text_rrf_docs, columns=['Retrieved_Text', 'Score'])\n",
    "    elif approach == \"Dense + Sparse + Full Text + Reranker\":\n",
    "        return pd.DataFrame(dense_sparse_full_text_reranker_docs, columns=['Retrieved_Text', 'Score'])"
   ]
  },
  {
   "cell_type": "markdown",
   "metadata": {
    "id": "G-QMocSDhSnl"
   },
   "source": [
    "The goal here is to verify if following context is present in any of the retrieved documents.\n",
    "\n",
    "```\n",
    "In this chapter, many programs were developed using the NUCLEO board, provided with the STM32F429ZIT6U microcontroller. This microcontroller is manufactured by STMicroelectronics [13] using a Cortex-M4 processor designed by Arm Ltd. [14].\n",
    "```\n",
    "\n",
    "If it is present then our retrieval approach was able to find the correct document from the vector store."
   ]
  },
  {
   "cell_type": "code",
   "execution_count": 53,
   "metadata": {
    "colab": {
     "base_uri": "https://localhost:8080/",
     "height": 844,
     "referenced_widgets": [
      "544a731787a24626aae11d0c23c89dc7",
      "8c76fdafc1064036879467a225a1ee14",
      "7c290aeb9de84ebbb139552d06f1a946",
      "4d347374b6904bea9d598a9e0a8f318b",
      "edad4ad187874ef78ec6f69f29ca8959",
      "2f04bfb5b4294546b8bac1cb5713dd48",
      "9688e6abe1014109ad26bdc547921c32",
      "22622b8749f24dd68f5951631412f3a2",
      "fbaf88008fec4b49834c002dd9206214",
      "a1156fc34a41454abe88eeb2950283cb"
     ]
    },
    "id": "2yNdYjxVhSnl",
    "outputId": "da8d55a5-7763-44dc-93ae-0466fee9d7d2"
   },
   "outputs": [
    {
     "data": {
      "application/vnd.jupyter.widget-view+json": {
       "model_id": "ac41700a7c9e48e19029e2c255fbfc52",
       "version_major": 2,
       "version_minor": 0
      },
      "text/plain": [
       "interactive(children=(Dropdown(description='Approach 1:', options=('Dense', 'Sparse', 'Full Text', 'Dense + Sp…"
      ]
     },
     "metadata": {},
     "output_type": "display_data"
    }
   ],
   "source": [
    "options = [\n",
    "    \"Dense\",\n",
    "    \"Sparse\",\n",
    "    \"Full Text\",\n",
    "    \"Dense + Sparse + RRF\",\n",
    "    \"Dense + Sparse + Reranker\",\n",
    "    \"Dense + Full Text + RRF\",\n",
    "    \"Dense + Full Text + Reranker\",\n",
    "    \"Dense + Sparse + Full Text + RRF\",\n",
    "    \"Dense + Sparse + Full Text + Reranker\",\n",
    "]\n",
    "approach1 = Dropdown(options = options, description=\"Approach 1:\", value=\"Dense\")\n",
    "approach2 = Dropdown(options = options, description=\"Approach 2:\", value=\"Sparse\")\n",
    "\n",
    "@interact(approach1 = approach1, approach2 = approach2)\n",
    "def show_dataframes(approach1, approach2):\n",
    "    df1 = create_dataframe(approach1)\n",
    "    df2 = create_dataframe(approach2)\n",
    "    for _ in range(1):\n",
    "        print('\\x1b[1;31m'+ str(approach1) +'\\x1b[0m')\n",
    "        display(df1)\n",
    "        print('\\x1b[1;34m'+ str(approach2) +'\\x1b[0m')\n",
    "        display(df2)"
   ]
  },
  {
   "cell_type": "markdown",
   "metadata": {},
   "source": [
    "### Save results\n",
    "\n",
    "Save the results to csv file."
   ]
  },
  {
   "cell_type": "code",
   "execution_count": 63,
   "metadata": {
    "id": "MFfLUQ9ZhSnl"
   },
   "outputs": [],
   "source": [
    "df = create_dataframe(options[0])\n",
    "for opt in options[1:]:\n",
    "    df1 = create_dataframe(opt)\n",
    "    col_name = \"_\".join(opt.split(\" + \")).lower()\n",
    "    df = df.merge(df1, on='Retrieved_Text', suffixes=('', f'_{col_name}'), how='outer')\n",
    "\n",
    "# Rename dense column score to in same format as rest of results\n",
    "df['Score_dense'] = df['Score']\n",
    "df = df.drop(columns=['Score'])"
   ]
  },
  {
   "cell_type": "code",
   "execution_count": 64,
   "metadata": {},
   "outputs": [
    {
     "data": {
      "text/html": [
       "<div>\n",
       "<style scoped>\n",
       "    .dataframe tbody tr th:only-of-type {\n",
       "        vertical-align: middle;\n",
       "    }\n",
       "\n",
       "    .dataframe tbody tr th {\n",
       "        vertical-align: top;\n",
       "    }\n",
       "\n",
       "    .dataframe thead th {\n",
       "        text-align: right;\n",
       "    }\n",
       "</style>\n",
       "<table border=\"1\" class=\"dataframe\">\n",
       "  <thead>\n",
       "    <tr style=\"text-align: right;\">\n",
       "      <th></th>\n",
       "      <th>Retrieved_Text</th>\n",
       "      <th>Score_sparse</th>\n",
       "      <th>Score_full text</th>\n",
       "      <th>Score_dense_sparse_rrf</th>\n",
       "      <th>Score_dense_sparse_reranker</th>\n",
       "      <th>Score_dense_full text_rrf</th>\n",
       "      <th>Score_dense_full text_reranker</th>\n",
       "      <th>Score_dense_sparse_full text_rrf</th>\n",
       "      <th>Score_dense_sparse_full text_reranker</th>\n",
       "      <th>Score_dense</th>\n",
       "    </tr>\n",
       "  </thead>\n",
       "  <tbody>\n",
       "    <tr>\n",
       "      <th>0</th>\n",
       "      <td>38\\nA Beginner’s Guide to Designing Embedded System ApplicationsFigure 1.23 shows how different elements of the STM32F429ZIT6U microcontroller  are mapped \\nto the Zio and Arduino-compatible headers of the NUCLEO-F429ZI board. Some other elements \\nare mapped to the CN11 and CN12 headers of the NUCLEO-F429ZI board, as will be discussed in upcoming chapters. Further information on these headers is available from [17].\\nIn this chapter, buttons were connected to the NUCLEO board using pins D2 to D7. From Figure 1.23, \\nit can be seen that those digital inputs can also be referred to as PF_15, PE_13, P_14, PE_11, PE_9, and PF_13, respectively. Throughout this book, many pins of the ST Zio connectors will be used, and they will be referred to in the code using the names shown in Figure 1.23.</td>\n",
       "      <td>0.307954</td>\n",
       "      <td>8.811584</td>\n",
       "      <td>0.032522</td>\n",
       "      <td>0.719778</td>\n",
       "      <td>0.032266</td>\n",
       "      <td>0.719581</td>\n",
       "      <td>0.048395</td>\n",
       "      <td>0.719778</td>\n",
       "      <td>0.475778</td>\n",
       "    </tr>\n",
       "    <tr>\n",
       "      <th>1</th>\n",
       "      <td>Chapter 1 | Introduction to Embedded Systems \\n33Proposed Exercise\\n1. How can the code be changed in such a way that the system is blocked after three incorrect codes \\nare entered?\\nAnswer to the Exercise\\n1. It can be achieved by means of the change in T able 1.11.\\nT able 1.11 Proposed modification in the code in order to achieve the new behavior.\\nLine in Code 1.5 New code to be used\\n40 if ( numberOfIncorrectCodes &lt; 5 ) 40 if ( numberOfIncorrectCodes &lt; 3 )\\n1.3 Under the Hood\\n1.3.1 Brief Introduction to the Cortex-M Processor  Family and the NUCLEO Board\\nIn this chapter, many programs were developed using the NUCLEO board, provided with the \\nSTM32F429ZIT6U microcontroller . This microcontroller is manufactured by STMicroelectronics [13]</td>\n",
       "      <td>0.312081</td>\n",
       "      <td>16.359879</td>\n",
       "      <td>0.016393</td>\n",
       "      <td>0.986980</td>\n",
       "      <td>0.016667</td>\n",
       "      <td>0.986980</td>\n",
       "      <td>0.033060</td>\n",
       "      <td>0.986980</td>\n",
       "      <td>NaN</td>\n",
       "    </tr>\n",
       "    <tr>\n",
       "      <th>2</th>\n",
       "      <td>Chapter 1 | Introduction to Embedded Systems \\n37The STM32F429ZIT6U microcontroller includes a Cortex-M4 processor , as shown in Figure 1.22. It \\ncan be appreciated that, beyond the processor, the microcontroller includes other peripherals such as \\ncommunication cores (ethernet, USB, UART, etc.), memory, timers, and GPIO (General Purpose Input Output) ports. \\nNUCLEO\\n-F429ZI32F429ZIT6U\\nARM7B776 VQ\\nPHL 7B 7213e412000K620 Y12000\\nK620 Y\\n120 00K620 YDGKYD\\nKMS-1 102NL1706C\\nSTM32F103CBT6\\ne393701GH218CHN\\nST890C\\nGK717\\n11\\n22\\n33\\n44\\n55\\n66\\n77\\n88\\n9\\n10\\n11\\n12\\n13\\n14\\n15PH_0\\nPD_0\\nPD_1\\nPG_0PH_1PF_2PA_7PF_10PF_5PF_3PC_3PC_030\\n29\\n28\\n27\\n2616\\n2515\\n2414\\n2313\\n2212\\n2111\\n2010\\n199\\n18\\n17\\n165V\\nVIN3.3VIOREF\\nGND\\nGNDGND\\nNCNC\\nUART2_RX\\nCAN1_TDCAN1_ DRADC1/7ADC1/3\\nADC1/1...</td>\n",
       "      <td>0.406629</td>\n",
       "      <td>NaN</td>\n",
       "      <td>0.033333</td>\n",
       "      <td>0.536616</td>\n",
       "      <td>0.016667</td>\n",
       "      <td>0.534764</td>\n",
       "      <td>0.033333</td>\n",
       "      <td>0.536616</td>\n",
       "      <td>0.544363</td>\n",
       "    </tr>\n",
       "    <tr>\n",
       "      <th>3</th>\n",
       "      <td>Chapter 4 | Finite-State Machines and the Real-Time Clock\\n171 References\\n[1] “4x4 Keypad Module Pinout, Configuration, Features, Circuit &amp; Datasheet” . Accessed July 9, \\n2021. \\n[2] “Breadboard Power Supply Module” . Accessed July 9, 2021. https://components101.com/modules/5v-mb102-breadboard-power-supply-module \\n[3] “UM1974 User manual - STM32 Nucleo-144 boards (MB1137)” . Accessed July 9, 2021. https://www.st.com/resource/en/user_manual/dm00244518-stm32-nucleo144-boards-mb1137-stmicroelectronics.pdf \\n[4] “GitHub - armBookCodeExamples/Directory” . Accessed July 9, 2021. https://github.com/armBookCodeExamples/Directory/ \\n[5] “Time - API references and tutorials | Mbed OS 6 Documentation ” . Accessed July 9, 2021. \\nhttps://os.mbed.com/docs/mbed-os/v6.12/apis/time.html \\n[6] “&lt;cst...</td>\n",
       "      <td>NaN</td>\n",
       "      <td>NaN</td>\n",
       "      <td>0.016129</td>\n",
       "      <td>NaN</td>\n",
       "      <td>0.016129</td>\n",
       "      <td>NaN</td>\n",
       "      <td>0.016129</td>\n",
       "      <td>NaN</td>\n",
       "      <td>0.473938</td>\n",
       "    </tr>\n",
       "    <tr>\n",
       "      <th>4</th>\n",
       "      <td>Index\\n567 STM 32F429 ZIT 6U microcontroller 5, 33, 37, 38 \\n stop bit 46, 64, 65, 80, 256 , 257 , 273 , 468  \\n ST Zio connectors xiv, 6, 9, 37, 38, 44, 346  \\n superloop 13, 519  \\n synchronous communication 255\\nT TCP server 456 , 457 , 459 , 460 –463 , 491  \\n temperature sensor 4, 5, 87, 106 , 123 , 182 , 220 , 233 , 334 , 486 , 550  \\n time management xvi, 86, 95, 99, 289 , 342 , 348 , 353  \\n timers xvi, xxvii, 37, 306 , 342 , 343 , 345 , 348 –350 , 353 , 354 , \\n 361 , 441 , 512 –517 , 533 , 535 , 537 , 538 , 539  \\n tm structure 153  \\n TO- 220  package 89\\nU UART xvi, xvii, 5, 44, 61, 63, 79, 82, 84, 86, 181 , 191 , 222 , 255 , 290 , 291 , \\n 306 , 350 , 420 , 423 , 447 , 455 , 461 , 465 , 468 , 544  \\n USB xiv, xxvii, 4, 9, 37, 44, 45, 63, 79, 82, 88, 132 , 449 , 506 , 507 ,...</td>\n",
       "      <td>0.245208</td>\n",
       "      <td>NaN</td>\n",
       "      <td>NaN</td>\n",
       "      <td>NaN</td>\n",
       "      <td>NaN</td>\n",
       "      <td>NaN</td>\n",
       "      <td>NaN</td>\n",
       "      <td>NaN</td>\n",
       "      <td>NaN</td>\n",
       "    </tr>\n",
       "    <tr>\n",
       "      <th>5</th>\n",
       "      <td>M_14, STM_PIN_DATA_EXT(STM_MODE_AF_PP, GPIO_NOPULL, GPIO_AF9_TIM14,  1, 0)}, \\n    {NC, NC, 0}\\n}; \\nCode 8.3 Notes on the PinNames.h file of the NUCLEO-F429ZI  board.</td>\n",
       "      <td>NaN</td>\n",
       "      <td>NaN</td>\n",
       "      <td>0.015873</td>\n",
       "      <td>NaN</td>\n",
       "      <td>NaN</td>\n",
       "      <td>NaN</td>\n",
       "      <td>NaN</td>\n",
       "      <td>NaN</td>\n",
       "      <td>0.471764</td>\n",
       "    </tr>\n",
       "    <tr>\n",
       "      <th>6</th>\n",
       "      <td>Preface\\nxix\\nTemperatur e: 10 °C\\nOver temperatur e detected: OFF\\nGas detected: OFF\\nMotion detected: OFF\\nAlarm: OFF\\nIncorr ect code : OFF LED\\nSystem blocked : OFF LEDSmart Home System\\nFigure 7 User interface implemented using a Wi-Fi  connection and a web browser.\\nIn this process, the Mbed™ OS 6 platform core generic software components, plus the HAL (Hardware \\nAbstraction Layer) ports that allow Mbed to transparently run on microcontrollers from different manufacturers, are introduced.\\nIn the final chapter, the main ideas are summarized by means of an irrigation system, shown in \\nFigure 8, that is developed from scratch. In this way, a guide to designing and implementing an embedded system project is provided for the reader.</td>\n",
       "      <td>NaN</td>\n",
       "      <td>8.725212</td>\n",
       "      <td>NaN</td>\n",
       "      <td>NaN</td>\n",
       "      <td>NaN</td>\n",
       "      <td>NaN</td>\n",
       "      <td>NaN</td>\n",
       "      <td>NaN</td>\n",
       "      <td>NaN</td>\n",
       "    </tr>\n",
       "    <tr>\n",
       "      <th>7</th>\n",
       "      <td>This section will begin the implementation of the smart home system, following the diagram shown in Figure 1.3. This first implementation will detect fire using an over temperature detector and a gas detector and, if it detects fire, it will activate the alarm until a given code is entered.  For this purpose, the NUCLEO board [1] provided with the STM32F429ZIT6U microcontroller [9] (referred to as the STM32 microcontroller ) is used.</td>\n",
       "      <td>0.268825</td>\n",
       "      <td>12.442858</td>\n",
       "      <td>NaN</td>\n",
       "      <td>0.545891</td>\n",
       "      <td>0.016393</td>\n",
       "      <td>0.547192</td>\n",
       "      <td>0.032266</td>\n",
       "      <td>0.545891</td>\n",
       "      <td>NaN</td>\n",
       "    </tr>\n",
       "    <tr>\n",
       "      <th>8</th>\n",
       "      <td>WaRNINg: Keil Studio Cloud translates the C/C++ language code into assembly code while considering the available resources of the target board. For this reason, the reader should be very careful to use only pin names that are shown in Figure 1.23.\\nFrom the above discussion, it is possible to derive the hierarchy that is represented in Figure 1.24. It should be noted that a given Arm processor can be used by different microcontroller manufacturers, and a given microcontroller can be used in different development boards or embedded systems. \\nFigure 1.24 Hierarchy of different elements introduced in this chapter.\\nNOTE:  A microcontroller may have one or many processors, while a processor may have one or many cores. A microprocessor consists of the processor, named in this context as th...</td>\n",
       "      <td>NaN</td>\n",
       "      <td>10.573027</td>\n",
       "      <td>NaN</td>\n",
       "      <td>NaN</td>\n",
       "      <td>NaN</td>\n",
       "      <td>NaN</td>\n",
       "      <td>NaN</td>\n",
       "      <td>NaN</td>\n",
       "      <td>NaN</td>\n",
       "    </tr>\n",
       "    <tr>\n",
       "      <th>9</th>\n",
       "      <td>[3] “Arm Keil | Cloud-based Development T ools for IoT, ML and Embedded” . Accessed July 9, 2021. https://www.keil.arm.com/ \\n[4] “Log In | Mbed” . Accessed July 9, 2021. https://os.mbed.com/account/login/  \\n[5] “Keil Studio” . Accessed July 9, 2021. https://studio.keil.arm.com/  \\n[6] “Documentation - Arm Developer” . Accessed July 9, 2021. https://developer.arm.com/documentation \\n[7] “Arm Mbed Studio” . Accessed July 9, 2021. https://os.mbed.com/studio/ \\n[8] “STM32CudeIDE - Integrated Development Environment” . Accessed July 9, 2021. https://www.st.com/en/development-tools/stm32cubeide.html \\n[9] “STM32F429ZI - High-performance advanced line, Arm Cortex-M4” . Accessed July 9, 2021.  https://www.st.com/en/microcontrollers-microprocessors/stm32f429zi.html</td>\n",
       "      <td>NaN</td>\n",
       "      <td>NaN</td>\n",
       "      <td>NaN</td>\n",
       "      <td>0.373647</td>\n",
       "      <td>NaN</td>\n",
       "      <td>0.373190</td>\n",
       "      <td>NaN</td>\n",
       "      <td>0.373647</td>\n",
       "      <td>0.446006</td>\n",
       "    </tr>\n",
       "  </tbody>\n",
       "</table>\n",
       "</div>"
      ],
      "text/plain": [
       "                                                                                                                                                                                                                                                                                                                                                                                                                                                                                                                                                                                                                                                                                                                                                                                                                    Retrieved_Text  \\\n",
       "0   38\\nA Beginner’s Guide to Designing Embedded System ApplicationsFigure 1.23 shows how different elements of the STM32F429ZIT6U microcontroller  are mapped \\nto the Zio and Arduino-compatible headers of the NUCLEO-F429ZI board. Some other elements \\nare mapped to the CN11 and CN12 headers of the NUCLEO-F429ZI board, as will be discussed in upcoming chapters. Further information on these headers is available from [17].\\nIn this chapter, buttons were connected to the NUCLEO board using pins D2 to D7. From Figure 1.23, \\nit can be seen that those digital inputs can also be referred to as PF_15, PE_13, P_14, PE_11, PE_9, and PF_13, respectively. Throughout this book, many pins of the ST Zio connectors will be used, and they will be referred to in the code using the names shown in Figure 1.23.   \n",
       "1                                              Chapter 1 | Introduction to Embedded Systems \\n33Proposed Exercise\\n1. How can the code be changed in such a way that the system is blocked after three incorrect codes \\nare entered?\\nAnswer to the Exercise\\n1. It can be achieved by means of the change in T able 1.11.\\nT able 1.11 Proposed modification in the code in order to achieve the new behavior.\\nLine in Code 1.5 New code to be used\\n40 if ( numberOfIncorrectCodes < 5 ) 40 if ( numberOfIncorrectCodes < 3 )\\n1.3 Under the Hood\\n1.3.1 Brief Introduction to the Cortex-M Processor  Family and the NUCLEO Board\\nIn this chapter, many programs were developed using the NUCLEO board, provided with the \\nSTM32F429ZIT6U microcontroller . This microcontroller is manufactured by STMicroelectronics [13]   \n",
       "2  Chapter 1 | Introduction to Embedded Systems \\n37The STM32F429ZIT6U microcontroller includes a Cortex-M4 processor , as shown in Figure 1.22. It \\ncan be appreciated that, beyond the processor, the microcontroller includes other peripherals such as \\ncommunication cores (ethernet, USB, UART, etc.), memory, timers, and GPIO (General Purpose Input Output) ports. \\nNUCLEO\\n-F429ZI32F429ZIT6U\\nARM7B776 VQ\\nPHL 7B 7213e412000K620 Y12000\\nK620 Y\\n120 00K620 YDGKYD\\nKMS-1 102NL1706C\\nSTM32F103CBT6\\ne393701GH218CHN\\nST890C\\nGK717\\n11\\n22\\n33\\n44\\n55\\n66\\n77\\n88\\n9\\n10\\n11\\n12\\n13\\n14\\n15PH_0\\nPD_0\\nPD_1\\nPG_0PH_1PF_2PA_7PF_10PF_5PF_3PC_3PC_030\\n29\\n28\\n27\\n2616\\n2515\\n2414\\n2313\\n2212\\n2111\\n2010\\n199\\n18\\n17\\n165V\\nVIN3.3VIOREF\\nGND\\nGNDGND\\nNCNC\\nUART2_RX\\nCAN1_TDCAN1_ DRADC1/7ADC1/3\\nADC1/1...   \n",
       "3  Chapter 4 | Finite-State Machines and the Real-Time Clock\\n171 References\\n[1] “4x4 Keypad Module Pinout, Configuration, Features, Circuit & Datasheet” . Accessed July 9, \\n2021. \\n[2] “Breadboard Power Supply Module” . Accessed July 9, 2021. https://components101.com/modules/5v-mb102-breadboard-power-supply-module \\n[3] “UM1974 User manual - STM32 Nucleo-144 boards (MB1137)” . Accessed July 9, 2021. https://www.st.com/resource/en/user_manual/dm00244518-stm32-nucleo144-boards-mb1137-stmicroelectronics.pdf \\n[4] “GitHub - armBookCodeExamples/Directory” . Accessed July 9, 2021. https://github.com/armBookCodeExamples/Directory/ \\n[5] “Time - API references and tutorials | Mbed OS 6 Documentation ” . Accessed July 9, 2021. \\nhttps://os.mbed.com/docs/mbed-os/v6.12/apis/time.html \\n[6] “<cst...   \n",
       "4  Index\\n567 STM 32F429 ZIT 6U microcontroller 5, 33, 37, 38 \\n stop bit 46, 64, 65, 80, 256 , 257 , 273 , 468  \\n ST Zio connectors xiv, 6, 9, 37, 38, 44, 346  \\n superloop 13, 519  \\n synchronous communication 255\\nT TCP server 456 , 457 , 459 , 460 –463 , 491  \\n temperature sensor 4, 5, 87, 106 , 123 , 182 , 220 , 233 , 334 , 486 , 550  \\n time management xvi, 86, 95, 99, 289 , 342 , 348 , 353  \\n timers xvi, xxvii, 37, 306 , 342 , 343 , 345 , 348 –350 , 353 , 354 , \\n 361 , 441 , 512 –517 , 533 , 535 , 537 , 538 , 539  \\n tm structure 153  \\n TO- 220  package 89\\nU UART xvi, xvii, 5, 44, 61, 63, 79, 82, 84, 86, 181 , 191 , 222 , 255 , 290 , 291 , \\n 306 , 350 , 420 , 423 , 447 , 455 , 461 , 465 , 468 , 544  \\n USB xiv, xxvii, 4, 9, 37, 44, 45, 63, 79, 82, 88, 132 , 449 , 506 , 507 ,...   \n",
       "5                                                                                                                                                                                                                                                                                                                                                                                                                                                                                                                                                                                                                                                          M_14, STM_PIN_DATA_EXT(STM_MODE_AF_PP, GPIO_NOPULL, GPIO_AF9_TIM14,  1, 0)}, \\n    {NC, NC, 0}\\n}; \\nCode 8.3 Notes on the PinNames.h file of the NUCLEO-F429ZI  board.   \n",
       "6                                                       Preface\\nxix\\nTemperatur e: 10 °C\\nOver temperatur e detected: OFF\\nGas detected: OFF\\nMotion detected: OFF\\nAlarm: OFF\\nIncorr ect code : OFF LED\\nSystem blocked : OFF LEDSmart Home System\\nFigure 7 User interface implemented using a Wi-Fi  connection and a web browser.\\nIn this process, the Mbed™ OS 6 platform core generic software components, plus the HAL (Hardware \\nAbstraction Layer) ports that allow Mbed to transparently run on microcontrollers from different manufacturers, are introduced.\\nIn the final chapter, the main ideas are summarized by means of an irrigation system, shown in \\nFigure 8, that is developed from scratch. In this way, a guide to designing and implementing an embedded system project is provided for the reader.   \n",
       "7                                                                                                                                                                                                                                                                                                                                                                            This section will begin the implementation of the smart home system, following the diagram shown in Figure 1.3. This first implementation will detect fire using an over temperature detector and a gas detector and, if it detects fire, it will activate the alarm until a given code is entered.  For this purpose, the NUCLEO board [1] provided with the STM32F429ZIT6U microcontroller [9] (referred to as the STM32 microcontroller ) is used.   \n",
       "8  WaRNINg: Keil Studio Cloud translates the C/C++ language code into assembly code while considering the available resources of the target board. For this reason, the reader should be very careful to use only pin names that are shown in Figure 1.23.\\nFrom the above discussion, it is possible to derive the hierarchy that is represented in Figure 1.24. It should be noted that a given Arm processor can be used by different microcontroller manufacturers, and a given microcontroller can be used in different development boards or embedded systems. \\nFigure 1.24 Hierarchy of different elements introduced in this chapter.\\nNOTE:  A microcontroller may have one or many processors, while a processor may have one or many cores. A microprocessor consists of the processor, named in this context as th...   \n",
       "9                                 [3] “Arm Keil | Cloud-based Development T ools for IoT, ML and Embedded” . Accessed July 9, 2021. https://www.keil.arm.com/ \\n[4] “Log In | Mbed” . Accessed July 9, 2021. https://os.mbed.com/account/login/  \\n[5] “Keil Studio” . Accessed July 9, 2021. https://studio.keil.arm.com/  \\n[6] “Documentation - Arm Developer” . Accessed July 9, 2021. https://developer.arm.com/documentation \\n[7] “Arm Mbed Studio” . Accessed July 9, 2021. https://os.mbed.com/studio/ \\n[8] “STM32CudeIDE - Integrated Development Environment” . Accessed July 9, 2021. https://www.st.com/en/development-tools/stm32cubeide.html \\n[9] “STM32F429ZI - High-performance advanced line, Arm Cortex-M4” . Accessed July 9, 2021.  https://www.st.com/en/microcontrollers-microprocessors/stm32f429zi.html   \n",
       "\n",
       "   Score_sparse  Score_full text  Score_dense_sparse_rrf  \\\n",
       "0      0.307954         8.811584                0.032522   \n",
       "1      0.312081        16.359879                0.016393   \n",
       "2      0.406629              NaN                0.033333   \n",
       "3           NaN              NaN                0.016129   \n",
       "4      0.245208              NaN                     NaN   \n",
       "5           NaN              NaN                0.015873   \n",
       "6           NaN         8.725212                     NaN   \n",
       "7      0.268825        12.442858                     NaN   \n",
       "8           NaN        10.573027                     NaN   \n",
       "9           NaN              NaN                     NaN   \n",
       "\n",
       "   Score_dense_sparse_reranker  Score_dense_full text_rrf  \\\n",
       "0                     0.719778                   0.032266   \n",
       "1                     0.986980                   0.016667   \n",
       "2                     0.536616                   0.016667   \n",
       "3                          NaN                   0.016129   \n",
       "4                          NaN                        NaN   \n",
       "5                          NaN                        NaN   \n",
       "6                          NaN                        NaN   \n",
       "7                     0.545891                   0.016393   \n",
       "8                          NaN                        NaN   \n",
       "9                     0.373647                        NaN   \n",
       "\n",
       "   Score_dense_full text_reranker  Score_dense_sparse_full text_rrf  \\\n",
       "0                        0.719581                          0.048395   \n",
       "1                        0.986980                          0.033060   \n",
       "2                        0.534764                          0.033333   \n",
       "3                             NaN                          0.016129   \n",
       "4                             NaN                               NaN   \n",
       "5                             NaN                               NaN   \n",
       "6                             NaN                               NaN   \n",
       "7                        0.547192                          0.032266   \n",
       "8                             NaN                               NaN   \n",
       "9                        0.373190                               NaN   \n",
       "\n",
       "   Score_dense_sparse_full text_reranker  Score_dense  \n",
       "0                               0.719778     0.475778  \n",
       "1                               0.986980          NaN  \n",
       "2                               0.536616     0.544363  \n",
       "3                                    NaN     0.473938  \n",
       "4                                    NaN          NaN  \n",
       "5                                    NaN     0.471764  \n",
       "6                                    NaN          NaN  \n",
       "7                               0.545891          NaN  \n",
       "8                                    NaN          NaN  \n",
       "9                               0.373647     0.446006  "
      ]
     },
     "execution_count": 64,
     "metadata": {},
     "output_type": "execute_result"
    }
   ],
   "source": [
    "df"
   ]
  },
  {
   "cell_type": "code",
   "execution_count": 65,
   "metadata": {},
   "outputs": [],
   "source": [
    "df.to_csv('data/milvus_results.csv', index=False)"
   ]
  },
  {
   "cell_type": "code",
   "execution_count": null,
   "metadata": {},
   "outputs": [],
   "source": []
  }
 ],
 "metadata": {
  "accelerator": "GPU",
  "colab": {
   "gpuType": "T4",
   "provenance": []
  },
  "kernelspec": {
   "display_name": "Python 3 (ipykernel)",
   "language": "python",
   "name": "python3"
  },
  "language_info": {
   "codemirror_mode": {
    "name": "ipython",
    "version": 3
   },
   "file_extension": ".py",
   "mimetype": "text/x-python",
   "name": "python",
   "nbconvert_exporter": "python",
   "pygments_lexer": "ipython3",
   "version": "3.10.14"
  },
  "widgets": {
   "application/vnd.jupyter.widget-state+json": {
    "state": {
     "0e23d1b47e05498a8b5c5f6ed5bf48d2": {
      "model_module": "@jupyter-widgets/base",
      "model_module_version": "2.0.0",
      "model_name": "LayoutModel",
      "state": {}
     },
     "1ab3762a7b76402e949105cdaaf11484": {
      "model_module": "@jupyter-widgets/controls",
      "model_module_version": "2.0.0",
      "model_name": "HTMLStyleModel",
      "state": {
       "description_width": "",
       "font_size": null,
       "text_color": null
      }
     },
     "219f518ccbb942cd9f49a4deda307d82": {
      "model_module": "@jupyter-widgets/controls",
      "model_module_version": "2.0.0",
      "model_name": "DescriptionStyleModel",
      "state": {
       "description_width": ""
      }
     },
     "21ccedec2b2e4368a911027a8639ef45": {
      "model_module": "@jupyter-widgets/controls",
      "model_module_version": "2.0.0",
      "model_name": "DropdownModel",
      "state": {
       "_options_labels": [
        "Dense",
        "Sparse",
        "Full Text",
        "Dense + Sparse + RRF",
        "Dense + Sparse + Reranker",
        "Dense + Full Text + RRF",
        "Dense + Full Text + Reranker",
        "Dense + Sparse + Full Text + RRF",
        "Dense + Sparse + Full Text + Reranker"
       ],
       "description": "Approach 2:",
       "index": 1,
       "layout": "IPY_MODEL_887b19882210482fb4bd2c7df6688f3f",
       "style": "IPY_MODEL_219f518ccbb942cd9f49a4deda307d82"
      }
     },
     "3c3e1bcd44b44e3a9819ec5b407dc3ed": {
      "model_module": "@jupyter-widgets/controls",
      "model_module_version": "2.0.0",
      "model_name": "DropdownModel",
      "state": {
       "_options_labels": [
        "Dense",
        "Sparse",
        "Full Text",
        "Dense + Sparse + RRF",
        "Dense + Sparse + Reranker",
        "Dense + Full Text + RRF",
        "Dense + Full Text + Reranker",
        "Dense + Sparse + Full Text + RRF",
        "Dense + Sparse + Full Text + Reranker"
       ],
       "description": "Approach 1:",
       "index": 0,
       "layout": "IPY_MODEL_bfe265ad0532466c8ffa800f45c14e45",
       "style": "IPY_MODEL_494505b8db0b4f38bb921cadec406096"
      }
     },
     "494505b8db0b4f38bb921cadec406096": {
      "model_module": "@jupyter-widgets/controls",
      "model_module_version": "2.0.0",
      "model_name": "DescriptionStyleModel",
      "state": {
       "description_width": ""
      }
     },
     "4a02bba4fc654f65847f1f8a7ebea50b": {
      "model_module": "@jupyter-widgets/base",
      "model_module_version": "2.0.0",
      "model_name": "LayoutModel",
      "state": {}
     },
     "4f808c29dd5448e8ae865b47c7d15b15": {
      "model_module": "@jupyter-widgets/controls",
      "model_module_version": "2.0.0",
      "model_name": "HTMLModel",
      "state": {
       "layout": "IPY_MODEL_d9fc59e7ba284896b001f69580ee1520",
       "style": "IPY_MODEL_5940231eb3d246f6a13ff62ab06e307c",
       "value": " 30/30 [00:00&lt;00:00, 5488.25it/s]"
      }
     },
     "586797cd41834662a47ce77b4abaf550": {
      "model_module": "@jupyter-widgets/base",
      "model_module_version": "2.0.0",
      "model_name": "LayoutModel",
      "state": {}
     },
     "5940231eb3d246f6a13ff62ab06e307c": {
      "model_module": "@jupyter-widgets/controls",
      "model_module_version": "2.0.0",
      "model_name": "HTMLStyleModel",
      "state": {
       "description_width": "",
       "font_size": null,
       "text_color": null
      }
     },
     "73caae14103b41d8ad0a3620bac9fc95": {
      "model_module": "@jupyter-widgets/output",
      "model_module_version": "1.0.0",
      "model_name": "OutputModel",
      "state": {
       "layout": "IPY_MODEL_4a02bba4fc654f65847f1f8a7ebea50b",
       "outputs": [
        {
         "name": "stdout",
         "output_type": "stream",
         "text": "\u001b[1;31mDense\u001b[0m\n"
        },
        {
         "data": {
          "text/html": "<div>\n<style scoped>\n    .dataframe tbody tr th:only-of-type {\n        vertical-align: middle;\n    }\n\n    .dataframe tbody tr th {\n        vertical-align: top;\n    }\n\n    .dataframe thead th {\n        text-align: right;\n    }\n</style>\n<table border=\"1\" class=\"dataframe\">\n  <thead>\n    <tr style=\"text-align: right;\">\n      <th></th>\n      <th>Retrieved_Text</th>\n      <th>Score</th>\n    </tr>\n  </thead>\n  <tbody>\n    <tr>\n      <th>0</th>\n      <td>Chapter 1 | Introduction to Embedded Systems \\n37The STM32F429ZIT6U microcontroller includes a Cortex-M4 processor , as shown in Figure 1.22. It \\ncan be appreciated that, beyond the processor, the microcontroller includes other peripherals such as \\ncommunication cores (ethernet, USB, UART, etc.), memory, timers, and GPIO (General Purpose Input Output) ports. \\nNUCLEO\\n-F429ZI32F429ZIT6U\\nARM7B776 VQ\\nPHL 7B 7213e412000K620 Y12000\\nK620 Y\\n120 00K620 YDGKYD\\nKMS-1 102NL1706C\\nSTM32F103CBT6\\ne393701GH218CHN\\nST890C\\nGK717\\n11\\n22\\n33\\n44\\n55\\n66\\n77\\n88\\n9\\n10\\n11\\n12\\n13\\n14\\n15PH_0\\nPD_0\\nPD_1\\nPG_0PH_1PF_2PA_7PF_10PF_5PF_3PC_3PC_030\\n29\\n28\\n27\\n2616\\n2515\\n2414\\n2313\\n2212\\n2111\\n2010\\n199\\n18\\n17\\n165V\\nVIN3.3VIOREF\\nGND\\nGNDGND\\nNCNC\\nUART2_RX\\nCAN1_TDCAN1_ DRADC1/7ADC1/3\\nADC1/1...</td>\n      <td>0.544363</td>\n    </tr>\n    <tr>\n      <th>1</th>\n      <td>38\\nA Beginner’s Guide to Designing Embedded System ApplicationsFigure 1.23 shows how different elements of the STM32F429ZIT6U microcontroller  are mapped \\nto the Zio and Arduino-compatible headers of the NUCLEO-F429ZI board. Some other elements \\nare mapped to the CN11 and CN12 headers of the NUCLEO-F429ZI board, as will be discussed in upcoming chapters. Further information on these headers is available from [17].\\nIn this chapter, buttons were connected to the NUCLEO board using pins D2 to D7. From Figure 1.23, \\nit can be seen that those digital inputs can also be referred to as PF_15, PE_13, P_14, PE_11, PE_9, and PF_13, respectively. Throughout this book, many pins of the ST Zio connectors will be used, and they will be referred to in the code using the names shown in Figure 1.23.</td>\n      <td>0.475778</td>\n    </tr>\n    <tr>\n      <th>2</th>\n      <td>Chapter 4 | Finite-State Machines and the Real-Time Clock\\n171 References\\n[1] “4x4 Keypad Module Pinout, Configuration, Features, Circuit &amp; Datasheet” . Accessed July 9, \\n2021. \\n[2] “Breadboard Power Supply Module” . Accessed July 9, 2021. https://components101.com/modules/5v-mb102-breadboard-power-supply-module \\n[3] “UM1974 User manual - STM32 Nucleo-144 boards (MB1137)” . Accessed July 9, 2021. https://www.st.com/resource/en/user_manual/dm00244518-stm32-nucleo144-boards-mb1137-stmicroelectronics.pdf \\n[4] “GitHub - armBookCodeExamples/Directory” . Accessed July 9, 2021. https://github.com/armBookCodeExamples/Directory/ \\n[5] “Time - API references and tutorials | Mbed OS 6 Documentation ” . Accessed July 9, 2021. \\nhttps://os.mbed.com/docs/mbed-os/v6.12/apis/time.html \\n[6] “&lt;cst...</td>\n      <td>0.473938</td>\n    </tr>\n    <tr>\n      <th>3</th>\n      <td>M_14, STM_PIN_DATA_EXT(STM_MODE_AF_PP, GPIO_NOPULL, GPIO_AF9_TIM14,  1, 0)}, \\n    {NC, NC, 0}\\n}; \\nCode 8.3 Notes on the PinNames.h file of the NUCLEO-F429ZI  board.</td>\n      <td>0.471764</td>\n    </tr>\n    <tr>\n      <th>4</th>\n      <td>[3] “Arm Keil | Cloud-based Development T ools for IoT, ML and Embedded” . Accessed July 9, 2021. https://www.keil.arm.com/ \\n[4] “Log In | Mbed” . Accessed July 9, 2021. https://os.mbed.com/account/login/  \\n[5] “Keil Studio” . Accessed July 9, 2021. https://studio.keil.arm.com/  \\n[6] “Documentation - Arm Developer” . Accessed July 9, 2021. https://developer.arm.com/documentation \\n[7] “Arm Mbed Studio” . Accessed July 9, 2021. https://os.mbed.com/studio/ \\n[8] “STM32CudeIDE - Integrated Development Environment” . Accessed July 9, 2021. https://www.st.com/en/development-tools/stm32cubeide.html \\n[9] “STM32F429ZI - High-performance advanced line, Arm Cortex-M4” . Accessed July 9, 2021.  https://www.st.com/en/microcontrollers-microprocessors/stm32f429zi.html</td>\n      <td>0.446006</td>\n    </tr>\n  </tbody>\n</table>\n</div>",
          "text/plain": "                                                                                                                                                                                                                                                                                                                                                                                                                                                                                                                                                                                                                                                                                                                                                                                                                    Retrieved_Text  \\\n0  Chapter 1 | Introduction to Embedded Systems \\n37The STM32F429ZIT6U microcontroller includes a Cortex-M4 processor , as shown in Figure 1.22. It \\ncan be appreciated that, beyond the processor, the microcontroller includes other peripherals such as \\ncommunication cores (ethernet, USB, UART, etc.), memory, timers, and GPIO (General Purpose Input Output) ports. \\nNUCLEO\\n-F429ZI32F429ZIT6U\\nARM7B776 VQ\\nPHL 7B 7213e412000K620 Y12000\\nK620 Y\\n120 00K620 YDGKYD\\nKMS-1 102NL1706C\\nSTM32F103CBT6\\ne393701GH218CHN\\nST890C\\nGK717\\n11\\n22\\n33\\n44\\n55\\n66\\n77\\n88\\n9\\n10\\n11\\n12\\n13\\n14\\n15PH_0\\nPD_0\\nPD_1\\nPG_0PH_1PF_2PA_7PF_10PF_5PF_3PC_3PC_030\\n29\\n28\\n27\\n2616\\n2515\\n2414\\n2313\\n2212\\n2111\\n2010\\n199\\n18\\n17\\n165V\\nVIN3.3VIOREF\\nGND\\nGNDGND\\nNCNC\\nUART2_RX\\nCAN1_TDCAN1_ DRADC1/7ADC1/3\\nADC1/1...   \n1   38\\nA Beginner’s Guide to Designing Embedded System ApplicationsFigure 1.23 shows how different elements of the STM32F429ZIT6U microcontroller  are mapped \\nto the Zio and Arduino-compatible headers of the NUCLEO-F429ZI board. Some other elements \\nare mapped to the CN11 and CN12 headers of the NUCLEO-F429ZI board, as will be discussed in upcoming chapters. Further information on these headers is available from [17].\\nIn this chapter, buttons were connected to the NUCLEO board using pins D2 to D7. From Figure 1.23, \\nit can be seen that those digital inputs can also be referred to as PF_15, PE_13, P_14, PE_11, PE_9, and PF_13, respectively. Throughout this book, many pins of the ST Zio connectors will be used, and they will be referred to in the code using the names shown in Figure 1.23.   \n2  Chapter 4 | Finite-State Machines and the Real-Time Clock\\n171 References\\n[1] “4x4 Keypad Module Pinout, Configuration, Features, Circuit & Datasheet” . Accessed July 9, \\n2021. \\n[2] “Breadboard Power Supply Module” . Accessed July 9, 2021. https://components101.com/modules/5v-mb102-breadboard-power-supply-module \\n[3] “UM1974 User manual - STM32 Nucleo-144 boards (MB1137)” . Accessed July 9, 2021. https://www.st.com/resource/en/user_manual/dm00244518-stm32-nucleo144-boards-mb1137-stmicroelectronics.pdf \\n[4] “GitHub - armBookCodeExamples/Directory” . Accessed July 9, 2021. https://github.com/armBookCodeExamples/Directory/ \\n[5] “Time - API references and tutorials | Mbed OS 6 Documentation ” . Accessed July 9, 2021. \\nhttps://os.mbed.com/docs/mbed-os/v6.12/apis/time.html \\n[6] “<cst...   \n3                                                                                                                                                                                                                                                                                                                                                                                                                                                                                                                                                                                                                                                          M_14, STM_PIN_DATA_EXT(STM_MODE_AF_PP, GPIO_NOPULL, GPIO_AF9_TIM14,  1, 0)}, \\n    {NC, NC, 0}\\n}; \\nCode 8.3 Notes on the PinNames.h file of the NUCLEO-F429ZI  board.   \n4                                 [3] “Arm Keil | Cloud-based Development T ools for IoT, ML and Embedded” . Accessed July 9, 2021. https://www.keil.arm.com/ \\n[4] “Log In | Mbed” . Accessed July 9, 2021. https://os.mbed.com/account/login/  \\n[5] “Keil Studio” . Accessed July 9, 2021. https://studio.keil.arm.com/  \\n[6] “Documentation - Arm Developer” . Accessed July 9, 2021. https://developer.arm.com/documentation \\n[7] “Arm Mbed Studio” . Accessed July 9, 2021. https://os.mbed.com/studio/ \\n[8] “STM32CudeIDE - Integrated Development Environment” . Accessed July 9, 2021. https://www.st.com/en/development-tools/stm32cubeide.html \\n[9] “STM32F429ZI - High-performance advanced line, Arm Cortex-M4” . Accessed July 9, 2021.  https://www.st.com/en/microcontrollers-microprocessors/stm32f429zi.html   \n\n      Score  \n0  0.544363  \n1  0.475778  \n2  0.473938  \n3  0.471764  \n4  0.446006  "
         },
         "metadata": {},
         "output_type": "display_data"
        },
        {
         "name": "stdout",
         "output_type": "stream",
         "text": "\u001b[1;34mSparse\u001b[0m\n"
        },
        {
         "data": {
          "text/html": "<div>\n<style scoped>\n    .dataframe tbody tr th:only-of-type {\n        vertical-align: middle;\n    }\n\n    .dataframe tbody tr th {\n        vertical-align: top;\n    }\n\n    .dataframe thead th {\n        text-align: right;\n    }\n</style>\n<table border=\"1\" class=\"dataframe\">\n  <thead>\n    <tr style=\"text-align: right;\">\n      <th></th>\n      <th>Retrieved_Text</th>\n      <th>Score</th>\n    </tr>\n  </thead>\n  <tbody>\n    <tr>\n      <th>0</th>\n      <td>Chapter 1 | Introduction to Embedded Systems \\n37The STM32F429ZIT6U microcontroller includes a Cortex-M4 processor , as shown in Figure 1.22. It \\ncan be appreciated that, beyond the processor, the microcontroller includes other peripherals such as \\ncommunication cores (ethernet, USB, UART, etc.), memory, timers, and GPIO (General Purpose Input Output) ports. \\nNUCLEO\\n-F429ZI32F429ZIT6U\\nARM7B776 VQ\\nPHL 7B 7213e412000K620 Y12000\\nK620 Y\\n120 00K620 YDGKYD\\nKMS-1 102NL1706C\\nSTM32F103CBT6\\ne393701GH218CHN\\nST890C\\nGK717\\n11\\n22\\n33\\n44\\n55\\n66\\n77\\n88\\n9\\n10\\n11\\n12\\n13\\n14\\n15PH_0\\nPD_0\\nPD_1\\nPG_0PH_1PF_2PA_7PF_10PF_5PF_3PC_3PC_030\\n29\\n28\\n27\\n2616\\n2515\\n2414\\n2313\\n2212\\n2111\\n2010\\n199\\n18\\n17\\n165V\\nVIN3.3VIOREF\\nGND\\nGNDGND\\nNCNC\\nUART2_RX\\nCAN1_TDCAN1_ DRADC1/7ADC1/3\\nADC1/1...</td>\n      <td>0.406629</td>\n    </tr>\n    <tr>\n      <th>1</th>\n      <td>Chapter 1 | Introduction to Embedded Systems \\n33Proposed Exercise\\n1. How can the code be changed in such a way that the system is blocked after three incorrect codes \\nare entered?\\nAnswer to the Exercise\\n1. It can be achieved by means of the change in T able 1.11.\\nT able 1.11 Proposed modification in the code in order to achieve the new behavior.\\nLine in Code 1.5 New code to be used\\n40 if ( numberOfIncorrectCodes &lt; 5 ) 40 if ( numberOfIncorrectCodes &lt; 3 )\\n1.3 Under the Hood\\n1.3.1 Brief Introduction to the Cortex-M Processor  Family and the NUCLEO Board\\nIn this chapter, many programs were developed using the NUCLEO board, provided with the \\nSTM32F429ZIT6U microcontroller . This microcontroller is manufactured by STMicroelectronics [13]</td>\n      <td>0.312081</td>\n    </tr>\n    <tr>\n      <th>2</th>\n      <td>38\\nA Beginner’s Guide to Designing Embedded System ApplicationsFigure 1.23 shows how different elements of the STM32F429ZIT6U microcontroller  are mapped \\nto the Zio and Arduino-compatible headers of the NUCLEO-F429ZI board. Some other elements \\nare mapped to the CN11 and CN12 headers of the NUCLEO-F429ZI board, as will be discussed in upcoming chapters. Further information on these headers is available from [17].\\nIn this chapter, buttons were connected to the NUCLEO board using pins D2 to D7. From Figure 1.23, \\nit can be seen that those digital inputs can also be referred to as PF_15, PE_13, P_14, PE_11, PE_9, and PF_13, respectively. Throughout this book, many pins of the ST Zio connectors will be used, and they will be referred to in the code using the names shown in Figure 1.23.</td>\n      <td>0.307954</td>\n    </tr>\n    <tr>\n      <th>3</th>\n      <td>This section will begin the implementation of the smart home system, following the diagram shown in Figure 1.3. This first implementation will detect fire using an over temperature detector and a gas detector and, if it detects fire, it will activate the alarm until a given code is entered.  For this purpose, the NUCLEO board [1] provided with the STM32F429ZIT6U microcontroller [9] (referred to as the STM32 microcontroller ) is used.</td>\n      <td>0.268825</td>\n    </tr>\n    <tr>\n      <th>4</th>\n      <td>Index\\n567 STM 32F429 ZIT 6U microcontroller 5, 33, 37, 38 \\n stop bit 46, 64, 65, 80, 256 , 257 , 273 , 468  \\n ST Zio connectors xiv, 6, 9, 37, 38, 44, 346  \\n superloop 13, 519  \\n synchronous communication 255\\nT TCP server 456 , 457 , 459 , 460 –463 , 491  \\n temperature sensor 4, 5, 87, 106 , 123 , 182 , 220 , 233 , 334 , 486 , 550  \\n time management xvi, 86, 95, 99, 289 , 342 , 348 , 353  \\n timers xvi, xxvii, 37, 306 , 342 , 343 , 345 , 348 –350 , 353 , 354 , \\n 361 , 441 , 512 –517 , 533 , 535 , 537 , 538 , 539  \\n tm structure 153  \\n TO- 220  package 89\\nU UART xvi, xvii, 5, 44, 61, 63, 79, 82, 84, 86, 181 , 191 , 222 , 255 , 290 , 291 , \\n 306 , 350 , 420 , 423 , 447 , 455 , 461 , 465 , 468 , 544  \\n USB xiv, xxvii, 4, 9, 37, 44, 45, 63, 79, 82, 88, 132 , 449 , 506 , 507 ,...</td>\n      <td>0.245208</td>\n    </tr>\n  </tbody>\n</table>\n</div>",
          "text/plain": "                                                                                                                                                                                                                                                                                                                                                                                                                                                                                                                                                                                                                                                                                                                                                                                                                    Retrieved_Text  \\\n0  Chapter 1 | Introduction to Embedded Systems \\n37The STM32F429ZIT6U microcontroller includes a Cortex-M4 processor , as shown in Figure 1.22. It \\ncan be appreciated that, beyond the processor, the microcontroller includes other peripherals such as \\ncommunication cores (ethernet, USB, UART, etc.), memory, timers, and GPIO (General Purpose Input Output) ports. \\nNUCLEO\\n-F429ZI32F429ZIT6U\\nARM7B776 VQ\\nPHL 7B 7213e412000K620 Y12000\\nK620 Y\\n120 00K620 YDGKYD\\nKMS-1 102NL1706C\\nSTM32F103CBT6\\ne393701GH218CHN\\nST890C\\nGK717\\n11\\n22\\n33\\n44\\n55\\n66\\n77\\n88\\n9\\n10\\n11\\n12\\n13\\n14\\n15PH_0\\nPD_0\\nPD_1\\nPG_0PH_1PF_2PA_7PF_10PF_5PF_3PC_3PC_030\\n29\\n28\\n27\\n2616\\n2515\\n2414\\n2313\\n2212\\n2111\\n2010\\n199\\n18\\n17\\n165V\\nVIN3.3VIOREF\\nGND\\nGNDGND\\nNCNC\\nUART2_RX\\nCAN1_TDCAN1_ DRADC1/7ADC1/3\\nADC1/1...   \n1                                              Chapter 1 | Introduction to Embedded Systems \\n33Proposed Exercise\\n1. How can the code be changed in such a way that the system is blocked after three incorrect codes \\nare entered?\\nAnswer to the Exercise\\n1. It can be achieved by means of the change in T able 1.11.\\nT able 1.11 Proposed modification in the code in order to achieve the new behavior.\\nLine in Code 1.5 New code to be used\\n40 if ( numberOfIncorrectCodes < 5 ) 40 if ( numberOfIncorrectCodes < 3 )\\n1.3 Under the Hood\\n1.3.1 Brief Introduction to the Cortex-M Processor  Family and the NUCLEO Board\\nIn this chapter, many programs were developed using the NUCLEO board, provided with the \\nSTM32F429ZIT6U microcontroller . This microcontroller is manufactured by STMicroelectronics [13]   \n2   38\\nA Beginner’s Guide to Designing Embedded System ApplicationsFigure 1.23 shows how different elements of the STM32F429ZIT6U microcontroller  are mapped \\nto the Zio and Arduino-compatible headers of the NUCLEO-F429ZI board. Some other elements \\nare mapped to the CN11 and CN12 headers of the NUCLEO-F429ZI board, as will be discussed in upcoming chapters. Further information on these headers is available from [17].\\nIn this chapter, buttons were connected to the NUCLEO board using pins D2 to D7. From Figure 1.23, \\nit can be seen that those digital inputs can also be referred to as PF_15, PE_13, P_14, PE_11, PE_9, and PF_13, respectively. Throughout this book, many pins of the ST Zio connectors will be used, and they will be referred to in the code using the names shown in Figure 1.23.   \n3                                                                                                                                                                                                                                                                                                                                                                            This section will begin the implementation of the smart home system, following the diagram shown in Figure 1.3. This first implementation will detect fire using an over temperature detector and a gas detector and, if it detects fire, it will activate the alarm until a given code is entered.  For this purpose, the NUCLEO board [1] provided with the STM32F429ZIT6U microcontroller [9] (referred to as the STM32 microcontroller ) is used.   \n4  Index\\n567 STM 32F429 ZIT 6U microcontroller 5, 33, 37, 38 \\n stop bit 46, 64, 65, 80, 256 , 257 , 273 , 468  \\n ST Zio connectors xiv, 6, 9, 37, 38, 44, 346  \\n superloop 13, 519  \\n synchronous communication 255\\nT TCP server 456 , 457 , 459 , 460 –463 , 491  \\n temperature sensor 4, 5, 87, 106 , 123 , 182 , 220 , 233 , 334 , 486 , 550  \\n time management xvi, 86, 95, 99, 289 , 342 , 348 , 353  \\n timers xvi, xxvii, 37, 306 , 342 , 343 , 345 , 348 –350 , 353 , 354 , \\n 361 , 441 , 512 –517 , 533 , 535 , 537 , 538 , 539  \\n tm structure 153  \\n TO- 220  package 89\\nU UART xvi, xvii, 5, 44, 61, 63, 79, 82, 84, 86, 181 , 191 , 222 , 255 , 290 , 291 , \\n 306 , 350 , 420 , 423 , 447 , 455 , 461 , 465 , 468 , 544  \\n USB xiv, xxvii, 4, 9, 37, 44, 45, 63, 79, 82, 88, 132 , 449 , 506 , 507 ,...   \n\n      Score  \n0  0.406629  \n1  0.312081  \n2  0.307954  \n3  0.268825  \n4  0.245208  "
         },
         "metadata": {},
         "output_type": "display_data"
        }
       ]
      }
     },
     "86fc361b244c4c7c9a4807c4aa9caa03": {
      "model_module": "@jupyter-widgets/controls",
      "model_module_version": "2.0.0",
      "model_name": "HBoxModel",
      "state": {
       "children": [
        "IPY_MODEL_903bd99700924b83a958370d96907f3c",
        "IPY_MODEL_d164356e8b174dbb8e3e7b7737167b88",
        "IPY_MODEL_4f808c29dd5448e8ae865b47c7d15b15"
       ],
       "layout": "IPY_MODEL_586797cd41834662a47ce77b4abaf550"
      }
     },
     "887b19882210482fb4bd2c7df6688f3f": {
      "model_module": "@jupyter-widgets/base",
      "model_module_version": "2.0.0",
      "model_name": "LayoutModel",
      "state": {}
     },
     "903bd99700924b83a958370d96907f3c": {
      "model_module": "@jupyter-widgets/controls",
      "model_module_version": "2.0.0",
      "model_name": "HTMLModel",
      "state": {
       "layout": "IPY_MODEL_b27d42b81dc94937987101e9eed25e57",
       "style": "IPY_MODEL_1ab3762a7b76402e949105cdaaf11484",
       "value": "Fetching 30 files: 100%"
      }
     },
     "ac41700a7c9e48e19029e2c255fbfc52": {
      "model_module": "@jupyter-widgets/controls",
      "model_module_version": "2.0.0",
      "model_name": "VBoxModel",
      "state": {
       "_dom_classes": [
        "widget-interact"
       ],
       "children": [
        "IPY_MODEL_3c3e1bcd44b44e3a9819ec5b407dc3ed",
        "IPY_MODEL_21ccedec2b2e4368a911027a8639ef45",
        "IPY_MODEL_73caae14103b41d8ad0a3620bac9fc95"
       ],
       "layout": "IPY_MODEL_d5d3cf0dc0234675bd967fd0ddbe0627"
      }
     },
     "b27d42b81dc94937987101e9eed25e57": {
      "model_module": "@jupyter-widgets/base",
      "model_module_version": "2.0.0",
      "model_name": "LayoutModel",
      "state": {}
     },
     "bfe265ad0532466c8ffa800f45c14e45": {
      "model_module": "@jupyter-widgets/base",
      "model_module_version": "2.0.0",
      "model_name": "LayoutModel",
      "state": {}
     },
     "d164356e8b174dbb8e3e7b7737167b88": {
      "model_module": "@jupyter-widgets/controls",
      "model_module_version": "2.0.0",
      "model_name": "FloatProgressModel",
      "state": {
       "bar_style": "success",
       "layout": "IPY_MODEL_0e23d1b47e05498a8b5c5f6ed5bf48d2",
       "max": 30,
       "style": "IPY_MODEL_f9ba862c6725499697dad051b88ec4a6",
       "value": 30
      }
     },
     "d5d3cf0dc0234675bd967fd0ddbe0627": {
      "model_module": "@jupyter-widgets/base",
      "model_module_version": "2.0.0",
      "model_name": "LayoutModel",
      "state": {}
     },
     "d9fc59e7ba284896b001f69580ee1520": {
      "model_module": "@jupyter-widgets/base",
      "model_module_version": "2.0.0",
      "model_name": "LayoutModel",
      "state": {}
     },
     "f9ba862c6725499697dad051b88ec4a6": {
      "model_module": "@jupyter-widgets/controls",
      "model_module_version": "2.0.0",
      "model_name": "ProgressStyleModel",
      "state": {
       "description_width": ""
      }
     }
    },
    "version_major": 2,
    "version_minor": 0
   }
  }
 },
 "nbformat": 4,
 "nbformat_minor": 4
}
