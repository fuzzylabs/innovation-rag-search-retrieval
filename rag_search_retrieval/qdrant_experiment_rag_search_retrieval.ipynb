{
 "cells": [
  {
   "cell_type": "markdown",
   "metadata": {},
   "source": [
    "# RAG Search Retrieval Experiment\n",
    "\n",
    "Vector Store : [Qdrant](https://qdrant.tech/)\n",
    "\n",
    "In this experiment, we will experiment and compare different retrieval options for a RAG application.\n",
    "\n",
    "We use [Qdrant](https://qdrant.tech/) vector store as our database. Qdrant is chosen as it is optimized for storing both dense and sparse vectors. Don't worry if you don't know what these terms mean, we will introduce those shortly.\n",
    "\n",
    "> It is recommended to run this notebook on a GPU depending on the size of the PDF file.\n",
    "\n",
    "<a target=\"_blank\" href=\"https://colab.research.google.com/github/fuzzylabs/innovation-rag-search-retrieval\">\n",
    "  <img src=\"https://colab.research.google.com/assets/colab-badge.svg\" alt=\"Open In Colab\"/>\n",
    "</a>\n",
    "\n",
    "## Getting Started\n",
    "\n",
    "For first pass, click `Run -> Run All Cells` from the drop-down.\n",
    "\n",
    "Head down to the `Comparison` cell at the bottom of the notebook and select various approaches to compare the outputs of retrieved documents from these approaches."
   ]
  },
  {
   "cell_type": "markdown",
   "metadata": {},
   "source": [
    "## Parameters\n",
    "\n",
    "The following parameters are used in the experiment.\n",
    "\n",
    "```\n",
    "QUERY = \"Who manufactured STM32F429ZIT6U microcontroller?\"\n",
    "```\n",
    "\n",
    "We choose this particular question so that we can look if specific content is present in the context.\n",
    "\n",
    "Specifically, we are looking for following content in the retrieved documents.\n",
    "\n",
    "```\n",
    "In this chapter, many programs were developed using the NUCLEO board, provided with the STM32F429ZIT6U microcontroller. This microcontroller is manufactured by STMicroelectronics [13] using a Cortex-M4 processor designed by Arm Ltd. [14].\n",
    "```\n"
   ]
  },
  {
   "cell_type": "code",
   "execution_count": 1,
   "metadata": {},
   "outputs": [],
   "source": [
    "######## Parameters #########\n",
    "\n",
    "# Data\n",
    "FILE_PATH = \"data/a_beginners_guide_to_designing_embedded_system_applications_on_arm_cortex-m_microcontrollers.pdf\"\n",
    "CHUNK_SIZE = 1000\n",
    "CHUNK_OVERLAP = 50\n",
    "COLLECTION_NAME = 'qdrant_experiment_search'\n",
    "BATCH_SIZE = 32\n",
    "\n",
    "# Dense\n",
    "DENSE_MODEL_NAME = \"all-MiniLM-L6-v2\"\n",
    "DENSE_MODEL_DIM = 384\n",
    "DENSE_METRIC = 'Cosine'  # options: ['Cosine', 'Euclid', 'Dot', 'Manhattan']\n",
    "\n",
    "# Sparse\n",
    "SPARSE_MODEL_NAME = 'spladepp' # options: ['spladepp', 'bm42']\n",
    "SPARSE_METRIC = 'IP'\n",
    "\n",
    "# Full text\n",
    "FULL_TEXT_MODEL = 'bm25'\n",
    "\n",
    "# Re-ranker\n",
    "RERANKER_MODEL = 'bgm3' # options: [bgm3, crossencoder]\n",
    "\n",
    "# Query\n",
    "TOP_K = 5\n",
    "QUERY = \"Who manufactured STM32F429ZIT6U microcontroller?\""
   ]
  },
  {
   "cell_type": "code",
   "execution_count": null,
   "metadata": {},
   "outputs": [],
   "source": [
    "# Load all imports required by the experiment\n",
    "import torch\n",
    "import pandas as pd\n",
    "from IPython.display import display\n",
    "from data_pipeline import prepare_data\n",
    "from langchain_text_splitters import RecursiveCharacterTextSplitter\n",
    "from result_collector import rrf\n",
    "from sentence_transformers import SentenceTransformer\n",
    "from fastembed.sparse.bm25 import Bm25\n",
    "from fastembed.sparse.splade_pp import SpladePP\n",
    "from qdrant import CustomQdrantClient\n",
    "from qdrant_client import models\n",
    "# We use pymilvus re-ranker functions for re-ranker\n",
    "from pymilvus.model.reranker import BGERerankFunction, CrossEncoderRerankFunction\n",
    "\n",
    "pd.set_option('max_colwidth', 800)\n",
    "DEVICE = 'cuda:0' if torch.cuda.is_available() else 'cpu'\n",
    "print(f\"Using device={DEVICE}\")"
   ]
  },
  {
   "cell_type": "markdown",
   "metadata": {},
   "source": [
    "## Data Preprocessing\n",
    "\n",
    "> ⚠️ Make sure the pdf data is present in [data](./data) folder.\n",
    "\n",
    "In this step, we preprocess the PDF data defined by `FILE_PATH` parameter. This pre-processed data will be added in the vector store.\n",
    "\n",
    "- We use [PyPDFLoader](https://python.langchain.com/v0.1/docs/modules/data_connection/document_loaders/pdf/#using-pypdf) from langchain to read the PDF.\n",
    "- We use [RecursiveCharacterTextSplitter](https://python.langchain.com/v0.1/docs/modules/data_connection/document_transformers/recursive_text_splitter/) from langchain to split the text in small chunks. The parameters `CHUNK_SIZE` and `CHUNK_OVERLAP` configure the chunk size and chunk overlap.\n",
    "\n",
    "> ⚠️ This step takes about 3 mins for 600 page PDF document."
   ]
  },
  {
   "cell_type": "code",
   "execution_count": 3,
   "metadata": {},
   "outputs": [
    {
     "name": "stdout",
     "output_type": "stream",
     "text": [
      "CPU times: user 2min 33s, sys: 1.29 s, total: 2min 35s\n",
      "Wall time: 2min 35s\n"
     ]
    }
   ],
   "source": [
    "%%time\n",
    "text_splitter = RecursiveCharacterTextSplitter(\n",
    "    chunk_size=CHUNK_SIZE,\n",
    "    chunk_overlap=CHUNK_OVERLAP,\n",
    "    length_function=len,\n",
    "    is_separator_regex=False,\n",
    ")\n",
    "docs = prepare_data(FILE_PATH, text_splitter)"
   ]
  },
  {
   "cell_type": "code",
   "execution_count": null,
   "metadata": {
    "scrolled": true
   },
   "outputs": [],
   "source": [
    "docs"
   ]
  },
  {
   "cell_type": "markdown",
   "metadata": {},
   "source": [
    "## Data Ingestion\n",
    "\n",
    "In this step, we store the chunked texts in Qdrant vector store.\n",
    "\n",
    "Here's how it works\n",
    "\n",
    "- We load a dense model defined by `DENSE_MODEL_NAME` parameter on a GPU\n",
    "- We load a sparse model defined by `SPARSE_MODEL_NAME` parameter on a GPU\n",
    "- We load BM25 model used for full text search approach\n"
   ]
  },
  {
   "cell_type": "code",
   "execution_count": 8,
   "metadata": {},
   "outputs": [],
   "source": [
    "dense_metric = None\n",
    "if DENSE_METRIC.lower() == 'cosine':\n",
    "    dense_metric = models.Distance.COSINE\n",
    "elif DENSE_METRIC.lower() == 'euclid':\n",
    "    dense_metric = models.Distance.EUCLID\n",
    "elif DENSE_METRIC.lower() == 'dot':\n",
    "    dense_metric = models.Distance.DOT\n",
    "elif DENSE_METRIC.lower() == 'Manhattan':\n",
    "    dense_metric = models.Distance.MANHATTAN"
   ]
  },
  {
   "cell_type": "code",
   "execution_count": 9,
   "metadata": {},
   "outputs": [],
   "source": [
    "# dense embedding model\n",
    "dense_model = SentenceTransformer(DENSE_MODEL_NAME, device=DEVICE)"
   ]
  },
  {
   "cell_type": "code",
   "execution_count": null,
   "metadata": {},
   "outputs": [],
   "source": [
    "# sparse embedding model\n",
    "sparse_model = None\n",
    "if SPARSE_MODEL_NAME == 'spladepp':\n",
    "    sparse_model = SpladePP(model_name=\"prithivida/Splade_PP_en_v1\")"
   ]
  },
  {
   "cell_type": "code",
   "execution_count": 11,
   "metadata": {},
   "outputs": [
    {
     "data": {
      "application/vnd.jupyter.widget-view+json": {
       "model_id": "0fa0e17f8d634fabb7cf9e648e8da420",
       "version_major": 2,
       "version_minor": 0
      },
      "text/plain": [
       "Fetching 1 files:   0%|          | 0/1 [00:00<?, ?it/s]"
      ]
     },
     "metadata": {},
     "output_type": "display_data"
    },
    {
     "data": {
      "application/vnd.jupyter.widget-view+json": {
       "model_id": "4fc9b5d3615b4253b22e757a14a79c18",
       "version_major": 2,
       "version_minor": 0
      },
      "text/plain": [
       "stopwords.txt:   0%|          | 0.00/936 [00:00<?, ?B/s]"
      ]
     },
     "metadata": {},
     "output_type": "display_data"
    }
   ],
   "source": [
    "# BM25 model for full text search\n",
    "bm25_model = Bm25(model_name=\"Qdrant/bm25\")"
   ]
  },
  {
   "cell_type": "markdown",
   "metadata": {},
   "source": [
    "Next, we wrote a code that simplifies connecting to Qdrant vector store. It also does all of the heavy lifting for us by providing us useful function to store and retrieve stuff from the vector store.\n",
    "\n",
    "> The custom code is located in [qdrant.py](./qdrant.py)."
   ]
  },
  {
   "cell_type": "code",
   "execution_count": 12,
   "metadata": {},
   "outputs": [],
   "source": [
    "# Create a qdrant vector store and persist it to a local path\n",
    "# To keep setup simple, we use a standalone database\n",
    "# This is not recommended for production\n",
    "qdrant_client = CustomQdrantClient()"
   ]
  },
  {
   "cell_type": "code",
   "execution_count": 13,
   "metadata": {},
   "outputs": [],
   "source": [
    "# Create a collection in Qdrant vector store\n",
    "qdrant_client.create_collection(\n",
    "    collection_name=COLLECTION_NAME,\n",
    "    dense_dim=DENSE_MODEL_DIM,\n",
    "    dense_distance_metric=dense_metric\n",
    ")"
   ]
  },
  {
   "cell_type": "markdown",
   "metadata": {},
   "source": [
    "> ⚠️ This step is resource intensive about 10 mins on Nvidia GPU.\n",
    "\n",
    "> It might take around 30-45 mins if running on CPU.\n",
    "\n",
    "> It calculates the embeddings (both dense and sparse) for entire dataset."
   ]
  },
  {
   "cell_type": "code",
   "execution_count": 14,
   "metadata": {},
   "outputs": [
    {
     "name": "stdout",
     "output_type": "stream",
     "text": [
      "CPU times: user 1h 59min 29s, sys: 1min 41s, total: 2h 1min 10s\n",
      "Wall time: 10min 3s\n"
     ]
    }
   ],
   "source": [
    "%%time\n",
    "\n",
    "# Store the chunks and metadata\n",
    "# Also calculate the dense, sparse and full text embedding for the chunks while inserting\n",
    "# These embeddings are also stored along with chunk and metadata\n",
    "qdrant_client.store(\n",
    "    docs=docs,\n",
    "    collection_name=COLLECTION_NAME,\n",
    "    dense_model=dense_model,\n",
    "    sparse_model=sparse_model,\n",
    "    bm25_model=bm25_model,\n",
    "    batch_size=BATCH_SIZE\n",
    ")"
   ]
  },
  {
   "cell_type": "markdown",
   "metadata": {
    "jp-MarkdownHeadingCollapsed": true
   },
   "source": [
    "# Dense\n",
    "\n",
    "This is the most popular approach for retrieving *semantically similar* documents to the query with dense vector. The dense vector captures the semantic meaning of the text using the embedding model.\n",
    "\n",
    "![dense](./assets/dense_retrieval_vector_store.png)\n",
    "\n",
    "A *dense embedding model* creates dense vector for the search query. This vector is matched against all the entries in the database to find closest neighbors to the search query using a *distance metric*."
   ]
  },
  {
   "cell_type": "code",
   "execution_count": 15,
   "metadata": {},
   "outputs": [
    {
     "name": "stdout",
     "output_type": "stream",
     "text": [
      "CPU times: user 0 ns, sys: 202 ms, total: 202 ms\n",
      "Wall time: 269 ms\n"
     ]
    }
   ],
   "source": [
    "%%time\n",
    "\n",
    "# Get the dense embedding vector for the query\n",
    "# Convert it to a list of floats\n",
    "query_embed = dense_model.encode(QUERY)\n",
    "\n",
    "# Get the TOP_K closest documents to the query\n",
    "result_docs = qdrant_client.dense_search(\n",
    "    collection_name=COLLECTION_NAME,\n",
    "    query_dense_embedding=query_embed,\n",
    "    top_k=TOP_K,\n",
    ")"
   ]
  },
  {
   "cell_type": "code",
   "execution_count": 16,
   "metadata": {},
   "outputs": [],
   "source": [
    "dense_docs = [(res.payload['text'], res.score) for res in result_docs]"
   ]
  },
  {
   "cell_type": "code",
   "execution_count": 17,
   "metadata": {},
   "outputs": [
    {
     "data": {
      "text/plain": [
       "[('Chapter 1 | Introduction to Embedded Systems \\n37The STM32F429ZIT6U microcontroller includes a Cortex-M4 processor , as shown in Figure\\xa01.22. It \\ncan be appreciated that, beyond the processor, the microcontroller includes other peripherals such as \\ncommunication cores (ethernet, USB, UART, etc.), memory, timers, and GPIO (General Purpose Input Output) ports. \\nNUCLEO\\n-F429ZI32F429ZIT6U\\nARM7B776 VQ\\nPHL 7B 7213e412000K620 Y12000\\nK620 Y\\n120 00K620 YDGKYD\\nKMS-1 102NL1706C\\nSTM32F103CBT6\\ne393701GH218CHN\\nST890C\\nGK717\\n11\\n22\\n33\\n44\\n55\\n66\\n77\\n88\\n9\\n10\\n11\\n12\\n13\\n14\\n15PH_0\\nPD_0\\nPD_1\\nPG_0PH_1PF_2PA_7PF_10PF_5PF_3PC_3PC_030\\n29\\n28\\n27\\n2616\\n2515\\n2414\\n2313\\n2212\\n2111\\n2010\\n199\\n18\\n17\\n165V\\nVIN3.3VIOREF\\nGND\\nGNDGND\\nNCNC\\nUART2_RX\\nCAN1_TDCAN1_ DRADC1/7ADC1/3\\nADC1/10\\nADC1/13\\nADC3/9\\nADC3/15\\nADC3/8\\nADC3/5NRSTPC_8\\nPC_9\\nPC_10\\nPC_11\\nPC_12\\nPD_2\\nPG_2\\nPG_3\\nGNDPD_7\\nPD_6\\nPD_5\\nPD_4\\nPD_3\\nPE_2\\nPE_4\\nPE_3\\nPF_7\\nPG_1UART2_RX\\nUART2_ XT\\nUART_X7TUART2_RTS\\nUART2_CTSUART3_TX\\nUART3_RX\\nUART5_TX\\nUART5_RX\\nPA_3\\nSPI1_MOSISPI3_SCK\\nSPI2_SCK',\n",
       "  0.544362497638204),\n",
       " ('38\\nA Beginner’s Guide to Designing Embedded System ApplicationsFigure\\xa01.23 shows how different elements of the STM32F429ZIT6U microcontroller  are mapped \\nto the Zio and Arduino-compatible headers of the NUCLEO-F429ZI board. Some other elements \\nare mapped to the CN11 and CN12 headers of the NUCLEO-F429ZI board, as will be discussed in upcoming chapters. Further information on these headers is available from [17].\\nIn this chapter, buttons were connected to the NUCLEO board using pins D2 to D7. From Figure\\xa01.23, \\nit can be seen that those digital inputs can also be referred to as PF_15, PE_13, P_14, PE_11, PE_9, and PF_13, respectively. Throughout this book, many pins of the ST Zio connectors will be used, and they will be referred to in the code using the names shown in Figure\\xa01.23.',\n",
       "  0.4757782256201991),\n",
       " ('Chapter 4 | Finite-State Machines and the Real-Time Clock\\n171 References\\n[1] “4x4 Keypad Module Pinout, Configuration, Features, Circuit & Datasheet” . Accessed July 9, \\n2021. \\n[2] “Breadboard Power Supply Module” . Accessed July 9, 2021. https://components101.com/modules/5v-mb102-breadboard-power-supply-module \\n[3] “UM1974 User manual - STM32 Nucleo-144 boards (MB1137)” . Accessed July 9, 2021. https://www.st.com/resource/en/user_manual/dm00244518-stm32-nucleo144-boards-mb1137-stmicroelectronics.pdf \\n[4] “GitHub - armBookCodeExamples/Directory” . Accessed July 9, 2021. https://github.com/armBookCodeExamples/Directory/ \\n[5] “Time - API references and tutorials | Mbed OS 6 Documentation ” . Accessed July 9, 2021. \\nhttps://os.mbed.com/docs/mbed-os/v6.12/apis/time.html \\n[6] “<cstring> (string.h) - C++ Reference” . Accessed July 9, 2021. https://www.cplusplus.com/reference/cstring/',\n",
       "  0.47393772584984417),\n",
       " ('M_14, STM_PIN_DATA_EXT(STM_MODE_AF_PP, GPIO_NOPULL, GPIO_AF9_TIM14,  1, 0)}, \\n    {NC, NC, 0}\\n}; \\nCode\\xa08.3 Notes on the PinNames.h file of the NUCLEO-F429ZI  board.',\n",
       "  0.4717637352888742),\n",
       " ('[3] “Arm Keil | Cloud-based Development T ools for IoT, ML and Embedded” . Accessed July 9, 2021. https://www.keil.arm.com/ \\n[4] “Log In | Mbed” . Accessed July 9, 2021. https://os.mbed.com/account/login/  \\n[5] “Keil Studio” . Accessed July 9, 2021. https://studio.keil.arm.com/  \\n[6] “Documentation - Arm Developer” . Accessed July 9, 2021. https://developer.arm.com/documentation \\n[7] “Arm Mbed Studio” . Accessed July 9, 2021. https://os.mbed.com/studio/ \\n[8] “STM32CudeIDE - Integrated Development Environment” . Accessed July 9, 2021. https://www.st.com/en/development-tools/stm32cubeide.html \\n[9] “STM32F429ZI - High-performance advanced line, Arm Cortex-M4” . Accessed July 9, 2021.  https://www.st.com/en/microcontrollers-microprocessors/stm32f429zi.html',\n",
       "  0.4460055109504898)]"
      ]
     },
     "execution_count": 17,
     "metadata": {},
     "output_type": "execute_result"
    }
   ],
   "source": [
    "dense_docs"
   ]
  },
  {
   "cell_type": "markdown",
   "metadata": {},
   "source": [
    "### Result\n",
    "\n",
    "The goal here is to verify if following context is present in any of the retrieved documents.\n",
    "\n",
    "```\n",
    "In this chapter, many programs were developed using the NUCLEO board, provided with the STM32F429ZIT6U microcontroller. This microcontroller is manufactured by STMicroelectronics [13] using a Cortex-M4 processor designed by Arm Ltd. [14].\n",
    "```\n",
    "\n",
    "If it is present then our retrieval approach was able to find the correct document from the vector store.\n",
    "\n",
    "> **It is not present in the any of retrieved documents.**"
   ]
  },
  {
   "cell_type": "code",
   "execution_count": 18,
   "metadata": {},
   "outputs": [
    {
     "data": {
      "text/html": [
       "<div>\n",
       "<style scoped>\n",
       "    .dataframe tbody tr th:only-of-type {\n",
       "        vertical-align: middle;\n",
       "    }\n",
       "\n",
       "    .dataframe tbody tr th {\n",
       "        vertical-align: top;\n",
       "    }\n",
       "\n",
       "    .dataframe thead th {\n",
       "        text-align: right;\n",
       "    }\n",
       "</style>\n",
       "<table border=\"1\" class=\"dataframe\">\n",
       "  <thead>\n",
       "    <tr style=\"text-align: right;\">\n",
       "      <th></th>\n",
       "      <th>Retrieved text</th>\n",
       "      <th>score</th>\n",
       "    </tr>\n",
       "  </thead>\n",
       "  <tbody>\n",
       "    <tr>\n",
       "      <th>0</th>\n",
       "      <td>Chapter 1 | Introduction to Embedded Systems \\n37The STM32F429ZIT6U microcontroller includes a Cortex-M4 processor , as shown in Figure 1.22. It \\ncan be appreciated that, beyond the processor, the microcontroller includes other peripherals such as \\ncommunication cores (ethernet, USB, UART, etc.), memory, timers, and GPIO (General Purpose Input Output) ports. \\nNUCLEO\\n-F429ZI32F429ZIT6U\\nARM7B776 VQ\\nPHL 7B 7213e412000K620 Y12000\\nK620 Y\\n120 00K620 YDGKYD\\nKMS-1 102NL1706C\\nSTM32F103CBT6\\ne393701GH218CHN\\nST890C\\nGK717\\n11\\n22\\n33\\n44\\n55\\n66\\n77\\n88\\n9\\n10\\n11\\n12\\n13\\n14\\n15PH_0\\nPD_0\\nPD_1\\nPG_0PH_1PF_2PA_7PF_10PF_5PF_3PC_3PC_030\\n29\\n28\\n27\\n2616\\n2515\\n2414\\n2313\\n2212\\n2111\\n2010\\n199\\n18\\n17\\n165V\\nVIN3.3VIOREF\\nGND\\nGNDGND\\nNCNC\\nUART2_RX\\nCAN1_TDCAN1_ DRADC1/7ADC1/3\\nADC1/1...</td>\n",
       "      <td>0.544362</td>\n",
       "    </tr>\n",
       "    <tr>\n",
       "      <th>1</th>\n",
       "      <td>38\\nA Beginner’s Guide to Designing Embedded System ApplicationsFigure 1.23 shows how different elements of the STM32F429ZIT6U microcontroller  are mapped \\nto the Zio and Arduino-compatible headers of the NUCLEO-F429ZI board. Some other elements \\nare mapped to the CN11 and CN12 headers of the NUCLEO-F429ZI board, as will be discussed in upcoming chapters. Further information on these headers is available from [17].\\nIn this chapter, buttons were connected to the NUCLEO board using pins D2 to D7. From Figure 1.23, \\nit can be seen that those digital inputs can also be referred to as PF_15, PE_13, P_14, PE_11, PE_9, and PF_13, respectively. Throughout this book, many pins of the ST Zio connectors will be used, and they will be referred to in the code using the names shown in Figure 1.23.</td>\n",
       "      <td>0.475778</td>\n",
       "    </tr>\n",
       "    <tr>\n",
       "      <th>2</th>\n",
       "      <td>Chapter 4 | Finite-State Machines and the Real-Time Clock\\n171 References\\n[1] “4x4 Keypad Module Pinout, Configuration, Features, Circuit &amp; Datasheet” . Accessed July 9, \\n2021. \\n[2] “Breadboard Power Supply Module” . Accessed July 9, 2021. https://components101.com/modules/5v-mb102-breadboard-power-supply-module \\n[3] “UM1974 User manual - STM32 Nucleo-144 boards (MB1137)” . Accessed July 9, 2021. https://www.st.com/resource/en/user_manual/dm00244518-stm32-nucleo144-boards-mb1137-stmicroelectronics.pdf \\n[4] “GitHub - armBookCodeExamples/Directory” . Accessed July 9, 2021. https://github.com/armBookCodeExamples/Directory/ \\n[5] “Time - API references and tutorials | Mbed OS 6 Documentation ” . Accessed July 9, 2021. \\nhttps://os.mbed.com/docs/mbed-os/v6.12/apis/time.html \\n[6] “&lt;cst...</td>\n",
       "      <td>0.473938</td>\n",
       "    </tr>\n",
       "    <tr>\n",
       "      <th>3</th>\n",
       "      <td>M_14, STM_PIN_DATA_EXT(STM_MODE_AF_PP, GPIO_NOPULL, GPIO_AF9_TIM14,  1, 0)}, \\n    {NC, NC, 0}\\n}; \\nCode 8.3 Notes on the PinNames.h file of the NUCLEO-F429ZI  board.</td>\n",
       "      <td>0.471764</td>\n",
       "    </tr>\n",
       "    <tr>\n",
       "      <th>4</th>\n",
       "      <td>[3] “Arm Keil | Cloud-based Development T ools for IoT, ML and Embedded” . Accessed July 9, 2021. https://www.keil.arm.com/ \\n[4] “Log In | Mbed” . Accessed July 9, 2021. https://os.mbed.com/account/login/  \\n[5] “Keil Studio” . Accessed July 9, 2021. https://studio.keil.arm.com/  \\n[6] “Documentation - Arm Developer” . Accessed July 9, 2021. https://developer.arm.com/documentation \\n[7] “Arm Mbed Studio” . Accessed July 9, 2021. https://os.mbed.com/studio/ \\n[8] “STM32CudeIDE - Integrated Development Environment” . Accessed July 9, 2021. https://www.st.com/en/development-tools/stm32cubeide.html \\n[9] “STM32F429ZI - High-performance advanced line, Arm Cortex-M4” . Accessed July 9, 2021.  https://www.st.com/en/microcontrollers-microprocessors/stm32f429zi.html</td>\n",
       "      <td>0.446006</td>\n",
       "    </tr>\n",
       "  </tbody>\n",
       "</table>\n",
       "</div>"
      ],
      "text/plain": [
       "                                                                                                                                                                                                                                                                                                                                                                                                                                                                                                                                                                                                                                                                                                                                                                                                                    Retrieved text  \\\n",
       "0  Chapter 1 | Introduction to Embedded Systems \\n37The STM32F429ZIT6U microcontroller includes a Cortex-M4 processor , as shown in Figure 1.22. It \\ncan be appreciated that, beyond the processor, the microcontroller includes other peripherals such as \\ncommunication cores (ethernet, USB, UART, etc.), memory, timers, and GPIO (General Purpose Input Output) ports. \\nNUCLEO\\n-F429ZI32F429ZIT6U\\nARM7B776 VQ\\nPHL 7B 7213e412000K620 Y12000\\nK620 Y\\n120 00K620 YDGKYD\\nKMS-1 102NL1706C\\nSTM32F103CBT6\\ne393701GH218CHN\\nST890C\\nGK717\\n11\\n22\\n33\\n44\\n55\\n66\\n77\\n88\\n9\\n10\\n11\\n12\\n13\\n14\\n15PH_0\\nPD_0\\nPD_1\\nPG_0PH_1PF_2PA_7PF_10PF_5PF_3PC_3PC_030\\n29\\n28\\n27\\n2616\\n2515\\n2414\\n2313\\n2212\\n2111\\n2010\\n199\\n18\\n17\\n165V\\nVIN3.3VIOREF\\nGND\\nGNDGND\\nNCNC\\nUART2_RX\\nCAN1_TDCAN1_ DRADC1/7ADC1/3\\nADC1/1...   \n",
       "1   38\\nA Beginner’s Guide to Designing Embedded System ApplicationsFigure 1.23 shows how different elements of the STM32F429ZIT6U microcontroller  are mapped \\nto the Zio and Arduino-compatible headers of the NUCLEO-F429ZI board. Some other elements \\nare mapped to the CN11 and CN12 headers of the NUCLEO-F429ZI board, as will be discussed in upcoming chapters. Further information on these headers is available from [17].\\nIn this chapter, buttons were connected to the NUCLEO board using pins D2 to D7. From Figure 1.23, \\nit can be seen that those digital inputs can also be referred to as PF_15, PE_13, P_14, PE_11, PE_9, and PF_13, respectively. Throughout this book, many pins of the ST Zio connectors will be used, and they will be referred to in the code using the names shown in Figure 1.23.   \n",
       "2  Chapter 4 | Finite-State Machines and the Real-Time Clock\\n171 References\\n[1] “4x4 Keypad Module Pinout, Configuration, Features, Circuit & Datasheet” . Accessed July 9, \\n2021. \\n[2] “Breadboard Power Supply Module” . Accessed July 9, 2021. https://components101.com/modules/5v-mb102-breadboard-power-supply-module \\n[3] “UM1974 User manual - STM32 Nucleo-144 boards (MB1137)” . Accessed July 9, 2021. https://www.st.com/resource/en/user_manual/dm00244518-stm32-nucleo144-boards-mb1137-stmicroelectronics.pdf \\n[4] “GitHub - armBookCodeExamples/Directory” . Accessed July 9, 2021. https://github.com/armBookCodeExamples/Directory/ \\n[5] “Time - API references and tutorials | Mbed OS 6 Documentation ” . Accessed July 9, 2021. \\nhttps://os.mbed.com/docs/mbed-os/v6.12/apis/time.html \\n[6] “<cst...   \n",
       "3                                                                                                                                                                                                                                                                                                                                                                                                                                                                                                                                                                                                                                                          M_14, STM_PIN_DATA_EXT(STM_MODE_AF_PP, GPIO_NOPULL, GPIO_AF9_TIM14,  1, 0)}, \\n    {NC, NC, 0}\\n}; \\nCode 8.3 Notes on the PinNames.h file of the NUCLEO-F429ZI  board.   \n",
       "4                                 [3] “Arm Keil | Cloud-based Development T ools for IoT, ML and Embedded” . Accessed July 9, 2021. https://www.keil.arm.com/ \\n[4] “Log In | Mbed” . Accessed July 9, 2021. https://os.mbed.com/account/login/  \\n[5] “Keil Studio” . Accessed July 9, 2021. https://studio.keil.arm.com/  \\n[6] “Documentation - Arm Developer” . Accessed July 9, 2021. https://developer.arm.com/documentation \\n[7] “Arm Mbed Studio” . Accessed July 9, 2021. https://os.mbed.com/studio/ \\n[8] “STM32CudeIDE - Integrated Development Environment” . Accessed July 9, 2021. https://www.st.com/en/development-tools/stm32cubeide.html \\n[9] “STM32F429ZI - High-performance advanced line, Arm Cortex-M4” . Accessed July 9, 2021.  https://www.st.com/en/microcontrollers-microprocessors/stm32f429zi.html   \n",
       "\n",
       "      score  \n",
       "0  0.544362  \n",
       "1  0.475778  \n",
       "2  0.473938  \n",
       "3  0.471764  \n",
       "4  0.446006  "
      ]
     },
     "metadata": {},
     "output_type": "display_data"
    }
   ],
   "source": [
    "df = pd.DataFrame(dense_docs, columns=['Retrieved text', 'score'])\n",
    "display(df)"
   ]
  },
  {
   "cell_type": "markdown",
   "metadata": {
    "jp-MarkdownHeadingCollapsed": true
   },
   "source": [
    "# Sparse\n",
    "\n",
    "Unlike dense vector that capture semantic meaning of the text, sparse vectors aim at pruning and expanding keywords. This allows a document to be represented by sparse vectors composed of pruned keywords.\n",
    "\n",
    "The removal of redundant terms here resembles the “stopword removal” process seen in traditional search engines, where commonly occurring but non-informative words like “the” and “a” are removed during index building.\n",
    "\n",
    "![sparse](./assets/sparse_retrieval_vector_store.png)\n",
    "\n",
    "Similar to dense approach above, a *sparse embedding model* creates a sparse vector for the search query. This vector is matched against all the entries in the database to find closest neighbors to the search query using a *distance metric*."
   ]
  },
  {
   "cell_type": "markdown",
   "metadata": {},
   "source": [
    "We use SPLADE embedding models as sparse models.\n",
    "\n",
    "> A significant advantage of SPLADE's embedding technique is its inherent capacity for term expansion. It identifies and includes relevant terms not present in the original text. For instance, in the example provided, tokens such as \"exploration\" and \"created\" emerge in the sparse vector despite their absence from the initial sentence. ([Link](https://zilliz.com/learn/bge-m3-and-splade-two-machine-learning-models-for-generating-sparse-embeddings))"
   ]
  },
  {
   "cell_type": "code",
   "execution_count": 19,
   "metadata": {},
   "outputs": [
    {
     "name": "stdout",
     "output_type": "stream",
     "text": [
      "CPU times: user 1.63 s, sys: 12.7 ms, total: 1.64 s\n",
      "Wall time: 243 ms\n"
     ]
    }
   ],
   "source": [
    "%%time\n",
    "\n",
    "# Get the sparse embedding vector for the query\n",
    "query_embed = sparse_model.query_embed(QUERY)\n",
    "# Convert sparse array to list\n",
    "sparse_query_embed = [q for q in query_embed][0]\n",
    "\n",
    "# Get the TOP_K closest documents to the query\n",
    "result_docs = qdrant_client.sparse_search(\n",
    "    collection_name=COLLECTION_NAME,\n",
    "    query_sparse_embedding=sparse_query_embed,\n",
    "    top_k=TOP_K,\n",
    ")"
   ]
  },
  {
   "cell_type": "code",
   "execution_count": 20,
   "metadata": {},
   "outputs": [],
   "source": [
    "sparse_docs = [(res.payload['text'], res.score) for res in result_docs]"
   ]
  },
  {
   "cell_type": "code",
   "execution_count": 21,
   "metadata": {},
   "outputs": [
    {
     "data": {
      "text/plain": [
       "[('Chapter 1 | Introduction to Embedded Systems \\n33Proposed Exercise\\n1. How can the code be changed in such a way that the system is blocked after three incorrect codes \\nare entered?\\nAnswer to the Exercise\\n1. It can be achieved by means of the change in T able\\xa01.11.\\nT able\\xa01.11 Proposed modification in the code in order to achieve the new behavior.\\nLine in Code\\xa01.5 New code to be used\\n40 if ( numberOfIncorrectCodes < 5 ) 40 if ( numberOfIncorrectCodes < 3 )\\n1.3 Under the Hood\\n1.3.1 Brief Introduction to the Cortex-M Processor  Family and the NUCLEO Board\\nIn this chapter, many programs were developed using the NUCLEO board, provided with the \\nSTM32F429ZIT6U microcontroller . This microcontroller is manufactured by STMicroelectronics [13]',\n",
       "  20.15582847595215),\n",
       " ('38\\nA Beginner’s Guide to Designing Embedded System ApplicationsFigure\\xa01.23 shows how different elements of the STM32F429ZIT6U microcontroller  are mapped \\nto the Zio and Arduino-compatible headers of the NUCLEO-F429ZI board. Some other elements \\nare mapped to the CN11 and CN12 headers of the NUCLEO-F429ZI board, as will be discussed in upcoming chapters. Further information on these headers is available from [17].\\nIn this chapter, buttons were connected to the NUCLEO board using pins D2 to D7. From Figure\\xa01.23, \\nit can be seen that those digital inputs can also be referred to as PF_15, PE_13, P_14, PE_11, PE_9, and PF_13, respectively. Throughout this book, many pins of the ST Zio connectors will be used, and they will be referred to in the code using the names shown in Figure\\xa01.23.',\n",
       "  17.96459197998047),\n",
       " ('This section will begin the implementation of the smart home system, following the diagram shown in Figure\\xa01.3. This first implementation will detect fire using an over temperature detector and a gas detector and, if it detects fire, it will activate the alarm until a given code is entered.  For this purpose, the NUCLEO board [1] provided with the STM32F429ZIT6U microcontroller [9] (referred to as the STM32 microcontroller ) is used.',\n",
       "  16.524555206298828),\n",
       " ('Chapter 1 | Introduction to Embedded Systems \\n37The STM32F429ZIT6U microcontroller includes a Cortex-M4 processor , as shown in Figure\\xa01.22. It \\ncan be appreciated that, beyond the processor, the microcontroller includes other peripherals such as \\ncommunication cores (ethernet, USB, UART, etc.), memory, timers, and GPIO (General Purpose Input Output) ports. \\nNUCLEO\\n-F429ZI32F429ZIT6U\\nARM7B776 VQ\\nPHL 7B 7213e412000K620 Y12000\\nK620 Y\\n120 00K620 YDGKYD\\nKMS-1 102NL1706C\\nSTM32F103CBT6\\ne393701GH218CHN\\nST890C\\nGK717\\n11\\n22\\n33\\n44\\n55\\n66\\n77\\n88\\n9\\n10\\n11\\n12\\n13\\n14\\n15PH_0\\nPD_0\\nPD_1\\nPG_0PH_1PF_2PA_7PF_10PF_5PF_3PC_3PC_030\\n29\\n28\\n27\\n2616\\n2515\\n2414\\n2313\\n2212\\n2111\\n2010\\n199\\n18\\n17\\n165V\\nVIN3.3VIOREF\\nGND\\nGNDGND\\nNCNC\\nUART2_RX\\nCAN1_TDCAN1_ DRADC1/7ADC1/3\\nADC1/10\\nADC1/13\\nADC3/9\\nADC3/15\\nADC3/8\\nADC3/5NRSTPC_8\\nPC_9\\nPC_10\\nPC_11\\nPC_12\\nPD_2\\nPG_2\\nPG_3\\nGNDPD_7\\nPD_6\\nPD_5\\nPD_4\\nPD_3\\nPE_2\\nPE_4\\nPE_3\\nPF_7\\nPG_1UART2_RX\\nUART2_ XT\\nUART_X7TUART2_RTS\\nUART2_CTSUART3_TX\\nUART3_RX\\nUART5_TX\\nUART5_RX\\nPA_3\\nSPI1_MOSISPI3_SCK\\nSPI2_SCK',\n",
       "  14.147621154785156),\n",
       " ('Index\\n567 STM 32F429 ZIT 6U microcontroller 5, 33, 37, 38 \\n stop bit 46, 64, 65, 80, 256 , 257 , 273 , 468  \\n ST Zio connectors xiv, 6, 9, 37, 38, 44, 346  \\n superloop 13, 519  \\n synchronous communication 255\\nT TCP server 456 , 457 , 459 , 460 –463 , 491  \\n temperature sensor 4, 5, 87, 106 , 123 , 182 , 220 , 233 , 334 , 486 , 550  \\n time management xvi, 86, 95, 99, 289 , 342 , 348 , 353  \\n timers xvi, xxvii, 37, 306 , 342 , 343 , 345 , 348 –350 , 353 , 354 , \\n 361 , 441 , 512 –517 , 533 , 535 , 537 , 538 , 539  \\n tm structure 153  \\n TO- 220  package 89\\nU UART xvi, xvii, 5, 44, 61, 63, 79, 82, 84, 86, 181 , 191 , 222 , 255 , 290 , 291 , \\n 306 , 350 , 420 , 423 , 447 , 455 , 461 , 465 , 468 , 544  \\n USB xiv, xxvii, 4, 9, 37, 44, 45, 63, 79, 82, 88, 132 , 449 , 506 , 507 , 508 , 544  \\n USB connection xiv, 44, 506  \\n use cases 497 , 501 –504 , 511 , 545 , 546 , 547 , 548\\nV validation 496 , 497 , 546 , 547  \\n verification 81, 92, 496 , 497 , 546  \\n vineyard frost prevention 123 , 124',\n",
       "  12.54796314239502)]"
      ]
     },
     "execution_count": 21,
     "metadata": {},
     "output_type": "execute_result"
    }
   ],
   "source": [
    "sparse_docs"
   ]
  },
  {
   "cell_type": "markdown",
   "metadata": {},
   "source": [
    "### Result\n",
    "\n",
    "The goal here is to verify if following context is present in any of the retrieved documents.\n",
    "\n",
    "```txt\n",
    "In this chapter, many programs were developed using the NUCLEO board, provided with the STM32F429ZIT6U microcontroller. This microcontroller is manufactured by STMicroelectronics [13] using a Cortex-M4 processor designed by Arm Ltd. [14].\n",
    "```\n",
    "\n",
    "If it is present then our retrieval approach was able to find the correct document from the vector store.\n",
    "\n",
    "> **It is present in the second row of Retrieved text.**"
   ]
  },
  {
   "cell_type": "code",
   "execution_count": 22,
   "metadata": {},
   "outputs": [
    {
     "data": {
      "text/html": [
       "<div>\n",
       "<style scoped>\n",
       "    .dataframe tbody tr th:only-of-type {\n",
       "        vertical-align: middle;\n",
       "    }\n",
       "\n",
       "    .dataframe tbody tr th {\n",
       "        vertical-align: top;\n",
       "    }\n",
       "\n",
       "    .dataframe thead th {\n",
       "        text-align: right;\n",
       "    }\n",
       "</style>\n",
       "<table border=\"1\" class=\"dataframe\">\n",
       "  <thead>\n",
       "    <tr style=\"text-align: right;\">\n",
       "      <th></th>\n",
       "      <th>Retrieved text</th>\n",
       "      <th>score</th>\n",
       "    </tr>\n",
       "  </thead>\n",
       "  <tbody>\n",
       "    <tr>\n",
       "      <th>0</th>\n",
       "      <td>Chapter 1 | Introduction to Embedded Systems \\n33Proposed Exercise\\n1. How can the code be changed in such a way that the system is blocked after three incorrect codes \\nare entered?\\nAnswer to the Exercise\\n1. It can be achieved by means of the change in T able 1.11.\\nT able 1.11 Proposed modification in the code in order to achieve the new behavior.\\nLine in Code 1.5 New code to be used\\n40 if ( numberOfIncorrectCodes &lt; 5 ) 40 if ( numberOfIncorrectCodes &lt; 3 )\\n1.3 Under the Hood\\n1.3.1 Brief Introduction to the Cortex-M Processor  Family and the NUCLEO Board\\nIn this chapter, many programs were developed using the NUCLEO board, provided with the \\nSTM32F429ZIT6U microcontroller . This microcontroller is manufactured by STMicroelectronics [13]</td>\n",
       "      <td>20.155828</td>\n",
       "    </tr>\n",
       "    <tr>\n",
       "      <th>1</th>\n",
       "      <td>38\\nA Beginner’s Guide to Designing Embedded System ApplicationsFigure 1.23 shows how different elements of the STM32F429ZIT6U microcontroller  are mapped \\nto the Zio and Arduino-compatible headers of the NUCLEO-F429ZI board. Some other elements \\nare mapped to the CN11 and CN12 headers of the NUCLEO-F429ZI board, as will be discussed in upcoming chapters. Further information on these headers is available from [17].\\nIn this chapter, buttons were connected to the NUCLEO board using pins D2 to D7. From Figure 1.23, \\nit can be seen that those digital inputs can also be referred to as PF_15, PE_13, P_14, PE_11, PE_9, and PF_13, respectively. Throughout this book, many pins of the ST Zio connectors will be used, and they will be referred to in the code using the names shown in Figure 1.23.</td>\n",
       "      <td>17.964592</td>\n",
       "    </tr>\n",
       "    <tr>\n",
       "      <th>2</th>\n",
       "      <td>This section will begin the implementation of the smart home system, following the diagram shown in Figure 1.3. This first implementation will detect fire using an over temperature detector and a gas detector and, if it detects fire, it will activate the alarm until a given code is entered.  For this purpose, the NUCLEO board [1] provided with the STM32F429ZIT6U microcontroller [9] (referred to as the STM32 microcontroller ) is used.</td>\n",
       "      <td>16.524555</td>\n",
       "    </tr>\n",
       "    <tr>\n",
       "      <th>3</th>\n",
       "      <td>Chapter 1 | Introduction to Embedded Systems \\n37The STM32F429ZIT6U microcontroller includes a Cortex-M4 processor , as shown in Figure 1.22. It \\ncan be appreciated that, beyond the processor, the microcontroller includes other peripherals such as \\ncommunication cores (ethernet, USB, UART, etc.), memory, timers, and GPIO (General Purpose Input Output) ports. \\nNUCLEO\\n-F429ZI32F429ZIT6U\\nARM7B776 VQ\\nPHL 7B 7213e412000K620 Y12000\\nK620 Y\\n120 00K620 YDGKYD\\nKMS-1 102NL1706C\\nSTM32F103CBT6\\ne393701GH218CHN\\nST890C\\nGK717\\n11\\n22\\n33\\n44\\n55\\n66\\n77\\n88\\n9\\n10\\n11\\n12\\n13\\n14\\n15PH_0\\nPD_0\\nPD_1\\nPG_0PH_1PF_2PA_7PF_10PF_5PF_3PC_3PC_030\\n29\\n28\\n27\\n2616\\n2515\\n2414\\n2313\\n2212\\n2111\\n2010\\n199\\n18\\n17\\n165V\\nVIN3.3VIOREF\\nGND\\nGNDGND\\nNCNC\\nUART2_RX\\nCAN1_TDCAN1_ DRADC1/7ADC1/3\\nADC1/1...</td>\n",
       "      <td>14.147621</td>\n",
       "    </tr>\n",
       "    <tr>\n",
       "      <th>4</th>\n",
       "      <td>Index\\n567 STM 32F429 ZIT 6U microcontroller 5, 33, 37, 38 \\n stop bit 46, 64, 65, 80, 256 , 257 , 273 , 468  \\n ST Zio connectors xiv, 6, 9, 37, 38, 44, 346  \\n superloop 13, 519  \\n synchronous communication 255\\nT TCP server 456 , 457 , 459 , 460 –463 , 491  \\n temperature sensor 4, 5, 87, 106 , 123 , 182 , 220 , 233 , 334 , 486 , 550  \\n time management xvi, 86, 95, 99, 289 , 342 , 348 , 353  \\n timers xvi, xxvii, 37, 306 , 342 , 343 , 345 , 348 –350 , 353 , 354 , \\n 361 , 441 , 512 –517 , 533 , 535 , 537 , 538 , 539  \\n tm structure 153  \\n TO- 220  package 89\\nU UART xvi, xvii, 5, 44, 61, 63, 79, 82, 84, 86, 181 , 191 , 222 , 255 , 290 , 291 , \\n 306 , 350 , 420 , 423 , 447 , 455 , 461 , 465 , 468 , 544  \\n USB xiv, xxvii, 4, 9, 37, 44, 45, 63, 79, 82, 88, 132 , 449 , 506 , 507 ,...</td>\n",
       "      <td>12.547963</td>\n",
       "    </tr>\n",
       "  </tbody>\n",
       "</table>\n",
       "</div>"
      ],
      "text/plain": [
       "                                                                                                                                                                                                                                                                                                                                                                                                                                                                                                                                                                                                                                                                                                                                                                                                                    Retrieved text  \\\n",
       "0                                              Chapter 1 | Introduction to Embedded Systems \\n33Proposed Exercise\\n1. How can the code be changed in such a way that the system is blocked after three incorrect codes \\nare entered?\\nAnswer to the Exercise\\n1. It can be achieved by means of the change in T able 1.11.\\nT able 1.11 Proposed modification in the code in order to achieve the new behavior.\\nLine in Code 1.5 New code to be used\\n40 if ( numberOfIncorrectCodes < 5 ) 40 if ( numberOfIncorrectCodes < 3 )\\n1.3 Under the Hood\\n1.3.1 Brief Introduction to the Cortex-M Processor  Family and the NUCLEO Board\\nIn this chapter, many programs were developed using the NUCLEO board, provided with the \\nSTM32F429ZIT6U microcontroller . This microcontroller is manufactured by STMicroelectronics [13]   \n",
       "1   38\\nA Beginner’s Guide to Designing Embedded System ApplicationsFigure 1.23 shows how different elements of the STM32F429ZIT6U microcontroller  are mapped \\nto the Zio and Arduino-compatible headers of the NUCLEO-F429ZI board. Some other elements \\nare mapped to the CN11 and CN12 headers of the NUCLEO-F429ZI board, as will be discussed in upcoming chapters. Further information on these headers is available from [17].\\nIn this chapter, buttons were connected to the NUCLEO board using pins D2 to D7. From Figure 1.23, \\nit can be seen that those digital inputs can also be referred to as PF_15, PE_13, P_14, PE_11, PE_9, and PF_13, respectively. Throughout this book, many pins of the ST Zio connectors will be used, and they will be referred to in the code using the names shown in Figure 1.23.   \n",
       "2                                                                                                                                                                                                                                                                                                                                                                            This section will begin the implementation of the smart home system, following the diagram shown in Figure 1.3. This first implementation will detect fire using an over temperature detector and a gas detector and, if it detects fire, it will activate the alarm until a given code is entered.  For this purpose, the NUCLEO board [1] provided with the STM32F429ZIT6U microcontroller [9] (referred to as the STM32 microcontroller ) is used.   \n",
       "3  Chapter 1 | Introduction to Embedded Systems \\n37The STM32F429ZIT6U microcontroller includes a Cortex-M4 processor , as shown in Figure 1.22. It \\ncan be appreciated that, beyond the processor, the microcontroller includes other peripherals such as \\ncommunication cores (ethernet, USB, UART, etc.), memory, timers, and GPIO (General Purpose Input Output) ports. \\nNUCLEO\\n-F429ZI32F429ZIT6U\\nARM7B776 VQ\\nPHL 7B 7213e412000K620 Y12000\\nK620 Y\\n120 00K620 YDGKYD\\nKMS-1 102NL1706C\\nSTM32F103CBT6\\ne393701GH218CHN\\nST890C\\nGK717\\n11\\n22\\n33\\n44\\n55\\n66\\n77\\n88\\n9\\n10\\n11\\n12\\n13\\n14\\n15PH_0\\nPD_0\\nPD_1\\nPG_0PH_1PF_2PA_7PF_10PF_5PF_3PC_3PC_030\\n29\\n28\\n27\\n2616\\n2515\\n2414\\n2313\\n2212\\n2111\\n2010\\n199\\n18\\n17\\n165V\\nVIN3.3VIOREF\\nGND\\nGNDGND\\nNCNC\\nUART2_RX\\nCAN1_TDCAN1_ DRADC1/7ADC1/3\\nADC1/1...   \n",
       "4  Index\\n567 STM 32F429 ZIT 6U microcontroller 5, 33, 37, 38 \\n stop bit 46, 64, 65, 80, 256 , 257 , 273 , 468  \\n ST Zio connectors xiv, 6, 9, 37, 38, 44, 346  \\n superloop 13, 519  \\n synchronous communication 255\\nT TCP server 456 , 457 , 459 , 460 –463 , 491  \\n temperature sensor 4, 5, 87, 106 , 123 , 182 , 220 , 233 , 334 , 486 , 550  \\n time management xvi, 86, 95, 99, 289 , 342 , 348 , 353  \\n timers xvi, xxvii, 37, 306 , 342 , 343 , 345 , 348 –350 , 353 , 354 , \\n 361 , 441 , 512 –517 , 533 , 535 , 537 , 538 , 539  \\n tm structure 153  \\n TO- 220  package 89\\nU UART xvi, xvii, 5, 44, 61, 63, 79, 82, 84, 86, 181 , 191 , 222 , 255 , 290 , 291 , \\n 306 , 350 , 420 , 423 , 447 , 455 , 461 , 465 , 468 , 544  \\n USB xiv, xxvii, 4, 9, 37, 44, 45, 63, 79, 82, 88, 132 , 449 , 506 , 507 ,...   \n",
       "\n",
       "       score  \n",
       "0  20.155828  \n",
       "1  17.964592  \n",
       "2  16.524555  \n",
       "3  14.147621  \n",
       "4  12.547963  "
      ]
     },
     "metadata": {},
     "output_type": "display_data"
    }
   ],
   "source": [
    "df = pd.DataFrame(sparse_docs, columns=['Retrieved text', 'score'])\n",
    "display(df)"
   ]
  },
  {
   "cell_type": "markdown",
   "metadata": {
    "jp-MarkdownHeadingCollapsed": true
   },
   "source": [
    "# Full Text Search\n",
    "\n",
    "We use BM25 model to perform a full text search retrieval for us. It creates a list of token for given input identifying important terms in the input.\n",
    "\n",
    "> Best Matching 25 (BM25) is a text-matching algorithm that can be viewed as an enhancement of the Term Frequency-Inverse Document Frequency (TF-IDF) algorithm. TF-IDF is an information retrieval algorithm that measures the importance of a keyword within a document relative to a collection of documents. [Source](https://zilliz.com/learn/comparing-splade-sparse-vectors-with-bm25)\n",
    "\n"
   ]
  },
  {
   "cell_type": "code",
   "execution_count": 24,
   "metadata": {},
   "outputs": [
    {
     "name": "stdout",
     "output_type": "stream",
     "text": [
      "CPU times: user 49.3 ms, sys: 19 μs, total: 49.3 ms\n",
      "Wall time: 48.6 ms\n"
     ]
    }
   ],
   "source": [
    "%%time\n",
    "\n",
    "# Get the tokens for the query as sparse array\n",
    "query_embed = bm25_model.query_embed(QUERY)\n",
    "# Convert sparse array to list\n",
    "full_text_query_embed = [q for q in query_embed][0]\n",
    "\n",
    "# Get the TOP_K closest documents to the query\n",
    "result_docs = qdrant_client.full_text_search(\n",
    "    collection_name=COLLECTION_NAME,\n",
    "    query_full_text_embedding=full_text_query_embed,\n",
    "    top_k=TOP_K,\n",
    ")"
   ]
  },
  {
   "cell_type": "code",
   "execution_count": 25,
   "metadata": {},
   "outputs": [],
   "source": [
    "full_text_docs = [(res.payload['text'], res.score) for res in result_docs]"
   ]
  },
  {
   "cell_type": "code",
   "execution_count": 26,
   "metadata": {},
   "outputs": [
    {
     "data": {
      "text/plain": [
       "[('Chapter 1 | Introduction to Embedded Systems \\n33Proposed Exercise\\n1. How can the code be changed in such a way that the system is blocked after three incorrect codes \\nare entered?\\nAnswer to the Exercise\\n1. It can be achieved by means of the change in T able\\xa01.11.\\nT able\\xa01.11 Proposed modification in the code in order to achieve the new behavior.\\nLine in Code\\xa01.5 New code to be used\\n40 if ( numberOfIncorrectCodes < 5 ) 40 if ( numberOfIncorrectCodes < 3 )\\n1.3 Under the Hood\\n1.3.1 Brief Introduction to the Cortex-M Processor  Family and the NUCLEO Board\\nIn this chapter, many programs were developed using the NUCLEO board, provided with the \\nSTM32F429ZIT6U microcontroller . This microcontroller is manufactured by STMicroelectronics [13]',\n",
       "  4.512887001037598),\n",
       " ('This section will begin the implementation of the smart home system, following the diagram shown in Figure\\xa01.3. This first implementation will detect fire using an over temperature detector and a gas detector and, if it detects fire, it will activate the alarm until a given code is entered.  For this purpose, the NUCLEO board [1] provided with the STM32F429ZIT6U microcontroller [9] (referred to as the STM32 microcontroller ) is used.',\n",
       "  3.317335844039917),\n",
       " ('WaRNINg: Keil Studio Cloud translates the C/C++ language code into assembly code while considering the available resources of the target board. For this reason, the reader should be very careful to use only pin names that are shown in Figure\\xa01.23.\\nFrom the above discussion, it is possible to derive the hierarchy that is represented in Figure\\xa01.24. It should be noted that a given Arm processor can be used by different microcontroller manufacturers, and a given microcontroller can be used in different development boards or embedded systems. \\nFigure\\xa01.24 Hierarchy of different elements introduced in this chapter.\\nNOTE:  A microcontroller may have one or many processors, while a processor may have one or many cores. A microprocessor consists of the processor, named in this context as the Central Processing Unit (CPU), and uses an external bus to interface with memory and peripherals.\\nProposed Exercise',\n",
       "  3.2003371715545654),\n",
       " ('Chapter 1 | Introduction to Embedded Systems \\n37The STM32F429ZIT6U microcontroller includes a Cortex-M4 processor , as shown in Figure\\xa01.22. It \\ncan be appreciated that, beyond the processor, the microcontroller includes other peripherals such as \\ncommunication cores (ethernet, USB, UART, etc.), memory, timers, and GPIO (General Purpose Input Output) ports. \\nNUCLEO\\n-F429ZI32F429ZIT6U\\nARM7B776 VQ\\nPHL 7B 7213e412000K620 Y12000\\nK620 Y\\n120 00K620 YDGKYD\\nKMS-1 102NL1706C\\nSTM32F103CBT6\\ne393701GH218CHN\\nST890C\\nGK717\\n11\\n22\\n33\\n44\\n55\\n66\\n77\\n88\\n9\\n10\\n11\\n12\\n13\\n14\\n15PH_0\\nPD_0\\nPD_1\\nPG_0PH_1PF_2PA_7PF_10PF_5PF_3PC_3PC_030\\n29\\n28\\n27\\n2616\\n2515\\n2414\\n2313\\n2212\\n2111\\n2010\\n199\\n18\\n17\\n165V\\nVIN3.3VIOREF\\nGND\\nGNDGND\\nNCNC\\nUART2_RX\\nCAN1_TDCAN1_ DRADC1/7ADC1/3\\nADC1/10\\nADC1/13\\nADC3/9\\nADC3/15\\nADC3/8\\nADC3/5NRSTPC_8\\nPC_9\\nPC_10\\nPC_11\\nPC_12\\nPD_2\\nPG_2\\nPG_3\\nGNDPD_7\\nPD_6\\nPD_5\\nPD_4\\nPD_3\\nPE_2\\nPE_4\\nPE_3\\nPF_7\\nPG_1UART2_RX\\nUART2_ XT\\nUART_X7TUART2_RTS\\nUART2_CTSUART3_TX\\nUART3_RX\\nUART5_TX\\nUART5_RX\\nPA_3\\nSPI1_MOSISPI3_SCK\\nSPI2_SCK',\n",
       "  2.8663156032562256),\n",
       " ('38\\nA Beginner’s Guide to Designing Embedded System ApplicationsFigure\\xa01.23 shows how different elements of the STM32F429ZIT6U microcontroller  are mapped \\nto the Zio and Arduino-compatible headers of the NUCLEO-F429ZI board. Some other elements \\nare mapped to the CN11 and CN12 headers of the NUCLEO-F429ZI board, as will be discussed in upcoming chapters. Further information on these headers is available from [17].\\nIn this chapter, buttons were connected to the NUCLEO board using pins D2 to D7. From Figure\\xa01.23, \\nit can be seen that those digital inputs can also be referred to as PF_15, PE_13, P_14, PE_11, PE_9, and PF_13, respectively. Throughout this book, many pins of the ST Zio connectors will be used, and they will be referred to in the code using the names shown in Figure\\xa01.23.',\n",
       "  2.801293134689331)]"
      ]
     },
     "execution_count": 26,
     "metadata": {},
     "output_type": "execute_result"
    }
   ],
   "source": [
    "full_text_docs"
   ]
  },
  {
   "cell_type": "markdown",
   "metadata": {},
   "source": [
    "### Result\n",
    "\n",
    "The goal here is to verify if following context is present in any of the retrieved documents.\n",
    "\n",
    "```\n",
    "In this chapter, many programs were developed using the NUCLEO board, provided with the STM32F429ZIT6U microcontroller. This microcontroller is manufactured by STMicroelectronics [13] using a Cortex-M4 processor designed by Arm Ltd. [14].\n",
    "```\n",
    "\n",
    "If it is present then our retrieval approach was able to find the correct document from the vector store.\n",
    "\n",
    "> **It is present in the first row of Retrieved text.**"
   ]
  },
  {
   "cell_type": "code",
   "execution_count": 27,
   "metadata": {},
   "outputs": [
    {
     "data": {
      "text/html": [
       "<div>\n",
       "<style scoped>\n",
       "    .dataframe tbody tr th:only-of-type {\n",
       "        vertical-align: middle;\n",
       "    }\n",
       "\n",
       "    .dataframe tbody tr th {\n",
       "        vertical-align: top;\n",
       "    }\n",
       "\n",
       "    .dataframe thead th {\n",
       "        text-align: right;\n",
       "    }\n",
       "</style>\n",
       "<table border=\"1\" class=\"dataframe\">\n",
       "  <thead>\n",
       "    <tr style=\"text-align: right;\">\n",
       "      <th></th>\n",
       "      <th>Retrieved text</th>\n",
       "      <th>score</th>\n",
       "    </tr>\n",
       "  </thead>\n",
       "  <tbody>\n",
       "    <tr>\n",
       "      <th>0</th>\n",
       "      <td>Chapter 1 | Introduction to Embedded Systems \\n33Proposed Exercise\\n1. How can the code be changed in such a way that the system is blocked after three incorrect codes \\nare entered?\\nAnswer to the Exercise\\n1. It can be achieved by means of the change in T able 1.11.\\nT able 1.11 Proposed modification in the code in order to achieve the new behavior.\\nLine in Code 1.5 New code to be used\\n40 if ( numberOfIncorrectCodes &lt; 5 ) 40 if ( numberOfIncorrectCodes &lt; 3 )\\n1.3 Under the Hood\\n1.3.1 Brief Introduction to the Cortex-M Processor  Family and the NUCLEO Board\\nIn this chapter, many programs were developed using the NUCLEO board, provided with the \\nSTM32F429ZIT6U microcontroller . This microcontroller is manufactured by STMicroelectronics [13]</td>\n",
       "      <td>4.512887</td>\n",
       "    </tr>\n",
       "    <tr>\n",
       "      <th>1</th>\n",
       "      <td>This section will begin the implementation of the smart home system, following the diagram shown in Figure 1.3. This first implementation will detect fire using an over temperature detector and a gas detector and, if it detects fire, it will activate the alarm until a given code is entered.  For this purpose, the NUCLEO board [1] provided with the STM32F429ZIT6U microcontroller [9] (referred to as the STM32 microcontroller ) is used.</td>\n",
       "      <td>3.317336</td>\n",
       "    </tr>\n",
       "    <tr>\n",
       "      <th>2</th>\n",
       "      <td>WaRNINg: Keil Studio Cloud translates the C/C++ language code into assembly code while considering the available resources of the target board. For this reason, the reader should be very careful to use only pin names that are shown in Figure 1.23.\\nFrom the above discussion, it is possible to derive the hierarchy that is represented in Figure 1.24. It should be noted that a given Arm processor can be used by different microcontroller manufacturers, and a given microcontroller can be used in different development boards or embedded systems. \\nFigure 1.24 Hierarchy of different elements introduced in this chapter.\\nNOTE:  A microcontroller may have one or many processors, while a processor may have one or many cores. A microprocessor consists of the processor, named in this context as th...</td>\n",
       "      <td>3.200337</td>\n",
       "    </tr>\n",
       "    <tr>\n",
       "      <th>3</th>\n",
       "      <td>Chapter 1 | Introduction to Embedded Systems \\n37The STM32F429ZIT6U microcontroller includes a Cortex-M4 processor , as shown in Figure 1.22. It \\ncan be appreciated that, beyond the processor, the microcontroller includes other peripherals such as \\ncommunication cores (ethernet, USB, UART, etc.), memory, timers, and GPIO (General Purpose Input Output) ports. \\nNUCLEO\\n-F429ZI32F429ZIT6U\\nARM7B776 VQ\\nPHL 7B 7213e412000K620 Y12000\\nK620 Y\\n120 00K620 YDGKYD\\nKMS-1 102NL1706C\\nSTM32F103CBT6\\ne393701GH218CHN\\nST890C\\nGK717\\n11\\n22\\n33\\n44\\n55\\n66\\n77\\n88\\n9\\n10\\n11\\n12\\n13\\n14\\n15PH_0\\nPD_0\\nPD_1\\nPG_0PH_1PF_2PA_7PF_10PF_5PF_3PC_3PC_030\\n29\\n28\\n27\\n2616\\n2515\\n2414\\n2313\\n2212\\n2111\\n2010\\n199\\n18\\n17\\n165V\\nVIN3.3VIOREF\\nGND\\nGNDGND\\nNCNC\\nUART2_RX\\nCAN1_TDCAN1_ DRADC1/7ADC1/3\\nADC1/1...</td>\n",
       "      <td>2.866316</td>\n",
       "    </tr>\n",
       "    <tr>\n",
       "      <th>4</th>\n",
       "      <td>38\\nA Beginner’s Guide to Designing Embedded System ApplicationsFigure 1.23 shows how different elements of the STM32F429ZIT6U microcontroller  are mapped \\nto the Zio and Arduino-compatible headers of the NUCLEO-F429ZI board. Some other elements \\nare mapped to the CN11 and CN12 headers of the NUCLEO-F429ZI board, as will be discussed in upcoming chapters. Further information on these headers is available from [17].\\nIn this chapter, buttons were connected to the NUCLEO board using pins D2 to D7. From Figure 1.23, \\nit can be seen that those digital inputs can also be referred to as PF_15, PE_13, P_14, PE_11, PE_9, and PF_13, respectively. Throughout this book, many pins of the ST Zio connectors will be used, and they will be referred to in the code using the names shown in Figure 1.23.</td>\n",
       "      <td>2.801293</td>\n",
       "    </tr>\n",
       "  </tbody>\n",
       "</table>\n",
       "</div>"
      ],
      "text/plain": [
       "                                                                                                                                                                                                                                                                                                                                                                                                                                                                                                                                                                                                                                                                                                                                                                                                                    Retrieved text  \\\n",
       "0                                              Chapter 1 | Introduction to Embedded Systems \\n33Proposed Exercise\\n1. How can the code be changed in such a way that the system is blocked after three incorrect codes \\nare entered?\\nAnswer to the Exercise\\n1. It can be achieved by means of the change in T able 1.11.\\nT able 1.11 Proposed modification in the code in order to achieve the new behavior.\\nLine in Code 1.5 New code to be used\\n40 if ( numberOfIncorrectCodes < 5 ) 40 if ( numberOfIncorrectCodes < 3 )\\n1.3 Under the Hood\\n1.3.1 Brief Introduction to the Cortex-M Processor  Family and the NUCLEO Board\\nIn this chapter, many programs were developed using the NUCLEO board, provided with the \\nSTM32F429ZIT6U microcontroller . This microcontroller is manufactured by STMicroelectronics [13]   \n",
       "1                                                                                                                                                                                                                                                                                                                                                                            This section will begin the implementation of the smart home system, following the diagram shown in Figure 1.3. This first implementation will detect fire using an over temperature detector and a gas detector and, if it detects fire, it will activate the alarm until a given code is entered.  For this purpose, the NUCLEO board [1] provided with the STM32F429ZIT6U microcontroller [9] (referred to as the STM32 microcontroller ) is used.   \n",
       "2  WaRNINg: Keil Studio Cloud translates the C/C++ language code into assembly code while considering the available resources of the target board. For this reason, the reader should be very careful to use only pin names that are shown in Figure 1.23.\\nFrom the above discussion, it is possible to derive the hierarchy that is represented in Figure 1.24. It should be noted that a given Arm processor can be used by different microcontroller manufacturers, and a given microcontroller can be used in different development boards or embedded systems. \\nFigure 1.24 Hierarchy of different elements introduced in this chapter.\\nNOTE:  A microcontroller may have one or many processors, while a processor may have one or many cores. A microprocessor consists of the processor, named in this context as th...   \n",
       "3  Chapter 1 | Introduction to Embedded Systems \\n37The STM32F429ZIT6U microcontroller includes a Cortex-M4 processor , as shown in Figure 1.22. It \\ncan be appreciated that, beyond the processor, the microcontroller includes other peripherals such as \\ncommunication cores (ethernet, USB, UART, etc.), memory, timers, and GPIO (General Purpose Input Output) ports. \\nNUCLEO\\n-F429ZI32F429ZIT6U\\nARM7B776 VQ\\nPHL 7B 7213e412000K620 Y12000\\nK620 Y\\n120 00K620 YDGKYD\\nKMS-1 102NL1706C\\nSTM32F103CBT6\\ne393701GH218CHN\\nST890C\\nGK717\\n11\\n22\\n33\\n44\\n55\\n66\\n77\\n88\\n9\\n10\\n11\\n12\\n13\\n14\\n15PH_0\\nPD_0\\nPD_1\\nPG_0PH_1PF_2PA_7PF_10PF_5PF_3PC_3PC_030\\n29\\n28\\n27\\n2616\\n2515\\n2414\\n2313\\n2212\\n2111\\n2010\\n199\\n18\\n17\\n165V\\nVIN3.3VIOREF\\nGND\\nGNDGND\\nNCNC\\nUART2_RX\\nCAN1_TDCAN1_ DRADC1/7ADC1/3\\nADC1/1...   \n",
       "4   38\\nA Beginner’s Guide to Designing Embedded System ApplicationsFigure 1.23 shows how different elements of the STM32F429ZIT6U microcontroller  are mapped \\nto the Zio and Arduino-compatible headers of the NUCLEO-F429ZI board. Some other elements \\nare mapped to the CN11 and CN12 headers of the NUCLEO-F429ZI board, as will be discussed in upcoming chapters. Further information on these headers is available from [17].\\nIn this chapter, buttons were connected to the NUCLEO board using pins D2 to D7. From Figure 1.23, \\nit can be seen that those digital inputs can also be referred to as PF_15, PE_13, P_14, PE_11, PE_9, and PF_13, respectively. Throughout this book, many pins of the ST Zio connectors will be used, and they will be referred to in the code using the names shown in Figure 1.23.   \n",
       "\n",
       "      score  \n",
       "0  4.512887  \n",
       "1  3.317336  \n",
       "2  3.200337  \n",
       "3  2.866316  \n",
       "4  2.801293  "
      ]
     },
     "metadata": {},
     "output_type": "display_data"
    }
   ],
   "source": [
    "df = pd.DataFrame(full_text_docs, columns=['Retrieved text', 'score'])\n",
    "display(df)"
   ]
  },
  {
   "cell_type": "markdown",
   "metadata": {},
   "source": [
    "### Behind the scenes\n",
    "\n",
    "Let us look at what is happening underneath.\n",
    "\n",
    "Converting the input `QUERY` into list of tokens, it splits the query into 4 tokens.\n",
    "\n",
    "```\n",
    "Who manufactured STM32F429ZIT6U microcontroller?\n",
    "```\n",
    "\n",
    "```\n",
    "['Who', 'manufactur', 'STM32F429ZIT6U', 'microcontrol']\n",
    "```"
   ]
  },
  {
   "cell_type": "code",
   "execution_count": 28,
   "metadata": {},
   "outputs": [
    {
     "name": "stdout",
     "output_type": "stream",
     "text": [
      "Query: Who manufactured STM32F429ZIT6U microcontroller?\n",
      "Query tokens: ['Who', 'manufactur', 'STM32F429ZIT6U', 'microcontrol']\n",
      "Length of query tokens: 4\n"
     ]
    }
   ],
   "source": [
    "# Get the list of tokens from query\n",
    "tokens = bm25_model.tokenizer.tokenize(QUERY)\n",
    "query_tokens = bm25_model._stem(tokens)\n",
    "print(f\"Query: {QUERY}\")\n",
    "print(f\"Query tokens: {query_tokens}\")\n",
    "print(f\"Length of query tokens: {len(query_tokens)}\")"
   ]
  },
  {
   "cell_type": "code",
   "execution_count": 29,
   "metadata": {},
   "outputs": [
    {
     "name": "stdout",
     "output_type": "stream",
     "text": [
      "Chapter 1 | Introduction to Embedded Systems \n",
      "33Proposed Exercise\n",
      "1. How can the code be changed in such a way that the system is blocked after three incorrect codes \n",
      "are entered?\n",
      "Answer to the Exercise\n",
      "1. It can be achieved by means of the change in T able 1.11.\n",
      "T able 1.11 Proposed modification in the code in order to achieve the new behavior.\n",
      "Line in Code 1.5 New code to be used\n",
      "40 if ( numberOfIncorrectCodes < 5 ) 40 if ( numberOfIncorrectCodes < 3 )\n",
      "1.3 Under the Hood\n",
      "1.3.1 Brief Introduction to the Cortex-M Processor  Family and the NUCLEO Board\n",
      "In this chapter, many programs were developed using the NUCLEO board, provided with the \n",
      "STM32F429ZIT6U microcontroller . This microcontroller is manufactured by STMicroelectronics [13]\n",
      "['Chapter', '1', 'Introduct', 'Embed', 'System', '33Propos', 'Exercis', '1.', 'How', 'code', 'chang', 'way', 'system', 'block', 'three', 'incorrect', 'code', 'enter', 'Answer', 'Exercis', '1.', 'It', 'achiev', 'mean', 'chang', 'T', 'abl', '1.11.', 'T', 'abl', '1.11', 'Propos', 'modif', 'code', 'order', 'achiev', 'new', 'behavior.', 'Line', 'Code', '1.5', 'New', 'code', 'use', '40', 'numberOfIncorrectCod', '5', '40', 'numberOfIncorrectCod', '3', '1.3', 'Under', 'Hood', '1.3.1', 'Brief', 'Introduct', 'Cortex-M', 'Processor', 'Famili', 'NUCLEO', 'Board', 'In', 'chapter', 'mani', 'program', 'develop', 'use', 'NUCLEO', 'board', 'provid', 'STM32F429ZIT6U', 'microcontrol', 'This', 'microcontrol', 'manufactur', 'STMicroelectron', '13']\n",
      "Common tokens: {'microcontrol', 'manufactur', 'STM32F429ZIT6U'}\n",
      "Number of matching tokens: 3\n",
      "================================================================================\n",
      "This section will begin the implementation of the smart home system, following the diagram shown in Figure 1.3. This first implementation will detect fire using an over temperature detector and a gas detector and, if it detects fire, it will activate the alarm until a given code is entered.  For this purpose, the NUCLEO board [1] provided with the STM32F429ZIT6U microcontroller [9] (referred to as the STM32 microcontroller ) is used.\n",
      "['This', 'section', 'begin', 'implement', 'smart', 'home', 'system', 'follow', 'diagram', 'shown', 'Figur', '1.3.', 'This', 'first', 'implement', 'detect', 'fire', 'use', 'temperatur', 'detector', 'gas', 'detector', 'detect', 'fire', 'activ', 'alarm', 'given', 'code', 'entered.', 'For', 'purpos', 'NUCLEO', 'board', '1', 'provid', 'STM32F429ZIT6U', 'microcontrol', '9', 'refer', 'STM32', 'microcontrol', 'use']\n",
      "Common tokens: {'microcontrol', 'STM32F429ZIT6U'}\n",
      "Number of matching tokens: 2\n",
      "================================================================================\n",
      "WaRNINg: Keil Studio Cloud translates the C/C++ language code into assembly code while considering the available resources of the target board. For this reason, the reader should be very careful to use only pin names that are shown in Figure 1.23.\n",
      "From the above discussion, it is possible to derive the hierarchy that is represented in Figure 1.24. It should be noted that a given Arm processor can be used by different microcontroller manufacturers, and a given microcontroller can be used in different development boards or embedded systems. \n",
      "Figure 1.24 Hierarchy of different elements introduced in this chapter.\n",
      "NOTE:  A microcontroller may have one or many processors, while a processor may have one or many cores. A microprocessor consists of the processor, named in this context as the Central Processing Unit (CPU), and uses an external bus to interface with memory and peripherals.\n",
      "Proposed Exercise\n",
      "['WaRNINg', 'Keil', 'Studio', 'Cloud', 'translat', 'C/C++', 'languag', 'code', 'assembl', 'code', 'consid', 'avail', 'resourc', 'target', 'board.', 'For', 'reason', 'reader', 'care', 'use', 'pin', 'name', 'shown', 'Figur', '1.23.', 'From', 'discuss', 'possibl', 'deriv', 'hierarchi', 'repres', 'Figur', '1.24.', 'It', 'note', 'given', 'Arm', 'processor', 'use', 'differ', 'microcontrol', 'manufactur', 'given', 'microcontrol', 'use', 'differ', 'develop', 'board', 'embed', 'systems.', 'Figur', '1.24', 'Hierarchi', 'differ', 'element', 'introduc', 'chapter.', 'NOTE', 'A', 'microcontrol', 'may', 'one', 'mani', 'processor', 'processor', 'may', 'one', 'mani', 'cores.', 'A', 'microprocessor', 'consist', 'processor', 'name', 'context', 'Central', 'Process', 'Unit', 'CPU', 'use', 'extern', 'bus', 'interfac', 'memori', 'peripherals.', 'Propos', 'Exercis']\n",
      "Common tokens: {'microcontrol', 'manufactur'}\n",
      "Number of matching tokens: 2\n",
      "================================================================================\n",
      "Chapter 1 | Introduction to Embedded Systems \n",
      "37The STM32F429ZIT6U microcontroller includes a Cortex-M4 processor , as shown in Figure 1.22. It \n",
      "can be appreciated that, beyond the processor, the microcontroller includes other peripherals such as \n",
      "communication cores (ethernet, USB, UART, etc.), memory, timers, and GPIO (General Purpose Input Output) ports. \n",
      "NUCLEO\n",
      "-F429ZI32F429ZIT6U\n",
      "ARM7B776 VQ\n",
      "PHL 7B 7213e412000K620 Y12000\n",
      "K620 Y\n",
      "120 00K620 YDGKYD\n",
      "KMS-1 102NL1706C\n",
      "STM32F103CBT6\n",
      "e393701GH218CHN\n",
      "ST890C\n",
      "GK717\n",
      "11\n",
      "22\n",
      "33\n",
      "44\n",
      "55\n",
      "66\n",
      "77\n",
      "88\n",
      "9\n",
      "10\n",
      "11\n",
      "12\n",
      "13\n",
      "14\n",
      "15PH_0\n",
      "PD_0\n",
      "PD_1\n",
      "PG_0PH_1PF_2PA_7PF_10PF_5PF_3PC_3PC_030\n",
      "29\n",
      "28\n",
      "27\n",
      "2616\n",
      "2515\n",
      "2414\n",
      "2313\n",
      "2212\n",
      "2111\n",
      "2010\n",
      "199\n",
      "18\n",
      "17\n",
      "165V\n",
      "VIN3.3VIOREF\n",
      "GND\n",
      "GNDGND\n",
      "NCNC\n",
      "UART2_RX\n",
      "CAN1_TDCAN1_ DRADC1/7ADC1/3\n",
      "ADC1/10\n",
      "ADC1/13\n",
      "ADC3/9\n",
      "ADC3/15\n",
      "ADC3/8\n",
      "ADC3/5NRSTPC_8\n",
      "PC_9\n",
      "PC_10\n",
      "PC_11\n",
      "PC_12\n",
      "PD_2\n",
      "PG_2\n",
      "PG_3\n",
      "GNDPD_7\n",
      "PD_6\n",
      "PD_5\n",
      "PD_4\n",
      "PD_3\n",
      "PE_2\n",
      "PE_4\n",
      "PE_3\n",
      "PF_7\n",
      "PG_1UART2_RX\n",
      "UART2_ XT\n",
      "UART_X7TUART2_RTS\n",
      "UART2_CTSUART3_TX\n",
      "UART3_RX\n",
      "UART5_TX\n",
      "UART5_RX\n",
      "PA_3\n",
      "SPI1_MOSISPI3_SCK\n",
      "SPI2_SCK\n",
      "['Chapter', '1', 'Introduct', 'Embed', 'System', '37The', 'STM32F429ZIT6U', 'microcontrol', 'includ', 'Cortex-M4', 'processor', 'shown', 'Figur', '1.22.', 'It', 'appreci', 'beyond', 'processor', 'microcontrol', 'includ', 'peripher', 'communic', 'core', 'ethernet', 'USB', 'UART', 'etc.', 'memori', 'timer', 'GPIO', 'Gener', 'Purpos', 'Input', 'Output', 'ports.', 'NUCLEO', '-F429ZI32F429ZIT6U', 'ARM7B776', 'VQ', 'PHL', '7B', '7213e412000K620', 'Y12000', 'K620', 'Y', '120', '00K620', 'YDGKYD', 'KMS-1', '102NL1706C', 'STM32F103CBT6', 'e393701GH218CHN', 'ST890C', 'GK717', '11', '22', '33', '44', '55', '66', '77', '88', '9', '10', '11', '12', '13', '14', '15PH_0', 'PD_0', 'PD_1', 'PG_0PH_1PF_2PA_7PF_10PF_5PF_3PC_3PC_030', '29', '28', '27', '2616', '2515', '2414', '2313', '2212', '2111', '2010', '199', '18', '17', '165V', 'VIN3.3VIOREF', 'GND', 'GNDGND', 'NCNC', 'UART2_RX', 'CAN1_TDCAN1_', 'DRADC1/7ADC1/3', 'ADC1/10', 'ADC1/13', 'ADC3/9', 'ADC3/15', 'ADC3/8', 'ADC3/5NRSTPC_8', 'PC_9', 'PC_10', 'PC_11', 'PC_12', 'PD_2', 'PG_2', 'PG_3', 'GNDPD_7', 'PD_6', 'PD_5', 'PD_4', 'PD_3', 'PE_2', 'PE_4', 'PE_3', 'PF_7', 'PG_1UART2_RX', 'UART2_', 'XT', 'UART_X7TUART2_RTS', 'UART2_CTSUART3_TX', 'UART3_RX', 'UART5_TX', 'UART5_RX', 'PA_3', 'SPI1_MOSISPI3_SCK', 'SPI2_SCK']\n",
      "Common tokens: {'microcontrol', 'STM32F429ZIT6U'}\n",
      "Number of matching tokens: 2\n",
      "================================================================================\n",
      "38\n",
      "A Beginner’s Guide to Designing Embedded System ApplicationsFigure 1.23 shows how different elements of the STM32F429ZIT6U microcontroller  are mapped \n",
      "to the Zio and Arduino-compatible headers of the NUCLEO-F429ZI board. Some other elements \n",
      "are mapped to the CN11 and CN12 headers of the NUCLEO-F429ZI board, as will be discussed in upcoming chapters. Further information on these headers is available from [17].\n",
      "In this chapter, buttons were connected to the NUCLEO board using pins D2 to D7. From Figure 1.23, \n",
      "it can be seen that those digital inputs can also be referred to as PF_15, PE_13, P_14, PE_11, PE_9, and PF_13, respectively. Throughout this book, many pins of the ST Zio connectors will be used, and they will be referred to in the code using the names shown in Figure 1.23.\n",
      "['38', 'A', 'Beginn', '’', 'Guid', 'Design', 'Embed', 'System', 'ApplicationsFigur', '1.23', 'show', 'differ', 'element', 'STM32F429ZIT6U', 'microcontrol', 'map', 'Zio', 'Arduino-compat', 'header', 'NUCLEO-F429ZI', 'board.', 'Some', 'element', 'map', 'CN11', 'CN12', 'header', 'NUCLEO-F429ZI', 'board', 'discuss', 'upcom', 'chapters.', 'Further', 'inform', 'header', 'avail', '17', 'In', 'chapter', 'button', 'connect', 'NUCLEO', 'board', 'use', 'pin', 'D2', 'D7.', 'From', 'Figur', '1.23', 'seen', 'digit', 'input', 'also', 'refer', 'PF_15', 'PE_13', 'P_14', 'PE_11', 'PE_9', 'PF_13', 'respectively.', 'Throughout', 'book', 'mani', 'pin', 'ST', 'Zio', 'connector', 'use', 'refer', 'code', 'use', 'name', 'shown', 'Figur', '1.23']\n",
      "Common tokens: {'microcontrol', 'STM32F429ZIT6U'}\n",
      "Number of matching tokens: 2\n",
      "================================================================================\n"
     ]
    }
   ],
   "source": [
    "# Get tokens for TOP_K retrieved text\n",
    "# Find common tokens between retrieved text and the query\n",
    "for i in range(len(full_text_docs)):\n",
    "    input_sentence = full_text_docs[i][0]\n",
    "    tokens = bm25_model.tokenizer.tokenize(input_sentence)\n",
    "    input_tokens = bm25_model._stem(tokens)\n",
    "    common = set(query_tokens).intersection(set(input_tokens))\n",
    "    print(input_sentence)\n",
    "    print(input_tokens)\n",
    "    print(f\"Common tokens: {common}\")\n",
    "    print(f\"Number of matching tokens: {len(common)}\")\n",
    "    print(\"=\"*80)"
   ]
  },
  {
   "cell_type": "markdown",
   "metadata": {
    "jp-MarkdownHeadingCollapsed": true
   },
   "source": [
    "# Dense + Sparse\n",
    "\n",
    "Here we will look into aggregating the results from both dense and sparse approaach.\n",
    "\n",
    "There are multiple ways to collate the results from different approaches, we will experiment with 2 approaches.\n",
    "\n",
    "- **Reciprocal Rank Fusion (RRF)** : Reciprocal Rank Fusion (RRF) is a method used to combine results from different retrieval systems by leveraging the positions/rank of the documents. It uses a formula to aggregate the ranks from all different sources and provide the final rank from all the sources.\n",
    "\n",
    "- **Re-ranker** : We use re-ranker models which are cross encoder models to rank and score the retrieved documents based on how relevant they are to the input query."
   ]
  },
  {
   "cell_type": "markdown",
   "metadata": {
    "jp-MarkdownHeadingCollapsed": true
   },
   "source": [
    "### Reciprocal Rank Fusion"
   ]
  },
  {
   "cell_type": "code",
   "execution_count": 30,
   "metadata": {},
   "outputs": [],
   "source": [
    "combined_docs = []\n",
    "combined_docs.append(dense_docs)\n",
    "combined_docs.append(sparse_docs)"
   ]
  },
  {
   "cell_type": "code",
   "execution_count": 31,
   "metadata": {},
   "outputs": [],
   "source": [
    "dense_sparse_rrf_docs = rrf(combined_docs)[:TOP_K]"
   ]
  },
  {
   "cell_type": "code",
   "execution_count": 32,
   "metadata": {},
   "outputs": [
    {
     "data": {
      "text/html": [
       "<div>\n",
       "<style scoped>\n",
       "    .dataframe tbody tr th:only-of-type {\n",
       "        vertical-align: middle;\n",
       "    }\n",
       "\n",
       "    .dataframe tbody tr th {\n",
       "        vertical-align: top;\n",
       "    }\n",
       "\n",
       "    .dataframe thead th {\n",
       "        text-align: right;\n",
       "    }\n",
       "</style>\n",
       "<table border=\"1\" class=\"dataframe\">\n",
       "  <thead>\n",
       "    <tr style=\"text-align: right;\">\n",
       "      <th></th>\n",
       "      <th>Retrieved text</th>\n",
       "      <th>score</th>\n",
       "    </tr>\n",
       "  </thead>\n",
       "  <tbody>\n",
       "    <tr>\n",
       "      <th>0</th>\n",
       "      <td>38\\nA Beginner’s Guide to Designing Embedded System ApplicationsFigure 1.23 shows how different elements of the STM32F429ZIT6U microcontroller  are mapped \\nto the Zio and Arduino-compatible headers of the NUCLEO-F429ZI board. Some other elements \\nare mapped to the CN11 and CN12 headers of the NUCLEO-F429ZI board, as will be discussed in upcoming chapters. Further information on these headers is available from [17].\\nIn this chapter, buttons were connected to the NUCLEO board using pins D2 to D7. From Figure 1.23, \\nit can be seen that those digital inputs can also be referred to as PF_15, PE_13, P_14, PE_11, PE_9, and PF_13, respectively. Throughout this book, many pins of the ST Zio connectors will be used, and they will be referred to in the code using the names shown in Figure 1.23.</td>\n",
       "      <td>0.032787</td>\n",
       "    </tr>\n",
       "    <tr>\n",
       "      <th>1</th>\n",
       "      <td>Chapter 1 | Introduction to Embedded Systems \\n37The STM32F429ZIT6U microcontroller includes a Cortex-M4 processor , as shown in Figure 1.22. It \\ncan be appreciated that, beyond the processor, the microcontroller includes other peripherals such as \\ncommunication cores (ethernet, USB, UART, etc.), memory, timers, and GPIO (General Purpose Input Output) ports. \\nNUCLEO\\n-F429ZI32F429ZIT6U\\nARM7B776 VQ\\nPHL 7B 7213e412000K620 Y12000\\nK620 Y\\n120 00K620 YDGKYD\\nKMS-1 102NL1706C\\nSTM32F103CBT6\\ne393701GH218CHN\\nST890C\\nGK717\\n11\\n22\\n33\\n44\\n55\\n66\\n77\\n88\\n9\\n10\\n11\\n12\\n13\\n14\\n15PH_0\\nPD_0\\nPD_1\\nPG_0PH_1PF_2PA_7PF_10PF_5PF_3PC_3PC_030\\n29\\n28\\n27\\n2616\\n2515\\n2414\\n2313\\n2212\\n2111\\n2010\\n199\\n18\\n17\\n165V\\nVIN3.3VIOREF\\nGND\\nGNDGND\\nNCNC\\nUART2_RX\\nCAN1_TDCAN1_ DRADC1/7ADC1/3\\nADC1/1...</td>\n",
       "      <td>0.032540</td>\n",
       "    </tr>\n",
       "    <tr>\n",
       "      <th>2</th>\n",
       "      <td>Chapter 1 | Introduction to Embedded Systems \\n33Proposed Exercise\\n1. How can the code be changed in such a way that the system is blocked after three incorrect codes \\nare entered?\\nAnswer to the Exercise\\n1. It can be achieved by means of the change in T able 1.11.\\nT able 1.11 Proposed modification in the code in order to achieve the new behavior.\\nLine in Code 1.5 New code to be used\\n40 if ( numberOfIncorrectCodes &lt; 5 ) 40 if ( numberOfIncorrectCodes &lt; 3 )\\n1.3 Under the Hood\\n1.3.1 Brief Introduction to the Cortex-M Processor  Family and the NUCLEO Board\\nIn this chapter, many programs were developed using the NUCLEO board, provided with the \\nSTM32F429ZIT6U microcontroller . This microcontroller is manufactured by STMicroelectronics [13]</td>\n",
       "      <td>0.016667</td>\n",
       "    </tr>\n",
       "    <tr>\n",
       "      <th>3</th>\n",
       "      <td>Chapter 4 | Finite-State Machines and the Real-Time Clock\\n171 References\\n[1] “4x4 Keypad Module Pinout, Configuration, Features, Circuit &amp; Datasheet” . Accessed July 9, \\n2021. \\n[2] “Breadboard Power Supply Module” . Accessed July 9, 2021. https://components101.com/modules/5v-mb102-breadboard-power-supply-module \\n[3] “UM1974 User manual - STM32 Nucleo-144 boards (MB1137)” . Accessed July 9, 2021. https://www.st.com/resource/en/user_manual/dm00244518-stm32-nucleo144-boards-mb1137-stmicroelectronics.pdf \\n[4] “GitHub - armBookCodeExamples/Directory” . Accessed July 9, 2021. https://github.com/armBookCodeExamples/Directory/ \\n[5] “Time - API references and tutorials | Mbed OS 6 Documentation ” . Accessed July 9, 2021. \\nhttps://os.mbed.com/docs/mbed-os/v6.12/apis/time.html \\n[6] “&lt;cst...</td>\n",
       "      <td>0.016129</td>\n",
       "    </tr>\n",
       "    <tr>\n",
       "      <th>4</th>\n",
       "      <td>This section will begin the implementation of the smart home system, following the diagram shown in Figure 1.3. This first implementation will detect fire using an over temperature detector and a gas detector and, if it detects fire, it will activate the alarm until a given code is entered.  For this purpose, the NUCLEO board [1] provided with the STM32F429ZIT6U microcontroller [9] (referred to as the STM32 microcontroller ) is used.</td>\n",
       "      <td>0.016129</td>\n",
       "    </tr>\n",
       "  </tbody>\n",
       "</table>\n",
       "</div>"
      ],
      "text/plain": [
       "                                                                                                                                                                                                                                                                                                                                                                                                                                                                                                                                                                                                                                                                                                                                                                                                                    Retrieved text  \\\n",
       "0   38\\nA Beginner’s Guide to Designing Embedded System ApplicationsFigure 1.23 shows how different elements of the STM32F429ZIT6U microcontroller  are mapped \\nto the Zio and Arduino-compatible headers of the NUCLEO-F429ZI board. Some other elements \\nare mapped to the CN11 and CN12 headers of the NUCLEO-F429ZI board, as will be discussed in upcoming chapters. Further information on these headers is available from [17].\\nIn this chapter, buttons were connected to the NUCLEO board using pins D2 to D7. From Figure 1.23, \\nit can be seen that those digital inputs can also be referred to as PF_15, PE_13, P_14, PE_11, PE_9, and PF_13, respectively. Throughout this book, many pins of the ST Zio connectors will be used, and they will be referred to in the code using the names shown in Figure 1.23.   \n",
       "1  Chapter 1 | Introduction to Embedded Systems \\n37The STM32F429ZIT6U microcontroller includes a Cortex-M4 processor , as shown in Figure 1.22. It \\ncan be appreciated that, beyond the processor, the microcontroller includes other peripherals such as \\ncommunication cores (ethernet, USB, UART, etc.), memory, timers, and GPIO (General Purpose Input Output) ports. \\nNUCLEO\\n-F429ZI32F429ZIT6U\\nARM7B776 VQ\\nPHL 7B 7213e412000K620 Y12000\\nK620 Y\\n120 00K620 YDGKYD\\nKMS-1 102NL1706C\\nSTM32F103CBT6\\ne393701GH218CHN\\nST890C\\nGK717\\n11\\n22\\n33\\n44\\n55\\n66\\n77\\n88\\n9\\n10\\n11\\n12\\n13\\n14\\n15PH_0\\nPD_0\\nPD_1\\nPG_0PH_1PF_2PA_7PF_10PF_5PF_3PC_3PC_030\\n29\\n28\\n27\\n2616\\n2515\\n2414\\n2313\\n2212\\n2111\\n2010\\n199\\n18\\n17\\n165V\\nVIN3.3VIOREF\\nGND\\nGNDGND\\nNCNC\\nUART2_RX\\nCAN1_TDCAN1_ DRADC1/7ADC1/3\\nADC1/1...   \n",
       "2                                              Chapter 1 | Introduction to Embedded Systems \\n33Proposed Exercise\\n1. How can the code be changed in such a way that the system is blocked after three incorrect codes \\nare entered?\\nAnswer to the Exercise\\n1. It can be achieved by means of the change in T able 1.11.\\nT able 1.11 Proposed modification in the code in order to achieve the new behavior.\\nLine in Code 1.5 New code to be used\\n40 if ( numberOfIncorrectCodes < 5 ) 40 if ( numberOfIncorrectCodes < 3 )\\n1.3 Under the Hood\\n1.3.1 Brief Introduction to the Cortex-M Processor  Family and the NUCLEO Board\\nIn this chapter, many programs were developed using the NUCLEO board, provided with the \\nSTM32F429ZIT6U microcontroller . This microcontroller is manufactured by STMicroelectronics [13]   \n",
       "3  Chapter 4 | Finite-State Machines and the Real-Time Clock\\n171 References\\n[1] “4x4 Keypad Module Pinout, Configuration, Features, Circuit & Datasheet” . Accessed July 9, \\n2021. \\n[2] “Breadboard Power Supply Module” . Accessed July 9, 2021. https://components101.com/modules/5v-mb102-breadboard-power-supply-module \\n[3] “UM1974 User manual - STM32 Nucleo-144 boards (MB1137)” . Accessed July 9, 2021. https://www.st.com/resource/en/user_manual/dm00244518-stm32-nucleo144-boards-mb1137-stmicroelectronics.pdf \\n[4] “GitHub - armBookCodeExamples/Directory” . Accessed July 9, 2021. https://github.com/armBookCodeExamples/Directory/ \\n[5] “Time - API references and tutorials | Mbed OS 6 Documentation ” . Accessed July 9, 2021. \\nhttps://os.mbed.com/docs/mbed-os/v6.12/apis/time.html \\n[6] “<cst...   \n",
       "4                                                                                                                                                                                                                                                                                                                                                                            This section will begin the implementation of the smart home system, following the diagram shown in Figure 1.3. This first implementation will detect fire using an over temperature detector and a gas detector and, if it detects fire, it will activate the alarm until a given code is entered.  For this purpose, the NUCLEO board [1] provided with the STM32F429ZIT6U microcontroller [9] (referred to as the STM32 microcontroller ) is used.   \n",
       "\n",
       "      score  \n",
       "0  0.032787  \n",
       "1  0.032540  \n",
       "2  0.016667  \n",
       "3  0.016129  \n",
       "4  0.016129  "
      ]
     },
     "metadata": {},
     "output_type": "display_data"
    }
   ],
   "source": [
    "df = pd.DataFrame(dense_sparse_rrf_docs, columns=['Retrieved text', 'score'])\n",
    "display(df)"
   ]
  },
  {
   "cell_type": "markdown",
   "metadata": {
    "jp-MarkdownHeadingCollapsed": true
   },
   "source": [
    "### Re-Ranker"
   ]
  },
  {
   "cell_type": "code",
   "execution_count": 33,
   "metadata": {},
   "outputs": [],
   "source": [
    "ranker_model = None\n",
    "# Define the rerank function\n",
    "if RERANKER_MODEL == \"bgm3\":\n",
    "    ranker_model = BGERerankFunction(\n",
    "        model_name=\"BAAI/bge-reranker-v2-m3\",\n",
    "        device=DEVICE,\n",
    "        batch_size=BATCH_SIZE,\n",
    "    )\n",
    "elif RERANKER_MODEL == \"crossencoder\":\n",
    "    ranker_model = CrossEncoderRerankFunction(\n",
    "        model_name=\"cross-encoder/ms-marco-MiniLM-L-6-v2\",\n",
    "        device=DEVICE,\n",
    "        batch_size=BATCH_SIZE,\n",
    "    )"
   ]
  },
  {
   "cell_type": "code",
   "execution_count": 34,
   "metadata": {},
   "outputs": [],
   "source": [
    "combined_docs = [dense_doc[0] for dense_doc in dense_docs]\n",
    "combined_docs.extend([sparse_doc[0] for sparse_doc in sparse_docs])\n",
    "# Remove duplicates if any\n",
    "combined_docs = list(set(combined_docs))"
   ]
  },
  {
   "cell_type": "code",
   "execution_count": 35,
   "metadata": {},
   "outputs": [
    {
     "name": "stdout",
     "output_type": "stream",
     "text": [
      "CPU times: user 211 ms, sys: 76.1 ms, total: 287 ms\n",
      "Wall time: 532 ms\n"
     ]
    }
   ],
   "source": [
    "%%time\n",
    "result_docs = ranker_model(query=QUERY, documents=combined_docs, top_k=TOP_K)"
   ]
  },
  {
   "cell_type": "code",
   "execution_count": 36,
   "metadata": {},
   "outputs": [],
   "source": [
    "dense_sparse_reranker_docs = [(res.text, res.score) for res in result_docs]"
   ]
  },
  {
   "cell_type": "code",
   "execution_count": 37,
   "metadata": {},
   "outputs": [
    {
     "data": {
      "text/html": [
       "<div>\n",
       "<style scoped>\n",
       "    .dataframe tbody tr th:only-of-type {\n",
       "        vertical-align: middle;\n",
       "    }\n",
       "\n",
       "    .dataframe tbody tr th {\n",
       "        vertical-align: top;\n",
       "    }\n",
       "\n",
       "    .dataframe thead th {\n",
       "        text-align: right;\n",
       "    }\n",
       "</style>\n",
       "<table border=\"1\" class=\"dataframe\">\n",
       "  <thead>\n",
       "    <tr style=\"text-align: right;\">\n",
       "      <th></th>\n",
       "      <th>Retrieved text</th>\n",
       "      <th>score</th>\n",
       "    </tr>\n",
       "  </thead>\n",
       "  <tbody>\n",
       "    <tr>\n",
       "      <th>0</th>\n",
       "      <td>Chapter 1 | Introduction to Embedded Systems \\n33Proposed Exercise\\n1. How can the code be changed in such a way that the system is blocked after three incorrect codes \\nare entered?\\nAnswer to the Exercise\\n1. It can be achieved by means of the change in T able 1.11.\\nT able 1.11 Proposed modification in the code in order to achieve the new behavior.\\nLine in Code 1.5 New code to be used\\n40 if ( numberOfIncorrectCodes &lt; 5 ) 40 if ( numberOfIncorrectCodes &lt; 3 )\\n1.3 Under the Hood\\n1.3.1 Brief Introduction to the Cortex-M Processor  Family and the NUCLEO Board\\nIn this chapter, many programs were developed using the NUCLEO board, provided with the \\nSTM32F429ZIT6U microcontroller . This microcontroller is manufactured by STMicroelectronics [13]</td>\n",
       "      <td>0.986980</td>\n",
       "    </tr>\n",
       "    <tr>\n",
       "      <th>1</th>\n",
       "      <td>38\\nA Beginner’s Guide to Designing Embedded System ApplicationsFigure 1.23 shows how different elements of the STM32F429ZIT6U microcontroller  are mapped \\nto the Zio and Arduino-compatible headers of the NUCLEO-F429ZI board. Some other elements \\nare mapped to the CN11 and CN12 headers of the NUCLEO-F429ZI board, as will be discussed in upcoming chapters. Further information on these headers is available from [17].\\nIn this chapter, buttons were connected to the NUCLEO board using pins D2 to D7. From Figure 1.23, \\nit can be seen that those digital inputs can also be referred to as PF_15, PE_13, P_14, PE_11, PE_9, and PF_13, respectively. Throughout this book, many pins of the ST Zio connectors will be used, and they will be referred to in the code using the names shown in Figure 1.23.</td>\n",
       "      <td>0.719778</td>\n",
       "    </tr>\n",
       "    <tr>\n",
       "      <th>2</th>\n",
       "      <td>This section will begin the implementation of the smart home system, following the diagram shown in Figure 1.3. This first implementation will detect fire using an over temperature detector and a gas detector and, if it detects fire, it will activate the alarm until a given code is entered.  For this purpose, the NUCLEO board [1] provided with the STM32F429ZIT6U microcontroller [9] (referred to as the STM32 microcontroller ) is used.</td>\n",
       "      <td>0.545891</td>\n",
       "    </tr>\n",
       "    <tr>\n",
       "      <th>3</th>\n",
       "      <td>Chapter 1 | Introduction to Embedded Systems \\n37The STM32F429ZIT6U microcontroller includes a Cortex-M4 processor , as shown in Figure 1.22. It \\ncan be appreciated that, beyond the processor, the microcontroller includes other peripherals such as \\ncommunication cores (ethernet, USB, UART, etc.), memory, timers, and GPIO (General Purpose Input Output) ports. \\nNUCLEO\\n-F429ZI32F429ZIT6U\\nARM7B776 VQ\\nPHL 7B 7213e412000K620 Y12000\\nK620 Y\\n120 00K620 YDGKYD\\nKMS-1 102NL1706C\\nSTM32F103CBT6\\ne393701GH218CHN\\nST890C\\nGK717\\n11\\n22\\n33\\n44\\n55\\n66\\n77\\n88\\n9\\n10\\n11\\n12\\n13\\n14\\n15PH_0\\nPD_0\\nPD_1\\nPG_0PH_1PF_2PA_7PF_10PF_5PF_3PC_3PC_030\\n29\\n28\\n27\\n2616\\n2515\\n2414\\n2313\\n2212\\n2111\\n2010\\n199\\n18\\n17\\n165V\\nVIN3.3VIOREF\\nGND\\nGNDGND\\nNCNC\\nUART2_RX\\nCAN1_TDCAN1_ DRADC1/7ADC1/3\\nADC1/1...</td>\n",
       "      <td>0.536616</td>\n",
       "    </tr>\n",
       "    <tr>\n",
       "      <th>4</th>\n",
       "      <td>[3] “Arm Keil | Cloud-based Development T ools for IoT, ML and Embedded” . Accessed July 9, 2021. https://www.keil.arm.com/ \\n[4] “Log In | Mbed” . Accessed July 9, 2021. https://os.mbed.com/account/login/  \\n[5] “Keil Studio” . Accessed July 9, 2021. https://studio.keil.arm.com/  \\n[6] “Documentation - Arm Developer” . Accessed July 9, 2021. https://developer.arm.com/documentation \\n[7] “Arm Mbed Studio” . Accessed July 9, 2021. https://os.mbed.com/studio/ \\n[8] “STM32CudeIDE - Integrated Development Environment” . Accessed July 9, 2021. https://www.st.com/en/development-tools/stm32cubeide.html \\n[9] “STM32F429ZI - High-performance advanced line, Arm Cortex-M4” . Accessed July 9, 2021.  https://www.st.com/en/microcontrollers-microprocessors/stm32f429zi.html</td>\n",
       "      <td>0.373647</td>\n",
       "    </tr>\n",
       "  </tbody>\n",
       "</table>\n",
       "</div>"
      ],
      "text/plain": [
       "                                                                                                                                                                                                                                                                                                                                                                                                                                                                                                                                                                                                                                                                                                                                                                                                                    Retrieved text  \\\n",
       "0                                              Chapter 1 | Introduction to Embedded Systems \\n33Proposed Exercise\\n1. How can the code be changed in such a way that the system is blocked after three incorrect codes \\nare entered?\\nAnswer to the Exercise\\n1. It can be achieved by means of the change in T able 1.11.\\nT able 1.11 Proposed modification in the code in order to achieve the new behavior.\\nLine in Code 1.5 New code to be used\\n40 if ( numberOfIncorrectCodes < 5 ) 40 if ( numberOfIncorrectCodes < 3 )\\n1.3 Under the Hood\\n1.3.1 Brief Introduction to the Cortex-M Processor  Family and the NUCLEO Board\\nIn this chapter, many programs were developed using the NUCLEO board, provided with the \\nSTM32F429ZIT6U microcontroller . This microcontroller is manufactured by STMicroelectronics [13]   \n",
       "1   38\\nA Beginner’s Guide to Designing Embedded System ApplicationsFigure 1.23 shows how different elements of the STM32F429ZIT6U microcontroller  are mapped \\nto the Zio and Arduino-compatible headers of the NUCLEO-F429ZI board. Some other elements \\nare mapped to the CN11 and CN12 headers of the NUCLEO-F429ZI board, as will be discussed in upcoming chapters. Further information on these headers is available from [17].\\nIn this chapter, buttons were connected to the NUCLEO board using pins D2 to D7. From Figure 1.23, \\nit can be seen that those digital inputs can also be referred to as PF_15, PE_13, P_14, PE_11, PE_9, and PF_13, respectively. Throughout this book, many pins of the ST Zio connectors will be used, and they will be referred to in the code using the names shown in Figure 1.23.   \n",
       "2                                                                                                                                                                                                                                                                                                                                                                            This section will begin the implementation of the smart home system, following the diagram shown in Figure 1.3. This first implementation will detect fire using an over temperature detector and a gas detector and, if it detects fire, it will activate the alarm until a given code is entered.  For this purpose, the NUCLEO board [1] provided with the STM32F429ZIT6U microcontroller [9] (referred to as the STM32 microcontroller ) is used.   \n",
       "3  Chapter 1 | Introduction to Embedded Systems \\n37The STM32F429ZIT6U microcontroller includes a Cortex-M4 processor , as shown in Figure 1.22. It \\ncan be appreciated that, beyond the processor, the microcontroller includes other peripherals such as \\ncommunication cores (ethernet, USB, UART, etc.), memory, timers, and GPIO (General Purpose Input Output) ports. \\nNUCLEO\\n-F429ZI32F429ZIT6U\\nARM7B776 VQ\\nPHL 7B 7213e412000K620 Y12000\\nK620 Y\\n120 00K620 YDGKYD\\nKMS-1 102NL1706C\\nSTM32F103CBT6\\ne393701GH218CHN\\nST890C\\nGK717\\n11\\n22\\n33\\n44\\n55\\n66\\n77\\n88\\n9\\n10\\n11\\n12\\n13\\n14\\n15PH_0\\nPD_0\\nPD_1\\nPG_0PH_1PF_2PA_7PF_10PF_5PF_3PC_3PC_030\\n29\\n28\\n27\\n2616\\n2515\\n2414\\n2313\\n2212\\n2111\\n2010\\n199\\n18\\n17\\n165V\\nVIN3.3VIOREF\\nGND\\nGNDGND\\nNCNC\\nUART2_RX\\nCAN1_TDCAN1_ DRADC1/7ADC1/3\\nADC1/1...   \n",
       "4                                 [3] “Arm Keil | Cloud-based Development T ools for IoT, ML and Embedded” . Accessed July 9, 2021. https://www.keil.arm.com/ \\n[4] “Log In | Mbed” . Accessed July 9, 2021. https://os.mbed.com/account/login/  \\n[5] “Keil Studio” . Accessed July 9, 2021. https://studio.keil.arm.com/  \\n[6] “Documentation - Arm Developer” . Accessed July 9, 2021. https://developer.arm.com/documentation \\n[7] “Arm Mbed Studio” . Accessed July 9, 2021. https://os.mbed.com/studio/ \\n[8] “STM32CudeIDE - Integrated Development Environment” . Accessed July 9, 2021. https://www.st.com/en/development-tools/stm32cubeide.html \\n[9] “STM32F429ZI - High-performance advanced line, Arm Cortex-M4” . Accessed July 9, 2021.  https://www.st.com/en/microcontrollers-microprocessors/stm32f429zi.html   \n",
       "\n",
       "      score  \n",
       "0  0.986980  \n",
       "1  0.719778  \n",
       "2  0.545891  \n",
       "3  0.536616  \n",
       "4  0.373647  "
      ]
     },
     "metadata": {},
     "output_type": "display_data"
    }
   ],
   "source": [
    "df = pd.DataFrame(dense_sparse_reranker_docs, columns=['Retrieved text', 'score'])\n",
    "display(df)"
   ]
  },
  {
   "cell_type": "markdown",
   "metadata": {
    "jp-MarkdownHeadingCollapsed": true
   },
   "source": [
    "# Dense + Full Text Search\n",
    "\n",
    "Here we will look into aggregating the results from both dense and full text approaach.\n",
    "\n",
    "There are multiple ways to collate the results from different approaches, we will experiment with 2 approaches.\n",
    "\n",
    "- **Reciprocal Rank Fusion (RRF)** : Reciprocal Rank Fusion (RRF) is a method used to combine results from different retrieval systems by leveraging the positions/rank of the documents. It uses a formula to aggregate the ranks from all different sources and provide the final rank from all the sources.\n",
    "\n",
    "- **Re-ranker** : We use re-ranker models which are cross encoder models to rank and score the retrieved documents based on how relevant they are to the input query."
   ]
  },
  {
   "cell_type": "markdown",
   "metadata": {
    "jp-MarkdownHeadingCollapsed": true
   },
   "source": [
    "### Reciprocal Rank Fusion"
   ]
  },
  {
   "cell_type": "code",
   "execution_count": 38,
   "metadata": {},
   "outputs": [],
   "source": [
    "combined_docs = []\n",
    "combined_docs.append(dense_docs)\n",
    "combined_docs.append(full_text_docs)"
   ]
  },
  {
   "cell_type": "code",
   "execution_count": 39,
   "metadata": {},
   "outputs": [],
   "source": [
    "dense_full_text_rrf_docs = rrf(combined_docs)[:TOP_K]"
   ]
  },
  {
   "cell_type": "code",
   "execution_count": 40,
   "metadata": {},
   "outputs": [
    {
     "data": {
      "text/html": [
       "<div>\n",
       "<style scoped>\n",
       "    .dataframe tbody tr th:only-of-type {\n",
       "        vertical-align: middle;\n",
       "    }\n",
       "\n",
       "    .dataframe tbody tr th {\n",
       "        vertical-align: top;\n",
       "    }\n",
       "\n",
       "    .dataframe thead th {\n",
       "        text-align: right;\n",
       "    }\n",
       "</style>\n",
       "<table border=\"1\" class=\"dataframe\">\n",
       "  <thead>\n",
       "    <tr style=\"text-align: right;\">\n",
       "      <th></th>\n",
       "      <th>Retrieved text</th>\n",
       "      <th>score</th>\n",
       "    </tr>\n",
       "  </thead>\n",
       "  <tbody>\n",
       "    <tr>\n",
       "      <th>0</th>\n",
       "      <td>Chapter 1 | Introduction to Embedded Systems \\n37The STM32F429ZIT6U microcontroller includes a Cortex-M4 processor , as shown in Figure 1.22. It \\ncan be appreciated that, beyond the processor, the microcontroller includes other peripherals such as \\ncommunication cores (ethernet, USB, UART, etc.), memory, timers, and GPIO (General Purpose Input Output) ports. \\nNUCLEO\\n-F429ZI32F429ZIT6U\\nARM7B776 VQ\\nPHL 7B 7213e412000K620 Y12000\\nK620 Y\\n120 00K620 YDGKYD\\nKMS-1 102NL1706C\\nSTM32F103CBT6\\ne393701GH218CHN\\nST890C\\nGK717\\n11\\n22\\n33\\n44\\n55\\n66\\n77\\n88\\n9\\n10\\n11\\n12\\n13\\n14\\n15PH_0\\nPD_0\\nPD_1\\nPG_0PH_1PF_2PA_7PF_10PF_5PF_3PC_3PC_030\\n29\\n28\\n27\\n2616\\n2515\\n2414\\n2313\\n2212\\n2111\\n2010\\n199\\n18\\n17\\n165V\\nVIN3.3VIOREF\\nGND\\nGNDGND\\nNCNC\\nUART2_RX\\nCAN1_TDCAN1_ DRADC1/7ADC1/3\\nADC1/1...</td>\n",
       "      <td>0.032540</td>\n",
       "    </tr>\n",
       "    <tr>\n",
       "      <th>1</th>\n",
       "      <td>38\\nA Beginner’s Guide to Designing Embedded System ApplicationsFigure 1.23 shows how different elements of the STM32F429ZIT6U microcontroller  are mapped \\nto the Zio and Arduino-compatible headers of the NUCLEO-F429ZI board. Some other elements \\nare mapped to the CN11 and CN12 headers of the NUCLEO-F429ZI board, as will be discussed in upcoming chapters. Further information on these headers is available from [17].\\nIn this chapter, buttons were connected to the NUCLEO board using pins D2 to D7. From Figure 1.23, \\nit can be seen that those digital inputs can also be referred to as PF_15, PE_13, P_14, PE_11, PE_9, and PF_13, respectively. Throughout this book, many pins of the ST Zio connectors will be used, and they will be referred to in the code using the names shown in Figure 1.23.</td>\n",
       "      <td>0.032018</td>\n",
       "    </tr>\n",
       "    <tr>\n",
       "      <th>2</th>\n",
       "      <td>Chapter 1 | Introduction to Embedded Systems \\n33Proposed Exercise\\n1. How can the code be changed in such a way that the system is blocked after three incorrect codes \\nare entered?\\nAnswer to the Exercise\\n1. It can be achieved by means of the change in T able 1.11.\\nT able 1.11 Proposed modification in the code in order to achieve the new behavior.\\nLine in Code 1.5 New code to be used\\n40 if ( numberOfIncorrectCodes &lt; 5 ) 40 if ( numberOfIncorrectCodes &lt; 3 )\\n1.3 Under the Hood\\n1.3.1 Brief Introduction to the Cortex-M Processor  Family and the NUCLEO Board\\nIn this chapter, many programs were developed using the NUCLEO board, provided with the \\nSTM32F429ZIT6U microcontroller . This microcontroller is manufactured by STMicroelectronics [13]</td>\n",
       "      <td>0.016667</td>\n",
       "    </tr>\n",
       "    <tr>\n",
       "      <th>3</th>\n",
       "      <td>This section will begin the implementation of the smart home system, following the diagram shown in Figure 1.3. This first implementation will detect fire using an over temperature detector and a gas detector and, if it detects fire, it will activate the alarm until a given code is entered.  For this purpose, the NUCLEO board [1] provided with the STM32F429ZIT6U microcontroller [9] (referred to as the STM32 microcontroller ) is used.</td>\n",
       "      <td>0.016393</td>\n",
       "    </tr>\n",
       "    <tr>\n",
       "      <th>4</th>\n",
       "      <td>Chapter 4 | Finite-State Machines and the Real-Time Clock\\n171 References\\n[1] “4x4 Keypad Module Pinout, Configuration, Features, Circuit &amp; Datasheet” . Accessed July 9, \\n2021. \\n[2] “Breadboard Power Supply Module” . Accessed July 9, 2021. https://components101.com/modules/5v-mb102-breadboard-power-supply-module \\n[3] “UM1974 User manual - STM32 Nucleo-144 boards (MB1137)” . Accessed July 9, 2021. https://www.st.com/resource/en/user_manual/dm00244518-stm32-nucleo144-boards-mb1137-stmicroelectronics.pdf \\n[4] “GitHub - armBookCodeExamples/Directory” . Accessed July 9, 2021. https://github.com/armBookCodeExamples/Directory/ \\n[5] “Time - API references and tutorials | Mbed OS 6 Documentation ” . Accessed July 9, 2021. \\nhttps://os.mbed.com/docs/mbed-os/v6.12/apis/time.html \\n[6] “&lt;cst...</td>\n",
       "      <td>0.016129</td>\n",
       "    </tr>\n",
       "  </tbody>\n",
       "</table>\n",
       "</div>"
      ],
      "text/plain": [
       "                                                                                                                                                                                                                                                                                                                                                                                                                                                                                                                                                                                                                                                                                                                                                                                                                    Retrieved text  \\\n",
       "0  Chapter 1 | Introduction to Embedded Systems \\n37The STM32F429ZIT6U microcontroller includes a Cortex-M4 processor , as shown in Figure 1.22. It \\ncan be appreciated that, beyond the processor, the microcontroller includes other peripherals such as \\ncommunication cores (ethernet, USB, UART, etc.), memory, timers, and GPIO (General Purpose Input Output) ports. \\nNUCLEO\\n-F429ZI32F429ZIT6U\\nARM7B776 VQ\\nPHL 7B 7213e412000K620 Y12000\\nK620 Y\\n120 00K620 YDGKYD\\nKMS-1 102NL1706C\\nSTM32F103CBT6\\ne393701GH218CHN\\nST890C\\nGK717\\n11\\n22\\n33\\n44\\n55\\n66\\n77\\n88\\n9\\n10\\n11\\n12\\n13\\n14\\n15PH_0\\nPD_0\\nPD_1\\nPG_0PH_1PF_2PA_7PF_10PF_5PF_3PC_3PC_030\\n29\\n28\\n27\\n2616\\n2515\\n2414\\n2313\\n2212\\n2111\\n2010\\n199\\n18\\n17\\n165V\\nVIN3.3VIOREF\\nGND\\nGNDGND\\nNCNC\\nUART2_RX\\nCAN1_TDCAN1_ DRADC1/7ADC1/3\\nADC1/1...   \n",
       "1   38\\nA Beginner’s Guide to Designing Embedded System ApplicationsFigure 1.23 shows how different elements of the STM32F429ZIT6U microcontroller  are mapped \\nto the Zio and Arduino-compatible headers of the NUCLEO-F429ZI board. Some other elements \\nare mapped to the CN11 and CN12 headers of the NUCLEO-F429ZI board, as will be discussed in upcoming chapters. Further information on these headers is available from [17].\\nIn this chapter, buttons were connected to the NUCLEO board using pins D2 to D7. From Figure 1.23, \\nit can be seen that those digital inputs can also be referred to as PF_15, PE_13, P_14, PE_11, PE_9, and PF_13, respectively. Throughout this book, many pins of the ST Zio connectors will be used, and they will be referred to in the code using the names shown in Figure 1.23.   \n",
       "2                                              Chapter 1 | Introduction to Embedded Systems \\n33Proposed Exercise\\n1. How can the code be changed in such a way that the system is blocked after three incorrect codes \\nare entered?\\nAnswer to the Exercise\\n1. It can be achieved by means of the change in T able 1.11.\\nT able 1.11 Proposed modification in the code in order to achieve the new behavior.\\nLine in Code 1.5 New code to be used\\n40 if ( numberOfIncorrectCodes < 5 ) 40 if ( numberOfIncorrectCodes < 3 )\\n1.3 Under the Hood\\n1.3.1 Brief Introduction to the Cortex-M Processor  Family and the NUCLEO Board\\nIn this chapter, many programs were developed using the NUCLEO board, provided with the \\nSTM32F429ZIT6U microcontroller . This microcontroller is manufactured by STMicroelectronics [13]   \n",
       "3                                                                                                                                                                                                                                                                                                                                                                            This section will begin the implementation of the smart home system, following the diagram shown in Figure 1.3. This first implementation will detect fire using an over temperature detector and a gas detector and, if it detects fire, it will activate the alarm until a given code is entered.  For this purpose, the NUCLEO board [1] provided with the STM32F429ZIT6U microcontroller [9] (referred to as the STM32 microcontroller ) is used.   \n",
       "4  Chapter 4 | Finite-State Machines and the Real-Time Clock\\n171 References\\n[1] “4x4 Keypad Module Pinout, Configuration, Features, Circuit & Datasheet” . Accessed July 9, \\n2021. \\n[2] “Breadboard Power Supply Module” . Accessed July 9, 2021. https://components101.com/modules/5v-mb102-breadboard-power-supply-module \\n[3] “UM1974 User manual - STM32 Nucleo-144 boards (MB1137)” . Accessed July 9, 2021. https://www.st.com/resource/en/user_manual/dm00244518-stm32-nucleo144-boards-mb1137-stmicroelectronics.pdf \\n[4] “GitHub - armBookCodeExamples/Directory” . Accessed July 9, 2021. https://github.com/armBookCodeExamples/Directory/ \\n[5] “Time - API references and tutorials | Mbed OS 6 Documentation ” . Accessed July 9, 2021. \\nhttps://os.mbed.com/docs/mbed-os/v6.12/apis/time.html \\n[6] “<cst...   \n",
       "\n",
       "      score  \n",
       "0  0.032540  \n",
       "1  0.032018  \n",
       "2  0.016667  \n",
       "3  0.016393  \n",
       "4  0.016129  "
      ]
     },
     "metadata": {},
     "output_type": "display_data"
    }
   ],
   "source": [
    "df = pd.DataFrame(dense_full_text_rrf_docs, columns=['Retrieved text', 'score'])\n",
    "display(df)"
   ]
  },
  {
   "cell_type": "markdown",
   "metadata": {
    "jp-MarkdownHeadingCollapsed": true
   },
   "source": [
    "### Re-Ranker"
   ]
  },
  {
   "cell_type": "code",
   "execution_count": 41,
   "metadata": {},
   "outputs": [],
   "source": [
    "ranker_model = None\n",
    "# Define the rerank function\n",
    "if RERANKER_MODEL == \"bgm3\":\n",
    "    ranker_model = BGERerankFunction(\n",
    "        model_name=\"BAAI/bge-reranker-v2-m3\",\n",
    "        device=DEVICE,\n",
    "        batch_size=BATCH_SIZE,\n",
    "    )\n",
    "elif RERANKER_MODEL == \"crossencoder\":\n",
    "    ranker_model = CrossEncoderRerankFunction(\n",
    "        model_name=\"cross-encoder/ms-marco-MiniLM-L-6-v2\",\n",
    "        device=DEVICE,\n",
    "        batch_size=BATCH_SIZE,\n",
    "    )"
   ]
  },
  {
   "cell_type": "code",
   "execution_count": 42,
   "metadata": {},
   "outputs": [],
   "source": [
    "combined_docs = [dense_doc[0] for dense_doc in dense_docs]\n",
    "combined_docs.extend([full_text_doc[0] for full_text_doc in full_text_docs])\n",
    "# Remove duplicates if any\n",
    "combined_docs = list(set(combined_docs))"
   ]
  },
  {
   "cell_type": "code",
   "execution_count": 43,
   "metadata": {},
   "outputs": [
    {
     "name": "stdout",
     "output_type": "stream",
     "text": [
      "CPU times: user 187 ms, sys: 7.74 ms, total: 195 ms\n",
      "Wall time: 186 ms\n"
     ]
    }
   ],
   "source": [
    "%%time\n",
    "result_docs = ranker_model(query=QUERY, documents=combined_docs, top_k=TOP_K)"
   ]
  },
  {
   "cell_type": "code",
   "execution_count": 44,
   "metadata": {},
   "outputs": [],
   "source": [
    "dense_full_text_reranker_docs = [(res.text, res.score) for res in result_docs]"
   ]
  },
  {
   "cell_type": "code",
   "execution_count": 45,
   "metadata": {},
   "outputs": [
    {
     "data": {
      "text/html": [
       "<div>\n",
       "<style scoped>\n",
       "    .dataframe tbody tr th:only-of-type {\n",
       "        vertical-align: middle;\n",
       "    }\n",
       "\n",
       "    .dataframe tbody tr th {\n",
       "        vertical-align: top;\n",
       "    }\n",
       "\n",
       "    .dataframe thead th {\n",
       "        text-align: right;\n",
       "    }\n",
       "</style>\n",
       "<table border=\"1\" class=\"dataframe\">\n",
       "  <thead>\n",
       "    <tr style=\"text-align: right;\">\n",
       "      <th></th>\n",
       "      <th>Retrieved text</th>\n",
       "      <th>score</th>\n",
       "    </tr>\n",
       "  </thead>\n",
       "  <tbody>\n",
       "    <tr>\n",
       "      <th>0</th>\n",
       "      <td>Chapter 1 | Introduction to Embedded Systems \\n33Proposed Exercise\\n1. How can the code be changed in such a way that the system is blocked after three incorrect codes \\nare entered?\\nAnswer to the Exercise\\n1. It can be achieved by means of the change in T able 1.11.\\nT able 1.11 Proposed modification in the code in order to achieve the new behavior.\\nLine in Code 1.5 New code to be used\\n40 if ( numberOfIncorrectCodes &lt; 5 ) 40 if ( numberOfIncorrectCodes &lt; 3 )\\n1.3 Under the Hood\\n1.3.1 Brief Introduction to the Cortex-M Processor  Family and the NUCLEO Board\\nIn this chapter, many programs were developed using the NUCLEO board, provided with the \\nSTM32F429ZIT6U microcontroller . This microcontroller is manufactured by STMicroelectronics [13]</td>\n",
       "      <td>0.986980</td>\n",
       "    </tr>\n",
       "    <tr>\n",
       "      <th>1</th>\n",
       "      <td>38\\nA Beginner’s Guide to Designing Embedded System ApplicationsFigure 1.23 shows how different elements of the STM32F429ZIT6U microcontroller  are mapped \\nto the Zio and Arduino-compatible headers of the NUCLEO-F429ZI board. Some other elements \\nare mapped to the CN11 and CN12 headers of the NUCLEO-F429ZI board, as will be discussed in upcoming chapters. Further information on these headers is available from [17].\\nIn this chapter, buttons were connected to the NUCLEO board using pins D2 to D7. From Figure 1.23, \\nit can be seen that those digital inputs can also be referred to as PF_15, PE_13, P_14, PE_11, PE_9, and PF_13, respectively. Throughout this book, many pins of the ST Zio connectors will be used, and they will be referred to in the code using the names shown in Figure 1.23.</td>\n",
       "      <td>0.719581</td>\n",
       "    </tr>\n",
       "    <tr>\n",
       "      <th>2</th>\n",
       "      <td>This section will begin the implementation of the smart home system, following the diagram shown in Figure 1.3. This first implementation will detect fire using an over temperature detector and a gas detector and, if it detects fire, it will activate the alarm until a given code is entered.  For this purpose, the NUCLEO board [1] provided with the STM32F429ZIT6U microcontroller [9] (referred to as the STM32 microcontroller ) is used.</td>\n",
       "      <td>0.547192</td>\n",
       "    </tr>\n",
       "    <tr>\n",
       "      <th>3</th>\n",
       "      <td>Chapter 1 | Introduction to Embedded Systems \\n37The STM32F429ZIT6U microcontroller includes a Cortex-M4 processor , as shown in Figure 1.22. It \\ncan be appreciated that, beyond the processor, the microcontroller includes other peripherals such as \\ncommunication cores (ethernet, USB, UART, etc.), memory, timers, and GPIO (General Purpose Input Output) ports. \\nNUCLEO\\n-F429ZI32F429ZIT6U\\nARM7B776 VQ\\nPHL 7B 7213e412000K620 Y12000\\nK620 Y\\n120 00K620 YDGKYD\\nKMS-1 102NL1706C\\nSTM32F103CBT6\\ne393701GH218CHN\\nST890C\\nGK717\\n11\\n22\\n33\\n44\\n55\\n66\\n77\\n88\\n9\\n10\\n11\\n12\\n13\\n14\\n15PH_0\\nPD_0\\nPD_1\\nPG_0PH_1PF_2PA_7PF_10PF_5PF_3PC_3PC_030\\n29\\n28\\n27\\n2616\\n2515\\n2414\\n2313\\n2212\\n2111\\n2010\\n199\\n18\\n17\\n165V\\nVIN3.3VIOREF\\nGND\\nGNDGND\\nNCNC\\nUART2_RX\\nCAN1_TDCAN1_ DRADC1/7ADC1/3\\nADC1/1...</td>\n",
       "      <td>0.534764</td>\n",
       "    </tr>\n",
       "    <tr>\n",
       "      <th>4</th>\n",
       "      <td>[3] “Arm Keil | Cloud-based Development T ools for IoT, ML and Embedded” . Accessed July 9, 2021. https://www.keil.arm.com/ \\n[4] “Log In | Mbed” . Accessed July 9, 2021. https://os.mbed.com/account/login/  \\n[5] “Keil Studio” . Accessed July 9, 2021. https://studio.keil.arm.com/  \\n[6] “Documentation - Arm Developer” . Accessed July 9, 2021. https://developer.arm.com/documentation \\n[7] “Arm Mbed Studio” . Accessed July 9, 2021. https://os.mbed.com/studio/ \\n[8] “STM32CudeIDE - Integrated Development Environment” . Accessed July 9, 2021. https://www.st.com/en/development-tools/stm32cubeide.html \\n[9] “STM32F429ZI - High-performance advanced line, Arm Cortex-M4” . Accessed July 9, 2021.  https://www.st.com/en/microcontrollers-microprocessors/stm32f429zi.html</td>\n",
       "      <td>0.373190</td>\n",
       "    </tr>\n",
       "  </tbody>\n",
       "</table>\n",
       "</div>"
      ],
      "text/plain": [
       "                                                                                                                                                                                                                                                                                                                                                                                                                                                                                                                                                                                                                                                                                                                                                                                                                    Retrieved text  \\\n",
       "0                                              Chapter 1 | Introduction to Embedded Systems \\n33Proposed Exercise\\n1. How can the code be changed in such a way that the system is blocked after three incorrect codes \\nare entered?\\nAnswer to the Exercise\\n1. It can be achieved by means of the change in T able 1.11.\\nT able 1.11 Proposed modification in the code in order to achieve the new behavior.\\nLine in Code 1.5 New code to be used\\n40 if ( numberOfIncorrectCodes < 5 ) 40 if ( numberOfIncorrectCodes < 3 )\\n1.3 Under the Hood\\n1.3.1 Brief Introduction to the Cortex-M Processor  Family and the NUCLEO Board\\nIn this chapter, many programs were developed using the NUCLEO board, provided with the \\nSTM32F429ZIT6U microcontroller . This microcontroller is manufactured by STMicroelectronics [13]   \n",
       "1   38\\nA Beginner’s Guide to Designing Embedded System ApplicationsFigure 1.23 shows how different elements of the STM32F429ZIT6U microcontroller  are mapped \\nto the Zio and Arduino-compatible headers of the NUCLEO-F429ZI board. Some other elements \\nare mapped to the CN11 and CN12 headers of the NUCLEO-F429ZI board, as will be discussed in upcoming chapters. Further information on these headers is available from [17].\\nIn this chapter, buttons were connected to the NUCLEO board using pins D2 to D7. From Figure 1.23, \\nit can be seen that those digital inputs can also be referred to as PF_15, PE_13, P_14, PE_11, PE_9, and PF_13, respectively. Throughout this book, many pins of the ST Zio connectors will be used, and they will be referred to in the code using the names shown in Figure 1.23.   \n",
       "2                                                                                                                                                                                                                                                                                                                                                                            This section will begin the implementation of the smart home system, following the diagram shown in Figure 1.3. This first implementation will detect fire using an over temperature detector and a gas detector and, if it detects fire, it will activate the alarm until a given code is entered.  For this purpose, the NUCLEO board [1] provided with the STM32F429ZIT6U microcontroller [9] (referred to as the STM32 microcontroller ) is used.   \n",
       "3  Chapter 1 | Introduction to Embedded Systems \\n37The STM32F429ZIT6U microcontroller includes a Cortex-M4 processor , as shown in Figure 1.22. It \\ncan be appreciated that, beyond the processor, the microcontroller includes other peripherals such as \\ncommunication cores (ethernet, USB, UART, etc.), memory, timers, and GPIO (General Purpose Input Output) ports. \\nNUCLEO\\n-F429ZI32F429ZIT6U\\nARM7B776 VQ\\nPHL 7B 7213e412000K620 Y12000\\nK620 Y\\n120 00K620 YDGKYD\\nKMS-1 102NL1706C\\nSTM32F103CBT6\\ne393701GH218CHN\\nST890C\\nGK717\\n11\\n22\\n33\\n44\\n55\\n66\\n77\\n88\\n9\\n10\\n11\\n12\\n13\\n14\\n15PH_0\\nPD_0\\nPD_1\\nPG_0PH_1PF_2PA_7PF_10PF_5PF_3PC_3PC_030\\n29\\n28\\n27\\n2616\\n2515\\n2414\\n2313\\n2212\\n2111\\n2010\\n199\\n18\\n17\\n165V\\nVIN3.3VIOREF\\nGND\\nGNDGND\\nNCNC\\nUART2_RX\\nCAN1_TDCAN1_ DRADC1/7ADC1/3\\nADC1/1...   \n",
       "4                                 [3] “Arm Keil | Cloud-based Development T ools for IoT, ML and Embedded” . Accessed July 9, 2021. https://www.keil.arm.com/ \\n[4] “Log In | Mbed” . Accessed July 9, 2021. https://os.mbed.com/account/login/  \\n[5] “Keil Studio” . Accessed July 9, 2021. https://studio.keil.arm.com/  \\n[6] “Documentation - Arm Developer” . Accessed July 9, 2021. https://developer.arm.com/documentation \\n[7] “Arm Mbed Studio” . Accessed July 9, 2021. https://os.mbed.com/studio/ \\n[8] “STM32CudeIDE - Integrated Development Environment” . Accessed July 9, 2021. https://www.st.com/en/development-tools/stm32cubeide.html \\n[9] “STM32F429ZI - High-performance advanced line, Arm Cortex-M4” . Accessed July 9, 2021.  https://www.st.com/en/microcontrollers-microprocessors/stm32f429zi.html   \n",
       "\n",
       "      score  \n",
       "0  0.986980  \n",
       "1  0.719581  \n",
       "2  0.547192  \n",
       "3  0.534764  \n",
       "4  0.373190  "
      ]
     },
     "metadata": {},
     "output_type": "display_data"
    }
   ],
   "source": [
    "df = pd.DataFrame(dense_full_text_reranker_docs, columns=['Retrieved text', 'score'])\n",
    "display(df)"
   ]
  },
  {
   "cell_type": "markdown",
   "metadata": {
    "jp-MarkdownHeadingCollapsed": true
   },
   "source": [
    "# Dense + Sparse + Full Text Search\n",
    "\n",
    "Here we will look into aggregating the results from all the 3 dense, sparse and full-text retrieval approaches.\n",
    "\n",
    "There are multiple ways to collate the results from different approaches, we will experiment with 2 approaches.\n",
    "\n",
    "- **Reciprocal Rank Fusion (RRF)** : Reciprocal Rank Fusion (RRF) is a method used to combine results from different retrieval systems by leveraging the positions/rank of the documents. It uses a formula to aggregate the ranks from all different sources and provide the final rank from all the sources.\n",
    "\n",
    "- **Re-ranker** : We use re-ranker models which are cross encoder models to rank and score the retrieved documents based on how relevant they are to the input query."
   ]
  },
  {
   "cell_type": "markdown",
   "metadata": {},
   "source": [
    "### Reciprocal Rank Fusion"
   ]
  },
  {
   "cell_type": "code",
   "execution_count": 46,
   "metadata": {},
   "outputs": [],
   "source": [
    "combined_docs = []\n",
    "combined_docs.append(dense_docs)\n",
    "combined_docs.append(sparse_docs)\n",
    "combined_docs.append(full_text_docs)"
   ]
  },
  {
   "cell_type": "code",
   "execution_count": 47,
   "metadata": {},
   "outputs": [],
   "source": [
    "dense_sparse_full_text_rrf_docs = rrf(combined_docs)[:TOP_K]"
   ]
  },
  {
   "cell_type": "code",
   "execution_count": 48,
   "metadata": {},
   "outputs": [
    {
     "data": {
      "text/html": [
       "<div>\n",
       "<style scoped>\n",
       "    .dataframe tbody tr th:only-of-type {\n",
       "        vertical-align: middle;\n",
       "    }\n",
       "\n",
       "    .dataframe tbody tr th {\n",
       "        vertical-align: top;\n",
       "    }\n",
       "\n",
       "    .dataframe thead th {\n",
       "        text-align: right;\n",
       "    }\n",
       "</style>\n",
       "<table border=\"1\" class=\"dataframe\">\n",
       "  <thead>\n",
       "    <tr style=\"text-align: right;\">\n",
       "      <th></th>\n",
       "      <th>Retrieved text</th>\n",
       "      <th>score</th>\n",
       "    </tr>\n",
       "  </thead>\n",
       "  <tbody>\n",
       "    <tr>\n",
       "      <th>0</th>\n",
       "      <td>Chapter 1 | Introduction to Embedded Systems \\n37The STM32F429ZIT6U microcontroller includes a Cortex-M4 processor , as shown in Figure 1.22. It \\ncan be appreciated that, beyond the processor, the microcontroller includes other peripherals such as \\ncommunication cores (ethernet, USB, UART, etc.), memory, timers, and GPIO (General Purpose Input Output) ports. \\nNUCLEO\\n-F429ZI32F429ZIT6U\\nARM7B776 VQ\\nPHL 7B 7213e412000K620 Y12000\\nK620 Y\\n120 00K620 YDGKYD\\nKMS-1 102NL1706C\\nSTM32F103CBT6\\ne393701GH218CHN\\nST890C\\nGK717\\n11\\n22\\n33\\n44\\n55\\n66\\n77\\n88\\n9\\n10\\n11\\n12\\n13\\n14\\n15PH_0\\nPD_0\\nPD_1\\nPG_0PH_1PF_2PA_7PF_10PF_5PF_3PC_3PC_030\\n29\\n28\\n27\\n2616\\n2515\\n2414\\n2313\\n2212\\n2111\\n2010\\n199\\n18\\n17\\n165V\\nVIN3.3VIOREF\\nGND\\nGNDGND\\nNCNC\\nUART2_RX\\nCAN1_TDCAN1_ DRADC1/7ADC1/3\\nADC1/1...</td>\n",
       "      <td>0.048413</td>\n",
       "    </tr>\n",
       "    <tr>\n",
       "      <th>1</th>\n",
       "      <td>38\\nA Beginner’s Guide to Designing Embedded System ApplicationsFigure 1.23 shows how different elements of the STM32F429ZIT6U microcontroller  are mapped \\nto the Zio and Arduino-compatible headers of the NUCLEO-F429ZI board. Some other elements \\nare mapped to the CN11 and CN12 headers of the NUCLEO-F429ZI board, as will be discussed in upcoming chapters. Further information on these headers is available from [17].\\nIn this chapter, buttons were connected to the NUCLEO board using pins D2 to D7. From Figure 1.23, \\nit can be seen that those digital inputs can also be referred to as PF_15, PE_13, P_14, PE_11, PE_9, and PF_13, respectively. Throughout this book, many pins of the ST Zio connectors will be used, and they will be referred to in the code using the names shown in Figure 1.23.</td>\n",
       "      <td>0.048412</td>\n",
       "    </tr>\n",
       "    <tr>\n",
       "      <th>2</th>\n",
       "      <td>Chapter 1 | Introduction to Embedded Systems \\n33Proposed Exercise\\n1. How can the code be changed in such a way that the system is blocked after three incorrect codes \\nare entered?\\nAnswer to the Exercise\\n1. It can be achieved by means of the change in T able 1.11.\\nT able 1.11 Proposed modification in the code in order to achieve the new behavior.\\nLine in Code 1.5 New code to be used\\n40 if ( numberOfIncorrectCodes &lt; 5 ) 40 if ( numberOfIncorrectCodes &lt; 3 )\\n1.3 Under the Hood\\n1.3.1 Brief Introduction to the Cortex-M Processor  Family and the NUCLEO Board\\nIn this chapter, many programs were developed using the NUCLEO board, provided with the \\nSTM32F429ZIT6U microcontroller . This microcontroller is manufactured by STMicroelectronics [13]</td>\n",
       "      <td>0.033333</td>\n",
       "    </tr>\n",
       "    <tr>\n",
       "      <th>3</th>\n",
       "      <td>This section will begin the implementation of the smart home system, following the diagram shown in Figure 1.3. This first implementation will detect fire using an over temperature detector and a gas detector and, if it detects fire, it will activate the alarm until a given code is entered.  For this purpose, the NUCLEO board [1] provided with the STM32F429ZIT6U microcontroller [9] (referred to as the STM32 microcontroller ) is used.</td>\n",
       "      <td>0.032522</td>\n",
       "    </tr>\n",
       "    <tr>\n",
       "      <th>4</th>\n",
       "      <td>Chapter 4 | Finite-State Machines and the Real-Time Clock\\n171 References\\n[1] “4x4 Keypad Module Pinout, Configuration, Features, Circuit &amp; Datasheet” . Accessed July 9, \\n2021. \\n[2] “Breadboard Power Supply Module” . Accessed July 9, 2021. https://components101.com/modules/5v-mb102-breadboard-power-supply-module \\n[3] “UM1974 User manual - STM32 Nucleo-144 boards (MB1137)” . Accessed July 9, 2021. https://www.st.com/resource/en/user_manual/dm00244518-stm32-nucleo144-boards-mb1137-stmicroelectronics.pdf \\n[4] “GitHub - armBookCodeExamples/Directory” . Accessed July 9, 2021. https://github.com/armBookCodeExamples/Directory/ \\n[5] “Time - API references and tutorials | Mbed OS 6 Documentation ” . Accessed July 9, 2021. \\nhttps://os.mbed.com/docs/mbed-os/v6.12/apis/time.html \\n[6] “&lt;cst...</td>\n",
       "      <td>0.016129</td>\n",
       "    </tr>\n",
       "  </tbody>\n",
       "</table>\n",
       "</div>"
      ],
      "text/plain": [
       "                                                                                                                                                                                                                                                                                                                                                                                                                                                                                                                                                                                                                                                                                                                                                                                                                    Retrieved text  \\\n",
       "0  Chapter 1 | Introduction to Embedded Systems \\n37The STM32F429ZIT6U microcontroller includes a Cortex-M4 processor , as shown in Figure 1.22. It \\ncan be appreciated that, beyond the processor, the microcontroller includes other peripherals such as \\ncommunication cores (ethernet, USB, UART, etc.), memory, timers, and GPIO (General Purpose Input Output) ports. \\nNUCLEO\\n-F429ZI32F429ZIT6U\\nARM7B776 VQ\\nPHL 7B 7213e412000K620 Y12000\\nK620 Y\\n120 00K620 YDGKYD\\nKMS-1 102NL1706C\\nSTM32F103CBT6\\ne393701GH218CHN\\nST890C\\nGK717\\n11\\n22\\n33\\n44\\n55\\n66\\n77\\n88\\n9\\n10\\n11\\n12\\n13\\n14\\n15PH_0\\nPD_0\\nPD_1\\nPG_0PH_1PF_2PA_7PF_10PF_5PF_3PC_3PC_030\\n29\\n28\\n27\\n2616\\n2515\\n2414\\n2313\\n2212\\n2111\\n2010\\n199\\n18\\n17\\n165V\\nVIN3.3VIOREF\\nGND\\nGNDGND\\nNCNC\\nUART2_RX\\nCAN1_TDCAN1_ DRADC1/7ADC1/3\\nADC1/1...   \n",
       "1   38\\nA Beginner’s Guide to Designing Embedded System ApplicationsFigure 1.23 shows how different elements of the STM32F429ZIT6U microcontroller  are mapped \\nto the Zio and Arduino-compatible headers of the NUCLEO-F429ZI board. Some other elements \\nare mapped to the CN11 and CN12 headers of the NUCLEO-F429ZI board, as will be discussed in upcoming chapters. Further information on these headers is available from [17].\\nIn this chapter, buttons were connected to the NUCLEO board using pins D2 to D7. From Figure 1.23, \\nit can be seen that those digital inputs can also be referred to as PF_15, PE_13, P_14, PE_11, PE_9, and PF_13, respectively. Throughout this book, many pins of the ST Zio connectors will be used, and they will be referred to in the code using the names shown in Figure 1.23.   \n",
       "2                                              Chapter 1 | Introduction to Embedded Systems \\n33Proposed Exercise\\n1. How can the code be changed in such a way that the system is blocked after three incorrect codes \\nare entered?\\nAnswer to the Exercise\\n1. It can be achieved by means of the change in T able 1.11.\\nT able 1.11 Proposed modification in the code in order to achieve the new behavior.\\nLine in Code 1.5 New code to be used\\n40 if ( numberOfIncorrectCodes < 5 ) 40 if ( numberOfIncorrectCodes < 3 )\\n1.3 Under the Hood\\n1.3.1 Brief Introduction to the Cortex-M Processor  Family and the NUCLEO Board\\nIn this chapter, many programs were developed using the NUCLEO board, provided with the \\nSTM32F429ZIT6U microcontroller . This microcontroller is manufactured by STMicroelectronics [13]   \n",
       "3                                                                                                                                                                                                                                                                                                                                                                            This section will begin the implementation of the smart home system, following the diagram shown in Figure 1.3. This first implementation will detect fire using an over temperature detector and a gas detector and, if it detects fire, it will activate the alarm until a given code is entered.  For this purpose, the NUCLEO board [1] provided with the STM32F429ZIT6U microcontroller [9] (referred to as the STM32 microcontroller ) is used.   \n",
       "4  Chapter 4 | Finite-State Machines and the Real-Time Clock\\n171 References\\n[1] “4x4 Keypad Module Pinout, Configuration, Features, Circuit & Datasheet” . Accessed July 9, \\n2021. \\n[2] “Breadboard Power Supply Module” . Accessed July 9, 2021. https://components101.com/modules/5v-mb102-breadboard-power-supply-module \\n[3] “UM1974 User manual - STM32 Nucleo-144 boards (MB1137)” . Accessed July 9, 2021. https://www.st.com/resource/en/user_manual/dm00244518-stm32-nucleo144-boards-mb1137-stmicroelectronics.pdf \\n[4] “GitHub - armBookCodeExamples/Directory” . Accessed July 9, 2021. https://github.com/armBookCodeExamples/Directory/ \\n[5] “Time - API references and tutorials | Mbed OS 6 Documentation ” . Accessed July 9, 2021. \\nhttps://os.mbed.com/docs/mbed-os/v6.12/apis/time.html \\n[6] “<cst...   \n",
       "\n",
       "      score  \n",
       "0  0.048413  \n",
       "1  0.048412  \n",
       "2  0.033333  \n",
       "3  0.032522  \n",
       "4  0.016129  "
      ]
     },
     "metadata": {},
     "output_type": "display_data"
    }
   ],
   "source": [
    "df = pd.DataFrame(dense_sparse_full_text_rrf_docs, columns=['Retrieved text', 'score'])\n",
    "display(df)"
   ]
  },
  {
   "cell_type": "markdown",
   "metadata": {},
   "source": [
    "### Re-Ranker"
   ]
  },
  {
   "cell_type": "code",
   "execution_count": 49,
   "metadata": {},
   "outputs": [],
   "source": [
    "ranker_model = None\n",
    "# Define the rerank function\n",
    "if RERANKER_MODEL == \"bgm3\":\n",
    "    ranker_model = BGERerankFunction(\n",
    "        model_name=\"BAAI/bge-reranker-v2-m3\",\n",
    "        device=DEVICE,\n",
    "        batch_size=BATCH_SIZE,\n",
    "    )\n",
    "elif RERANKER_MODEL == \"crossencoder\":\n",
    "    ranker_model = CrossEncoderRerankFunction(\n",
    "        model_name=\"cross-encoder/ms-marco-MiniLM-L-6-v2\",\n",
    "        device=DEVICE,\n",
    "        batch_size=BATCH_SIZE,\n",
    "    )"
   ]
  },
  {
   "cell_type": "code",
   "execution_count": 50,
   "metadata": {},
   "outputs": [],
   "source": [
    "combined_docs = [dense_doc[0] for dense_doc in dense_docs]\n",
    "combined_docs.extend([sparse_doc[0] for sparse_doc in sparse_docs])\n",
    "combined_docs.extend([full_text_doc[0] for full_text_doc in full_text_docs])\n",
    "# Remove duplicates if any\n",
    "combined_docs = list(set(combined_docs))"
   ]
  },
  {
   "cell_type": "code",
   "execution_count": 51,
   "metadata": {},
   "outputs": [
    {
     "name": "stdout",
     "output_type": "stream",
     "text": [
      "CPU times: user 193 ms, sys: 15.6 ms, total: 209 ms\n",
      "Wall time: 196 ms\n"
     ]
    }
   ],
   "source": [
    "%%time\n",
    "result_docs = ranker_model(query=QUERY, documents=combined_docs, top_k=TOP_K)"
   ]
  },
  {
   "cell_type": "code",
   "execution_count": 52,
   "metadata": {},
   "outputs": [],
   "source": [
    "dense_sparse_full_text_reranker_docs = [(res.text, res.score) for res in result_docs]"
   ]
  },
  {
   "cell_type": "code",
   "execution_count": 53,
   "metadata": {},
   "outputs": [
    {
     "data": {
      "text/html": [
       "<div>\n",
       "<style scoped>\n",
       "    .dataframe tbody tr th:only-of-type {\n",
       "        vertical-align: middle;\n",
       "    }\n",
       "\n",
       "    .dataframe tbody tr th {\n",
       "        vertical-align: top;\n",
       "    }\n",
       "\n",
       "    .dataframe thead th {\n",
       "        text-align: right;\n",
       "    }\n",
       "</style>\n",
       "<table border=\"1\" class=\"dataframe\">\n",
       "  <thead>\n",
       "    <tr style=\"text-align: right;\">\n",
       "      <th></th>\n",
       "      <th>Retrieved text</th>\n",
       "      <th>score</th>\n",
       "    </tr>\n",
       "  </thead>\n",
       "  <tbody>\n",
       "    <tr>\n",
       "      <th>0</th>\n",
       "      <td>Chapter 1 | Introduction to Embedded Systems \\n33Proposed Exercise\\n1. How can the code be changed in such a way that the system is blocked after three incorrect codes \\nare entered?\\nAnswer to the Exercise\\n1. It can be achieved by means of the change in T able 1.11.\\nT able 1.11 Proposed modification in the code in order to achieve the new behavior.\\nLine in Code 1.5 New code to be used\\n40 if ( numberOfIncorrectCodes &lt; 5 ) 40 if ( numberOfIncorrectCodes &lt; 3 )\\n1.3 Under the Hood\\n1.3.1 Brief Introduction to the Cortex-M Processor  Family and the NUCLEO Board\\nIn this chapter, many programs were developed using the NUCLEO board, provided with the \\nSTM32F429ZIT6U microcontroller . This microcontroller is manufactured by STMicroelectronics [13]</td>\n",
       "      <td>0.986980</td>\n",
       "    </tr>\n",
       "    <tr>\n",
       "      <th>1</th>\n",
       "      <td>38\\nA Beginner’s Guide to Designing Embedded System ApplicationsFigure 1.23 shows how different elements of the STM32F429ZIT6U microcontroller  are mapped \\nto the Zio and Arduino-compatible headers of the NUCLEO-F429ZI board. Some other elements \\nare mapped to the CN11 and CN12 headers of the NUCLEO-F429ZI board, as will be discussed in upcoming chapters. Further information on these headers is available from [17].\\nIn this chapter, buttons were connected to the NUCLEO board using pins D2 to D7. From Figure 1.23, \\nit can be seen that those digital inputs can also be referred to as PF_15, PE_13, P_14, PE_11, PE_9, and PF_13, respectively. Throughout this book, many pins of the ST Zio connectors will be used, and they will be referred to in the code using the names shown in Figure 1.23.</td>\n",
       "      <td>0.719778</td>\n",
       "    </tr>\n",
       "    <tr>\n",
       "      <th>2</th>\n",
       "      <td>This section will begin the implementation of the smart home system, following the diagram shown in Figure 1.3. This first implementation will detect fire using an over temperature detector and a gas detector and, if it detects fire, it will activate the alarm until a given code is entered.  For this purpose, the NUCLEO board [1] provided with the STM32F429ZIT6U microcontroller [9] (referred to as the STM32 microcontroller ) is used.</td>\n",
       "      <td>0.545891</td>\n",
       "    </tr>\n",
       "    <tr>\n",
       "      <th>3</th>\n",
       "      <td>Chapter 1 | Introduction to Embedded Systems \\n37The STM32F429ZIT6U microcontroller includes a Cortex-M4 processor , as shown in Figure 1.22. It \\ncan be appreciated that, beyond the processor, the microcontroller includes other peripherals such as \\ncommunication cores (ethernet, USB, UART, etc.), memory, timers, and GPIO (General Purpose Input Output) ports. \\nNUCLEO\\n-F429ZI32F429ZIT6U\\nARM7B776 VQ\\nPHL 7B 7213e412000K620 Y12000\\nK620 Y\\n120 00K620 YDGKYD\\nKMS-1 102NL1706C\\nSTM32F103CBT6\\ne393701GH218CHN\\nST890C\\nGK717\\n11\\n22\\n33\\n44\\n55\\n66\\n77\\n88\\n9\\n10\\n11\\n12\\n13\\n14\\n15PH_0\\nPD_0\\nPD_1\\nPG_0PH_1PF_2PA_7PF_10PF_5PF_3PC_3PC_030\\n29\\n28\\n27\\n2616\\n2515\\n2414\\n2313\\n2212\\n2111\\n2010\\n199\\n18\\n17\\n165V\\nVIN3.3VIOREF\\nGND\\nGNDGND\\nNCNC\\nUART2_RX\\nCAN1_TDCAN1_ DRADC1/7ADC1/3\\nADC1/1...</td>\n",
       "      <td>0.536616</td>\n",
       "    </tr>\n",
       "    <tr>\n",
       "      <th>4</th>\n",
       "      <td>[3] “Arm Keil | Cloud-based Development T ools for IoT, ML and Embedded” . Accessed July 9, 2021. https://www.keil.arm.com/ \\n[4] “Log In | Mbed” . Accessed July 9, 2021. https://os.mbed.com/account/login/  \\n[5] “Keil Studio” . Accessed July 9, 2021. https://studio.keil.arm.com/  \\n[6] “Documentation - Arm Developer” . Accessed July 9, 2021. https://developer.arm.com/documentation \\n[7] “Arm Mbed Studio” . Accessed July 9, 2021. https://os.mbed.com/studio/ \\n[8] “STM32CudeIDE - Integrated Development Environment” . Accessed July 9, 2021. https://www.st.com/en/development-tools/stm32cubeide.html \\n[9] “STM32F429ZI - High-performance advanced line, Arm Cortex-M4” . Accessed July 9, 2021.  https://www.st.com/en/microcontrollers-microprocessors/stm32f429zi.html</td>\n",
       "      <td>0.373647</td>\n",
       "    </tr>\n",
       "  </tbody>\n",
       "</table>\n",
       "</div>"
      ],
      "text/plain": [
       "                                                                                                                                                                                                                                                                                                                                                                                                                                                                                                                                                                                                                                                                                                                                                                                                                    Retrieved text  \\\n",
       "0                                              Chapter 1 | Introduction to Embedded Systems \\n33Proposed Exercise\\n1. How can the code be changed in such a way that the system is blocked after three incorrect codes \\nare entered?\\nAnswer to the Exercise\\n1. It can be achieved by means of the change in T able 1.11.\\nT able 1.11 Proposed modification in the code in order to achieve the new behavior.\\nLine in Code 1.5 New code to be used\\n40 if ( numberOfIncorrectCodes < 5 ) 40 if ( numberOfIncorrectCodes < 3 )\\n1.3 Under the Hood\\n1.3.1 Brief Introduction to the Cortex-M Processor  Family and the NUCLEO Board\\nIn this chapter, many programs were developed using the NUCLEO board, provided with the \\nSTM32F429ZIT6U microcontroller . This microcontroller is manufactured by STMicroelectronics [13]   \n",
       "1   38\\nA Beginner’s Guide to Designing Embedded System ApplicationsFigure 1.23 shows how different elements of the STM32F429ZIT6U microcontroller  are mapped \\nto the Zio and Arduino-compatible headers of the NUCLEO-F429ZI board. Some other elements \\nare mapped to the CN11 and CN12 headers of the NUCLEO-F429ZI board, as will be discussed in upcoming chapters. Further information on these headers is available from [17].\\nIn this chapter, buttons were connected to the NUCLEO board using pins D2 to D7. From Figure 1.23, \\nit can be seen that those digital inputs can also be referred to as PF_15, PE_13, P_14, PE_11, PE_9, and PF_13, respectively. Throughout this book, many pins of the ST Zio connectors will be used, and they will be referred to in the code using the names shown in Figure 1.23.   \n",
       "2                                                                                                                                                                                                                                                                                                                                                                            This section will begin the implementation of the smart home system, following the diagram shown in Figure 1.3. This first implementation will detect fire using an over temperature detector and a gas detector and, if it detects fire, it will activate the alarm until a given code is entered.  For this purpose, the NUCLEO board [1] provided with the STM32F429ZIT6U microcontroller [9] (referred to as the STM32 microcontroller ) is used.   \n",
       "3  Chapter 1 | Introduction to Embedded Systems \\n37The STM32F429ZIT6U microcontroller includes a Cortex-M4 processor , as shown in Figure 1.22. It \\ncan be appreciated that, beyond the processor, the microcontroller includes other peripherals such as \\ncommunication cores (ethernet, USB, UART, etc.), memory, timers, and GPIO (General Purpose Input Output) ports. \\nNUCLEO\\n-F429ZI32F429ZIT6U\\nARM7B776 VQ\\nPHL 7B 7213e412000K620 Y12000\\nK620 Y\\n120 00K620 YDGKYD\\nKMS-1 102NL1706C\\nSTM32F103CBT6\\ne393701GH218CHN\\nST890C\\nGK717\\n11\\n22\\n33\\n44\\n55\\n66\\n77\\n88\\n9\\n10\\n11\\n12\\n13\\n14\\n15PH_0\\nPD_0\\nPD_1\\nPG_0PH_1PF_2PA_7PF_10PF_5PF_3PC_3PC_030\\n29\\n28\\n27\\n2616\\n2515\\n2414\\n2313\\n2212\\n2111\\n2010\\n199\\n18\\n17\\n165V\\nVIN3.3VIOREF\\nGND\\nGNDGND\\nNCNC\\nUART2_RX\\nCAN1_TDCAN1_ DRADC1/7ADC1/3\\nADC1/1...   \n",
       "4                                 [3] “Arm Keil | Cloud-based Development T ools for IoT, ML and Embedded” . Accessed July 9, 2021. https://www.keil.arm.com/ \\n[4] “Log In | Mbed” . Accessed July 9, 2021. https://os.mbed.com/account/login/  \\n[5] “Keil Studio” . Accessed July 9, 2021. https://studio.keil.arm.com/  \\n[6] “Documentation - Arm Developer” . Accessed July 9, 2021. https://developer.arm.com/documentation \\n[7] “Arm Mbed Studio” . Accessed July 9, 2021. https://os.mbed.com/studio/ \\n[8] “STM32CudeIDE - Integrated Development Environment” . Accessed July 9, 2021. https://www.st.com/en/development-tools/stm32cubeide.html \\n[9] “STM32F429ZI - High-performance advanced line, Arm Cortex-M4” . Accessed July 9, 2021.  https://www.st.com/en/microcontrollers-microprocessors/stm32f429zi.html   \n",
       "\n",
       "      score  \n",
       "0  0.986980  \n",
       "1  0.719778  \n",
       "2  0.545891  \n",
       "3  0.536616  \n",
       "4  0.373647  "
      ]
     },
     "metadata": {},
     "output_type": "display_data"
    }
   ],
   "source": [
    "df = pd.DataFrame(dense_sparse_full_text_reranker_docs, columns=['Retrieved text', 'score'])\n",
    "display(df)"
   ]
  },
  {
   "cell_type": "markdown",
   "metadata": {},
   "source": [
    "# Comparison\n",
    "\n",
    "Here we will interactively compare the results from all approaches."
   ]
  },
  {
   "cell_type": "code",
   "execution_count": 54,
   "metadata": {},
   "outputs": [],
   "source": [
    "from ipywidgets import interact, Dropdown\n",
    "import pandas as pd"
   ]
  },
  {
   "cell_type": "code",
   "execution_count": 55,
   "metadata": {},
   "outputs": [],
   "source": [
    "def create_dataframe(approach: str):\n",
    "    if approach == \"Dense\":\n",
    "        return pd.DataFrame(dense_docs, columns=['Retrieved_Text', 'Score'])\n",
    "    elif approach == \"Sparse\":\n",
    "        return pd.DataFrame(sparse_docs, columns=['Retrieved_Text', 'Score'])\n",
    "    elif approach == \"Full Text\":\n",
    "        return pd.DataFrame(full_text_docs, columns=['Retrieved_Text', 'Score'])\n",
    "    elif approach == \"Dense + Sparse + RRF\":\n",
    "        return pd.DataFrame(dense_sparse_rrf_docs, columns=['Retrieved_Text', 'Score'])\n",
    "    elif approach == \"Dense + Sparse + Reranker\":\n",
    "        return pd.DataFrame(dense_sparse_reranker_docs, columns=['Retrieved_Text', 'Score'])\n",
    "    elif approach == \"Dense + Full Text + RRF\":\n",
    "        return pd.DataFrame(dense_full_text_rrf_docs, columns=['Retrieved_Text', 'Score'])\n",
    "    elif approach == \"Dense + Full Text + Reranker\":\n",
    "        return pd.DataFrame(dense_full_text_reranker_docs, columns=['Retrieved_Text', 'Score'])\n",
    "    elif approach == \"Dense + Sparse + Full Text + RRF\":\n",
    "        return pd.DataFrame(dense_sparse_full_text_rrf_docs, columns=['Retrieved_Text', 'Score'])\n",
    "    elif approach == \"Dense + Sparse + Full Text + Reranker\":\n",
    "        return pd.DataFrame(dense_sparse_full_text_reranker_docs, columns=['Retrieved_Text', 'Score'])"
   ]
  },
  {
   "cell_type": "markdown",
   "metadata": {},
   "source": [
    "The goal here is to verify if following context is present in any of the retrieved documents.\n",
    "\n",
    "```\n",
    "In this chapter, many programs were developed using the NUCLEO board, provided with the STM32F429ZIT6U microcontroller. This microcontroller is manufactured by STMicroelectronics [13] using a Cortex-M4 processor designed by Arm Ltd. [14].\n",
    "```\n",
    "\n",
    "If it is present then our retrieval approach was able to find the correct document from the vector store."
   ]
  },
  {
   "cell_type": "code",
   "execution_count": 56,
   "metadata": {},
   "outputs": [
    {
     "data": {
      "application/vnd.jupyter.widget-view+json": {
       "model_id": "4ca7f6adda0d43c49356f8b6e3296897",
       "version_major": 2,
       "version_minor": 0
      },
      "text/plain": [
       "interactive(children=(Dropdown(description='Approach 1:', options=('Dense', 'Sparse', 'Full Text', 'Dense + Sp…"
      ]
     },
     "metadata": {},
     "output_type": "display_data"
    }
   ],
   "source": [
    "options = [\n",
    "    \"Dense\",\n",
    "    \"Sparse\",\n",
    "    \"Full Text\",\n",
    "    \"Dense + Sparse + RRF\",\n",
    "    \"Dense + Sparse + Reranker\",\n",
    "    \"Dense + Full Text + RRF\",\n",
    "    \"Dense + Full Text + Reranker\",\n",
    "    \"Dense + Sparse + Full Text + RRF\",\n",
    "    \"Dense + Sparse + Full Text + Reranker\",\n",
    "]\n",
    "approach1 = Dropdown(options = options, description=\"Approach 1:\", value=\"Dense\")\n",
    "approach2 = Dropdown(options = options, description=\"Approach 2:\", value=\"Sparse\")\n",
    "\n",
    "@interact(approach1 = approach1, approach2 = approach2)\n",
    "def show_dataframes(approach1, approach2):\n",
    "    df1 = create_dataframe(approach1)\n",
    "    df2 = create_dataframe(approach2)\n",
    "    for _ in range(1):\n",
    "        print('\\x1b[1;31m'+ str(approach1) +'\\x1b[0m')\n",
    "        display(df1)\n",
    "        print('\\x1b[1;34m'+ str(approach2) +'\\x1b[0m')\n",
    "        display(df2)"
   ]
  },
  {
   "cell_type": "markdown",
   "metadata": {},
   "source": [
    "### Save results\n",
    "\n",
    "Save the results to csv file."
   ]
  },
  {
   "cell_type": "code",
   "execution_count": null,
   "metadata": {},
   "outputs": [],
   "source": [
    "df = create_dataframe(options[0])\n",
    "for opt in options[1:]:\n",
    "    df1 = create_dataframe(opt)\n",
    "    col_name = \"_\".join(opt.split(\" + \")).lower()\n",
    "    df = df.merge(df1, on='Retrieved_Text', suffixes=('', f'_{col_name}'), how='outer')\n",
    "\n",
    "# Rename dense column score to in same format as rest of results\n",
    "df['Score_dense'] = df['Score']\n",
    "df = df.drop(columns=['Score'])"
   ]
  },
  {
   "cell_type": "code",
   "execution_count": null,
   "metadata": {},
   "outputs": [],
   "source": [
    "df"
   ]
  },
  {
   "cell_type": "code",
   "execution_count": null,
   "metadata": {},
   "outputs": [],
   "source": [
    "df.to_csv('data/qdrant_results.csv', index=False)"
   ]
  }
 ],
 "metadata": {
  "kernelspec": {
   "display_name": "Python 3 (ipykernel)",
   "language": "python",
   "name": "python3"
  },
  "language_info": {
   "codemirror_mode": {
    "name": "ipython",
    "version": 3
   },
   "file_extension": ".py",
   "mimetype": "text/x-python",
   "name": "python",
   "nbconvert_exporter": "python",
   "pygments_lexer": "ipython3",
   "version": "3.10.14"
  },
  "widgets": {
   "application/vnd.jupyter.widget-state+json": {
    "state": {},
    "version_major": 2,
    "version_minor": 0
   }
  }
 },
 "nbformat": 4,
 "nbformat_minor": 4
}
